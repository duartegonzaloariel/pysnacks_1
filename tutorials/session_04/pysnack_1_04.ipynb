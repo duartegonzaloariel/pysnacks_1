{
 "cells": [
  {
   "cell_type": "code",
   "execution_count": null,
   "id": "55601602-2150-4425-a5d3-3a6cf8b3de1f",
   "metadata": {},
   "outputs": [],
   "source": []
  },
  {
   "cell_type": "code",
   "execution_count": null,
   "id": "fb7f391f-5382-49ea-b349-005706c701e8",
   "metadata": {},
   "outputs": [],
   "source": [
    "cluster_dbscan = data[labels==1]\n",
    "\n",
    "fig, ax = plt.subplots(ncols=1, figsize=(18,10))\n",
    "ax.scatter(data['pmra'], data['pmdec'], c='gray', s=1, alpha=0.5);\n",
    "plt.plot(cluster_dbscan['pmra'], cluster_dbscan['pmdec'], '.r', ms=8)\n",
    "\n",
    "ax.set_aspect('equal')\n",
    "\n",
    "ax.set_xlabel('Proper motion in right ascension [mas/yr]')\n",
    "ax.set_ylabel('Proper motion in declination [mas/yr]')\n",
    "\n",
    "ax.set_xlim(-60, 30)\n",
    "ax.set_ylim(-60, 30);\n",
    "\n"
   ]
  },
  {
   "cell_type": "code",
   "execution_count": null,
   "id": "7a104ee6-0429-4199-8843-67f67f89f1b6",
   "metadata": {},
   "outputs": [],
   "source": [
    "cluster_dbscan = data[labels==2]\n",
    "\n",
    "fig, ax = plt.subplots(ncols=1, figsize=(18,10))\n",
    "ax.scatter(data['pmra'], data['pmdec'], c='gray', s=1, alpha=0.5);\n",
    "plt.plot(cluster_dbscan['pmra'], cluster_dbscan['pmdec'], '.b', ms=8)\n",
    "cluster_dbscan = data[labels==1]\n",
    "\n",
    "plt.plot(cluster_dbscan['pmra'], cluster_dbscan['pmdec'], '.r', ms=8)\n",
    "\n",
    "\n",
    "ax.set_aspect('equal')\n",
    "\n",
    "ax.set_xlabel('Proper motion in right ascension [mas/yr]')\n",
    "ax.set_ylabel('Proper motion in declination [mas/yr]')\n",
    "\n",
    "ax.set_xlim(-60, 30)\n",
    "ax.set_ylim(-60, 30);\n",
    "\n",
    "\n"
   ]
  },
  {
   "cell_type": "code",
   "execution_count": null,
   "id": "76f64bed-4a81-4e59-9e35-2e591c7cd250",
   "metadata": {},
   "outputs": [],
   "source": [
    "cluster_dbscan = data[labels==2]\n",
    "\n",
    "fig, ax = plt.subplots(ncols=1, figsize=(18,10))\n",
    "ax.scatter(data['pmra'], data['pmdec'], c='gray', s=1, alpha=0.5);\n",
    "plt.plot(cluster_dbscan['pmra'], cluster_dbscan['pmdec'], '.b', ms=8)\n",
    "\n",
    "ax.set_aspect('equal')\n",
    "\n",
    "ax.set_xlabel('Proper motion in right ascension [mas/yr]')\n",
    "ax.set_ylabel('Proper motion in declination [mas/yr]')\n",
    "\n",
    "ax.set_xlim(-5, 10)\n",
    "ax.set_ylim(-15, -5);\n",
    "\n"
   ]
  }
 ],
 "metadata": {
  "kernelspec": {
   "display_name": "Python 3 (ipykernel)",
   "language": "python",
   "name": "python3"
  },
  "language_info": {
   "codemirror_mode": {
    "name": "ipython",
    "version": 3
   },
   "file_extension": ".py",
   "mimetype": "text/x-python",
   "name": "python",
   "nbconvert_exporter": "python",
   "pygments_lexer": "ipython3",
   "version": "3.10.0"
  }
 },
 "nbformat": 4,
 "nbformat_minor": 5
}
