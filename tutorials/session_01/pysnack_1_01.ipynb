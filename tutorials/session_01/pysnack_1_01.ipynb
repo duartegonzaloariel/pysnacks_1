{
 "cells": [
  {
   "cell_type": "markdown",
   "id": "3fb163c5-5522-4e03-be72-f02cb758fb10",
   "metadata": {},
   "source": [
    "# Outline of the session. What will we learn?\n",
    "\n",
    "This is an introductory session, where we learn the basics of the tools that we will use in the following sessions.\n",
    "\n",
    "- Astropy Main ingredients: units and constants\n",
    "- Astropy coordinates\n",
    "- Astroquery: Vizier queries\n",
    "- Simple Gaia queries"
   ]
  },
  {
   "cell_type": "markdown",
   "id": "e52393f2-af24-4ca0-b449-3ee233538d93",
   "metadata": {
    "tags": []
   },
   "source": [
    "# Astropy Main ingredients"
   ]
  },
  {
   "cell_type": "code",
   "execution_count": 1,
   "id": "d27244ce-e312-4db1-b23b-ac3d9eb13c13",
   "metadata": {},
   "outputs": [],
   "source": [
    "import numpy as np\n",
    "from astropy import units as u"
   ]
  },
  {
   "cell_type": "code",
   "execution_count": 2,
   "id": "8de5c71f-0554-40cf-8440-b8751b18ec56",
   "metadata": {},
   "outputs": [
    {
     "data": {
      "text/latex": [
       "$42 \\; \\mathrm{m}$"
      ],
      "text/plain": [
       "<Quantity 42. m>"
      ]
     },
     "execution_count": 2,
     "metadata": {},
     "output_type": "execute_result"
    }
   ],
   "source": [
    "d = 42.0 * u.meter  \n",
    "d"
   ]
  },
  {
   "cell_type": "code",
   "execution_count": 3,
   "id": "19c00e24-357f-4454-bce3-47c854f55ccf",
   "metadata": {},
   "outputs": [
    {
     "data": {
      "text/plain": [
       "astropy.units.quantity.Quantity"
      ]
     },
     "execution_count": 3,
     "metadata": {},
     "output_type": "execute_result"
    }
   ],
   "source": [
    "type(d)"
   ]
  },
  {
   "cell_type": "code",
   "execution_count": 4,
   "id": "daff2e95-9d45-4698-9eab-493ca56cd6de",
   "metadata": {},
   "outputs": [
    {
     "name": "stdout",
     "output_type": "stream",
     "text": [
      "42.0\n",
      "m\n"
     ]
    }
   ],
   "source": [
    "print(d.value)\n",
    "print(d.unit)"
   ]
  },
  {
   "cell_type": "code",
   "execution_count": 5,
   "id": "5ef53763-0544-4f2c-a149-4b5c719de928",
   "metadata": {},
   "outputs": [
    {
     "data": {
      "text/latex": [
       "$[30,~60,~90] \\; \\mathrm{{}^{\\circ}}$"
      ],
      "text/plain": [
       "<Quantity [30., 60., 90.] deg>"
      ]
     },
     "execution_count": 5,
     "metadata": {},
     "output_type": "execute_result"
    }
   ],
   "source": [
    "a = [30,60,90]*u.deg\n",
    "a"
   ]
  },
  {
   "cell_type": "code",
   "execution_count": 6,
   "id": "49705491-8c20-4117-8e7e-453032c25e52",
   "metadata": {},
   "outputs": [
    {
     "data": {
      "text/latex": [
       "$[0,~1,~2,~3,~4,~5,~6,~7,~8,~9] \\; \\mathrm{h}$"
      ],
      "text/plain": [
       "<Quantity [0., 1., 2., 3., 4., 5., 6., 7., 8., 9.] h>"
      ]
     },
     "execution_count": 6,
     "metadata": {},
     "output_type": "execute_result"
    }
   ],
   "source": [
    "t = np.arange(10)*u.h\n",
    "t"
   ]
  },
  {
   "cell_type": "markdown",
   "id": "6a59631a-7c49-470d-9d8f-70d0d86cc306",
   "metadata": {},
   "source": [
    "### Operations with Quantities"
   ]
  },
  {
   "cell_type": "code",
   "execution_count": 7,
   "id": "9f941af9-1cc4-4853-8e8b-d6ae2ff1092f",
   "metadata": {},
   "outputs": [
    {
     "data": {
      "text/latex": [
       "$42.15 \\; \\mathrm{m}$"
      ],
      "text/plain": [
       "<Quantity 42.15 m>"
      ]
     },
     "execution_count": 7,
     "metadata": {},
     "output_type": "execute_result"
    }
   ],
   "source": [
    "d + 15*u.cm"
   ]
  },
  {
   "cell_type": "code",
   "execution_count": 8,
   "id": "196a2ab1-1010-43af-8a4e-715b2da42203",
   "metadata": {},
   "outputs": [
    {
     "data": {
      "text/latex": [
       "$[30.25,~60.25,~90.25] \\; \\mathrm{{}^{\\circ}}$"
      ],
      "text/plain": [
       "<Quantity [30.25, 60.25, 90.25] deg>"
      ]
     },
     "execution_count": 8,
     "metadata": {},
     "output_type": "execute_result"
    }
   ],
   "source": [
    "a + 15*u.arcmin"
   ]
  },
  {
   "cell_type": "code",
   "execution_count": 9,
   "id": "db0d7edd-0e38-41b3-ab97-91af0bfc407e",
   "metadata": {},
   "outputs": [
    {
     "data": {
      "text/latex": [
       "$[0.14583333,~1.1458333,~2.1458333,~3.1458333,~4.1458333,~5.1458333,~6.1458333,~7.1458333,~8.1458333,~9.1458333] \\; \\mathrm{h}$"
      ],
      "text/plain": [
       "<Quantity [0.14583333, 1.14583333, 2.14583333, 3.14583333, 4.14583333,\n",
       "           5.14583333, 6.14583333, 7.14583333, 8.14583333, 9.14583333] h>"
      ]
     },
     "execution_count": 9,
     "metadata": {},
     "output_type": "execute_result"
    }
   ],
   "source": [
    "t + 525*u.second"
   ]
  },
  {
   "cell_type": "markdown",
   "id": "e8aafdd9-ba06-410d-9860-9b53b4f3724f",
   "metadata": {},
   "source": [
    "### Unit conversion and operations\n",
    "\n",
    "The `Quantity` objects have a method to convert to any units available in astropy: `.to()`, which accepts the name of the unit as a string. "
   ]
  },
  {
   "cell_type": "code",
   "execution_count": 10,
   "id": "8a11b9c9-c0b2-4be5-9c5e-8e4bf9e56b42",
   "metadata": {},
   "outputs": [
    {
     "data": {
      "text/latex": [
       "$0.042 \\; \\mathrm{km}$"
      ],
      "text/plain": [
       "<Quantity 0.042 km>"
      ]
     },
     "execution_count": 10,
     "metadata": {},
     "output_type": "execute_result"
    }
   ],
   "source": [
    "d.to('km')"
   ]
  },
  {
   "cell_type": "code",
   "execution_count": 11,
   "id": "1b61b0f4-207d-4e9a-8f88-1ecc18492d0c",
   "metadata": {},
   "outputs": [
    {
     "data": {
      "text/latex": [
       "$0.042 \\; \\mathrm{km}$"
      ],
      "text/plain": [
       "<Quantity 0.042 km>"
      ]
     },
     "execution_count": 11,
     "metadata": {},
     "output_type": "execute_result"
    }
   ],
   "source": [
    "d.to(u.km)"
   ]
  },
  {
   "cell_type": "code",
   "execution_count": 12,
   "id": "6dfb1f43-65cd-47ba-8d32-fadf4f965bba",
   "metadata": {},
   "outputs": [
    {
     "data": {
      "text/latex": [
       "$[1.08 \\times 10^{8},~2.16 \\times 10^{8},~3.24 \\times 10^{8}] \\; \\mathrm{marcsec}$"
      ],
      "text/plain": [
       "<Quantity [1.08e+08, 2.16e+08, 3.24e+08] marcsec>"
      ]
     },
     "execution_count": 12,
     "metadata": {},
     "output_type": "execute_result"
    }
   ],
   "source": [
    "a.to('milliarcsecond')"
   ]
  },
  {
   "cell_type": "markdown",
   "id": "8729c0e8-d34e-4975-b117-47db699e8667",
   "metadata": {},
   "source": [
    "astropy understands a large variety of units. You can find all units available and their name aliases in [module-astropy.units](https://docs.astropy.org/en/stable/units/index.html#module-astropy.units)."
   ]
  },
  {
   "cell_type": "code",
   "execution_count": 13,
   "id": "154147d5-dd0d-488d-89f6-a422e394e33e",
   "metadata": {},
   "outputs": [
    {
     "data": {
      "text/latex": [
       "$[6000,~98.360656,~49.586777,~33.149171,~24.896266,~19.933555,~16.620499,~14.251781,~12.474012,~11.090573] \\; \\mathrm{\\frac{km}{h}}$"
      ],
      "text/plain": [
       "<Quantity [6000.        ,   98.36065574,   49.58677686,   33.14917127,\n",
       "             24.89626556,   19.93355482,   16.62049861,   14.25178147,\n",
       "             12.47401247,   11.09057301] km / h>"
      ]
     },
     "execution_count": 13,
     "metadata": {},
     "output_type": "execute_result"
    }
   ],
   "source": [
    "100*u.km/(t + 1*u.min)"
   ]
  },
  {
   "cell_type": "code",
   "execution_count": 14,
   "id": "a8e3a43d-2b17-4284-ac45-9b79a83b4906",
   "metadata": {},
   "outputs": [
    {
     "data": {
      "text/latex": [
       "$100 \\; \\mathrm{\\frac{m}{s}}$"
      ],
      "text/plain": [
       "<Quantity 100. m / s>"
      ]
     },
     "execution_count": 14,
     "metadata": {},
     "output_type": "execute_result"
    }
   ],
   "source": [
    "v = 100 * u.meter / u.second\n",
    "v"
   ]
  },
  {
   "cell_type": "code",
   "execution_count": 15,
   "id": "7d3f42a1-9089-45bd-bef4-68226ba8cb15",
   "metadata": {},
   "outputs": [
    {
     "data": {
      "text/latex": [
       "$8640 \\; \\mathrm{\\frac{km}{d}}$"
      ],
      "text/plain": [
       "<Quantity 8640. km / d>"
      ]
     },
     "execution_count": 15,
     "metadata": {},
     "output_type": "execute_result"
    }
   ],
   "source": [
    "v.to(u.km/u.day)"
   ]
  },
  {
   "cell_type": "code",
   "execution_count": 16,
   "id": "1f7a46ca-bfb5-44dd-86f2-41e20f9ae18e",
   "metadata": {},
   "outputs": [
    {
     "data": {
      "text/latex": [
       "$1.0227122 \\times 10^{-7} \\; \\mathrm{\\frac{pc}{yr}}$"
      ],
      "text/plain": [
       "<Quantity 1.02271217e-07 pc / yr>"
      ]
     },
     "execution_count": 16,
     "metadata": {},
     "output_type": "execute_result"
    }
   ],
   "source": [
    "v.to(u.pc/u.yr)"
   ]
  },
  {
   "cell_type": "markdown",
   "id": "db68fdff-ceea-435e-b63d-e9fbeb015d74",
   "metadata": {},
   "source": [
    "### Other operations\n",
    "We can also apply more complex functions, for example any of the `numpy` statistical functions will work.\n"
   ]
  },
  {
   "cell_type": "code",
   "execution_count": 17,
   "id": "6fd82027-3c2f-43af-a4af-2dbb20a9ca76",
   "metadata": {},
   "outputs": [
    {
     "data": {
      "text/latex": [
       "$4.5 \\; \\mathrm{h}$"
      ],
      "text/plain": [
       "<Quantity 4.5 h>"
      ]
     },
     "execution_count": 17,
     "metadata": {},
     "output_type": "execute_result"
    }
   ],
   "source": [
    "np.mean(t)"
   ]
  },
  {
   "cell_type": "code",
   "execution_count": 18,
   "id": "670c9f85-d75f-467c-8822-8f8c8fd1a760",
   "metadata": {},
   "outputs": [
    {
     "name": "stdout",
     "output_type": "stream",
     "text": [
      "0.838670567945424 33.0 deg\n",
      "0.838670567945424 118800.0 arcsec\n"
     ]
    }
   ],
   "source": [
    "angle_deg = 33*u.deg\n",
    "angle_arcsec = angle_deg.to(u.arcsec)\n",
    "print(np.cos(angle_deg), angle_deg)\n",
    "print(np.cos(angle_arcsec), angle_arcsec)"
   ]
  },
  {
   "cell_type": "code",
   "execution_count": 19,
   "id": "8b12ed55-0417-436e-af44-b60e4f0e0056",
   "metadata": {},
   "outputs": [
    {
     "name": "stdout",
     "output_type": "stream",
     "text": [
      "[[-0.61849835 -0.16700317  0.41936451 -0.21550595]\n",
      " [ 0.11715209 -0.26574587  1.03500584  0.01195184]\n",
      " [ 1.29386176 -1.16260988 -0.96345459 -0.35667745]\n",
      " [-0.17174191 -0.74708274 -0.67822655  0.52945067]] cm\n"
     ]
    },
    {
     "data": {
      "text/latex": [
       "$-0.011626099 \\; \\mathrm{m}$"
      ],
      "text/plain": [
       "<Quantity -0.0116261 m>"
      ]
     },
     "execution_count": 19,
     "metadata": {},
     "output_type": "execute_result"
    }
   ],
   "source": [
    "r = np.random.randn(4,4)*u.cm\n",
    "print(r)\n",
    "np.min(r).to('m')"
   ]
  },
  {
   "cell_type": "code",
   "execution_count": 20,
   "id": "7c5951e4-f41e-4215-bb46-872fed774498",
   "metadata": {},
   "outputs": [
    {
     "data": {
      "text/latex": [
       "$100 \\; \\mathrm{keV}$"
      ],
      "text/plain": [
       "<Quantity 100. keV>"
      ]
     },
     "execution_count": 20,
     "metadata": {},
     "output_type": "execute_result"
    }
   ],
   "source": [
    "Emin = 100*u.keV\n",
    "Emin"
   ]
  },
  {
   "cell_type": "code",
   "execution_count": 21,
   "id": "107e26f8-1318-4896-983b-2d3bd654e306",
   "metadata": {},
   "outputs": [
    {
     "data": {
      "text/latex": [
       "$10 \\; \\mathrm{MeV}$"
      ],
      "text/plain": [
       "<Quantity 10. MeV>"
      ]
     },
     "execution_count": 21,
     "metadata": {},
     "output_type": "execute_result"
    }
   ],
   "source": [
    "Emax = 10*u.MeV\n",
    "Emax"
   ]
  },
  {
   "cell_type": "code",
   "execution_count": 22,
   "id": "f266af2d-9d79-492a-9df3-a43c74ac44f5",
   "metadata": {},
   "outputs": [
    {
     "data": {
      "text/latex": [
       "$0.1 \\; \\mathrm{\\frac{MeV}{keV}}$"
      ],
      "text/plain": [
       "<Quantity 0.1 MeV / keV>"
      ]
     },
     "execution_count": 22,
     "metadata": {},
     "output_type": "execute_result"
    }
   ],
   "source": [
    "Emax/Emin"
   ]
  },
  {
   "cell_type": "code",
   "execution_count": 23,
   "id": "2db109ee-85a8-45a3-8465-2648c85d394e",
   "metadata": {},
   "outputs": [
    {
     "data": {
      "text/latex": [
       "$4.6051702 \\; \\mathrm{}$"
      ],
      "text/plain": [
       "<Quantity 4.60517019>"
      ]
     },
     "execution_count": 23,
     "metadata": {},
     "output_type": "execute_result"
    }
   ],
   "source": [
    "np.log(Emax/Emin)"
   ]
  },
  {
   "cell_type": "markdown",
   "id": "091aacb0-669e-449e-ae59-7a2d0836f625",
   "metadata": {},
   "source": [
    "An alternative way to create a `Quantity` object, which is much faster for large datasets"
   ]
  },
  {
   "cell_type": "code",
   "execution_count": 24,
   "id": "d1d42a8a-b9e4-4332-b659-f381ab3138f3",
   "metadata": {},
   "outputs": [
    {
     "data": {
      "text/latex": [
       "$[0,~1,~2,~3,~4,~5,~6,~7,~8,~9] \\; \\mathrm{m}$"
      ],
      "text/plain": [
       "<Quantity [0., 1., 2., 3., 4., 5., 6., 7., 8., 9.] m>"
      ]
     },
     "execution_count": 24,
     "metadata": {},
     "output_type": "execute_result"
    }
   ],
   "source": [
    "x = u.Quantity(np.arange(10), unit='m')\n",
    "x"
   ]
  },
  {
   "cell_type": "markdown",
   "id": "aa3f6a9d-c8da-4e10-a13d-29424e1a34ee",
   "metadata": {
    "tags": []
   },
   "source": [
    "### ⛏ Exercise\n",
    "\n",
    "Consider the triangle rectangle with angles 90 deg, 40 deg and 50 deg. Create 3 variables `a1`, `a2`, `a3` and assign the three angles in degrees.\n",
    "\n",
    "Convert each of them to arcmin, arcsec and milliarcsec and assign them to variables `a1_arcmin`, `a2_arcsec` and `a3_mas`, respectively, and print them.\n",
    "\n",
    "Compute the sum of the three converted angles, `a_sum`. What are the units of this variable?\n",
    "\n",
    "Verify that the sum is 180 deg by using `a_sum == 180*u.deg`"
   ]
  },
  {
   "cell_type": "code",
   "execution_count": 25,
   "id": "ed375145-c639-4bd0-9d48-e6ca84067025",
   "metadata": {},
   "outputs": [
    {
     "name": "stdout",
     "output_type": "stream",
     "text": [
      "90.0 deg 40.0 deg 50.0 deg\n"
     ]
    }
   ],
   "source": [
    "a1 = 90*u.deg\n",
    "a2 = 40*u.deg\n",
    "a3 = 50*u.deg\n",
    "print(a1, a2, a3)"
   ]
  },
  {
   "cell_type": "code",
   "execution_count": 26,
   "id": "cabd2cfc-5934-4254-905c-9e87edf7f66b",
   "metadata": {},
   "outputs": [
    {
     "name": "stdout",
     "output_type": "stream",
     "text": [
      "5400.0 arcmin 144000.0 arcsec 179999999.99999997 mas\n"
     ]
    }
   ],
   "source": [
    "a1_arcmin = a1.to(u.arcmin)\n",
    "a2_arcsec = a2.to(u.arcsec)\n",
    "a3_mas = a3.to(u.mas)\n",
    "print(a1_arcmin, a2_arcsec, a3_mas)"
   ]
  },
  {
   "cell_type": "code",
   "execution_count": 27,
   "id": "44288293-daf9-41c6-bb85-f3d8d14ae946",
   "metadata": {},
   "outputs": [
    {
     "data": {
      "text/latex": [
       "$10800 \\; \\mathrm{{}^{\\prime}}$"
      ],
      "text/plain": [
       "<Quantity 10800. arcmin>"
      ]
     },
     "execution_count": 27,
     "metadata": {},
     "output_type": "execute_result"
    }
   ],
   "source": [
    "a_sum = a1_arcmin + a2_arcsec + a3_mas\n",
    "a_sum"
   ]
  },
  {
   "cell_type": "code",
   "execution_count": 28,
   "id": "979584e8-e970-4381-b1e5-ea61de3f9d7d",
   "metadata": {},
   "outputs": [
    {
     "data": {
      "text/plain": [
       "True"
      ]
     },
     "execution_count": 28,
     "metadata": {},
     "output_type": "execute_result"
    }
   ],
   "source": [
    "a_sum == 180*u.deg"
   ]
  },
  {
   "cell_type": "markdown",
   "id": "d500cde5-c29c-40fc-a6c9-e343e773c8d9",
   "metadata": {},
   "source": [
    "### Physical constants"
   ]
  },
  {
   "cell_type": "code",
   "execution_count": 29,
   "id": "bf81db6b-8ba0-4288-8f42-8ed18c80c06c",
   "metadata": {},
   "outputs": [
    {
     "data": {
      "text/latex": [
       "$2.9979246 \\times 10^{8} \\; \\mathrm{\\frac{m}{s}}$"
      ],
      "text/plain": [
       "<<class 'astropy.constants.codata2018.CODATA2018'> name='Speed of light in vacuum' value=299792458.0 uncertainty=0.0 unit='m / s' reference='CODATA 2018'>"
      ]
     },
     "execution_count": 29,
     "metadata": {},
     "output_type": "execute_result"
    }
   ],
   "source": [
    "from astropy import constants as const\n",
    "# speed of light\n",
    "speed_of_light = const.c\n",
    "speed_of_light"
   ]
  },
  {
   "cell_type": "code",
   "execution_count": 30,
   "id": "52ff5632-35fe-4d21-8744-98e1e5bc9041",
   "metadata": {},
   "outputs": [
    {
     "data": {
      "text/latex": [
       "$1.9884099 \\times 10^{30} \\; \\mathrm{kg}$"
      ],
      "text/plain": [
       "<<class 'astropy.constants.iau2015.IAU2015'> name='Solar mass' value=1.988409870698051e+30 uncertainty=4.468805426856864e+25 unit='kg' reference='IAU 2015 Resolution B 3 + CODATA 2018'>"
      ]
     },
     "execution_count": 30,
     "metadata": {},
     "output_type": "execute_result"
    }
   ],
   "source": [
    "const.M_sun"
   ]
  },
  {
   "cell_type": "code",
   "execution_count": 31,
   "id": "7fd9aa8b-9987-408a-b150-7f419c0c0644",
   "metadata": {},
   "outputs": [
    {
     "data": {
      "text/latex": [
       "$1.9884099 \\times 10^{33} \\; \\mathrm{g}$"
      ],
      "text/plain": [
       "<Quantity 1.98840987e+33 g>"
      ]
     },
     "execution_count": 31,
     "metadata": {},
     "output_type": "execute_result"
    }
   ],
   "source": [
    "const.M_sun.to('g')"
   ]
  },
  {
   "cell_type": "code",
   "execution_count": 32,
   "id": "11a8fabd-f496-4501-a255-faa64527c34b",
   "metadata": {},
   "outputs": [
    {
     "data": {
      "text/latex": [
       "$3.335641 \\times 10^{-9} \\; \\mathrm{\\frac{AU\\,s}{m}}$"
      ],
      "text/plain": [
       "<Quantity 3.33564095e-09 AU s / m>"
      ]
     },
     "execution_count": 32,
     "metadata": {},
     "output_type": "execute_result"
    }
   ],
   "source": [
    "# distance sun - earth\n",
    "distance_sun = 1 * u.au\n",
    "\n",
    "# time\n",
    "time_sun = distance_sun / speed_of_light\n",
    "time_sun"
   ]
  },
  {
   "cell_type": "code",
   "execution_count": 33,
   "id": "37261038-8de7-47f7-b9a9-24f1292b6d42",
   "metadata": {},
   "outputs": [
    {
     "data": {
      "text/latex": [
       "$8.3167464 \\; \\mathrm{min}$"
      ],
      "text/plain": [
       "<Quantity 8.3167464 min>"
      ]
     },
     "execution_count": 33,
     "metadata": {},
     "output_type": "execute_result"
    }
   ],
   "source": [
    "time_sun.to('min')"
   ]
  },
  {
   "cell_type": "code",
   "execution_count": 34,
   "id": "84f59a3d-0fa5-461d-9419-00453cc3b83c",
   "metadata": {},
   "outputs": [
    {
     "name": "stdout",
     "output_type": "stream",
     "text": [
      "SI: 149597870700.0 m\n",
      "CGS: 14959787070000.0 cm\n"
     ]
    }
   ],
   "source": [
    "print(f\"SI: {distance_sun.si}\")\n",
    "print(f\"CGS: {distance_sun.cgs}\")"
   ]
  },
  {
   "cell_type": "markdown",
   "id": "7cfa4840-99da-4fe9-8714-fc3303c809d7",
   "metadata": {
    "tags": []
   },
   "source": [
    "### ⛏ Exercise\n",
    "Assuming that the distance to the Galactic Center is 8 kpc, compute the time it takes for light to travel from the Galactic Center to the Earth, in years."
   ]
  },
  {
   "cell_type": "code",
   "execution_count": 35,
   "id": "f0488f19-52d5-41df-b63a-cbdf0c061efc",
   "metadata": {},
   "outputs": [
    {
     "data": {
      "text/latex": [
       "$26092.51 \\; \\mathrm{yr}$"
      ],
      "text/plain": [
       "<Quantity 26092.51021734 yr>"
      ]
     },
     "execution_count": 35,
     "metadata": {},
     "output_type": "execute_result"
    }
   ],
   "source": [
    "# distance to GC\n",
    "distance_gc = 8 * u.kpc\n",
    "\n",
    "# time\n",
    "time_gc = distance_gc / speed_of_light\n",
    "time_gc.to(u.yr)"
   ]
  },
  {
   "cell_type": "markdown",
   "id": "71d06d53-0170-426b-adc9-df8f5af0e102",
   "metadata": {},
   "source": [
    "# Astropy Coordinates"
   ]
  },
  {
   "cell_type": "code",
   "execution_count": 36,
   "id": "d121dfe9-eb37-4716-bfee-97fcb46550bf",
   "metadata": {},
   "outputs": [
    {
     "data": {
      "text/latex": [
       "$24^\\circ00{}^\\prime00{}^{\\prime\\prime}$"
      ],
      "text/plain": [
       "<Angle 24. deg>"
      ]
     },
     "execution_count": 36,
     "metadata": {},
     "output_type": "execute_result"
    }
   ],
   "source": [
    "from astropy.coordinates import Angle\n",
    "\n",
    "Angle(24*u.deg)"
   ]
  },
  {
   "cell_type": "code",
   "execution_count": 37,
   "id": "0f1b2f64-d8ff-4e59-9163-f86a93afbf1c",
   "metadata": {},
   "outputs": [
    {
     "name": "stdout",
     "output_type": "stream",
     "text": [
      "1.0\n",
      "60.0\n",
      "3600.0\n"
     ]
    }
   ],
   "source": [
    "a = Angle(1*u.deg)\n",
    "print(a.deg)\n",
    "print(a.arcmin)\n",
    "print(a.arcsec)"
   ]
  },
  {
   "cell_type": "code",
   "execution_count": 38,
   "id": "4b784da0-234a-4e5a-b784-6db17b43d5e9",
   "metadata": {},
   "outputs": [
    {
     "data": {
      "text/latex": [
       "[$1^\\circ00{}^\\prime00{}^{\\prime\\prime}$\n",
       " $4^\\circ00{}^\\prime00{}^{\\prime\\prime}$\n",
       " $6^\\circ00{}^\\prime00{}^{\\prime\\prime}$\n",
       " $15^\\circ00{}^\\prime00{}^{\\prime\\prime}$\n",
       " $-3^\\circ00{}^\\prime00{}^{\\prime\\prime}$\n",
       " $2^\\circ00{}^\\prime00{}^{\\prime\\prime}$\n",
       " $10^\\circ00{}^\\prime00{}^{\\prime\\prime}$\n",
       " $2^\\circ00{}^\\prime00{}^{\\prime\\prime}$\n",
       " $0^\\circ00{}^\\prime00{}^{\\prime\\prime}$]"
      ],
      "text/plain": [
       "<Angle [ 1.,  4.,  6., 15., -3.,  2., 10.,  2.,  0.] deg>"
      ]
     },
     "execution_count": 38,
     "metadata": {},
     "output_type": "execute_result"
    }
   ],
   "source": [
    "angles = Angle([1, 4, 6, 15, -3, 2, 10, 2, 0]*u.deg)\n",
    "angles"
   ]
  },
  {
   "cell_type": "code",
   "execution_count": 39,
   "id": "85fff072-f34c-4bca-b33b-b63f88217e5c",
   "metadata": {},
   "outputs": [
    {
     "data": {
      "text/latex": [
       "[$60\\mathrm{{}^{\\prime}}$ $240\\mathrm{{}^{\\prime}}$\n",
       " $360\\mathrm{{}^{\\prime}}$ $900\\mathrm{{}^{\\prime}}$\n",
       " $-180\\mathrm{{}^{\\prime}}$ $120\\mathrm{{}^{\\prime}}$\n",
       " $600\\mathrm{{}^{\\prime}}$ $120\\mathrm{{}^{\\prime}}$\n",
       " $0\\mathrm{{}^{\\prime}}$]"
      ],
      "text/plain": [
       "<Angle [  60.,  240.,  360.,  900., -180.,  120.,  600.,  120.,    0.] arcmin>"
      ]
     },
     "execution_count": 39,
     "metadata": {},
     "output_type": "execute_result"
    }
   ],
   "source": [
    "angles.to('arcmin')"
   ]
  },
  {
   "cell_type": "code",
   "execution_count": 40,
   "id": "f3410787-23d8-4edc-9017-f384b30d1883",
   "metadata": {},
   "outputs": [
    {
     "data": {
      "text/plain": [
       "array([-180.,    0.,   60.,  120.,  120.,  240.,  360.,  600.,  900.])"
      ]
     },
     "execution_count": 40,
     "metadata": {},
     "output_type": "execute_result"
    }
   ],
   "source": [
    "angles.sort()  # The variable angles will be modified insitu.\n",
    "angles.arcmin"
   ]
  },
  {
   "cell_type": "code",
   "execution_count": 41,
   "id": "9c592780-6a0c-4996-b71e-66619ecae76b",
   "metadata": {},
   "outputs": [
    {
     "data": {
      "text/latex": [
       "$37^\\circ00{}^\\prime00{}^{\\prime\\prime}$"
      ],
      "text/plain": [
       "<Angle 37. deg>"
      ]
     },
     "execution_count": 41,
     "metadata": {},
     "output_type": "execute_result"
    }
   ],
   "source": [
    "angles.sum()"
   ]
  },
  {
   "cell_type": "markdown",
   "id": "1555be4f-6642-4f5b-a0b5-7f2c428d7d42",
   "metadata": {},
   "source": [
    "Let's work with coordinates"
   ]
  },
  {
   "cell_type": "code",
   "execution_count": 42,
   "id": "0d991dd5-c0c7-4ead-b9d3-ed8a0336203d",
   "metadata": {},
   "outputs": [],
   "source": [
    "from astropy.coordinates import SkyCoord"
   ]
  },
  {
   "cell_type": "code",
   "execution_count": 43,
   "id": "e7a96871-1ed7-4621-bd7c-b4f47d4cf82b",
   "metadata": {},
   "outputs": [
    {
     "data": {
      "text/plain": [
       "<SkyCoord (ICRS): (ra, dec) in deg\n",
       "    (10.625, 41.2)>"
      ]
     },
     "execution_count": 43,
     "metadata": {},
     "output_type": "execute_result"
    }
   ],
   "source": [
    "c = SkyCoord(ra=10.625*u.degree,\n",
    "             dec=41.2*u.degree,\n",
    "             frame='icrs')\n",
    "c"
   ]
  },
  {
   "cell_type": "markdown",
   "id": "1884a472-e8d0-4001-9b4c-7e2387166159",
   "metadata": {},
   "source": [
    "Multiple ways to initialize the coordinates, and astropy is usually very clever interpreting what you want."
   ]
  },
  {
   "cell_type": "code",
   "execution_count": 44,
   "id": "03441b94-622e-4c6f-b239-18119e333b28",
   "metadata": {},
   "outputs": [
    {
     "name": "stdout",
     "output_type": "stream",
     "text": [
      "<SkyCoord (ICRS): (ra, dec) in deg\n",
      "    (10.625, 41.2)> <SkyCoord (ICRS): (ra, dec) in deg\n",
      "    (10.625, 41.2)> <SkyCoord (ICRS): (ra, dec) in deg\n",
      "    (10.625, 41.2)> <SkyCoord (ICRS): (ra, dec) in deg\n",
      "    (10.625, 41.2)> <SkyCoord (ICRS): (ra, dec) in deg\n",
      "    (10.625, 41.2)>\n"
     ]
    }
   ],
   "source": [
    "c1 = SkyCoord(10.625, 41.2, frame='icrs', unit='deg')\n",
    "c2 = SkyCoord('00h42m30s', '+41d12m00s', frame='icrs')\n",
    "c3 = SkyCoord('00h42.50m', '+41d12m')\n",
    "c4 = SkyCoord('00 42 30 +41 12 00', unit=(u.hourangle, u.deg))\n",
    "c5 = SkyCoord('00:42.5 +41:12', unit=(u.hourangle, u.deg))\n",
    "print(c1, c2, c3, c4, c5)"
   ]
  },
  {
   "cell_type": "markdown",
   "id": "12ee6467-e7eb-4be0-a325-f6dca3adf87b",
   "metadata": {},
   "source": [
    "The coordinates can be accessed by R.A. or Declination, and can be converted to different units."
   ]
  },
  {
   "cell_type": "code",
   "execution_count": 45,
   "id": "42ab4899-6f96-40e6-bdb4-fa5aa864fdcc",
   "metadata": {},
   "outputs": [
    {
     "name": "stdout",
     "output_type": "stream",
     "text": [
      "637.5\n",
      "148320.0\n",
      "0.18544123302439752\n",
      "hms_tuple(h=0.0, m=42.0, s=30.000000000000426)\n",
      "dms_tuple(d=41.0, m=12.0, s=1.0231815394945443e-11)\n"
     ]
    }
   ],
   "source": [
    "print(c.ra.arcmin)\n",
    "print(c.dec.arcsec)\n",
    "print(c.ra.radian)\n",
    "print(c.ra.hms)\n",
    "print(c.dec.dms)"
   ]
  },
  {
   "cell_type": "markdown",
   "id": "2cd83c89-2829-4612-96be-5369cd9d4327",
   "metadata": {},
   "source": [
    "You can also initialize arrays of coordinates. Just parse a `numpy` array or a python `list` to the variables."
   ]
  },
  {
   "cell_type": "code",
   "execution_count": 46,
   "id": "e85d597f-2a24-4293-bba4-53a88c3d2335",
   "metadata": {},
   "outputs": [
    {
     "data": {
      "text/plain": [
       "<SkyCoord (Galactic): (l, b) in deg\n",
       "    [( 33.70872878,  55.59633386), (174.73599792,  75.14045446),\n",
       "     ( 46.18254562,   5.75542536), (137.43562095,  55.00719198),\n",
       "     (114.47343285,  40.38830531), (131.91781479, -56.09864977),\n",
       "     (  9.46581177,  79.79323861), ( 23.41901519,  56.18942627),\n",
       "     ( 98.39065201,  49.43822973), (132.44376156,  57.99653369),\n",
       "     (150.582924  ,  67.62843391), ( 26.85050783,  37.12170978),\n",
       "     (178.13786219,  24.42156229), (104.67287875,  61.69671958),\n",
       "     (115.37045529,  56.69511086), ( 31.76662125,  17.66896994),\n",
       "     ( 55.20540773, -11.7534615 ), ( 74.06555137, -47.07815879),\n",
       "     ( 86.16825308, -65.92785033), (173.11849181, -66.71144193)]>"
      ]
     },
     "execution_count": 46,
     "metadata": {},
     "output_type": "execute_result"
    }
   ],
   "source": [
    "cs = SkyCoord(np.random.uniform(0, 180, 20)*u.deg,\n",
    "              np.random.uniform(-90, 90, 20)*u.deg,\n",
    "              frame='galactic')\n",
    "cs"
   ]
  },
  {
   "cell_type": "code",
   "execution_count": 47,
   "id": "40dc1b2d-26c4-4d60-95fc-adc68186f41f",
   "metadata": {},
   "outputs": [
    {
     "data": {
      "text/plain": [
       "['02h14m50.09490754s +55d35m46.80189944s',\n",
       " '11h38m56.63950055s +75d08m25.63604399s',\n",
       " '03h04m43.81094882s +05d45m19.53131074s',\n",
       " '09h09m44.54902752s +55d00m25.89112885s',\n",
       " '07h37m53.62388407s +40d23m17.89910178s',\n",
       " '08h47m40.27554968s -56d05m55.13916765s',\n",
       " '00h37m51.79482563s +79d47m35.65897811s',\n",
       " '01h33m40.56364539s +56d11m21.93455542s',\n",
       " '06h33m33.75648233s +49d26m17.62701638s',\n",
       " '08h49m46.50277513s +57d59m47.52126729s',\n",
       " '10h02m19.90176066s +67d37m42.36208286s',\n",
       " '01h47m24.12187926s +37d07m18.15521434s',\n",
       " '11h52m33.08692652s +24d25m17.6242566s',\n",
       " '06h58m41.49089978s +61d41m48.19049141s',\n",
       " '07h41m28.90927029s +56d41m42.39911221s',\n",
       " '02h07m03.98910008s +17d40m08.29177735s',\n",
       " '03h40m49.29785564s -11d45m12.4613897s',\n",
       " '04h56m15.73232943s -47d04m41.37163908s',\n",
       " '05h44m40.38073901s -65d55m40.26120552s',\n",
       " '11h32m28.43803528s -66d42m41.19095902s']"
      ]
     },
     "execution_count": 47,
     "metadata": {},
     "output_type": "execute_result"
    }
   ],
   "source": [
    "cs.to_string('hmsdms')"
   ]
  },
  {
   "cell_type": "code",
   "execution_count": 48,
   "id": "cfb47edc-5a3a-481c-9e38-1c7a9ae7c599",
   "metadata": {},
   "outputs": [
    {
     "data": {
      "text/plain": [
       "[<matplotlib.lines.Line2D at 0x7f2a8b933760>]"
      ]
     },
     "execution_count": 48,
     "metadata": {},
     "output_type": "execute_result"
    },
    {
     "data": {
      "image/png": "[encoded data removed]",
      "text/plain": [
       "<Figure size 432x288 with 1 Axes>"
      ]
     },
     "metadata": {
      "needs_background": "light"
     },
     "output_type": "display_data"
    }
   ],
   "source": [
    "import matplotlib.pyplot as plt\n",
    "plt.plot(cs.l, cs.b, 'o')"
   ]
  },
  {
   "cell_type": "markdown",
   "id": "82f751de-da46-4602-a0f4-6bd06a01008e",
   "metadata": {},
   "source": [
    "Including observation time and convert to observational `QTable`"
   ]
  },
  {
   "cell_type": "code",
   "execution_count": 49,
   "id": "e774b864-8ef8-4010-85b1-64d742632ced",
   "metadata": {},
   "outputs": [],
   "source": [
    "from astropy.time import Time"
   ]
  },
  {
   "cell_type": "code",
   "execution_count": 50,
   "id": "3200e7bf-d21e-4680-867a-b5b8f91b92da",
   "metadata": {},
   "outputs": [
    {
     "data": {
      "text/html": [
       "<div><i>QTable length=2</i>\n",
       "<table id=\"table139820707466544\" class=\"table-striped table-bordered table-condensed\">\n",
       "<thead><tr><th>ra</th><th>dec</th><th>obstime</th></tr></thead>\n",
       "<thead><tr><th>deg</th><th>deg</th><th></th></tr></thead>\n",
       "<thead><tr><th>float64</th><th>float64</th><th>Time</th></tr></thead>\n",
       "<tr><td>40.0</td><td>0.0</td><td>2000.2</td></tr>\n",
       "<tr><td>70.0</td><td>-20.0</td><td>2010.123</td></tr>\n",
       "</table></div>"
      ],
      "text/plain": [
       "<QTable length=2>\n",
       "   ra     dec   obstime \n",
       "  deg     deg           \n",
       "float64 float64   Time  \n",
       "------- ------- --------\n",
       "   40.0     0.0   2000.2\n",
       "   70.0   -20.0 2010.123"
      ]
     },
     "execution_count": 50,
     "metadata": {},
     "output_type": "execute_result"
    }
   ],
   "source": [
    "sc = SkyCoord(ra=[40, 70]*u.deg, dec=[0, -20]*u.deg,\n",
    "              obstime=Time([2000.2, 2010.123], format='decimalyear'))\n",
    "tab =  sc.to_table()\n",
    "tab"
   ]
  },
  {
   "cell_type": "code",
   "execution_count": 51,
   "id": "a0afdac2-b242-4375-8bd6-ba775dd0c6a9",
   "metadata": {},
   "outputs": [
    {
     "name": "stdout",
     "output_type": "stream",
     "text": [
      "[2000.2   2010.123]\n",
      "[51617.2   55241.895]\n",
      "['2000-03-14 04:48:00.000' '2010-02-14 21:28:48.000']\n",
      "['2000-03-14T04:48:00.000' '2010-02-14T21:28:48.000']\n"
     ]
    }
   ],
   "source": [
    "print(tab['obstime'])\n",
    "print(tab['obstime'].mjd)\n",
    "print(tab['obstime'].iso)\n",
    "print(tab['obstime'].fits)"
   ]
  },
  {
   "cell_type": "markdown",
   "id": "febcd402-f579-4983-ba30-2247b38f700b",
   "metadata": {},
   "source": [
    "Coordinates: transformation of the reference system"
   ]
  },
  {
   "cell_type": "code",
   "execution_count": 52,
   "id": "41cbb5e4-40ce-4056-816e-a653e6df9af4",
   "metadata": {},
   "outputs": [
    {
     "data": {
      "text/plain": [
       "<SkyCoord (Galactic): (l, b) in deg\n",
       "    (121.17424181, -21.57288557)>"
      ]
     },
     "execution_count": 52,
     "metadata": {},
     "output_type": "execute_result"
    }
   ],
   "source": [
    "c_icrs = SkyCoord(ra=10.68458*u.degree,\n",
    "                  dec=41.26917*u.degree,\n",
    "                  frame='icrs')\n",
    "c_galactic = c_icrs.galactic  \n",
    "c_galactic"
   ]
  },
  {
   "cell_type": "code",
   "execution_count": 53,
   "id": "b5fa59fa-0340-460f-b5c7-d9532d5c413e",
   "metadata": {},
   "outputs": [
    {
     "data": {
      "text/plain": [
       "<SkyCoord (ICRS): (ra, dec) in deg\n",
       "    (10.68458, 41.26917)>"
      ]
     },
     "execution_count": 53,
     "metadata": {},
     "output_type": "execute_result"
    }
   ],
   "source": [
    "c_galactic.transform_to('icrs')"
   ]
  },
  {
   "cell_type": "markdown",
   "id": "5a0124b7-5750-4262-88f4-cdccd8de412d",
   "metadata": {},
   "source": [
    "Distance between two coordinates"
   ]
  },
  {
   "cell_type": "code",
   "execution_count": 54,
   "id": "788bc3da-56bd-4e53-89f7-6e7f36ea854a",
   "metadata": {},
   "outputs": [
    {
     "data": {
      "text/latex": [
       "$1^\\circ24{}^\\prime16.32091173{}^{\\prime\\prime}$"
      ],
      "text/plain": [
       "<Angle 1.40453359 deg>"
      ]
     },
     "execution_count": 54,
     "metadata": {},
     "output_type": "execute_result"
    }
   ],
   "source": [
    "c1 = SkyCoord(ra=10*u.degree, dec=9*u.degree, frame='icrs')\n",
    "c2 = SkyCoord(ra=11*u.degree, dec=10*u.degree, frame='fk5')\n",
    "c1.separation(c2)  # Differing frames handled correctly  "
   ]
  },
  {
   "cell_type": "markdown",
   "id": "c4839e8d-7f3f-4d93-a8c8-d18a0fb433bc",
   "metadata": {},
   "source": [
    "Search coordinates by source name"
   ]
  },
  {
   "cell_type": "code",
   "execution_count": 55,
   "id": "866b3fb1-794c-4cf9-9920-220614f6c10c",
   "metadata": {},
   "outputs": [
    {
     "data": {
      "text/plain": [
       "<SkyCoord (ICRS): (ra, dec) in deg\n",
       "    (153.1393106, 53.1173746)>"
      ]
     },
     "execution_count": 55,
     "metadata": {},
     "output_type": "execute_result"
    }
   ],
   "source": [
    "SkyCoord.from_name(\"PSR J1012+5307\")"
   ]
  },
  {
   "cell_type": "markdown",
   "id": "97954ffc-525c-49fc-a8cc-bfcd3108d084",
   "metadata": {
    "tags": []
   },
   "source": [
    "### ⛏ Exercise\n",
    "Find the separation in arcmin between M51 and the point of the Sky in Galactic Coordinates l=10h25m47.0s and b=+10deg. Be careful setting the coordinate frame of reference."
   ]
  },
  {
   "cell_type": "code",
   "execution_count": 56,
   "id": "113a365d-303b-4123-b073-123a4b245ed1",
   "metadata": {},
   "outputs": [
    {
     "name": "stdout",
     "output_type": "stream",
     "text": [
      "4040.44arcmin\n"
     ]
    }
   ],
   "source": [
    "m51_coord = SkyCoord.from_name(\"M51\")  \n",
    "point_coord = SkyCoord(l='10h25m47.0s', b=10*u.degree, frame='galactic')\n",
    "m51_coord, point_coord\n",
    "print(m51_coord.separation(point_coord).to('arcmin'))"
   ]
  },
  {
   "cell_type": "markdown",
   "id": "23a503b7-4436-4fa2-b938-8d3cfc9930c4",
   "metadata": {},
   "source": [
    "### 🌪 Exercise\n",
    "\n",
    "- Make a python list with the names of the 110 Messier objects.\n",
    "- Create a table with their coordinates, as provided by `SkyCoord`.\n",
    "- Compute the angular separation between M1 and the rest of the objects.\n",
    "- Find the coordinates of the closest and the furthest Messier object from M1?\n",
    "- What is the average position of all Messier object coordinates?\n",
    "- What is the closest Simbad object to that average position? Use `Simbad.query_region` [query region](https://astroquery.readthedocs.io/en/latest/simbad/simbad.html#query-a-region)."
   ]
  },
  {
   "cell_type": "code",
   "execution_count": 57,
   "id": "21e77a7a-8546-4804-8f62-19ea8d290d50",
   "metadata": {},
   "outputs": [
    {
     "name": "stdout",
     "output_type": "stream",
     "text": [
      "Searching M1 Searching M2 Searching M3 Searching M4 Searching M5 {'M1': <SkyCoord (ICRS): (ra, dec) in deg\n",
      "    (83.63311446, 22.01448714)>, 'M2': <SkyCoord (ICRS): (ra, dec) in deg\n",
      "    (323.362583, -0.82325)>, 'M3': <SkyCoord (ICRS): (ra, dec) in deg\n",
      "    (205.548417, 28.377278)>, 'M4': <SkyCoord (ICRS): (ra, dec) in deg\n",
      "    (245.89675, -26.52575)>, 'M5': <SkyCoord (ICRS): (ra, dec) in deg\n",
      "    (229.638417, 2.081028)>}\n"
     ]
    }
   ],
   "source": [
    "from astroquery.simbad import Simbad\n",
    "\n",
    "names = [f'M{i+1}' for i in range(5)]\n",
    "\n",
    "m_coord = {}\n",
    "for name in names:\n",
    "    print(f'Searching {name} ', end='')\n",
    "    m_coord[name] = SkyCoord.from_name(name)  \n",
    "\n",
    "print(m_coord)"
   ]
  },
  {
   "cell_type": "code",
   "execution_count": 58,
   "id": "5badfb5f-c7fa-4e0a-9aea-8d5991a4dc35",
   "metadata": {},
   "outputs": [
    {
     "name": "stdout",
     "output_type": "stream",
     "text": [
      "M4 163.23074754332873\n"
     ]
    }
   ],
   "source": [
    "separations = []\n",
    "for name in names:\n",
    "    separation = m_coord['M1'].separation(m_coord[name]).deg\n",
    "    separations.append(separation)\n",
    "    #print(name, separation)\n",
    "\n",
    "idx_max = np.argmax(separations)\n",
    "print(names[idx_max], separations[idx_max])"
   ]
  },
  {
   "cell_type": "code",
   "execution_count": 59,
   "id": "3ea41fcf-b5e6-4579-b2b3-2066ab0c91c8",
   "metadata": {},
   "outputs": [],
   "source": [
    "\n",
    "#Simbad.query_region(SkyCoord.from_name(\"M51\")  , radius='1arcsec')[0]['MAIN_ID']"
   ]
  },
  {
   "cell_type": "markdown",
   "id": "26c3d6e1-26dd-4547-80a0-9065b904e98f",
   "metadata": {},
   "source": [
    "### 🌪 Exercise\n",
    "\n",
    "- Generate two arrays of 100 values following a pattern, for example a linear, a trigonometric function or a combination of both.\n",
    "- Add Gaussian noise to those arrays using `np.random.normal`. Use a `sigma` that is conmensurable to the magnitude of the values.\n",
    "- Generate an array of 100 MJD values.\n",
    "- Create a `SkyCoord` object combining the first two arrays as coordinates and the third as `obstime`.\n",
    "- Convert the coordinates to a `QTable` and show the first few rows.\n",
    "- Plot the projections of R.A., Dec. and obstime\n"
   ]
  },
  {
   "cell_type": "code",
   "execution_count": 60,
   "id": "7bc94b86-4250-4653-8f16-822339708240",
   "metadata": {},
   "outputs": [
    {
     "data": {
      "text/html": [
       "<div><i>QTable length=5</i>\n",
       "<table id=\"table139820705546096\" class=\"table-striped table-bordered table-condensed\">\n",
       "<thead><tr><th>ra</th><th>dec</th><th>obstime</th></tr></thead>\n",
       "<thead><tr><th>deg</th><th>deg</th><th></th></tr></thead>\n",
       "<thead><tr><th>float64</th><th>float64</th><th>Time</th></tr></thead>\n",
       "<tr><td>10.038858573298985</td><td>-19.76098101065604</td><td>56400.0</td></tr>\n",
       "<tr><td>10.04305446865108</td><td>-19.663003217130317</td><td>56404.0404040404</td></tr>\n",
       "<tr><td>10.297449353228664</td><td>-19.680487419315636</td><td>56408.080808080806</td></tr>\n",
       "<tr><td>10.396959096393271</td><td>-19.70841809706679</td><td>56412.121212121216</td></tr>\n",
       "<tr><td>10.68947222079611</td><td>-19.747900321132082</td><td>56416.16161616162</td></tr>\n",
       "</table></div>"
      ],
      "text/plain": [
       "<QTable length=5>\n",
       "        ra                 dec              obstime      \n",
       "       deg                 deg                           \n",
       "     float64             float64              Time       \n",
       "------------------ ------------------- ------------------\n",
       "10.038858573298985  -19.76098101065604            56400.0\n",
       " 10.04305446865108 -19.663003217130317   56404.0404040404\n",
       "10.297449353228664 -19.680487419315636 56408.080808080806\n",
       "10.396959096393271  -19.70841809706679 56412.121212121216\n",
       " 10.68947222079611 -19.747900321132082  56416.16161616162"
      ]
     },
     "execution_count": 60,
     "metadata": {},
     "output_type": "execute_result"
    }
   ],
   "source": [
    "N = 100\n",
    "ra = np.linspace(0, 1, N)*(-10) + 20 + np.random.normal(0, 0.005, N)\n",
    "ra = np.sin(np.linspace(0, 6*np.pi, N))*0.5 +10 + np.linspace(0, 5, N)*1 + np.random.normal(0, 0.08, N)\n",
    "de = np.cos(np.linspace(0, 6*np.pi, N))*0.3 -20 + np.random.normal(0, 0.04, N)\n",
    "mjds = np.linspace(56400, 56800, N)\n",
    "\n",
    "sc = SkyCoord(ra=ra*u.deg, dec=de*u.deg,\n",
    "              obstime=Time(mjds, format='mjd'))\n",
    "tab2 = sc.to_table()\n",
    "tab2[0:5]"
   ]
  },
  {
   "cell_type": "code",
   "execution_count": 61,
   "id": "1fe592c7-d5b2-462a-a7e1-7ddd0d5ba926",
   "metadata": {},
   "outputs": [
    {
     "data": {
      "image/png": "[encoded data removed]",
      "text/plain": [
       "<Figure size 576x1008 with 4 Axes>"
      ]
     },
     "metadata": {
      "needs_background": "light"
     },
     "output_type": "display_data"
    }
   ],
   "source": [
    "fig, ax = plt.subplots(nrows=3, figsize=(8,14))\n",
    "\n",
    "l = ax[0].scatter(sc.ra.deg, sc.dec.deg, c=sc.obstime.mjd, marker='o')\n",
    "ax[1].scatter(sc.obstime.mjd, sc.ra.deg, c=sc.obstime.mjd, marker='o')\n",
    "ax[2].scatter(sc.obstime.mjd, sc.dec.deg, c=sc.obstime.mjd, marker='o')\n",
    "\n",
    "ax[0].set_xlabel('R.A. [deg]')\n",
    "ax[0].set_ylabel('Dec. [deg]')\n",
    "ax[1].set_xlabel('MJD')\n",
    "ax[1].set_ylabel('R.A. [deg]')\n",
    "ax[2].set_xlabel('MJD')\n",
    "ax[2].set_ylabel('Dec. [deg]')\n",
    "\n",
    "# Show the color bar\n",
    "cb = fig.colorbar(l, ax=ax[0], location='top');\n",
    "cb.set_label('MJD')"
   ]
  },
  {
   "cell_type": "markdown",
   "id": "ce100498-73eb-457a-b425-ce9d7cd74010",
   "metadata": {},
   "source": [
    "# Astroquery\n",
    "[Astroquery](https://astroquery.readthedocs.io/en/latest/) is a coordinated package of astropy.\n",
    "\n",
    "It provides easy access to many different [services](https://astroquery.readthedocs.io/en/latest/#available-services), [catalogs](https://astroquery.readthedocs.io/en/latest/#catalogs) and [archives](https://astroquery.readthedocs.io/en/latest/#archives) that follow Virtual Observatory standards. In particular it provides access to Simbad, Vizier, NED, Gaia, [ESASky](https://sky.esa.int/) and many others.\n",
    "\n",
    "Some [example](https://ioa-coding.github.io/codecorners/2017_10_24_CC02_astroquery.html)"
   ]
  },
  {
   "cell_type": "markdown",
   "id": "3116fbe8-ab03-433c-9515-2067dd03720f",
   "metadata": {},
   "source": [
    "## Vizier Table Discovery"
   ]
  },
  {
   "cell_type": "code",
   "execution_count": 62,
   "id": "2d605431-6610-4a48-b184-8f28bcd17033",
   "metadata": {},
   "outputs": [],
   "source": [
    "from astroquery.vizier import Vizier\n",
    "Vizier.ROW_LIMIT = -1"
   ]
  },
  {
   "cell_type": "code",
   "execution_count": 63,
   "id": "1b9fd54e-8afe-49b8-b1b7-b5f2683e1299",
   "metadata": {},
   "outputs": [
    {
     "data": {
      "text/plain": [
       "['J/ApJ/887/134: Classification of Fermi blazar cand. from the 4FGL (Kang+, 2019)',\n",
       " 'J/ApJS/247/33: The Fermi LAT fourth source catalog (4FGL) (Abdollahi+, 2020)']"
      ]
     },
     "execution_count": 63,
     "metadata": {},
     "output_type": "execute_result"
    }
   ],
   "source": [
    "catalog_list = Vizier.find_catalogs('fermi 4fgl')\n",
    "['{}: {}'.format(k, v.description) for k, v in catalog_list.items()]"
   ]
  },
  {
   "cell_type": "code",
   "execution_count": 64,
   "id": "70978ef9-cbc3-4888-a25e-0a5ff14d515a",
   "metadata": {},
   "outputs": [],
   "source": [
    "cat = Vizier.get_catalogs('J/ApJS/247/33')[0]"
   ]
  },
  {
   "cell_type": "code",
   "execution_count": 65,
   "id": "61a34c1e-9c20-4a79-b988-70235beca81f",
   "metadata": {},
   "outputs": [
    {
     "data": {
      "text/html": [
       "<div><i>Table length=5065</i>\n",
       "<table id=\"table139820697104352\" class=\"table-striped table-bordered table-condensed\">\n",
       "<thead><tr><th>_4FGL</th><th>RAJ2000</th><th>DEJ2000</th><th>amaj95</th><th>bmin95</th><th>PA95</th><th>Sig</th><th>F1000i</th><th>e_F1000i</th><th>EF100</th><th>e_EF100</th><th>Mod</th><th>PLGam</th><th>F50</th><th>F100</th><th>F300</th><th>F1000</th><th>F3000</th><th>F10000</th><th>F30000</th><th>VarInd</th><th>FGL</th><th>Cl1</th><th>Assoc1</th><th>Flags</th><th>LC</th><th>Simbad</th></tr></thead>\n",
       "<thead><tr><th></th><th>deg</th><th>deg</th><th>deg</th><th>deg</th><th>deg</th><th></th><th>ph/cm2/s</th><th>ph/cm2/s</th><th>mW / m2</th><th>mW / m2</th><th></th><th></th><th>ph/cm2/s</th><th>ph/cm2/s</th><th>ph/cm2/s</th><th>ph/cm2/s</th><th>ph/cm2/s</th><th>ph/cm2/s</th><th>ph/cm2/s</th><th></th><th></th><th></th><th></th><th></th><th></th><th></th></tr></thead>\n",
       "<thead><tr><th>str13</th><th>float64</th><th>float64</th><th>float32</th><th>float32</th><th>float32</th><th>float64</th><th>float64</th><th>float64</th><th>float64</th><th>float64</th><th>str16</th><th>float64</th><th>float64</th><th>float64</th><th>float64</th><th>float64</th><th>float64</th><th>float64</th><th>float64</th><th>float64</th><th>str18</th><th>str5</th><th>str28</th><th>int16</th><th>str2</th><th>str6</th></tr></thead>\n",
       "<tr><td>J0000.3-7355</td><td>0.0983</td><td>-73.9220</td><td>0.0525</td><td>0.0510</td><td>-62.70</td><td>7.39960</td><td>1.7195e-10</td><td>3.11e-11</td><td>1.9201e-12</td><td>3.5205e-13</td><td>PowerLaw</td><td>2.119125</td><td>7.5876e-09</td><td>1.5063e-11</td><td>4.7872e-10</td><td>1.2424e-10</td><td>4.5425e-11</td><td>1.0336e-11</td><td>1.8191e-15</td><td>8.664629</td><td></td><td></td><td></td><td>0</td><td>LC</td><td>Simbad</td></tr>\n",
       "<tr><td>J0001.2+4741</td><td>0.3126</td><td>47.6859</td><td>0.0598</td><td>0.0538</td><td>-45.90</td><td>4.19693</td><td>1.4253e-10</td><td>3.7062e-11</td><td>1.6308e-12</td><td>4.4813e-13</td><td>PowerLaw</td><td>2.198363</td><td>7.1512e-11</td><td>7.4824e-13</td><td>5.593e-10</td><td>1.2437e-10</td><td>2.5566e-11</td><td>3.4768e-12</td><td>2.7096e-12</td><td>17.288631</td><td></td><td>bcu</td><td>B3 2358+474</td><td>0</td><td>LC</td><td>Simbad</td></tr>\n",
       "<tr><td>J0001.2-0747</td><td>0.3151</td><td>-7.7971</td><td>0.0299</td><td>0.0285</td><td>64.10</td><td>22.74844</td><td>8.3974e-10</td><td>6.2108e-11</td><td>9.4402e-12</td><td>6.5065e-13</td><td>PowerLaw</td><td>2.148326</td><td>8.4597e-09</td><td>6.8728e-09</td><td>2.6623e-09</td><td>5.6417e-10</td><td>2.216e-10</td><td>2.711e-11</td><td>7.6465e-12</td><td>16.869194</td><td>3FGL J0001.2-0748</td><td>bll</td><td>PMN J0001-0746</td><td>0</td><td>LC</td><td>Simbad</td></tr>\n",
       "<tr><td>J0001.5+2113</td><td>0.3815</td><td>21.2183</td><td>0.0422</td><td>0.0389</td><td>-60.52</td><td>30.66605</td><td>9.6793e-10</td><td>6.6642e-11</td><td>1.926e-11</td><td>8.2096e-13</td><td>LogParabola</td><td>2.680171</td><td>6.0761e-08</td><td>3.663e-08</td><td>7.9707e-09</td><td>9.5297e-10</td><td>6.2162e-11</td><td>7.7393e-15</td><td>4.3677e-16</td><td>920.677429</td><td>3FGL J0001.4+2120</td><td>fsrq</td><td>TXS 2358+209</td><td>0</td><td>LC</td><td>Simbad</td></tr>\n",
       "<tr><td>J0001.6-4156</td><td>0.4165</td><td>-41.9425</td><td>0.0692</td><td>0.0525</td><td>44.09</td><td>11.46402</td><td>2.8089e-10</td><td>3.807e-11</td><td>3.3865e-12</td><td>4.914e-13</td><td>PowerLaw</td><td>1.833594</td><td>1.0303e-08</td><td>2.9368e-09</td><td>2.9817e-10</td><td>1.5496e-10</td><td>8.8553e-11</td><td>2.5096e-11</td><td>1.855e-11</td><td>13.750535</td><td>3FGL J0002.2-4152</td><td>bcu</td><td>2MASS J00013275-4155252</td><td>0</td><td>LC</td><td>Simbad</td></tr>\n",
       "<tr><td>J0002.1-6728</td><td>0.5378</td><td>-67.4746</td><td>0.0352</td><td>0.0311</td><td>52.51</td><td>11.55818</td><td>2.2861e-10</td><td>3.4612e-11</td><td>2.8218e-12</td><td>4.3319e-13</td><td>PowerLaw</td><td>1.801989</td><td>1.9193e-08</td><td>7.1023e-10</td><td>1.8881e-10</td><td>1.4783e-10</td><td>5.8441e-11</td><td>3.4022e-11</td><td>7.8335e-12</td><td>10.018329</td><td>3FGL J0002.0-6722</td><td>bcu</td><td>SUMSS J000215-672653</td><td>0</td><td>LC</td><td>Simbad</td></tr>\n",
       "<tr><td>J0002.1+6721</td><td>0.5419</td><td>67.3578</td><td>0.1200</td><td>0.0860</td><td>-82.10</td><td>6.70188</td><td>6.9245e-10</td><td>1.079e-10</td><td>6.1846e-12</td><td>1.6246e-12</td><td>LogParabola</td><td>2.600463</td><td>1.6352e-08</td><td>8.817e-09</td><td>2.2629e-09</td><td>6.2426e-10</td><td>6.6587e-11</td><td>2.0912e-14</td><td>1.2539e-16</td><td>6.027517</td><td></td><td>unk</td><td>1RXS J000209.4+672503</td><td>1</td><td>LC</td><td>Simbad</td></tr>\n",
       "<tr><td>J0002.8+6217</td><td>0.7201</td><td>62.2905</td><td>0.0268</td><td>0.0256</td><td>3.84</td><td>27.66865</td><td>2.5688e-09</td><td>1.2585e-10</td><td>1.8611e-11</td><td>1.5058e-12</td><td>PLSuperExpCutoff</td><td>2.473127</td><td>2.8459e-11</td><td>7.7343e-09</td><td>7.7631e-09</td><td>2.1263e-09</td><td>3.2921e-10</td><td>1.7073e-12</td><td>1.6273e-15</td><td>4.701815</td><td>3FGL J0002.6+6218</td><td>PSR</td><td>PSR J0002+6216</td><td>0</td><td>LC</td><td>Simbad</td></tr>\n",
       "<tr><td>J0003.1-5248</td><td>0.7817</td><td>-52.8071</td><td>0.0333</td><td>0.0305</td><td>-41.61</td><td>13.53024</td><td>3.008e-10</td><td>4.0237e-11</td><td>3.5973e-12</td><td>4.8939e-13</td><td>PowerLaw</td><td>1.845431</td><td>2.3694e-11</td><td>3.0677e-09</td><td>4.3229e-10</td><td>1.8042e-10</td><td>8.178e-11</td><td>3.1829e-11</td><td>1.1747e-11</td><td>5.567842</td><td>3FGL J0003.2-5246</td><td>bcu</td><td>RBS 0006</td><td>0</td><td>LC</td><td>Simbad</td></tr>\n",
       "<tr><td>J0003.2+2207</td><td>0.8058</td><td>22.1302</td><td>0.0974</td><td>0.0864</td><td>-75.21</td><td>4.19925</td><td>1.4516e-10</td><td>3.7338e-11</td><td>1.7323e-12</td><td>5.3179e-13</td><td>PowerLaw</td><td>2.275706</td><td>1.2774e-08</td><td>5.6709e-09</td><td>5.781e-10</td><td>1.7049e-11</td><td>6.3869e-11</td><td>3.3597e-12</td><td>1.0717e-17</td><td>4.735117</td><td></td><td>bll</td><td>2MASX J00032450+2204559</td><td>0</td><td>LC</td><td>Simbad</td></tr>\n",
       "<tr><td>J0003.3+2511</td><td>0.8323</td><td>25.1912</td><td>0.1021</td><td>0.0901</td><td>63.58</td><td>5.41502</td><td>1.9553e-10</td><td>4.0432e-11</td><td>2.2483e-12</td><td>4.5387e-13</td><td>PowerLaw</td><td>2.209443</td><td>1.984e-10</td><td>1.6015e-09</td><td>4.3734e-10</td><td>2.1226e-10</td><td>3.844e-11</td><td>7.3172e-12</td><td>6.1166e-14</td><td>2.575187</td><td></td><td></td><td></td><td>0</td><td>LC</td><td>Simbad</td></tr>\n",
       "<tr><td>J0003.3-1928</td><td>0.8465</td><td>-19.4676</td><td>0.0708</td><td>0.0614</td><td>-51.75</td><td>12.27820</td><td>3.9028e-10</td><td>4.9012e-11</td><td>2.5912e-12</td><td>4.2925e-13</td><td>LogParabola</td><td>2.240523</td><td>5.5479e-12</td><td>1.0152e-09</td><td>1.0348e-09</td><td>3.09e-10</td><td>7.0207e-11</td><td>4.1675e-12</td><td>2.1847e-15</td><td>42.141415</td><td></td><td>bcu</td><td>PKS 0000-197</td><td>0</td><td>LC</td><td>Simbad</td></tr>\n",
       "<tr><td>J0003.3-5905</td><td>0.8483</td><td>-59.0952</td><td>0.1291</td><td>0.0776</td><td>25.98</td><td>5.89674</td><td>1.3124e-10</td><td>2.7737e-11</td><td>1.6757e-12</td><td>3.4134e-13</td><td>PowerLaw</td><td>2.363246</td><td>4.0785e-10</td><td>3.8248e-09</td><td>3.7621e-10</td><td>1.131e-10</td><td>3.917e-11</td><td>1.9524e-15</td><td>8.6378e-16</td><td>3.440950</td><td></td><td>bcu</td><td>PMN J0003-5905</td><td>4</td><td>LC</td><td>Simbad</td></tr>\n",
       "<tr><td>J0003.6+3059</td><td>0.9045</td><td>30.9898</td><td>0.0810</td><td>0.0714</td><td>-83.55</td><td>10.79090</td><td>4.4342e-10</td><td>5.6666e-11</td><td>2.08e-12</td><td>3.2992e-13</td><td>LogParabola</td><td>2.223413</td><td>2.8834e-11</td><td>1.0418e-09</td><td>5.5333e-10</td><td>3.7956e-10</td><td>5.3044e-11</td><td>4.0559e-12</td><td>4.4167e-15</td><td>5.012474</td><td>3FGL J0003.4+3100</td><td></td><td></td><td>0</td><td>LC</td><td>Simbad</td></tr>\n",
       "<tr><td>J0003.9-1149</td><td>0.9986</td><td>-11.8251</td><td>0.0524</td><td>0.0499</td><td>-31.93</td><td>10.23394</td><td>2.8708e-10</td><td>4.0499e-11</td><td>3.2111e-12</td><td>4.4196e-13</td><td>PowerLaw</td><td>2.127715</td><td>3.2149e-13</td><td>1.2877e-09</td><td>7.0028e-10</td><td>2.6036e-10</td><td>6.3552e-11</td><td>1.3107e-11</td><td>2.5258e-20</td><td>4.723145</td><td>3FGL J0003.8-1151</td><td>bll</td><td>PMN J0004-1148</td><td>0</td><td>LC</td><td>Simbad</td></tr>\n",
       "<tr><td>J0004.0+5715</td><td>1.0017</td><td>57.2578</td><td>0.0852</td><td>0.0667</td><td>-8.21</td><td>7.60558</td><td>3.7844e-10</td><td>5.5553e-11</td><td>5.1948e-12</td><td>8.2698e-13</td><td>PowerLaw</td><td>2.437513</td><td>4.0879e-12</td><td>1.0116e-09</td><td>1.6265e-09</td><td>3.3948e-10</td><td>8.6771e-11</td><td>5.1415e-13</td><td>8.0563e-16</td><td>11.194632</td><td>3FGL J0003.5+5721</td><td></td><td></td><td>0</td><td>LC</td><td>Simbad</td></tr>\n",
       "<tr><td>...</td><td>...</td><td>...</td><td>...</td><td>...</td><td>...</td><td>...</td><td>...</td><td>...</td><td>...</td><td>...</td><td>...</td><td>...</td><td>...</td><td>...</td><td>...</td><td>...</td><td>...</td><td>...</td><td>...</td><td>...</td><td>...</td><td>...</td><td>...</td><td>...</td><td>...</td><td>...</td></tr>\n",
       "<tr><td>J2357.4-0152</td><td>359.3674</td><td>-1.8703</td><td>0.0751</td><td>0.0622</td><td>28.54</td><td>8.87683</td><td>2.8939e-10</td><td>4.3522e-11</td><td>3.4373e-12</td><td>4.7557e-13</td><td>PowerLaw</td><td>2.268485</td><td>2.3695e-09</td><td>4.3529e-09</td><td>6.3284e-10</td><td>3.422e-10</td><td>3.8897e-11</td><td>5.0251e-12</td><td>7.1862e-19</td><td>27.711256</td><td>3FGL J2357.3-0150</td><td>bll</td><td>PKS 2354-021</td><td>0</td><td>LC</td><td>Simbad</td></tr>\n",
       "<tr><td>J2357.4-1718</td><td>359.3705</td><td>-17.3108</td><td>0.0289</td><td>0.0255</td><td>-1.05</td><td>13.10556</td><td>2.9146e-10</td><td>4.374e-11</td><td>3.9358e-12</td><td>6.077e-13</td><td>PowerLaw</td><td>1.703070</td><td>1.4909e-12</td><td>4.0007e-09</td><td>2.1399e-10</td><td>1.3689e-10</td><td>1.1359e-10</td><td>3.1614e-11</td><td>2.4696e-11</td><td>4.921488</td><td>3FGL J2357.4-1716</td><td>bll</td><td>RBS 2066</td><td>0</td><td>LC</td><td>Simbad</td></tr>\n",
       "<tr><td>J2357.8-5311</td><td>359.4630</td><td>-53.1919</td><td>0.0490</td><td>0.0422</td><td>-76.55</td><td>15.11289</td><td>4.5793e-10</td><td>4.6041e-11</td><td>7.5916e-12</td><td>6.1489e-13</td><td>PowerLaw</td><td>2.592751</td><td>3.4629e-08</td><td>1.1046e-08</td><td>2.6193e-09</td><td>4.3633e-10</td><td>6.6008e-11</td><td>6.8955e-12</td><td>1.6053e-15</td><td>213.767548</td><td>3FGL J2357.8-5310</td><td>fsrq</td><td>PKS 2355-534</td><td>0</td><td>LC</td><td>Simbad</td></tr>\n",
       "<tr><td>J2357.8+6231</td><td>359.4717</td><td>62.5329</td><td>0.2521</td><td>0.1710</td><td>36.75</td><td>5.24927</td><td>4.0415e-10</td><td>7.6577e-11</td><td>9.231e-12</td><td>1.757e-12</td><td>PowerLaw</td><td>2.805107</td><td>1.3303e-10</td><td>1.9504e-08</td><td>4.1519e-09</td><td>3.1488e-10</td><td>4.9922e-11</td><td>5.602e-16</td><td>1.2638e-15</td><td>2.251833</td><td>3FGL J0001.0+6314</td><td>spp</td><td>SNR G116.9+00.2</td><td>18</td><td>LC</td><td>Simbad</td></tr>\n",
       "<tr><td>J2357.8+6839</td><td>359.4745</td><td>68.6617</td><td>0.0890</td><td>0.0774</td><td>8.77</td><td>5.11430</td><td>3.5982e-10</td><td>6.8878e-11</td><td>5.4685e-12</td><td>1.4189e-12</td><td>PowerLaw</td><td>2.525859</td><td>1.3657e-10</td><td>9.2039e-09</td><td>2.2483e-09</td><td>2.4868e-10</td><td>5.7892e-11</td><td>8.4617e-12</td><td>1.0105e-14</td><td>4.999248</td><td></td><td></td><td></td><td>0</td><td>LC</td><td>Simbad</td></tr>\n",
       "<tr><td>J2358.0-4601</td><td>359.5223</td><td>-46.0176</td><td>0.0555</td><td>0.0521</td><td>-27.23</td><td>10.98338</td><td>2.4167e-10</td><td>3.5218e-11</td><td>3.8013e-12</td><td>4.3676e-13</td><td>PowerLaw</td><td>2.553052</td><td>2.007e-08</td><td>6.1264e-09</td><td>1.5341e-09</td><td>1.3576e-10</td><td>3.3274e-11</td><td>1.3625e-11</td><td>1.4319e-16</td><td>23.737629</td><td>3FGL J2358.0-4552</td><td>bcu</td><td>PKS 2355-461</td><td>4</td><td>LC</td><td>Simbad</td></tr>\n",
       "<tr><td>J2358.1-2853</td><td>359.5498</td><td>-28.8936</td><td>0.0594</td><td>0.0535</td><td>-49.03</td><td>11.81303</td><td>3.2702e-10</td><td>4.1066e-11</td><td>3.7995e-12</td><td>4.3543e-13</td><td>PowerLaw</td><td>2.230390</td><td>3.6238e-13</td><td>1.1708e-11</td><td>1.2173e-09</td><td>2.5894e-10</td><td>8.4878e-11</td><td>1.5385e-14</td><td>1.5323e-15</td><td>3.141106</td><td>3FGL J2358.3-2853</td><td>bcu</td><td>PMN J2358-2853</td><td>0</td><td>LC</td><td>Simbad</td></tr>\n",
       "<tr><td>J2358.3-1021</td><td>359.5822</td><td>-10.3616</td><td>0.0663</td><td>0.0550</td><td>86.38</td><td>20.49250</td><td>6.4296e-10</td><td>5.4998e-11</td><td>1.0858e-11</td><td>6.4567e-13</td><td>PowerLaw</td><td>2.606263</td><td>4.8551e-08</td><td>1.9082e-08</td><td>4.4442e-09</td><td>5.033e-10</td><td>7.1103e-11</td><td>1.1222e-12</td><td>3.0844e-12</td><td>131.674850</td><td>3FGL J2358.2-1022</td><td>fsrq</td><td>PKS 2355-106</td><td>0</td><td>LC</td><td>Simbad</td></tr>\n",
       "<tr><td>J2358.3+3830</td><td>359.5883</td><td>38.5097</td><td>0.0402</td><td>0.0345</td><td>85.64</td><td>12.74541</td><td>4.6377e-10</td><td>5.1895e-11</td><td>5.2079e-12</td><td>5.8566e-13</td><td>PowerLaw</td><td>2.144288</td><td>7.1291e-10</td><td>2.2129e-09</td><td>1.5941e-09</td><td>3.1886e-10</td><td>9.5953e-11</td><td>3.201e-11</td><td>4.5124e-12</td><td>25.004208</td><td>3FGL J2358.5+3827</td><td>bll</td><td>B3 2355+382</td><td>0</td><td>LC</td><td>Simbad</td></tr>\n",
       "<tr><td>J2358.5-1808</td><td>359.6387</td><td>-18.1408</td><td>0.0268</td><td>0.0254</td><td>-78.27</td><td>17.62861</td><td>5.1287e-10</td><td>5.0167e-11</td><td>5.8973e-12</td><td>6.1853e-13</td><td>PowerLaw</td><td>1.914514</td><td>1.8596e-12</td><td>1.8603e-14</td><td>9.035e-10</td><td>3.4246e-10</td><td>1.6026e-10</td><td>5.1904e-11</td><td>6.4017e-12</td><td>16.163673</td><td>3FGL J2358.6-1809</td><td>bcu</td><td>1RXS J235836.3-180701</td><td>0</td><td>LC</td><td>Simbad</td></tr>\n",
       "<tr><td>J2359.0+3922</td><td>359.7548</td><td>39.3669</td><td>0.0602</td><td>0.0556</td><td>39.79</td><td>6.74468</td><td>2.3994e-10</td><td>4.3293e-11</td><td>2.8987e-12</td><td>5.7259e-13</td><td>PowerLaw</td><td>2.293797</td><td>1.1786e-11</td><td>6.8106e-09</td><td>7.9902e-10</td><td>2.0536e-10</td><td>3.7648e-11</td><td>1.666e-11</td><td>5.1955e-15</td><td>19.993589</td><td>3FGL J2358.9+3926</td><td>fsrq</td><td>B2 2356+39</td><td>0</td><td>LC</td><td>Simbad</td></tr>\n",
       "<tr><td>J2359.0-3038</td><td>359.7719</td><td>-30.6367</td><td>0.0228</td><td>0.0220</td><td>24.26</td><td>18.84129</td><td>5.3069e-10</td><td>4.9744e-11</td><td>6.0709e-12</td><td>5.986e-13</td><td>PowerLaw</td><td>1.926007</td><td>3.5033e-11</td><td>5.6355e-09</td><td>1.1567e-09</td><td>2.8462e-10</td><td>1.347e-10</td><td>5.8426e-11</td><td>2.2602e-11</td><td>1.766203</td><td>3FGL J2359.3-3038</td><td>bll</td><td>H 2356-309</td><td>0</td><td>LC</td><td>Simbad</td></tr>\n",
       "<tr><td>J2359.1+1719</td><td>359.7756</td><td>17.3225</td><td>0.0542</td><td>0.0507</td><td>-18.99</td><td>5.24614</td><td>1.4034e-10</td><td>3.4145e-11</td><td>1.5638e-12</td><td>3.8006e-13</td><td>PowerLaw</td><td>2.017385</td><td>1.7607e-10</td><td>8.0949e-15</td><td>1.4912e-10</td><td>1.5756e-10</td><td>2.3298e-11</td><td>1.0247e-11</td><td>3.0543e-12</td><td>9.075151</td><td></td><td>bcu</td><td>NVSS J235901+171926</td><td>0</td><td>LC</td><td>Simbad</td></tr>\n",
       "<tr><td>J2359.3-2049</td><td>359.8357</td><td>-20.8189</td><td>0.0399</td><td>0.0348</td><td>-73.90</td><td>12.16257</td><td>3.2517e-10</td><td>4.1334e-11</td><td>3.6196e-12</td><td>4.6775e-13</td><td>PowerLaw</td><td>2.025218</td><td>1.0499e-08</td><td>3.607e-09</td><td>6.4834e-10</td><td>2.2466e-10</td><td>6.5621e-11</td><td>3.2801e-11</td><td>8.9078e-12</td><td>11.047518</td><td>3FGL J2359.5-2052</td><td>bll</td><td>TXS 2356-210</td><td>0</td><td>LC</td><td>Simbad</td></tr>\n",
       "<tr><td>J2359.3+1444</td><td>359.8390</td><td>14.7498</td><td>0.2217</td><td>0.1433</td><td>-65.40</td><td>5.32619</td><td>1.6422e-10</td><td>3.7694e-11</td><td>2.5425e-12</td><td>4.8641e-13</td><td>PowerLaw</td><td>2.540642</td><td>7.3739e-09</td><td>7.5307e-10</td><td>1.0319e-09</td><td>2.0374e-10</td><td>1.3975e-11</td><td>7.7641e-15</td><td>1.7848e-19</td><td>13.979377</td><td></td><td></td><td></td><td>0</td><td>LC</td><td>Simbad</td></tr>\n",
       "<tr><td>J2359.9-3736</td><td>359.9816</td><td>-37.6160</td><td>0.0823</td><td>0.0706</td><td>-58.77</td><td>8.28362</td><td>1.9468e-10</td><td>3.2657e-11</td><td>2.1684e-12</td><td>3.6956e-13</td><td>PowerLaw</td><td>2.020391</td><td>1.3489e-11</td><td>4.4498e-10</td><td>3.9013e-10</td><td>1.3625e-10</td><td>6.1639e-11</td><td>7.7533e-12</td><td>3.3144e-12</td><td>4.231051</td><td>3FGL J0000.2-3738</td><td>bcu</td><td>NVSS J000008-373819</td><td>0</td><td>LC</td><td>Simbad</td></tr>\n",
       "</table></div>"
      ],
      "text/plain": [
       "<Table length=5065>\n",
       "   _4FGL     RAJ2000  DEJ2000   amaj95  bmin95   PA95  ... Cl1           Assoc1         Flags  LC  Simbad\n",
       "               deg      deg      deg     deg     deg   ...                                               \n",
       "   str13     float64  float64  float32 float32 float32 ... str5          str28          int16 str2  str6 \n",
       "------------ -------- -------- ------- ------- ------- ... ---- ----------------------- ----- ---- ------\n",
       "J0000.3-7355   0.0983 -73.9220  0.0525  0.0510  -62.70 ...                                  0   LC Simbad\n",
       "J0001.2+4741   0.3126  47.6859  0.0598  0.0538  -45.90 ...  bcu             B3 2358+474     0   LC Simbad\n",
       "J0001.2-0747   0.3151  -7.7971  0.0299  0.0285   64.10 ...  bll          PMN J0001-0746     0   LC Simbad\n",
       "J0001.5+2113   0.3815  21.2183  0.0422  0.0389  -60.52 ... fsrq            TXS 2358+209     0   LC Simbad\n",
       "J0001.6-4156   0.4165 -41.9425  0.0692  0.0525   44.09 ...  bcu 2MASS J00013275-4155252     0   LC Simbad\n",
       "J0002.1-6728   0.5378 -67.4746  0.0352  0.0311   52.51 ...  bcu    SUMSS J000215-672653     0   LC Simbad\n",
       "J0002.1+6721   0.5419  67.3578  0.1200  0.0860  -82.10 ...  unk   1RXS J000209.4+672503     1   LC Simbad\n",
       "J0002.8+6217   0.7201  62.2905  0.0268  0.0256    3.84 ...  PSR          PSR J0002+6216     0   LC Simbad\n",
       "J0003.1-5248   0.7817 -52.8071  0.0333  0.0305  -41.61 ...  bcu                RBS 0006     0   LC Simbad\n",
       "J0003.2+2207   0.8058  22.1302  0.0974  0.0864  -75.21 ...  bll 2MASX J00032450+2204559     0   LC Simbad\n",
       "J0003.3+2511   0.8323  25.1912  0.1021  0.0901   63.58 ...                                  0   LC Simbad\n",
       "J0003.3-1928   0.8465 -19.4676  0.0708  0.0614  -51.75 ...  bcu            PKS 0000-197     0   LC Simbad\n",
       "J0003.3-5905   0.8483 -59.0952  0.1291  0.0776   25.98 ...  bcu          PMN J0003-5905     4   LC Simbad\n",
       "J0003.6+3059   0.9045  30.9898  0.0810  0.0714  -83.55 ...                                  0   LC Simbad\n",
       "J0003.9-1149   0.9986 -11.8251  0.0524  0.0499  -31.93 ...  bll          PMN J0004-1148     0   LC Simbad\n",
       "J0004.0+5715   1.0017  57.2578  0.0852  0.0667   -8.21 ...                                  0   LC Simbad\n",
       "         ...      ...      ...     ...     ...     ... ...  ...                     ...   ...  ...    ...\n",
       "J2357.4-0152 359.3674  -1.8703  0.0751  0.0622   28.54 ...  bll            PKS 2354-021     0   LC Simbad\n",
       "J2357.4-1718 359.3705 -17.3108  0.0289  0.0255   -1.05 ...  bll                RBS 2066     0   LC Simbad\n",
       "J2357.8-5311 359.4630 -53.1919  0.0490  0.0422  -76.55 ... fsrq            PKS 2355-534     0   LC Simbad\n",
       "J2357.8+6231 359.4717  62.5329  0.2521  0.1710   36.75 ...  spp         SNR G116.9+00.2    18   LC Simbad\n",
       "J2357.8+6839 359.4745  68.6617  0.0890  0.0774    8.77 ...                                  0   LC Simbad\n",
       "J2358.0-4601 359.5223 -46.0176  0.0555  0.0521  -27.23 ...  bcu            PKS 2355-461     4   LC Simbad\n",
       "J2358.1-2853 359.5498 -28.8936  0.0594  0.0535  -49.03 ...  bcu          PMN J2358-2853     0   LC Simbad\n",
       "J2358.3-1021 359.5822 -10.3616  0.0663  0.0550   86.38 ... fsrq            PKS 2355-106     0   LC Simbad\n",
       "J2358.3+3830 359.5883  38.5097  0.0402  0.0345   85.64 ...  bll             B3 2355+382     0   LC Simbad\n",
       "J2358.5-1808 359.6387 -18.1408  0.0268  0.0254  -78.27 ...  bcu   1RXS J235836.3-180701     0   LC Simbad\n",
       "J2359.0+3922 359.7548  39.3669  0.0602  0.0556   39.79 ... fsrq              B2 2356+39     0   LC Simbad\n",
       "J2359.0-3038 359.7719 -30.6367  0.0228  0.0220   24.26 ...  bll              H 2356-309     0   LC Simbad\n",
       "J2359.1+1719 359.7756  17.3225  0.0542  0.0507  -18.99 ...  bcu     NVSS J235901+171926     0   LC Simbad\n",
       "J2359.3-2049 359.8357 -20.8189  0.0399  0.0348  -73.90 ...  bll            TXS 2356-210     0   LC Simbad\n",
       "J2359.3+1444 359.8390  14.7498  0.2217  0.1433  -65.40 ...                                  0   LC Simbad\n",
       "J2359.9-3736 359.9816 -37.6160  0.0823  0.0706  -58.77 ...  bcu     NVSS J000008-373819     0   LC Simbad"
      ]
     },
     "execution_count": 65,
     "metadata": {},
     "output_type": "execute_result"
    }
   ],
   "source": [
    "cat"
   ]
  },
  {
   "cell_type": "markdown",
   "id": "4ac86db8-b2bf-401b-bf1f-e0911254846e",
   "metadata": {},
   "source": [
    "Good! Note that the tables contain unit information, so there will be no ambiguity when using the data from Vizier tables. But we can get more information, in particular the description of each column."
   ]
  },
  {
   "cell_type": "code",
   "execution_count": 66,
   "id": "92110856-0f77-4045-abf1-ca54aba60c92",
   "metadata": {},
   "outputs": [
    {
     "data": {
      "text/plain": [
       "<Table length=5065>\n",
       "  name    dtype    unit    format                                                    description                                                   n_bad\n",
       "-------- ------- -------- -------- --------------------------------------------------------------------------------------------------------------- -----\n",
       "   _4FGL   str13                                                                           The 4FGL name (JHHMM.m+DDMM[c/e/i/s]) (Source_Name) (1)     0\n",
       " RAJ2000 float64      deg  {:8.4f}                                                                               Right ascension (J2000) (RAJ2000)     0\n",
       " DEJ2000 float64      deg  {:8.4f}                                                                                   Declination (J2000) (DEJ2000)     0\n",
       "  amaj95 float32      deg  {:7.4f}                                 [0.006/1.3]? Long radius of error ellipse at 95% confidence (Conf_95_SemiMajor)    76\n",
       "  bmin95 float32      deg  {:7.4f}                                [0.006/0.7]? Short radius of error ellipse at 95% confidence (Conf_95_SemiMinor)    76\n",
       "    PA95 float32      deg  {:6.2f}                                    [-90/90]? Position angle of error ellipse at 95% confidence (Conf_95_PosAng)    76\n",
       "     Sig float64           {:9.5f}                         [4/793]? Source significance in {sigma} units over the 100MeV to 1TeV band (Signif_Avg)     1\n",
       "  F1000i float64 ph/cm2/s {:12.5g}                                               [8.8e-12/1.4e-6] Integral photon flux from 1 to 100GeV (Flux1000)     0\n",
       "e_F1000i float64 ph/cm2/s {:12.5g}                                                       [4.9e-12/4.4e-9]? 1{sigma} error on F1000i (Unc_Flux1000)     1\n",
       "   EF100 float64  mW / m2 {:12.5g} [5.9e-13/9.4e-9] Energy flux from 100MeV to 100GeV obtained by spectral fitting in erg/cm^2^/s (Energy_Flux100)     0\n",
       " e_EF100 float64  mW / m2 {:12.5g}                                                 [1.5e-13/3.3e-11]? 1{sigma} error on EF100 (Unc_Energy_Flux100)     1\n",
       "     Mod   str16                                   Spectral type in the global model (\"PowerLaw\", \"LogParabola\", \"PLSuperExpCutoff\") (SpetrumType)     0\n",
       "   PLGam float64           {:9.6f}                                                   [0.9/3.9]? Photon index when fitting with PowerLaw (PL_Index)     1\n",
       "     F50 float64 ph/cm2/s {:12.5g}                                            [6e-20/6e-6] Integral photon flux in 50-100MeV (Band 1) (Flux_Band1)     0\n",
       "    F100 float64 ph/cm2/s {:12.5g}                                        [2.4e-18/6.1e-6]Integral photon flux in 100-300MeV (Band 2) (Flux_Band2)     0\n",
       "    F300 float64 ph/cm2/s {:12.5g}                                      [3.8e-22/3.5e-6] Integral photon flux in 300Mev-1GeV (Band 3) (Flux_Band3)     0\n",
       "   F1000 float64 ph/cm2/s {:12.5g}                                           [4.8e-20/1.2e-6] Integral photon flux in 1-3GeV (Band 4) (Flux_Band4)     0\n",
       "   F3000 float64 ph/cm2/s {:12.5g}                                          [5.8e-20/2.3e-7] Integral photon flux in 3-10GeV (Band 5) (Flux_Band5)     0\n",
       "  F10000 float64 ph/cm2/s {:12.5g}                                           [3e-24/1.2e-8] Integral photon flux in 10-30GeV (Band 6) (Flux_Band6)     0\n",
       "  F30000 float64 ph/cm2/s {:12.5g}                                        [5.5e-24/2.4e-9] Integral photon flux in 30-300GeV (Band 7) (Flux_Band7)     0\n",
       "  VarInd float64          {:12.6f}                                                                [0.3/50906]? Variability (Variability_Index) (5)     1\n",
       "     FGL   str18                                                    Most recent correspondence to previous FGL source catalogs, if any (ASSOC_FGL)     0\n",
       "     Cl1    str5                                                                Class designation for associated source; see Table 7 (CLASS1) (10)     0\n",
       "  Assoc1   str28                                                                                    Name of identified or likely associated source     0\n",
       "   Flags   int16                                                           [0/2320] Source flags (binary coding as in Table 5) (0=no warning) (14)     0\n",
       "      LC    str2                                                                                   2-month and 1-year light curves for this source     0\n",
       "  Simbad    str6                                                                                                    Simbad column added by the CDS     0"
      ]
     },
     "execution_count": 66,
     "metadata": {},
     "output_type": "execute_result"
    }
   ],
   "source": [
    "cat.info"
   ]
  },
  {
   "cell_type": "code",
   "execution_count": 67,
   "id": "974d17e8-8e39-4d83-8e71-8adca5c94cf3",
   "metadata": {},
   "outputs": [
    {
     "data": {
      "image/png": "[encoded data removed]",
      "text/plain": [
       "<Figure size 720x432 with 1 Axes>"
      ]
     },
     "metadata": {
      "needs_background": "light"
     },
     "output_type": "display_data"
    }
   ],
   "source": [
    "from astropy.coordinates import SkyCoord\n",
    "\n",
    "ra_deg = Angle(cat['RAJ2000'])\n",
    "de_deg = Angle(cat['DEJ2000'])\n",
    "ra_deg = ra_deg.wrap_at('180d')\n",
    "\n",
    "fig = plt.figure(figsize=(10,6))\n",
    "ax = fig.add_subplot(111, projection=\"mollweide\")\n",
    "ax.scatter(ra_deg.rad, de_deg.rad, s=1)\n",
    "ax.set_xticklabels(['14h','16h','18h','20h','22h','0h','2h','4h','6h','8h','10h'])\n",
    "ax.grid(True)"
   ]
  },
  {
   "cell_type": "markdown",
   "id": "8cd8e044-8af2-460d-96fd-7f067d76835c",
   "metadata": {},
   "source": [
    "### ⛏ Exercise\n",
    "- Search Vizier catalogs related to the keyword `carmenes` (or any other you are interested).\n",
    "- Select the ID of the catalog named \"324 CARMENES M dwarfs velocities\" and download the first table.\n",
    "- Use `info` to find out the name of the columns with the coordinates.\n",
    "- Find out the minimum, maximum and mean period in the sources in this catalog.\n",
    "- Make an all-sky plot of the sources in this catalog."
   ]
  },
  {
   "cell_type": "code",
   "execution_count": 68,
   "id": "d2439287-ed1c-4a81-b48b-0021afd878e9",
   "metadata": {},
   "outputs": [
    {
     "name": "stderr",
     "output_type": "stream",
     "text": [
      "WARNING: UnitsWarning: Unit 'Msun' not supported by the VOUnit standard.  [astropy.units.format.vounit]\n",
      "WARNING: UnitsWarning: The unit 'a' has been deprecated in the VOUnit standard. Suggested: 365.25d. [astropy.units.format.utils]\n",
      "WARNING: UnitsWarning: Unit 'Lsun' not supported by the VOUnit standard.  [astropy.units.format.vounit]\n",
      "WARNING: UnitsWarning: Unit 'Rsun' not supported by the VOUnit standard.  [astropy.units.format.vounit]\n"
     ]
    },
    {
     "data": {
      "text/plain": [
       "['J/ApJ/900/42: CARMENES obs. of the binary system LB-1 (Liu+, 2020)',\n",
       " 'J/A+A/577/A128: CARMENES input catalogue of M dwarfs. I (Alonso-Floriano+, 2015)',\n",
       " 'J/A+A/597/A47: CARMENES input catalogue of M dwarfs II (Cortes-Contreras+ 2017)',\n",
       " 'J/A+A/609/A117: CARMENES radial velocity curves of 7 M-dwarf (Trifonov+, 2018)',\n",
       " 'J/A+A/609/L5: HD147379 b velocity curve (Reiners+, 2018)',\n",
       " 'J/A+A/612/A49: 324 CARMENES M dwarfs velocities (Reiners+, 2018)',\n",
       " 'J/A+A/614/A76: CARMENES input catalogue of M dwarfs. III. (Jeffers+, 2018)',\n",
       " 'J/A+A/614/A122: Radial-velocity of CARMENES M dwarfs (Tal-Or+, 2018)',\n",
       " 'J/A+A/615/A6: Photospheric parameters of CARMENES stars (Passegger+, 2018)',\n",
       " 'J/A+A/618/A115: HD 147379 radial velocities (Kaminski+, 2018)',\n",
       " 'J/A+A/619/A32: CARMENES SB2 orbital parameters (Baroch+, 2018)',\n",
       " 'J/A+A/620/A171: Radial velocities of GJ 3779 and GJ 1265 (Luque+, 2018)',\n",
       " 'J/A+A/621/A49: K2-18 HARPS time-series (Cloutier+, 2019)',\n",
       " 'J/A+A/621/A126: CARMENES input catalogue of M dwarfs. IV. (Diez Alonso+ 2019)',\n",
       " 'J/A+A/622/A153: GJ 4276 radial velocity curve (Nagel+, 2019)',\n",
       " 'J/A+A/623/A44: CARMENES M-dwarfs activity indicators (Schoefer+, 2019)',\n",
       " 'J/A+A/624/A123: Gl 49 radial velocities and activity indicators (Perger+, 2019)',\n",
       " 'J/A+A/625/A68: Radii and masses of the CARMENES targets (Schweitzer+, 2019)',\n",
       " \"J/A+A/627/A49: Teegarden's Star RV and H{alpha} curves (Zechmeister+, 2019)\",\n",
       " 'J/A+A/627/A116: LSPM J2116+0234 and GJ 686 radial velocities (Lalitha+, 2019)',\n",
       " 'J/A+A/627/A161: CARMENES stars multi wavelength measurements (Passegger+, 2019)',\n",
       " 'J/A+A/632/A24: HeI IR triplet measurements for M dwarfs (Fuhrmeister+, 2019)',\n",
       " 'J/A+A/636/A36: Absolute radial velocities of CARMENES M dwarfs (Lafarga+, 2020)',\n",
       " 'J/A+A/636/A119: YZ Ceti CARMENES and HARPS radial velocity curve (Stock+, 2020)',\n",
       " 'J/A+A/637/A93: HD 79211 CARMENES radial velocities (Gonzalez-Alvarez+, 2020)',\n",
       " 'J/A+A/640/A52: M dwarfs HeI infrared triplet variability (Fuhrmeister+, 2020)',\n",
       " 'J/A+A/642/A115: CARMENES input catalogue of M dwarfs. V. (Cifuentes+, 2020)',\n",
       " 'J/A+A/643/A112: CARMENES VIS RVs of 3 M dwarfs (Stock+, 2020)',\n",
       " 'J/A+A/644/A127: LP714-47 (TOI 442) radial velocity curve (Dreizler+, 2020)',\n",
       " 'J/A+A/648/A20: GJ 740 radial velocities (Toledo-Padron+, 2021)',\n",
       " 'J/A+A/649/L12: GJ 1151 radial velocity curve (Perger+, 2021)',\n",
       " 'J/A+A/650/A188: G 264-012 and Gl 393 radial velocity curves (Amado+, 2021)',\n",
       " 'J/A+A/652/A28: Activity indicators across the M dwarf domain (Lafarga+, 2021)',\n",
       " 'J/A+A/652/A116: CARMENES time-resolved CaII H&K catalog (Perdelwitz+, 2021)',\n",
       " 'J/A+A/654/A118: Vanadium measurements for 135 M dwarfs (Shan+, 2021)',\n",
       " 'J/A+A/656/A162: CARMENES stellar atmospheric parameters (Marfil+, 2021)',\n",
       " 'J/A+A/657/A125: KI diagnostic capabilities for M dwarfs (Fuhrmeister+, 2022)',\n",
       " 'J/AJ/155/257: Photometry & RV follow-up observations of K2-18 (Sarkis+, 2018)']"
      ]
     },
     "execution_count": 68,
     "metadata": {},
     "output_type": "execute_result"
    }
   ],
   "source": [
    "catalog_list = Vizier.find_catalogs('carmenes')\n",
    "['{}: {}'.format(k, v.description) for k, v in catalog_list.items()]"
   ]
  },
  {
   "cell_type": "code",
   "execution_count": 69,
   "id": "8e7e17c6-dd12-4de7-a2cd-e7e1eff8a138",
   "metadata": {},
   "outputs": [
    {
     "name": "stderr",
     "output_type": "stream",
     "text": [
      "WARNING: UnitsWarning: Unit 'Msun' not supported by the VOUnit standard.  [astropy.units.format.vounit]\n"
     ]
    }
   ],
   "source": [
    "carmenes = Vizier.get_catalogs('J/A+A/612/A49')[0]"
   ]
  },
  {
   "cell_type": "code",
   "execution_count": 70,
   "id": "376d3287-b80f-4853-be58-9bc3ef2da4e4",
   "metadata": {},
   "outputs": [
    {
     "data": {
      "text/html": [
       "<div><i>Table length=324</i>\n",
       "<table id=\"table139820664306608\" class=\"table-striped table-bordered table-condensed\">\n",
       "<thead><tr><th>Seq</th><th>ID</th><th>GJ</th><th>Name</th><th>SpType</th><th>Jmag</th><th>Mass</th><th>RV</th><th>Per</th><th>r_Per</th><th>l_vsini</th><th>vsini</th><th>l_Pvsini</th><th>Pvsini</th><th>l_i</th><th>i</th><th>logLHa_Lbol</th><th>SimbadName</th><th>_RA</th><th>_DE</th></tr></thead>\n",
       "<thead><tr><th></th><th></th><th></th><th></th><th></th><th>mag</th><th>Msun</th><th>km / s</th><th>d</th><th></th><th></th><th>km / s</th><th></th><th>d</th><th></th><th>deg</th><th>[-]</th><th></th><th>deg</th><th>deg</th></tr></thead>\n",
       "<thead><tr><th>int16</th><th>str11</th><th>str6</th><th>str23</th><th>str4</th><th>float32</th><th>float32</th><th>float64</th><th>float32</th><th>str6</th><th>str1</th><th>float32</th><th>str1</th><th>float32</th><th>str2</th><th>int16</th><th>float32</th><th>str23</th><th>float64</th><th>float64</th></tr></thead>\n",
       "<tr><td>1</td><td>J00051+457</td><td>2</td><td>GJ 2</td><td>M1.0</td><td>6.70</td><td>0.56</td><td>-0.392</td><td>--</td><td></td><td>&lt;</td><td>2.0</td><td>&gt;</td><td>13.30</td><td></td><td>--</td><td>--</td><td>GJ 2</td><td>1.29537</td><td>45.78657</td></tr>\n",
       "<tr><td>2</td><td>J00067-075</td><td>1002</td><td>GJ 1002</td><td>M5.5</td><td>8.32</td><td>0.11</td><td>-40.058</td><td>--</td><td></td><td>&lt;</td><td>2.0</td><td>&gt;</td><td>3.50</td><td></td><td>--</td><td>-4.83</td><td>GJ 1002</td><td>1.67999</td><td>-7.53806</td></tr>\n",
       "<tr><td>3</td><td>J00162+198E</td><td>1006B</td><td>LP 404-062</td><td>M4.0</td><td>8.89</td><td>0.30</td><td>-1.457</td><td>104.00</td><td>Irw11</td><td>&lt;</td><td>2.0</td><td>&gt;</td><td>7.40</td><td>&lt;=</td><td>90</td><td>--</td><td>LP 404-062</td><td>4.06730</td><td>19.86402</td></tr>\n",
       "<tr><td>4</td><td>J00183+440</td><td>15A</td><td>GX And</td><td>M1.0</td><td>5.25</td><td>0.45</td><td>11.671</td><td>--</td><td></td><td>&lt;</td><td>2.0</td><td>&gt;</td><td>10.50</td><td></td><td>--</td><td>--</td><td>GX And</td><td>4.59535</td><td>44.02295</td></tr>\n",
       "<tr><td>5</td><td>J00184+440</td><td>15B</td><td>GQ And</td><td>M3.5</td><td>6.79</td><td>0.16</td><td>10.876</td><td>--</td><td></td><td>&lt;</td><td>2.0</td><td>&gt;</td><td>4.60</td><td></td><td>--</td><td>--</td><td>GQ And</td><td>4.60760</td><td>44.02725</td></tr>\n",
       "<tr><td>6</td><td>J00286-066</td><td>1012</td><td>GJ 1012</td><td>M4.0</td><td>8.04</td><td>0.39</td><td>-12.531</td><td>--</td><td></td><td>&lt;</td><td>2.0</td><td>&gt;</td><td>9.10</td><td></td><td>--</td><td>--</td><td>GJ 1012</td><td>7.16444</td><td>-6.66366</td></tr>\n",
       "<tr><td>7</td><td>J00389+306</td><td>26</td><td>Wolf 1056</td><td>M2.5</td><td>7.45</td><td>0.47</td><td>-0.499</td><td>--</td><td></td><td>&lt;</td><td>2.0</td><td>&gt;</td><td>11.10</td><td></td><td>--</td><td>--</td><td>Wolf 1056</td><td>9.74602</td><td>30.61622</td></tr>\n",
       "<tr><td>8</td><td>J00570+450</td><td></td><td>G 172-030</td><td>M3.0</td><td>8.10</td><td>0.39</td><td>6.396</td><td>--</td><td></td><td>&lt;</td><td>2.0</td><td>&gt;</td><td>9.30</td><td></td><td>--</td><td>--</td><td>G 172-030</td><td>14.26122</td><td>45.08605</td></tr>\n",
       "<tr><td>9</td><td>J01013+613</td><td>47</td><td>GJ 47</td><td>M2.0</td><td>7.27</td><td>0.44</td><td>7.426</td><td>--</td><td></td><td>&lt;</td><td>2.0</td><td>&gt;</td><td>10.40</td><td></td><td>--</td><td>-4.47</td><td>GJ 47</td><td>15.33354</td><td>61.36574</td></tr>\n",
       "<tr><td>10</td><td>J01019+541</td><td>3069</td><td>G 218-020</td><td>M5.0</td><td>9.78</td><td>0.13</td><td>-6.127</td><td>0.28</td><td>New16a</td><td></td><td>30.6</td><td></td><td>0.25</td><td></td><td>90</td><td>-3.76</td><td>G 218-020</td><td>15.49789</td><td>54.18270</td></tr>\n",
       "<tr><td>11</td><td>J01025+716</td><td>48</td><td>BD+70 68b</td><td>M3.0</td><td>6.30</td><td>0.51</td><td>1.362</td><td>--</td><td></td><td>&lt;</td><td>2.0</td><td>&gt;</td><td>12.10</td><td></td><td>--</td><td>--</td><td>BD+70 68b</td><td>15.63431</td><td>71.67981</td></tr>\n",
       "<tr><td>12</td><td>J01026+623</td><td>49</td><td>BD+61 195</td><td>M1.5</td><td>6.23</td><td>0.60</td><td>-6.131</td><td>--</td><td></td><td>&lt;</td><td>2.0</td><td>&gt;</td><td>14.10</td><td></td><td>--</td><td>--</td><td>BD+61 195</td><td>15.66195</td><td>62.34505</td></tr>\n",
       "<tr><td>13</td><td>J01033+623</td><td>51</td><td>V388 Cas</td><td>M5.0</td><td>8.61</td><td>0.20</td><td>-6.291</td><td>1.06</td><td>Irw11</td><td></td><td>10.5</td><td></td><td>1.10</td><td></td><td>90</td><td>-3.54</td><td>V388 Cas</td><td>15.83264</td><td>62.36551</td></tr>\n",
       "<tr><td>14</td><td>J01048-181</td><td>1028</td><td>GJ 1028</td><td>M5.0</td><td>9.39</td><td>0.14</td><td>11.407</td><td>--</td><td></td><td>&lt;</td><td>2.0</td><td>&gt;</td><td>4.00</td><td></td><td>--</td><td>--</td><td>GJ 1028</td><td>16.22418</td><td>-18.12462</td></tr>\n",
       "<tr><td>15</td><td>J01125-169</td><td>54.1</td><td>YZ Cet</td><td>M4.5</td><td>7.26</td><td>0.13</td><td>27.984</td><td>69.20</td><td>SM16</td><td>&lt;</td><td>2.0</td><td>&gt;</td><td>3.90</td><td>&lt;=</td><td>90</td><td>-4.32</td><td>YZ Cet</td><td>18.12765</td><td>-16.99899</td></tr>\n",
       "<tr><td>16</td><td>J01339-176</td><td></td><td>LP 768-113</td><td>M4.0</td><td>8.84</td><td>0.25</td><td>6.292</td><td>--</td><td></td><td>&lt;</td><td>2.0</td><td>&gt;</td><td>6.50</td><td></td><td>--</td><td>-4.15</td><td>LP 768-113</td><td>23.49167</td><td>-17.63995</td></tr>\n",
       "<tr><td>...</td><td>...</td><td>...</td><td>...</td><td>...</td><td>...</td><td>...</td><td>...</td><td>...</td><td>...</td><td>...</td><td>...</td><td>...</td><td>...</td><td>...</td><td>...</td><td>...</td><td>...</td><td>...</td><td>...</td></tr>\n",
       "<tr><td>309</td><td>J22559+178</td><td>4306</td><td>StKM 1-206</td><td>M1.0</td><td>7.32</td><td>0.60</td><td>-32.059</td><td>--</td><td></td><td>&lt;</td><td>2.0</td><td>&gt;</td><td>14.10</td><td></td><td>--</td><td>--</td><td>StKM 1-206</td><td>28.21378</td><td>4.83271</td></tr>\n",
       "<tr><td>310</td><td>J22565+165</td><td>880</td><td>HD 216899</td><td>M1.5</td><td>5.36</td><td>0.60</td><td>-27.490</td><td>37.50</td><td>SM15</td><td>&lt;</td><td>2.0</td><td>&gt;</td><td>14.20</td><td>&lt;=</td><td>90</td><td>--</td><td>HD 216899</td><td>344.14502</td><td>16.55343</td></tr>\n",
       "<tr><td>311</td><td>J23064-050</td><td></td><td>2MUCD 12171</td><td>M8.0</td><td>11.35</td><td>0.09</td><td>-53.362</td><td>--</td><td></td><td>&lt;</td><td>2.0</td><td>&gt;</td><td>2.70</td><td></td><td>--</td><td>-4.70</td><td>2MUCD 12171</td><td>346.62237</td><td>-5.04140</td></tr>\n",
       "<tr><td>312</td><td>J23113+085</td><td></td><td>NLTT 56083</td><td>M3.5</td><td>8.47</td><td>0.33</td><td>-10.873</td><td>--</td><td></td><td>&lt;</td><td>2.0</td><td>&gt;</td><td>7.90</td><td></td><td>--</td><td>--</td><td>NLTT 56083</td><td>347.84908</td><td>8.51704</td></tr>\n",
       "<tr><td>313</td><td>J23216+172</td><td>4333</td><td>LP 462-027</td><td>M4.0</td><td>7.39</td><td>0.44</td><td>-6.591</td><td>--</td><td></td><td>&lt;</td><td>2.0</td><td>&gt;</td><td>10.30</td><td></td><td>--</td><td>--</td><td>LP 462-027</td><td>350.40603</td><td>17.29039</td></tr>\n",
       "<tr><td>314</td><td>J23245+578</td><td>895</td><td>BD+57 2735</td><td>M1.0</td><td>6.79</td><td>0.61</td><td>-33.336</td><td>--</td><td></td><td>&lt;</td><td>2.0</td><td>&gt;</td><td>14.30</td><td></td><td>--</td><td>--</td><td>BD+57 2735</td><td>351.12714</td><td>57.85431</td></tr>\n",
       "<tr><td>315</td><td>J23340+001</td><td>899</td><td>GJ 899</td><td>M2.5</td><td>7.66</td><td>0.48</td><td>-4.704</td><td>--</td><td></td><td>&lt;</td><td>2.0</td><td>&gt;</td><td>11.20</td><td></td><td>--</td><td>--</td><td>GJ 899</td><td>353.51389</td><td>0.17941</td></tr>\n",
       "<tr><td>316</td><td>J23351-023</td><td>1286</td><td>GJ 1286</td><td>M5.5</td><td>9.15</td><td>0.12</td><td>-41.013</td><td>--</td><td></td><td>&lt;</td><td>2.0</td><td>&gt;</td><td>3.60</td><td></td><td>--</td><td>-4.55</td><td>GJ 1286</td><td>353.79359</td><td>-2.38906</td></tr>\n",
       "<tr><td>317</td><td>J23381-162</td><td>4352</td><td>G 273-093</td><td>M2.0</td><td>7.81</td><td>0.51</td><td>20.657</td><td>--</td><td></td><td>&lt;</td><td>2.0</td><td>&gt;</td><td>12.00</td><td></td><td>--</td><td>--</td><td>G 273-093</td><td>354.53399</td><td>-16.23617</td></tr>\n",
       "<tr><td>318</td><td>J23419+441</td><td>905</td><td>HH And</td><td>M5.0</td><td>6.88</td><td>0.14</td><td>-78.032</td><td>--</td><td></td><td>&lt;</td><td>2.0</td><td>&gt;</td><td>4.20</td><td></td><td>--</td><td>-4.62</td><td>HH And</td><td>355.47932</td><td>44.17745</td></tr>\n",
       "<tr><td>319</td><td>J23431+365</td><td>1289</td><td>GJ 1289</td><td>M4.0</td><td>8.11</td><td>0.21</td><td>-2.797</td><td>--</td><td></td><td>&lt;</td><td>2.0</td><td>&gt;</td><td>5.60</td><td></td><td>--</td><td>-4.39</td><td>GJ 1289</td><td>355.77630</td><td>36.53698</td></tr>\n",
       "<tr><td>320</td><td>J23492+024</td><td>908</td><td>BR Psc</td><td>M1.0</td><td>5.83</td><td>0.47</td><td>-71.296</td><td>--</td><td></td><td>&lt;</td><td>2.0</td><td>&gt;</td><td>10.90</td><td></td><td>--</td><td>--</td><td>BR Psc</td><td>357.30219</td><td>2.40122</td></tr>\n",
       "<tr><td>321</td><td>J23505-095</td><td>4367</td><td>LP 763-012</td><td>M4.0</td><td>8.94</td><td>0.30</td><td>-21.685</td><td>--</td><td></td><td>&lt;</td><td>2.0</td><td>&gt;</td><td>7.40</td><td></td><td>--</td><td>--</td><td>LP 763-012</td><td>357.63184</td><td>-9.55907</td></tr>\n",
       "<tr><td>322</td><td>J23548+385</td><td></td><td>RX J2354.8+3831</td><td>M4.0</td><td>8.94</td><td>0.29</td><td>5.522</td><td>4.76</td><td>KS13</td><td></td><td>3.6</td><td></td><td>4.00</td><td></td><td>90</td><td>-3.67</td><td>RX J2354.8+3831</td><td>358.71441</td><td>38.52672</td></tr>\n",
       "<tr><td>323</td><td>J23556-061</td><td>912</td><td>GJ 912</td><td>M2.5</td><td>7.60</td><td>0.60</td><td>17.444</td><td>--</td><td></td><td>&lt;</td><td>2.0</td><td>&gt;</td><td>14.10</td><td></td><td>--</td><td>--</td><td>GJ 912</td><td>358.91576</td><td>-6.14260</td></tr>\n",
       "<tr><td>324</td><td>J23585+076</td><td>4383</td><td>Wolf 1051</td><td>M3.0</td><td>7.91</td><td>0.51</td><td>-13.070</td><td>--</td><td></td><td>&lt;</td><td>2.0</td><td>&gt;</td><td>11.90</td><td></td><td>--</td><td>--</td><td>Wolf 1051</td><td>359.63607</td><td>7.65837</td></tr>\n",
       "</table></div>"
      ],
      "text/plain": [
       "<Table length=324>\n",
       " Seq       ID       GJ        Name      SpType   Jmag  ... l_i    i   logLHa_Lbol    SimbadName      _RA       _DE   \n",
       "                                                 mag   ...       deg      [-]                        deg       deg   \n",
       "int16    str11     str6      str23       str4  float32 ... str2 int16   float32        str23       float64   float64 \n",
       "----- ----------- ----- --------------- ------ ------- ... ---- ----- ----------- --------------- --------- ---------\n",
       "    1  J00051+457     2            GJ 2   M1.0    6.70 ...         --          --            GJ 2   1.29537  45.78657\n",
       "    2  J00067-075  1002         GJ 1002   M5.5    8.32 ...         --       -4.83         GJ 1002   1.67999  -7.53806\n",
       "    3 J00162+198E 1006B      LP 404-062   M4.0    8.89 ...   <=    90          --      LP 404-062   4.06730  19.86402\n",
       "    4  J00183+440   15A          GX And   M1.0    5.25 ...         --          --          GX And   4.59535  44.02295\n",
       "    5  J00184+440   15B          GQ And   M3.5    6.79 ...         --          --          GQ And   4.60760  44.02725\n",
       "    6  J00286-066  1012         GJ 1012   M4.0    8.04 ...         --          --         GJ 1012   7.16444  -6.66366\n",
       "    7  J00389+306    26       Wolf 1056   M2.5    7.45 ...         --          --       Wolf 1056   9.74602  30.61622\n",
       "    8  J00570+450             G 172-030   M3.0    8.10 ...         --          --       G 172-030  14.26122  45.08605\n",
       "    9  J01013+613    47           GJ 47   M2.0    7.27 ...         --       -4.47           GJ 47  15.33354  61.36574\n",
       "   10  J01019+541  3069       G 218-020   M5.0    9.78 ...         90       -3.76       G 218-020  15.49789  54.18270\n",
       "   11  J01025+716    48       BD+70 68b   M3.0    6.30 ...         --          --       BD+70 68b  15.63431  71.67981\n",
       "   12  J01026+623    49       BD+61 195   M1.5    6.23 ...         --          --       BD+61 195  15.66195  62.34505\n",
       "   13  J01033+623    51        V388 Cas   M5.0    8.61 ...         90       -3.54        V388 Cas  15.83264  62.36551\n",
       "   14  J01048-181  1028         GJ 1028   M5.0    9.39 ...         --          --         GJ 1028  16.22418 -18.12462\n",
       "   15  J01125-169  54.1          YZ Cet   M4.5    7.26 ...   <=    90       -4.32          YZ Cet  18.12765 -16.99899\n",
       "   16  J01339-176            LP 768-113   M4.0    8.84 ...         --       -4.15      LP 768-113  23.49167 -17.63995\n",
       "  ...         ...   ...             ...    ...     ... ...  ...   ...         ...             ...       ...       ...\n",
       "  309  J22559+178  4306      StKM 1-206   M1.0    7.32 ...         --          --      StKM 1-206  28.21378   4.83271\n",
       "  310  J22565+165   880       HD 216899   M1.5    5.36 ...   <=    90          --       HD 216899 344.14502  16.55343\n",
       "  311  J23064-050           2MUCD 12171   M8.0   11.35 ...         --       -4.70     2MUCD 12171 346.62237  -5.04140\n",
       "  312  J23113+085            NLTT 56083   M3.5    8.47 ...         --          --      NLTT 56083 347.84908   8.51704\n",
       "  313  J23216+172  4333      LP 462-027   M4.0    7.39 ...         --          --      LP 462-027 350.40603  17.29039\n",
       "  314  J23245+578   895      BD+57 2735   M1.0    6.79 ...         --          --      BD+57 2735 351.12714  57.85431\n",
       "  315  J23340+001   899          GJ 899   M2.5    7.66 ...         --          --          GJ 899 353.51389   0.17941\n",
       "  316  J23351-023  1286         GJ 1286   M5.5    9.15 ...         --       -4.55         GJ 1286 353.79359  -2.38906\n",
       "  317  J23381-162  4352       G 273-093   M2.0    7.81 ...         --          --       G 273-093 354.53399 -16.23617\n",
       "  318  J23419+441   905          HH And   M5.0    6.88 ...         --       -4.62          HH And 355.47932  44.17745\n",
       "  319  J23431+365  1289         GJ 1289   M4.0    8.11 ...         --       -4.39         GJ 1289 355.77630  36.53698\n",
       "  320  J23492+024   908          BR Psc   M1.0    5.83 ...         --          --          BR Psc 357.30219   2.40122\n",
       "  321  J23505-095  4367      LP 763-012   M4.0    8.94 ...         --          --      LP 763-012 357.63184  -9.55907\n",
       "  322  J23548+385       RX J2354.8+3831   M4.0    8.94 ...         90       -3.67 RX J2354.8+3831 358.71441  38.52672\n",
       "  323  J23556-061   912          GJ 912   M2.5    7.60 ...         --          --          GJ 912 358.91576  -6.14260\n",
       "  324  J23585+076  4383       Wolf 1051   M3.0    7.91 ...         --          --       Wolf 1051 359.63607   7.65837"
      ]
     },
     "execution_count": 70,
     "metadata": {},
     "output_type": "execute_result"
    }
   ],
   "source": [
    "carmenes"
   ]
  },
  {
   "cell_type": "code",
   "execution_count": 71,
   "id": "d5b573b5-abd6-4efb-9d0e-90bf3f5217d9",
   "metadata": {},
   "outputs": [
    {
     "name": "stdout",
     "output_type": "stream",
     "text": [
      "<Table length=324>\n",
      "    name     dtype   unit   format                             description                             n_bad\n",
      "----------- ------- ------ ------- ------------------------------------------------------------------- -----\n",
      "        Seq   int16                                                                  Sequential number     0\n",
      "         ID   str11                                                                   ID (JHHMMm+DDmA)     0\n",
      "         GJ    str6                                                                            GJ name     0\n",
      "       Name   str23                                                                               Name     0\n",
      "     SpType    str4                                                                   MK spectral type     0\n",
      "       Jmag float32    mag {:5.2f}                                                         J magnitude     0\n",
      "       Mass float32   Msun {:5.2f}                                                                Mass     0\n",
      "         RV float64 km / s {:8.3f}                                                     Radial velocity     0\n",
      "        Per float32      d {:6.2f}                                                            ? Period   261\n",
      "      r_Per    str6                                                               Period reference (1)     0\n",
      "    l_vsini    str1                                                                Limit flag on vsini     0\n",
      "      vsini float32 km / s {:4.1f}                                                 Rotational velocity     0\n",
      "   l_Pvsini    str1                                                               Limit flag on Pvsini     0\n",
      "     Pvsini float32      d {:5.2f}                                                   Period from vsini     0\n",
      "        l_i    str2                                                              [<= ] Limit flag on i     0\n",
      "          i   int16    deg                     ? Inclination [NULL integer written as an empty string]   260\n",
      "logLHa_Lbol float32    [-] {:5.2f}                           ? H{alpha} to bolometric luminosity ratio   222\n",
      " SimbadName   str23                                                     Simbad column added by the CDS     0\n",
      "        _RA float64    deg {:9.5f} Right Ascension (J2000) from SIMBAD (not part of the original data)     0\n",
      "        _DE float64    deg {:9.5f}     Declination (J2000) from SIMBAD (not part of the original data)     0\n"
     ]
    }
   ],
   "source": [
    "carmenes.info()"
   ]
  },
  {
   "cell_type": "code",
   "execution_count": 72,
   "id": "c24146fb-b753-45c7-9393-2ea7c703106c",
   "metadata": {},
   "outputs": [
    {
     "name": "stdout",
     "output_type": "stream",
     "text": [
      "<Table length=324>\n",
      "    name      mean     std      min      max   n_bad\n",
      "----------- -------- -------- -------- ------- -----\n",
      "        Seq    162.5  93.5303        1     324     0\n",
      "         ID       --       --       --      --     0\n",
      "         GJ       --       --       --      --     0\n",
      "       Name       --       --       --      --     0\n",
      "     SpType       --       --       --      --     0\n",
      "       Jmag  7.81867  1.18761      4.2   11.35     0\n",
      "       Mass 0.369877 0.168519     0.07    0.74     0\n",
      "         RV -3.34948  31.2111 -120.236 105.798     0\n",
      "        Per  41.0267  46.5482     0.27   165.1   261\n",
      "      r_Per       --       --       --      --     0\n",
      "    l_vsini       --       --       --      --     0\n",
      "      vsini  4.56543  8.11359        2    59.8     0\n",
      "   l_Pvsini       --       --       --      --     0\n",
      "     Pvsini  8.02358  4.34176     0.09    16.1     0\n",
      "        l_i       --       --       --      --     0\n",
      "          i  80.4531  18.7316       18      90   260\n",
      "logLHa_Lbol -4.03627 0.419084    -5.18   -3.32   222\n",
      " SimbadName       --       --       --      --     0\n",
      "        _RA  185.434  99.5264  1.29537 359.636     0\n",
      "        _DE  21.0018   27.516 -23.8362 83.3847     0\n"
     ]
    }
   ],
   "source": [
    "carmenes.info('stats')"
   ]
  },
  {
   "cell_type": "code",
   "execution_count": 73,
   "id": "b96ba130-76e8-4f5a-807b-d102371d1ec4",
   "metadata": {},
   "outputs": [
    {
     "data": {
      "image/png": "[encoded data removed]",
      "text/plain": [
       "<Figure size 576x432 with 1 Axes>"
      ]
     },
     "metadata": {
      "needs_background": "light"
     },
     "output_type": "display_data"
    }
   ],
   "source": [
    "from astropy.coordinates import SkyCoord\n",
    "\n",
    "ra_deg = Angle(carmenes['_RA'])\n",
    "de_deg = Angle(carmenes['_DE'])\n",
    "ra_deg = ra_deg.wrap_at('180d')\n",
    "\n",
    "fig = plt.figure(figsize=(8,6))\n",
    "ax = fig.add_subplot(111, projection=\"mollweide\")\n",
    "ax.scatter(ra_deg.rad, de_deg.rad, s=8)\n",
    "ax.set_xticklabels(['14h','16h','18h','20h','22h','0h','2h','4h','6h','8h','10h'])\n",
    "ax.grid(True)"
   ]
  },
  {
   "cell_type": "markdown",
   "id": "dc08acfa-ee2c-4f5d-9a3f-7a415c2ef465",
   "metadata": {},
   "source": [
    "## Query a Simbad object"
   ]
  },
  {
   "cell_type": "code",
   "execution_count": 74,
   "id": "735639f0-1228-48a5-9c45-6da280ba2dec",
   "metadata": {},
   "outputs": [
    {
     "name": "stderr",
     "output_type": "stream",
     "text": [
      "WARNING: UnitsWarning: The unit 'pix' has been deprecated in the VOUnit standard. [astropy.units.format.utils]\n",
      "WARNING: UnitsWarning: Unit 'e' not supported by the VOUnit standard.  [astropy.units.format.vounit]\n",
      "WARNING: UnitsWarning: Unit 'Msun' not supported by the VOUnit standard.  [astropy.units.format.vounit]\n",
      "WARNING: UnitsWarning: The unit 'ct' has been deprecated in the VOUnit standard. [astropy.units.format.utils]\n",
      "WARNING: UnitsWarning: Unit 'Rsun' not supported by the VOUnit standard.  [astropy.units.format.vounit]\n",
      "WARNING: UnitsWarning: Unit 'pct' not supported by the VOUnit standard. Did you mean 1e+15count, PC, PT, Pct (deprecated), pC, pT or pc? [astropy.units.format.vounit]\n",
      "WARNING: UnitsWarning: Unit 'Lsun' not supported by the VOUnit standard.  [astropy.units.format.vounit]\n",
      "WARNING: UnitsWarning: Unit 'TMsun' not supported by the VOUnit standard.  [astropy.units.format.vounit]\n"
     ]
    },
    {
     "name": "stdout",
     "output_type": "stream",
     "text": [
      "TableList with 200 tables:\n",
      "\t'0:I/252/out' with 8 column(s) and 32 row(s) \n",
      "\t'1:I/254/out' with 10 column(s) and 4 row(s) \n",
      "\t'2:I/259/tyc2' with 10 column(s) and 1 row(s) \n",
      "\t'3:I/261/fonac' with 9 column(s) and 1 row(s) \n",
      "\t'4:I/267/out' with 16 column(s) and 48 row(s) \n",
      "\t'5:I/271/out' with 11 column(s) and 28 row(s) \n",
      "\t'6:I/275/ac2002' with 9 column(s) and 1 row(s) \n",
      "\t'7:I/280B/ascc' with 12 column(s) and 1 row(s) \n",
      "\t'8:I/284/out' with 14 column(s) and 72 row(s) \n",
      "\t'9:I/294A/ucac2bss' with 12 column(s) and 1 row(s) \n",
      "\t'10:I/297/out' with 19 column(s) and 75 row(s) \n",
      "\t'11:I/305/out' with 11 column(s) and 68 row(s) \n",
      "\t'12:I/312/sample' with 13 column(s) and 3 row(s) \n",
      "\t'13:I/317/sample' with 13 column(s) and 63 row(s) \n",
      "\t'14:I/319/xpm' with 25 column(s) and 23 row(s) \n",
      "\t'15:I/322A/out' with 24 column(s) and 7 row(s) \n",
      "\t'16:I/324/igsl3' with 18 column(s) and 61 row(s) \n",
      "\t'17:I/329/urat1' with 16 column(s) and 35 row(s) \n",
      "\t'18:I/337/gaia' with 14 column(s) and 47 row(s) \n",
      "\t'19:I/337/tgas' with 20 column(s) and 1 row(s) \n",
      "\t'20:I/337/tgasptyc' with 22 column(s) and 1 row(s) \n",
      "\t'21:I/339/hsoy' with 18 column(s) and 32 row(s) \n",
      "\t'22:I/340/ucac5' with 20 column(s) and 7 row(s) \n",
      "\t'23:I/342/f3' with 18 column(s) and 7 row(s) \n",
      "\t'24:I/343/gps1' with 39 column(s) and 36 row(s) \n",
      "\t'25:I/345/gaia2' with 32 column(s) and 49 row(s) \n",
      "\t'26:I/347/gaia2dis' with 9 column(s) and 46 row(s) \n",
      "\t'27:I/349/starhorse' with 19 column(s) and 13 row(s) \n",
      "\t'28:I/350/gaiaedr3' with 39 column(s) and 58 row(s) \n",
      "\t'29:I/350/tyc2tdsc' with 16 column(s) and 1 row(s) \n",
      "\t'30:I/350/comscanl' with 13 column(s) and 1 row(s) \n",
      "\t'31:I/351/gps1_p' with 22 column(s) and 42 row(s) \n",
      "\t'32:I/352/gedr3dis' with 10 column(s) and 46 row(s) \n",
      "\t'33:I/353/gsc242' with 35 column(s) and 161 row(s) \n",
      "\t'34:I/354/starhorse2021' with 20 column(s) and 18 row(s) \n",
      "\t'35:II/125/main' with 13 column(s) and 1 row(s) \n",
      "\t'36:II/156A/main' with 12 column(s) and 1 row(s) \n",
      "\t'37:II/225/catalog' with 14 column(s) and 12 row(s) \n",
      "\t'38:II/225/names' with 5 column(s) and 4 row(s) \n",
      "\t'39:II/225/psc' with 8 column(s) and 1 row(s) \n",
      "\t'40:II/246/out' with 15 column(s) and 38 row(s) \n",
      "\t'41:II/271A/patch2' with 10 column(s) and 1 row(s) \n",
      "\t'42:II/287/skydot' with 11 column(s) and 8 row(s) \n",
      "\t'43:II/297/irc' with 13 column(s) and 2 row(s) \n",
      "\t'44:II/298/fis' with 15 column(s) and 1 row(s) \n",
      "\t'45:II/311/wise' with 22 column(s) and 54 row(s) \n",
      "\t'46:II/328/allwise' with 28 column(s) and 68 row(s) \n",
      "\t'47:II/336/apass9' with 20 column(s) and 5 row(s) \n",
      "\t'48:II/338/catalog' with 23 column(s) and 2 row(s) \n",
      "\t'49:II/340/xmmom2_1' with 46 column(s) and 10 row(s) \n",
      "\t'50:II/340/summary' with 19 column(s) and 1 row(s) \n",
      "\t'51:II/349/ps1' with 35 column(s) and 127 row(s) \n",
      "\t'52:II/356/xmmom41s' with 44 column(s) and 11 row(s) \n",
      "\t'53:II/363/unwise' with 11 column(s) and 139 row(s) \n",
      "\t'54:II/365/catwise' with 38 column(s) and 139 row(s) \n",
      "\t'55:II/368/sstsl2' with 37 column(s) and 152 row(s) \n",
      "\t'56:II/370/xmmom5s' with 44 column(s) and 11 row(s) \n",
      "\t'57:IV/38/tic' with 48 column(s) and 64 row(s) \n",
      "\t'58:IV/39/tic82' with 48 column(s) and 64 row(s) \n",
      "\t'59:V/136/tycall' with 14 column(s) and 1 row(s) \n",
      "\t'60:V/148/morx' with 33 column(s) and 4 row(s) \n",
      "\t'61:VI/111/isolog' with 7 column(s) and 10 row(s) \n",
      "\t'62:VI/135/table15' with 15 column(s) and 1 row(s) \n",
      "\t'63:VI/139/herschel' with 10 column(s) and 11 row(s) \n",
      "\t'64:VI/145/attitude' with 18 column(s) and 1 row(s) \n",
      "\t'65:VII/1B/catalog' with 12 column(s) and 1 row(s) \n",
      "\t'66:VII/26D/catalog' with 10 column(s) and 1 row(s) \n",
      "\t'67:VII/62A/mcg' with 10 column(s) and 1 row(s) \n",
      "\t'68:VII/113/xcat' with 12 column(s) and 1 row(s) \n",
      "\t'69:VII/118/ngc2000' with 11 column(s) and 1 row(s) \n",
      "\t'70:VII/157/12micron' with 7 column(s) and 1 row(s) \n",
      "\t'71:VII/185/catalog' with 20 column(s) and 1 row(s) \n",
      "\t'72:VII/190/zg_ori' with 9 column(s) and 1 row(s) \n",
      "\t'73:VII/193/zcat' with 8 column(s) and 2 row(s) \n",
      "\t'74:VII/221/pscz' with 19 column(s) and 1 row(s) \n",
      "\t'75:VII/233/xsc' with 13 column(s) and 2 row(s) \n",
      "\t'76:VII/236/catalog' with 14 column(s) and 3 row(s) \n",
      "\t'77:VII/237/pgc' with 9 column(s) and 3 row(s) \n",
      "\t'78:VII/238/hidat' with 9 column(s) and 1 row(s) \n",
      "\t'79:VII/239A/icpos' with 10 column(s) and 4 row(s) \n",
      "\t'80:VII/239A/icdata' with 14 column(s) and 12 row(s) \n",
      "\t'81:VII/275/glade1' with 31 column(s) and 2 row(s) \n",
      "\t'82:VII/281/glade2' with 17 column(s) and 3 row(s) \n",
      "\t'83:VII/290/catalog' with 13 column(s) and 1 row(s) \n",
      "\t'84:VIII/40/gb6' with 18 column(s) and 1 row(s) \n",
      "\t'85:VIII/62/wenss' with 11 column(s) and 1 row(s) \n",
      "\t'86:VIII/65/nvss' with 12 column(s) and 1 row(s) \n",
      "\t'87:VIII/68/catalog' with 15 column(s) and 2 row(s) \n",
      "\t'88:VIII/85A/spectra' with 15 column(s) and 3 row(s) \n",
      "\t'89:VIII/88/erc' with 18 column(s) and 1 row(s) \n",
      "\t'90:VIII/91/pccs1' with 17 column(s) and 1 row(s) \n",
      "\t'91:VIII/104/spectra' with 13 column(s) and 3 row(s) \n",
      "\t'92:VIII/106/hppsc070' with 20 column(s) and 3 row(s) \n",
      "\t'93:VIII/106/hppsc100' with 20 column(s) and 3 row(s) \n",
      "\t'94:VIII/106/hppsc160' with 20 column(s) and 3 row(s) \n",
      "\t'95:VIII/106/hprsl' with 5 column(s) and 67 row(s) \n",
      "\t'96:IX/29/rass_fsc' with 11 column(s) and 1 row(s) \n",
      "\t'97:IX/47/3xmmeu' with 23 column(s) and 4 row(s) \n",
      "\t'98:IX/48/xgustwra' with 46 column(s) and 3 row(s) \n",
      "\t'99:IX/50/xmm3r6s' with 17 column(s) and 4 row(s) \n",
      "\t'100:IX/50/summary' with 6 column(s) and 1 row(s) \n",
      "\t'101:IX/54/xmm3r7s' with 17 column(s) and 4 row(s) \n",
      "\t'102:IX/54/summary' with 7 column(s) and 1 row(s) \n",
      "\t'103:IX/55/xmm3r8s' with 17 column(s) and 4 row(s) \n",
      "\t'104:IX/55/summary' with 7 column(s) and 1 row(s) \n",
      "\t'105:IX/57/csc2master' with 79 column(s) and 9 row(s) \n",
      "\t'106:IX/59/xmm4dr9s' with 17 column(s) and 4 row(s) \n",
      "\t'107:IX/59/summary' with 7 column(s) and 1 row(s) \n",
      "\t'108:B/hst/obscore' with 12 column(s) and 580 row(s) \n",
      "\t'109:B/hst/hstlog' with 9 column(s) and 3 row(s) \n",
      "\t'110:B/chandra/chandra' with 11 column(s) and 1 row(s) \n",
      "\t'111:B/xmm/xmmlog' with 11 column(s) and 1 row(s) \n",
      "\t'112:B/vsx/vsx' with 19 column(s) and 1 row(s) \n",
      "\t'113:B/jcmt/obscore' with 11 column(s) and 15 row(s) \n",
      "\t'114:J/ApJ/453/616/table1' with 10 column(s) and 2 row(s) \n",
      "\t'115:J/ApJ/554/803/catalog' with 9 column(s) and 1 row(s) \n",
      "\t'116:J/ApJ/703/1672/table2' with 19 column(s) and 1 row(s) \n",
      "\t'117:J/ApJ/709/884/class' with 23 column(s) and 2 row(s) \n",
      "\t'118:J/ApJ/715/572/systems' with 16 column(s) and 1 row(s) \n",
      "\t'119:J/ApJ/715/572/galaxies' with 13 column(s) and 2 row(s) \n",
      "\t'120:J/ApJ/723/993/table1' with 14 column(s) and 2 row(s) \n",
      "\t'121:J/ApJ/724/1336/survey' with 25 column(s) and 3 row(s) \n",
      "\t'122:J/ApJ/737/45/table1' with 8 column(s) and 1 row(s) \n",
      "\t'123:J/ApJ/741/32/table1' with 20 column(s) and 2 row(s) \n",
      "\t'124:J/ApJ/765/L26/table1' with 19 column(s) and 1 row(s) \n",
      "\t'125:J/ApJ/768/102/table2' with 17 column(s) and 4 row(s) \n",
      "\t'126:J/ApJ/774/68/table1' with 19 column(s) and 2 row(s) \n",
      "\t'127:J/ApJ/777/156/irfluxes' with 28 column(s) and 2 row(s) \n",
      "\t'128:J/ApJ/790/124/table12' with 35 column(s) and 2 row(s) \n",
      "\t'129:J/ApJ/833/119/distall' with 16 column(s) and 1 row(s) \n",
      "\t'130:J/ApJ/833/119/distallw' with 16 column(s) and 1 row(s) \n",
      "\t'131:J/ApJ/837/120/table2' with 19 column(s) and 1 row(s) \n",
      "\t'132:J/ApJ/841/76/table5' with 10 column(s) and 1 row(s) \n",
      "\t'133:J/ApJ/846/32/galaxies' with 10 column(s) and 2 row(s) \n",
      "\t'134:J/ApJ/846/32/table1' with 15 column(s) and 6 row(s) \n",
      "\t'135:J/ApJ/847/123/table1' with 6 column(s) and 1 row(s) \n",
      "\t'136:J/ApJ/867/105/refcat2' with 23 column(s) and 35 row(s) \n",
      "\t'137:J/ApJ/870/104/table1' with 22 column(s) and 1 row(s) \n",
      "\t'138:J/ApJ/872/134/table5' with 9 column(s) and 2 row(s) \n",
      "\t'139:J/ApJ/872/148/table1' with 15 column(s) and 2 row(s) \n",
      "\t'140:J/ApJ/900/124/table1' with 22 column(s) and 2 row(s) \n",
      "\t'141:J/ApJ/901/3/catalog' with 30 column(s) and 1 row(s) \n",
      "\t'142:J/ApJS/125/409/table1' with 6 column(s) and 3 row(s) \n",
      "\t'143:J/ApJS/164/81/galaxies' with 14 column(s) and 3 row(s) \n",
      "\t'144:J/ApJS/175/277/maps' with 15 column(s) and 2 row(s) \n",
      "\t'145:J/ApJS/199/26/table3' with 21 column(s) and 2 row(s) \n",
      "\t'146:J/ApJS/206/1/table1' with 16 column(s) and 2 row(s) \n",
      "\t'147:J/ApJS/222/12/table1' with 14 column(s) and 1 row(s) \n",
      "\t'148:J/ApJS/224/40/table5' with 15 column(s) and 6 row(s) \n",
      "\t'149:J/ApJS/224/40/counts' with 34 column(s) and 6 row(s) \n",
      "\t'150:J/ApJS/226/11/table1' with 24 column(s) and 2 row(s) \n",
      "\t'151:J/ApJS/229/25/table1' with 12 column(s) and 1 row(s) \n",
      "\t'152:J/ApJS/229/25/table4' with 22 column(s) and 3 row(s) \n",
      "\t'153:J/ApJS/255/30/comp' with 22 column(s) and 3 row(s) \n",
      "\t'154:J/A+A/359/865/table4' with 10 column(s) and 1 row(s) \n",
      "\t'155:J/A+A/422/39/table4' with 12 column(s) and 1 row(s) \n",
      "\t'156:J/A+A/422/39/table6' with 10 column(s) and 4 row(s) \n",
      "\t'157:J/A+A/514/A3/catalog' with 9 column(s) and 1 row(s) \n",
      "\t'158:J/A+A/588/A14/table1' with 20 column(s) and 2 row(s) \n",
      "\t'159:J/A+A/588/A14/table2' with 20 column(s) and 2 row(s) \n",
      "\t'160:J/A+A/588/A14/table3' with 16 column(s) and 1 row(s) \n",
      "\t'161:J/A+A/588/A14/table4' with 16 column(s) and 1 row(s) \n",
      "\t'162:J/A+A/591/A136/tablea1' with 19 column(s) and 2 row(s) \n",
      "\t'163:J/A+A/594/A26/pccs857' with 14 column(s) and 1 row(s) \n",
      "\t'164:J/A+A/594/A26/pccs857e' with 14 column(s) and 1 row(s) \n",
      "\t'165:J/A+A/594/A116/nhi_hpx' with 6 column(s) and 1 row(s) \n",
      "\t'166:J/A+A/596/A14/grlist_2' with 15 column(s) and 1 row(s) \n",
      "\t'167:J/A+A/596/A14/galist_2' with 7 column(s) and 2 row(s) \n",
      "\t'168:J/A+A/598/A78/table3' with 18 column(s) and 1 row(s) \n",
      "\t'169:J/A+A/617/A130/table1' with 22 column(s) and 2 row(s) \n",
      "\t'170:J/A+A/618/A81/2mrs_gal' with 33 column(s) and 2 row(s) \n",
      "\t'171:J/A+A/618/A81/2mrs_gr' with 19 column(s) and 1 row(s) \n",
      "\t'172:J/A+A/644/A69/news' with 27 column(s) and 4 row(s) \n",
      "\t'173:J/A+A/645/A74/xfcz' with 13 column(s) and 2 row(s) \n",
      "\t'174:J/A+A/648/A44/tabled1' with 41 column(s) and 2 row(s) \n",
      "\t'175:J/A+A/657/A138/table7' with 13 column(s) and 3 row(s) \n",
      "\t'176:J/A+AS/117/467/catalog' with 10 column(s) and 1 row(s) \n",
      "\t'177:J/AJ/110/1993/table1a' with 13 column(s) and 1 row(s) \n",
      "\t'178:J/AJ/126/1607/table1' with 18 column(s) and 1 row(s) \n",
      "\t'179:J/AJ/127/3235/table1' with 16 column(s) and 1 row(s) \n",
      "\t'180:J/AJ/149/171/table3' with 17 column(s) and 1 row(s) \n",
      "\t'181:J/AJ/149/171/table4' with 15 column(s) and 2 row(s) \n",
      "\t'182:J/AJ/149/171/table5' with 20 column(s) and 2 row(s) \n",
      "\t'183:J/AJ/154/259/table6' with 14 column(s) and 1 row(s) \n",
      "\t'184:J/AJ/155/39/table5' with 10 column(s) and 2 row(s) \n",
      "\t'185:J/AJ/156/241/table4' with 16 column(s) and 3 row(s) \n",
      "\t'186:J/AJ/156/295/table2' with 17 column(s) and 2 row(s) \n",
      "\t'187:J/AJ/156/295/table5' with 10 column(s) and 2 row(s) \n",
      "\t'188:J/AJ/158/93/table2' with 5 column(s) and 10 row(s) \n",
      "\t'189:J/AJ/159/84/table2' with 5 column(s) and 10 row(s) \n",
      "\t'190:J/PASP/111/438/catalog' with 12 column(s) and 1 row(s) \n",
      "\t'191:J/MNRAS/253/485/qigc' with 13 column(s) and 1 row(s) \n",
      "\t'192:J/MNRAS/398/109/iifsczv4' with 16 column(s) and 1 row(s) \n",
      "\t'193:J/MNRAS/412/1419/table2' with 14 column(s) and 1 row(s) \n",
      "\t'194:J/MNRAS/455/1796/tableb1' with 9 column(s) and 1 row(s) \n",
      "\t'195:J/MNRAS/463/4210/ucac4rpm' with 12 column(s) and 1 row(s) \n",
      "\t'196:J/MNRAS/474/5008/spidxcat' with 21 column(s) and 1 row(s) \n",
      "\t'197:J/MNRAS/474/5363/table1' with 19 column(s) and 1 row(s) \n",
      "\t'198:J/other/AstBu/70.24/2mfgc' with 15 column(s) and 1 row(s) \n",
      "\t'199:J/other/AstBu/73.310/catalog' with 16 column(s) and 1 row(s) \n"
     ]
    }
   ],
   "source": [
    "from astroquery.vizier import Vizier\n",
    "result = Vizier.query_object(\"NGC 6670\")\n",
    "print(result)"
   ]
  },
  {
   "cell_type": "markdown",
   "id": "bc6e9ccc-3bb6-4871-ab70-9542e8c5c936",
   "metadata": {},
   "source": [
    "## Quick access to data from the Gaia catalog"
   ]
  },
  {
   "cell_type": "markdown",
   "id": "992b6499-57b5-41df-99f7-9b50334e075a",
   "metadata": {},
   "source": [
    "The library we will use to get Gaia data is [Astroquery](https://astroquery.readthedocs.io/en/latest/). Astroquery provides `Gaia`, which is an [object that represents a connection to the Gaia database](https://astroquery.readthedocs.io/en/latest/gaia/gaia.html).\n",
    "\n",
    "We can connect to the Gaia database like this:"
   ]
  },
  {
   "cell_type": "code",
   "execution_count": 10,
   "id": "4bec0d80-559a-4fcc-afc1-22834365b3ed",
   "metadata": {},
   "outputs": [],
   "source": [
    "from astroquery.gaia import Gaia\n",
    "Gaia.ROW_LIMIT = 50"
   ]
  },
  {
   "cell_type": "markdown",
   "id": "9e1816f8-1ffb-41dd-bfdc-c24a618deb88",
   "metadata": {},
   "source": [
    "We can easily query the Gaia catalog using the `astroquery` function `Gaia.query_object_async`, which can send query jobs to the Gaia TAP+ service. Note that the filtering options in this function are very limited, so a query may have too many results to handle. Verify your query with a low number of the parameter `Gaia.ROW_LIMIT` first. For full query functionality we should used the [Astronomical Data Query Language (ADQL)](https://www.ivoa.net/documents/ADQL/20180112/PR-ADQL-2.1-20180112.html), which we will use in Session 3. For the moment the simple query is enough for our purposes."
   ]
  },
  {
   "cell_type": "code",
   "execution_count": 11,
   "id": "e6a817c9-046c-4d0c-ae2a-d73443b6288a",
   "metadata": {},
   "outputs": [],
   "source": [
    "import numpy as np\n",
    "import astropy.units as u\n",
    "from astropy.coordinates import SkyCoord\n",
    "import matplotlib.pyplot as plt"
   ]
  },
  {
   "cell_type": "markdown",
   "id": "b2a871e8-7ce1-428e-a32c-148ad8aa978e",
   "metadata": {},
   "source": [
    "To do a basic query on the *Gaia* catalogue we just need a pointing centre and the (width, height), or the radius, of the region of interest. This is a clear case where you could build a python function to retrieve data based only on those four parameters."
   ]
  },
  {
   "cell_type": "code",
   "execution_count": 12,
   "id": "3f18baa3-bb5a-46b0-af58-9ab96efe7d40",
   "metadata": {},
   "outputs": [
    {
     "data": {
      "text/plain": [
       "'17h45m40.0359888s -29d00m28.169892s'"
      ]
     },
     "execution_count": 12,
     "metadata": {},
     "output_type": "execute_result"
    }
   ],
   "source": [
    "sgra_coord = SkyCoord.from_name(\"Sgr A*\")\n",
    "search_radius = 50*u.arcsec\n",
    "\n",
    "sgra_coord.to_string('hmsdms')"
   ]
  },
  {
   "cell_type": "code",
   "execution_count": 13,
   "id": "ed04a3dd-cd69-4e1e-a190-da0f1b2e6131",
   "metadata": {},
   "outputs": [
    {
     "ename": "HTTPError",
     "evalue": "OK",
     "output_type": "error",
     "traceback": [
      "\u001b[0;31m---------------------------------------------------------------------------\u001b[0m",
      "\u001b[0;31mHTTPError\u001b[0m                                 Traceback (most recent call last)",
      "Input \u001b[0;32mIn [13]\u001b[0m, in \u001b[0;36m<cell line: 2>\u001b[0;34m()\u001b[0m\n\u001b[1;32m      1\u001b[0m \u001b[38;5;66;03m# Run the actual query to the catalogue\u001b[39;00m\n\u001b[0;32m----> 2\u001b[0m gaia_sgra \u001b[38;5;241m=\u001b[39m \u001b[43mGaia\u001b[49m\u001b[38;5;241;43m.\u001b[39;49m\u001b[43mquery_object_async\u001b[49m\u001b[43m(\u001b[49m\u001b[43mcoordinate\u001b[49m\u001b[38;5;241;43m=\u001b[39;49m\u001b[43msgra_coord\u001b[49m\u001b[43m,\u001b[49m\n\u001b[1;32m      3\u001b[0m \u001b[43m                                    \u001b[49m\u001b[43mradius\u001b[49m\u001b[38;5;241;43m=\u001b[39;49m\u001b[43msearch_radius\u001b[49m\u001b[43m,\u001b[49m\u001b[43m \u001b[49m\n\u001b[1;32m      4\u001b[0m \u001b[43m                                    \u001b[49m\u001b[43mcolumns\u001b[49m\u001b[38;5;241;43m=\u001b[39;49m\u001b[43m[\u001b[49m\u001b[38;5;124;43m'\u001b[39;49m\u001b[38;5;124;43mra\u001b[39;49m\u001b[38;5;124;43m'\u001b[39;49m\u001b[43m,\u001b[49m\u001b[38;5;124;43m'\u001b[39;49m\u001b[38;5;124;43mdec\u001b[39;49m\u001b[38;5;124;43m'\u001b[39;49m\u001b[43m]\u001b[49m\u001b[43m)\u001b[49m\n",
      "File \u001b[0;32m~/miniconda3/envs/pysnack_1/lib/python3.10/site-packages/astroquery/gaia/core.py:487\u001b[0m, in \u001b[0;36mGaiaClass.query_object_async\u001b[0;34m(self, coordinate, radius, width, height, verbose, columns)\u001b[0m\n\u001b[1;32m    463\u001b[0m \u001b[38;5;28;01mdef\u001b[39;00m \u001b[38;5;21mquery_object_async\u001b[39m(\u001b[38;5;28mself\u001b[39m, coordinate, radius\u001b[38;5;241m=\u001b[39m\u001b[38;5;28;01mNone\u001b[39;00m, width\u001b[38;5;241m=\u001b[39m\u001b[38;5;28;01mNone\u001b[39;00m,\n\u001b[1;32m    464\u001b[0m                        height\u001b[38;5;241m=\u001b[39m\u001b[38;5;28;01mNone\u001b[39;00m, verbose\u001b[38;5;241m=\u001b[39m\u001b[38;5;28;01mFalse\u001b[39;00m, columns\u001b[38;5;241m=\u001b[39m[]):\n\u001b[1;32m    465\u001b[0m     \u001b[38;5;124;03m\"\"\"Launches a job (async)\u001b[39;00m\n\u001b[1;32m    466\u001b[0m \u001b[38;5;124;03m    TAP & TAP+\u001b[39;00m\n\u001b[1;32m    467\u001b[0m \n\u001b[0;32m   (...)\u001b[0m\n\u001b[1;32m    485\u001b[0m \u001b[38;5;124;03m    The job results (astropy.table).\u001b[39;00m\n\u001b[1;32m    486\u001b[0m \u001b[38;5;124;03m    \"\"\"\u001b[39;00m\n\u001b[0;32m--> 487\u001b[0m     \u001b[38;5;28;01mreturn\u001b[39;00m \u001b[38;5;28;43mself\u001b[39;49m\u001b[38;5;241;43m.\u001b[39;49m\u001b[43m__query_object\u001b[49m\u001b[43m(\u001b[49m\u001b[43mcoordinate\u001b[49m\u001b[43m,\u001b[49m\u001b[43m \u001b[49m\u001b[43mradius\u001b[49m\u001b[43m,\u001b[49m\u001b[43m \u001b[49m\u001b[43mwidth\u001b[49m\u001b[43m,\u001b[49m\u001b[43m \u001b[49m\u001b[43mheight\u001b[49m\u001b[43m,\u001b[49m\u001b[43m \u001b[49m\u001b[43masync_job\u001b[49m\u001b[38;5;241;43m=\u001b[39;49m\u001b[38;5;28;43;01mTrue\u001b[39;49;00m\u001b[43m,\u001b[49m\u001b[43m \u001b[49m\u001b[43mverbose\u001b[49m\u001b[38;5;241;43m=\u001b[39;49m\u001b[43mverbose\u001b[49m\u001b[43m,\u001b[49m\u001b[43m \u001b[49m\u001b[43mcolumns\u001b[49m\u001b[38;5;241;43m=\u001b[39;49m\u001b[43mcolumns\u001b[49m\u001b[43m)\u001b[49m\n",
      "File \u001b[0;32m~/miniconda3/envs/pysnack_1/lib/python3.10/site-packages/astroquery/gaia/core.py:389\u001b[0m, in \u001b[0;36mGaiaClass.__query_object\u001b[0;34m(self, coordinate, radius, width, height, async_job, verbose, columns)\u001b[0m\n\u001b[1;32m    387\u001b[0m job \u001b[38;5;241m=\u001b[39m \u001b[38;5;28;01mNone\u001b[39;00m\n\u001b[1;32m    388\u001b[0m \u001b[38;5;28;01mif\u001b[39;00m radius \u001b[38;5;129;01mis\u001b[39;00m \u001b[38;5;129;01mnot\u001b[39;00m \u001b[38;5;28;01mNone\u001b[39;00m:\n\u001b[0;32m--> 389\u001b[0m     job \u001b[38;5;241m=\u001b[39m \u001b[38;5;28;43mself\u001b[39;49m\u001b[38;5;241;43m.\u001b[39;49m\u001b[43m__cone_search\u001b[49m\u001b[43m(\u001b[49m\u001b[43mcoord\u001b[49m\u001b[43m,\u001b[49m\u001b[43m \u001b[49m\u001b[43mradius\u001b[49m\u001b[43m,\u001b[49m\n\u001b[1;32m    390\u001b[0m \u001b[43m                             \u001b[49m\u001b[43masync_job\u001b[49m\u001b[38;5;241;43m=\u001b[39;49m\u001b[43masync_job\u001b[49m\u001b[43m,\u001b[49m\u001b[43m \u001b[49m\u001b[43mverbose\u001b[49m\u001b[38;5;241;43m=\u001b[39;49m\u001b[43mverbose\u001b[49m\u001b[43m)\u001b[49m\n\u001b[1;32m    391\u001b[0m \u001b[38;5;28;01melse\u001b[39;00m:\n\u001b[1;32m    392\u001b[0m     raHours, dec \u001b[38;5;241m=\u001b[39m commons\u001b[38;5;241m.\u001b[39mcoord_to_radec(coord)\n",
      "File \u001b[0;32m~/miniconda3/envs/pysnack_1/lib/python3.10/site-packages/astroquery/gaia/core.py:569\u001b[0m, in \u001b[0;36mGaiaClass.__cone_search\u001b[0;34m(self, coordinate, radius, table_name, ra_column_name, dec_column_name, async_job, background, output_file, output_format, verbose, dump_to_file, columns)\u001b[0m\n\u001b[1;32m    546\u001b[0m query \u001b[38;5;241m=\u001b[39m \u001b[38;5;124m\"\"\"\u001b[39m\n\u001b[1;32m    547\u001b[0m \u001b[38;5;124m        SELECT\u001b[39m\n\u001b[1;32m    548\u001b[0m \u001b[38;5;124m          \u001b[39m\u001b[38;5;132;01m{row_limit}\u001b[39;00m\n\u001b[0;32m   (...)\u001b[0m\n\u001b[1;32m    565\u001b[0m                       \u001b[38;5;124m'\u001b[39m\u001b[38;5;124mdec_column\u001b[39m\u001b[38;5;124m'\u001b[39m: dec_column_name, \u001b[38;5;124m'\u001b[39m\u001b[38;5;124mcolumns\u001b[39m\u001b[38;5;124m'\u001b[39m: columns, \u001b[38;5;124m'\u001b[39m\u001b[38;5;124mra\u001b[39m\u001b[38;5;124m'\u001b[39m: ra, \u001b[38;5;124m'\u001b[39m\u001b[38;5;124mdec\u001b[39m\u001b[38;5;124m'\u001b[39m: dec,\n\u001b[1;32m    566\u001b[0m                       \u001b[38;5;124m'\u001b[39m\u001b[38;5;124mradius\u001b[39m\u001b[38;5;124m'\u001b[39m: radiusDeg, \u001b[38;5;124m'\u001b[39m\u001b[38;5;124mtable_name\u001b[39m\u001b[38;5;124m'\u001b[39m: table_name \u001b[38;5;129;01mor\u001b[39;00m \u001b[38;5;28mself\u001b[39m\u001b[38;5;241m.\u001b[39mMAIN_GAIA_TABLE \u001b[38;5;129;01mor\u001b[39;00m conf\u001b[38;5;241m.\u001b[39mMAIN_GAIA_TABLE})\n\u001b[1;32m    568\u001b[0m \u001b[38;5;28;01mif\u001b[39;00m async_job:\n\u001b[0;32m--> 569\u001b[0m     \u001b[38;5;28;01mreturn\u001b[39;00m \u001b[38;5;28;43mself\u001b[39;49m\u001b[38;5;241;43m.\u001b[39;49m\u001b[43mlaunch_job_async\u001b[49m\u001b[43m(\u001b[49m\u001b[43mquery\u001b[49m\u001b[38;5;241;43m=\u001b[39;49m\u001b[43mquery\u001b[49m\u001b[43m,\u001b[49m\n\u001b[1;32m    570\u001b[0m \u001b[43m                                 \u001b[49m\u001b[43moutput_file\u001b[49m\u001b[38;5;241;43m=\u001b[39;49m\u001b[43moutput_file\u001b[49m\u001b[43m,\u001b[49m\n\u001b[1;32m    571\u001b[0m \u001b[43m                                 \u001b[49m\u001b[43moutput_format\u001b[49m\u001b[38;5;241;43m=\u001b[39;49m\u001b[43moutput_format\u001b[49m\u001b[43m,\u001b[49m\n\u001b[1;32m    572\u001b[0m \u001b[43m                                 \u001b[49m\u001b[43mverbose\u001b[49m\u001b[38;5;241;43m=\u001b[39;49m\u001b[43mverbose\u001b[49m\u001b[43m,\u001b[49m\n\u001b[1;32m    573\u001b[0m \u001b[43m                                 \u001b[49m\u001b[43mdump_to_file\u001b[49m\u001b[38;5;241;43m=\u001b[39;49m\u001b[43mdump_to_file\u001b[49m\u001b[43m,\u001b[49m\n\u001b[1;32m    574\u001b[0m \u001b[43m                                 \u001b[49m\u001b[43mbackground\u001b[49m\u001b[38;5;241;43m=\u001b[39;49m\u001b[43mbackground\u001b[49m\u001b[43m)\u001b[49m\n\u001b[1;32m    575\u001b[0m \u001b[38;5;28;01melse\u001b[39;00m:\n\u001b[1;32m    576\u001b[0m     \u001b[38;5;28;01mreturn\u001b[39;00m \u001b[38;5;28mself\u001b[39m\u001b[38;5;241m.\u001b[39mlaunch_job(query\u001b[38;5;241m=\u001b[39mquery,\n\u001b[1;32m    577\u001b[0m                            output_file\u001b[38;5;241m=\u001b[39moutput_file,\n\u001b[1;32m    578\u001b[0m                            output_format\u001b[38;5;241m=\u001b[39moutput_format,\n\u001b[1;32m    579\u001b[0m                            verbose\u001b[38;5;241m=\u001b[39mverbose,\n\u001b[1;32m    580\u001b[0m                            dump_to_file\u001b[38;5;241m=\u001b[39mdump_to_file)\n",
      "File \u001b[0;32m~/miniconda3/envs/pysnack_1/lib/python3.10/site-packages/astroquery/gaia/core.py:892\u001b[0m, in \u001b[0;36mGaiaClass.launch_job_async\u001b[0;34m(self, query, name, output_file, output_format, verbose, dump_to_file, background, upload_resource, upload_table_name, autorun)\u001b[0m\n\u001b[1;32m    853\u001b[0m \u001b[38;5;28;01mdef\u001b[39;00m \u001b[38;5;21mlaunch_job_async\u001b[39m(\u001b[38;5;28mself\u001b[39m, query, name\u001b[38;5;241m=\u001b[39m\u001b[38;5;28;01mNone\u001b[39;00m, output_file\u001b[38;5;241m=\u001b[39m\u001b[38;5;28;01mNone\u001b[39;00m,\n\u001b[1;32m    854\u001b[0m                      output_format\u001b[38;5;241m=\u001b[39m\u001b[38;5;124m\"\u001b[39m\u001b[38;5;124mvotable\u001b[39m\u001b[38;5;124m\"\u001b[39m, verbose\u001b[38;5;241m=\u001b[39m\u001b[38;5;28;01mFalse\u001b[39;00m,\n\u001b[1;32m    855\u001b[0m                      dump_to_file\u001b[38;5;241m=\u001b[39m\u001b[38;5;28;01mFalse\u001b[39;00m, background\u001b[38;5;241m=\u001b[39m\u001b[38;5;28;01mFalse\u001b[39;00m,\n\u001b[1;32m    856\u001b[0m                      upload_resource\u001b[38;5;241m=\u001b[39m\u001b[38;5;28;01mNone\u001b[39;00m, upload_table_name\u001b[38;5;241m=\u001b[39m\u001b[38;5;28;01mNone\u001b[39;00m,\n\u001b[1;32m    857\u001b[0m                      autorun\u001b[38;5;241m=\u001b[39m\u001b[38;5;28;01mTrue\u001b[39;00m):\n\u001b[1;32m    858\u001b[0m     \u001b[38;5;124;03m\"\"\"Launches an asynchronous job\u001b[39;00m\n\u001b[1;32m    859\u001b[0m \n\u001b[1;32m    860\u001b[0m \u001b[38;5;124;03m    Parameters\u001b[39;00m\n\u001b[0;32m   (...)\u001b[0m\n\u001b[1;32m    890\u001b[0m \u001b[38;5;124;03m    A Job object\u001b[39;00m\n\u001b[1;32m    891\u001b[0m \u001b[38;5;124;03m    \"\"\"\u001b[39;00m\n\u001b[0;32m--> 892\u001b[0m     \u001b[38;5;28;01mreturn\u001b[39;00m \u001b[43mTapPlus\u001b[49m\u001b[38;5;241;43m.\u001b[39;49m\u001b[43mlaunch_job_async\u001b[49m\u001b[43m(\u001b[49m\u001b[38;5;28;43mself\u001b[39;49m\u001b[43m,\u001b[49m\u001b[43m \u001b[49m\u001b[43mquery\u001b[49m\u001b[38;5;241;43m=\u001b[39;49m\u001b[43mquery\u001b[49m\u001b[43m,\u001b[49m\n\u001b[1;32m    893\u001b[0m \u001b[43m                                    \u001b[49m\u001b[43mname\u001b[49m\u001b[38;5;241;43m=\u001b[39;49m\u001b[43mname\u001b[49m\u001b[43m,\u001b[49m\n\u001b[1;32m    894\u001b[0m \u001b[43m                                    \u001b[49m\u001b[43moutput_file\u001b[49m\u001b[38;5;241;43m=\u001b[39;49m\u001b[43moutput_file\u001b[49m\u001b[43m,\u001b[49m\n\u001b[1;32m    895\u001b[0m \u001b[43m                                    \u001b[49m\u001b[43moutput_format\u001b[49m\u001b[38;5;241;43m=\u001b[39;49m\u001b[43moutput_format\u001b[49m\u001b[43m,\u001b[49m\n\u001b[1;32m    896\u001b[0m \u001b[43m                                    \u001b[49m\u001b[43mverbose\u001b[49m\u001b[38;5;241;43m=\u001b[39;49m\u001b[43mverbose\u001b[49m\u001b[43m,\u001b[49m\n\u001b[1;32m    897\u001b[0m \u001b[43m                                    \u001b[49m\u001b[43mdump_to_file\u001b[49m\u001b[38;5;241;43m=\u001b[39;49m\u001b[43mdump_to_file\u001b[49m\u001b[43m,\u001b[49m\n\u001b[1;32m    898\u001b[0m \u001b[43m                                    \u001b[49m\u001b[43mbackground\u001b[49m\u001b[38;5;241;43m=\u001b[39;49m\u001b[43mbackground\u001b[49m\u001b[43m,\u001b[49m\n\u001b[1;32m    899\u001b[0m \u001b[43m                                    \u001b[49m\u001b[43mupload_resource\u001b[49m\u001b[38;5;241;43m=\u001b[39;49m\u001b[43mupload_resource\u001b[49m\u001b[43m,\u001b[49m\n\u001b[1;32m    900\u001b[0m \u001b[43m                                    \u001b[49m\u001b[43mupload_table_name\u001b[49m\u001b[38;5;241;43m=\u001b[39;49m\u001b[43mupload_table_name\u001b[49m\u001b[43m,\u001b[49m\n\u001b[1;32m    901\u001b[0m \u001b[43m                                    \u001b[49m\u001b[43mautorun\u001b[49m\u001b[38;5;241;43m=\u001b[39;49m\u001b[43mautorun\u001b[49m\u001b[43m)\u001b[49m\n",
      "File \u001b[0;32m~/miniconda3/envs/pysnack_1/lib/python3.10/site-packages/astroquery/utils/tap/core.py:432\u001b[0m, in \u001b[0;36mTap.launch_job_async\u001b[0;34m(self, query, name, output_file, output_format, verbose, dump_to_file, background, upload_resource, upload_table_name, autorun)\u001b[0m\n\u001b[1;32m    429\u001b[0m             \u001b[38;5;28mprint\u001b[39m(\u001b[38;5;124mf\u001b[39m\u001b[38;5;124m\"\u001b[39m\u001b[38;5;124mSaving error to: \u001b[39m\u001b[38;5;132;01m{\u001b[39;00msuitableOutputFile\u001b[38;5;132;01m}\u001b[39;00m\u001b[38;5;124m\"\u001b[39m)\n\u001b[1;32m    430\u001b[0m         \u001b[38;5;28mself\u001b[39m\u001b[38;5;241m.\u001b[39m__connHandler\u001b[38;5;241m.\u001b[39mdump_to_file(suitableOutputFile,\n\u001b[1;32m    431\u001b[0m                                         response)\n\u001b[0;32m--> 432\u001b[0m     \u001b[38;5;28;01mraise\u001b[39;00m requests\u001b[38;5;241m.\u001b[39mexceptions\u001b[38;5;241m.\u001b[39mHTTPError(response\u001b[38;5;241m.\u001b[39mreason)\n\u001b[1;32m    433\u001b[0m \u001b[38;5;28;01melse\u001b[39;00m:\n\u001b[1;32m    434\u001b[0m     location \u001b[38;5;241m=\u001b[39m \u001b[38;5;28mself\u001b[39m\u001b[38;5;241m.\u001b[39m__connHandler\u001b[38;5;241m.\u001b[39mfind_header(\n\u001b[1;32m    435\u001b[0m         response\u001b[38;5;241m.\u001b[39mgetheaders(),\n\u001b[1;32m    436\u001b[0m         \u001b[38;5;124m\"\u001b[39m\u001b[38;5;124mlocation\u001b[39m\u001b[38;5;124m\"\u001b[39m)\n",
      "\u001b[0;31mHTTPError\u001b[0m: OK"
     ]
    }
   ],
   "source": [
    "# Run the actual query to the catalogue\n",
    "gaia_sgra = Gaia.query_object_async(coordinate=sgra_coord,\n",
    "                                    radius=search_radius, \n",
    "                                    columns=['ra','dec'])"
   ]
  },
  {
   "cell_type": "code",
   "execution_count": null,
   "id": "72d200af-2c37-4c99-b618-2cc38e48a496",
   "metadata": {},
   "outputs": [],
   "source": [
    "ra_relative  = gaia_sgra['ra'].to(u.arcsec) - sgra_coord.ra\n",
    "dec_relative = gaia_sgra['dec'].to(u.arcsec) - sgra_coord.dec\n",
    "\n",
    "\n",
    "plt.plot(ra_relative, dec_relative, 'ok')\n",
    "plt.plot(0, 0, '+', ms=20)"
   ]
  },
  {
   "cell_type": "markdown",
   "id": "a1f52d44-f1b8-475f-8917-8e563b36bd39",
   "metadata": {},
   "source": [
    "### ✨ Exercise\n",
    "\n",
    "- Define the central coordinates of the cluster, `cluster_coord` of interest R.A. 130.025 deg and Dec. 19.98333 deg.\n",
    "- Define the variable `width_deg` and `height_deg` to be 3 and 2 degrees, respectively.\n",
    "- Create a table `data0` using `Gaia.query_object_async` and setting the variables `coordinate`, `width`, `height` and `columns`. The variable columns is defined with:\n",
    "```\n",
    "columns = ['ra','dec','ra_error','dec_error','parallax','parallax_error','parallax_over_error','pmra','pmra_error','pmdec','pmdec_error','matched_observations','phot_g_mean_flux','phot_g_mean_flux_error','phot_g_mean_mag','phot_bp_mean_flux','phot_bp_mean_flux_error','phot_bp_mean_mag','phot_rp_mean_flux','phot_rp_mean_flux_error','phot_rp_mean_mag','bp_rp','bp_g','g_rp','radial_velocity','radial_velocity_error','teff_val','radius_val']\n",
    "```"
   ]
  },
  {
   "cell_type": "code",
   "execution_count": null,
   "id": "0756b689-14b8-4e21-8590-d8a1529edbd5",
   "metadata": {},
   "outputs": [],
   "source": [
    "columns = ['ra','dec','ra_error','dec_error','parallax','parallax_error','parallax_over_error','pmra','pmra_error','pmdec','pmdec_error','matched_observations','phot_g_mean_flux','phot_g_mean_flux_error','phot_g_mean_mag','phot_bp_mean_flux','phot_bp_mean_flux_error','phot_bp_mean_mag','phot_rp_mean_flux','phot_rp_mean_flux_error','phot_rp_mean_mag','bp_rp','bp_g','g_rp','radial_velocity','radial_velocity_error','teff_val','radius_val']"
   ]
  },
  {
   "cell_type": "code",
   "execution_count": null,
   "id": "d433549b-4c8f-4046-9dc4-e2bfdd24cf95",
   "metadata": {},
   "outputs": [],
   "source": [
    "cluster_coord = SkyCoord(ra= 130.025,\n",
    "                         dec=19.98333,\n",
    "                         unit=(u.deg, u.deg),\n",
    "                         frame='icrs')\n",
    "width_deg = 3.0*u.deg\n",
    "height_deg = 3.0*u.deg\n",
    "\n",
    "print(cluster_coord.to_string('decimal'))\n",
    "print(width_deg, height_deg)"
   ]
  },
  {
   "cell_type": "code",
   "execution_count": null,
   "id": "54e1004e-fb32-47d8-aece-8fff5b6533e3",
   "metadata": {},
   "outputs": [],
   "source": [
    "# Run the actual query to the catalogue\n",
    "data0 = Gaia.query_object_async(coordinate = cluster_coord,\n",
    "                                width   = width_deg,\n",
    "                                height  = height_deg,\n",
    "                                columns = columns)"
   ]
  },
  {
   "cell_type": "code",
   "execution_count": null,
   "id": "3d58941b-0ec9-4ed6-ad85-c3a1d933a68e",
   "metadata": {},
   "outputs": [],
   "source": [
    "data0"
   ]
  },
  {
   "cell_type": "code",
   "execution_count": null,
   "id": "fe451eeb-67bf-4b6f-b91e-4bf29dec1d8a",
   "metadata": {},
   "outputs": [],
   "source": [
    "data0.write('../data/data0.ecsv', format='ascii.ecsv', overwrite=False)"
   ]
  },
  {
   "cell_type": "markdown",
   "id": "82e43039-96aa-4c53-893c-6d30574762bb",
   "metadata": {},
   "source": [
    "# Conclusion. In future episodes..."
   ]
  },
  {
   "cell_type": "code",
   "execution_count": null,
   "id": "59b7e697-bdbe-4fce-82c6-b30dd07acd6f",
   "metadata": {},
   "outputs": [],
   "source": [
    "fig, ax = plt.subplots(ncols=1, figsize=(14,8))\n",
    "ax.scatter(data0['ra'], data0['dec'], s=data0['phot_g_mean_flux']/1e5);\n",
    "ax.set_aspect('equal')\n",
    "\n",
    "# Here we invert the direction of the right ascension axis\n",
    "ax.invert_xaxis()\n",
    "\n",
    "ax.set_xlabel('Right Ascension [deg]')\n",
    "ax.set_ylabel('Declination [deg]');\n"
   ]
  },
  {
   "cell_type": "code",
   "execution_count": null,
   "id": "f1ddadea-75db-499b-af3d-7637fd17c42d",
   "metadata": {},
   "outputs": [],
   "source": []
  },
  {
   "cell_type": "code",
   "execution_count": null,
   "id": "26bb8f8f-711d-4b7b-be7a-5bc403ba08ec",
   "metadata": {},
   "outputs": [],
   "source": []
  },
  {
   "cell_type": "code",
   "execution_count": null,
   "id": "5701d0a7-7e9c-4534-9ced-8ca0c2fa6d2d",
   "metadata": {},
   "outputs": [],
   "source": []
  },
  {
   "cell_type": "code",
   "execution_count": null,
   "id": "c8d723b0-4e68-4ff6-83b0-97920413c3a2",
   "metadata": {},
   "outputs": [],
   "source": []
  },
  {
   "cell_type": "code",
   "execution_count": null,
   "id": "885af1e0-12d3-4853-afe2-edd190fa72c6",
   "metadata": {},
   "outputs": [],
   "source": [
    "ra0 = 130.025\n",
    "de0 = 19.98333\n",
    "w = 3\n",
    "h = 2\n",
    "\n",
    "# Define the region to query\n",
    "center_coord = SkyCoord(ra=ra0,\n",
    "                        dec=de0,\n",
    "                        unit=(u.degree, u.degree),\n",
    "                        frame='icrs')\n",
    "width_deg  = w*u.deg\n",
    "height_deg = h*u.deg"
   ]
  },
  {
   "cell_type": "markdown",
   "id": "a0ea1a61-3cd2-47e5-b374-4ad17e241131",
   "metadata": {},
   "source": [
    "Here we also include the Jupyter Magic `%time` that will report the execution time of a particular line of code to run. The Magic `%%time` could also be used to report the execution time of the whole cell."
   ]
  },
  {
   "cell_type": "code",
   "execution_count": null,
   "id": "f2b852a4-1525-45bc-9af7-a54eb2a02aea",
   "metadata": {},
   "outputs": [],
   "source": [
    "data0"
   ]
  },
  {
   "cell_type": "markdown",
   "id": "ed251aa1-3295-48a0-96da-3ac2bcc393b6",
   "metadata": {},
   "source": [
    "### ⛏ Exercise\n",
    "Make a query to retireve only the Right Ascension and Declination and their uncertainties. Store the results in table `results3` and print the table"
   ]
  },
  {
   "cell_type": "code",
   "execution_count": null,
   "id": "d3e03703-7e65-49a8-97d2-62162df76a0a",
   "metadata": {},
   "outputs": [],
   "source": [
    "%time results3 = Gaia.query_object_async(coordinate=center_coord, width=width_deg, height=height_deg, columns=['ra', 'dec'])"
   ]
  },
  {
   "cell_type": "markdown",
   "id": "5661e969-ceed-416a-beb0-95724963abeb",
   "metadata": {},
   "source": [
    "# Conclusion. In future episodes..."
   ]
  },
  {
   "cell_type": "code",
   "execution_count": null,
   "id": "ddd61917-a6e2-45a5-97dd-504651cc133f",
   "metadata": {},
   "outputs": [],
   "source": [
    "fig, ax = plt.subplots(ncols=1, figsize=(14,8))\n",
    "ax.scatter(data0['ra'], data0['dec'], s=data0['phot_g_mean_flux']/1e5);\n",
    "ax.set_aspect('equal')\n",
    "\n",
    "# Here we invert the direction of the right ascension axis\n",
    "ax.invert_xaxis()\n",
    "\n",
    "ax.set_xlabel('Right Ascension [deg]')\n",
    "ax.set_ylabel('Declination [deg]');\n"
   ]
  },
  {
   "cell_type": "markdown",
   "id": "1a43d451-a6af-4aeb-b4a8-138ec6db8dd1",
   "metadata": {},
   "source": [
    "Let's save our data for the next session"
   ]
  },
  {
   "cell_type": "markdown",
   "id": "24f22534-2377-4ac1-a445-6dc7ffe7e800",
   "metadata": {},
   "source": [
    "TBD: select only some columns"
   ]
  },
  {
   "cell_type": "code",
   "execution_count": null,
   "id": "ea433904-4b53-46f8-a547-4d2db6865256",
   "metadata": {},
   "outputs": [],
   "source": [
    "data0.write('../data/data0.ecsv', format='ascii.ecsv', overwrite=False)"
   ]
  },
  {
   "cell_type": "code",
   "execution_count": null,
   "id": "643eac90-f254-420a-9028-1ca32a2f90c7",
   "metadata": {},
   "outputs": [],
   "source": []
  },
  {
   "cell_type": "code",
   "execution_count": null,
   "id": "d9a9674f-2567-45b5-a171-bc9c41d4ba3a",
   "metadata": {},
   "outputs": [],
   "source": []
  },
  {
   "cell_type": "code",
   "execution_count": null,
   "id": "510e46fe-7717-498d-a7dc-059e0e97ef41",
   "metadata": {},
   "outputs": [],
   "source": []
  },
  {
   "cell_type": "code",
   "execution_count": 1,
   "id": "0183dbea-00d9-4326-8be4-5fab9144e384",
   "metadata": {},
   "outputs": [],
   "source": [
    "import numpy as np\n",
    "import matplotlib.pyplot as plt\n",
    "import matplotlib\n",
    "\n",
    "matplotlib.rcParams['figure.figsize'] = (18.0, 10.0)\n",
    "from astroquery.gaia import Gaia\n",
    "Gaia.ROW_LIMIT = -1\n",
    "\n",
    "import astropy.units as u\n",
    "from astropy.coordinates import SkyCoord"
   ]
  },
  {
   "cell_type": "code",
   "execution_count": 3,
   "id": "6191fe9a-36d5-423f-81c3-49c1dda4f6b2",
   "metadata": {},
   "outputs": [
    {
     "name": "stdout",
     "output_type": "stream",
     "text": [
      "None\n"
     ]
    }
   ],
   "source": [
    "print(Gaia.MAIN_GAIA_TABLE)"
   ]
  },
  {
   "cell_type": "code",
   "execution_count": 81,
   "id": "035932a4-da62-4586-bb62-6c53e4109d7c",
   "metadata": {},
   "outputs": [],
   "source": [
    "ra0 = 130.025\n",
    "de0 = 19.98333\n",
    "w = 3\n",
    "h = 2\n",
    "\n",
    "# Define the region to query\n",
    "coord = SkyCoord(ra=ra0, dec=de0, unit=(u.degree, u.degree), frame='icrs')\n",
    "width = u.Quantity(w, u.deg)\n",
    "height = u.Quantity(h, u.deg)\n",
    "\n",
    "# Run the actual query to the catalogue\n",
    "#%time r = Gaia.query_object_async(coordinate=coord, width=width, height=height)"
   ]
  },
  {
   "cell_type": "code",
   "execution_count": 82,
   "id": "881069cb-fa29-4c4f-a3e7-4928f3f8c9f7",
   "metadata": {},
   "outputs": [
    {
     "name": "stderr",
     "output_type": "stream",
     "text": [
      "WARNING: UnitsWarning: Unit 'e' not supported by the VOUnit standard.  [astropy.units.format.vounit]\n",
      "WARNING: UnitsWarning: Unit 'Msun' not supported by the VOUnit standard.  [astropy.units.format.vounit]\n",
      "WARNING: UnitsWarning: Unit 'Rsun' not supported by the VOUnit standard.  [astropy.units.format.vounit]\n",
      "WARNING: UnitsWarning: The unit 'au' has been deprecated in the VOUnit standard. Suggested: 1.4959787e+11m. [astropy.units.format.utils]\n",
      "WARNING: UnitsWarning: Unit 'as' not supported by the VOUnit standard. Did you mean 365.25d, A or a (deprecated)? [astropy.units.format.vounit]\n",
      "WARNING: UnitsWarning: The unit 'a' has been deprecated in the VOUnit standard. Suggested: 365.25d. [astropy.units.format.utils]\n",
      "WARNING: UnitsWarning: Unit 'Mjup' not supported by the VOUnit standard.  [astropy.units.format.vounit]\n",
      "WARNING: UnitsWarning: Unit 'Lsun' not supported by the VOUnit standard.  [astropy.units.format.vounit]\n"
     ]
    },
    {
     "data": {
      "text/plain": [
       "['I/350: Gaia EDR3 (Gaia Collaboration, 2020)',\n",
       " 'I/352: Distances to 1.47 billion stars in Gaia EDR3 (Bailer-Jones+, 2021)',\n",
       " 'I/354: StarHorse2, Gaia EDR3 photo-astrometric distances (Anders+, 2022)',\n",
       " 'J/ApJS/254/42: Hipparcos-Gaia (EDR3) Catalog of Accelerations (Brandt, 2021)',\n",
       " 'J/A+A/645/L8: Parallaxes & proper motions of OB stars from Gaia EDR3 (Xu+, 2021)',\n",
       " 'J/A+A/649/A109: Radial velocities of 4 eclipsing binaries (Graczyk+, 2021)',\n",
       " 'J/A+A/650/A182: Homogeneous study of Herbig Ae/Be stars (Guzman-Diaz+, 2021)',\n",
       " 'J/A+A/651/A64: Position difference vectors and of the jets (Lambert+, 2021)',\n",
       " 'J/A+A/651/A104: Spiral arms Gaia EDR3 (Poggio+, 2021)',\n",
       " 'J/A+A/652/A2: rho Oph region revisited with Gaia EDR3 (Grasser+, 2021)',\n",
       " 'J/A+A/654/A20: Parallax zero-point offset from Gaia EDR3 data (Groenewegen, 2021)',\n",
       " 'J/A+A/654/A107: Catalogues of Blue Horizontal Branch Stars (Culpan+, 2021)',\n",
       " 'J/A+A/654/A122: X1 Fornacis cluster DANCe (Galli+, 2021)',\n",
       " 'J/A+A/656/A51: Planetary nebulae in Gaia EDR3 (Gonzalez-Santamaria+, 2021)',\n",
       " 'J/A+A/656/A110: Gaia EDR3 planetary nebula central star distances (Chornay+ 2021)',\n",
       " 'J/A+A/657/A7: Stellar and substellar companions from Gaia EDR3 (Kervella+, 2022)',\n",
       " 'J/A+A/657/A53: Wide-orbit companions to K-type stars in Sco-Cen (Bohn+, 2022)',\n",
       " 'J/A+A/657/A54: Local Group Gaia eDR3 systemic motions (Battaglia+, 2022)',\n",
       " 'J/A+A/657/A123: OGLE IV and Gaia EDR3 data for RR Lyrae stars (Oliveira+, 2022)',\n",
       " 'J/AJ/162/110: Gaia EDR3 census of the Taurus-Auriga complex (Krolikowski+, 2021)',\n",
       " 'J/AJ/162/146: Kinematic and photometry of King 11 with Gaia EDR3 (Sariya+, 2021)',\n",
       " 'J/MNRAS/503/236: UVIT catalog and membership of 6 open clusters (Jadhav+, 2021)',\n",
       " 'J/MNRAS/505/5978: Gaia EDR3 view on Galactic globular clusters (Vasiliev+, 2021)',\n",
       " 'J/MNRAS/508/3877: Catalogue of white dwarfs in Gaia EDR3 (Gentile+, 2021)',\n",
       " 'J/MNRAS/510/4308: Local main-sequence stars with phot. metallicities (Kim+, 2022)',\n",
       " 'J/other/ApSS/366.92: Stars in Alessi-Teutsch 9 (ASCC 10) (Sanchez+, 2021)']"
      ]
     },
     "execution_count": 82,
     "metadata": {},
     "output_type": "execute_result"
    }
   ],
   "source": [
    "catalog_list = Vizier.find_catalogs('edr3')\n",
    "['{}: {}'.format(k, v.description) for k, v in catalog_list.items()]"
   ]
  },
  {
   "cell_type": "code",
   "execution_count": 84,
   "id": "56fe12ea-fe70-48f0-924a-ee36728e3217",
   "metadata": {},
   "outputs": [],
   "source": [
    "from astroquery.gaia import Gaia\n",
    "Gaia.MAIN_GAIA_TABLE = \"gaiaedr3.gaia_source\" # Select early Data Release 3\n",
    "Gaia.MAIN_GAIA_TABLE = \"gaiadr2.gaia_source\"  # Reselect Data Release 2, default"
   ]
  },
  {
   "cell_type": "code",
   "execution_count": 85,
   "id": "a1927f38-cf0c-4aba-be14-3f866b62ef20",
   "metadata": {},
   "outputs": [
    {
     "ename": "HTTPError",
     "evalue": "OK",
     "output_type": "error",
     "traceback": [
      "\u001b[0;31m---------------------------------------------------------------------------\u001b[0m",
      "\u001b[0;31mHTTPError\u001b[0m                                 Traceback (most recent call last)",
      "Input \u001b[0;32mIn [85]\u001b[0m, in \u001b[0;36m<cell line: 8>\u001b[0;34m()\u001b[0m\n\u001b[1;32m      6\u001b[0m width \u001b[38;5;241m=\u001b[39m u\u001b[38;5;241m.\u001b[39mQuantity(\u001b[38;5;241m0.1\u001b[39m, u\u001b[38;5;241m.\u001b[39mdeg)\n\u001b[1;32m      7\u001b[0m height \u001b[38;5;241m=\u001b[39m u\u001b[38;5;241m.\u001b[39mQuantity(\u001b[38;5;241m0.1\u001b[39m, u\u001b[38;5;241m.\u001b[39mdeg)\n\u001b[0;32m----> 8\u001b[0m r \u001b[38;5;241m=\u001b[39m \u001b[43mGaia\u001b[49m\u001b[38;5;241;43m.\u001b[39;49m\u001b[43mquery_object_async\u001b[49m\u001b[43m(\u001b[49m\u001b[43mcoordinate\u001b[49m\u001b[38;5;241;43m=\u001b[39;49m\u001b[43mcoord\u001b[49m\u001b[43m,\u001b[49m\u001b[43m \u001b[49m\u001b[43mwidth\u001b[49m\u001b[38;5;241;43m=\u001b[39;49m\u001b[43mwidth\u001b[49m\u001b[43m,\u001b[49m\u001b[43m \u001b[49m\u001b[43mheight\u001b[49m\u001b[38;5;241;43m=\u001b[39;49m\u001b[43mheight\u001b[49m\u001b[43m)\u001b[49m\n\u001b[1;32m     10\u001b[0m r\u001b[38;5;241m.\u001b[39mpprint(max_lines\u001b[38;5;241m=\u001b[39m\u001b[38;5;241m12\u001b[39m, max_width\u001b[38;5;241m=\u001b[39m\u001b[38;5;241m130\u001b[39m)\n",
      "File \u001b[0;32m~/miniconda3/envs/pysnack_1/lib/python3.10/site-packages/astroquery/gaia/core.py:487\u001b[0m, in \u001b[0;36mGaiaClass.query_object_async\u001b[0;34m(self, coordinate, radius, width, height, verbose, columns)\u001b[0m\n\u001b[1;32m    463\u001b[0m \u001b[38;5;28;01mdef\u001b[39;00m \u001b[38;5;21mquery_object_async\u001b[39m(\u001b[38;5;28mself\u001b[39m, coordinate, radius\u001b[38;5;241m=\u001b[39m\u001b[38;5;28;01mNone\u001b[39;00m, width\u001b[38;5;241m=\u001b[39m\u001b[38;5;28;01mNone\u001b[39;00m,\n\u001b[1;32m    464\u001b[0m                        height\u001b[38;5;241m=\u001b[39m\u001b[38;5;28;01mNone\u001b[39;00m, verbose\u001b[38;5;241m=\u001b[39m\u001b[38;5;28;01mFalse\u001b[39;00m, columns\u001b[38;5;241m=\u001b[39m[]):\n\u001b[1;32m    465\u001b[0m     \u001b[38;5;124;03m\"\"\"Launches a job (async)\u001b[39;00m\n\u001b[1;32m    466\u001b[0m \u001b[38;5;124;03m    TAP & TAP+\u001b[39;00m\n\u001b[1;32m    467\u001b[0m \n\u001b[0;32m   (...)\u001b[0m\n\u001b[1;32m    485\u001b[0m \u001b[38;5;124;03m    The job results (astropy.table).\u001b[39;00m\n\u001b[1;32m    486\u001b[0m \u001b[38;5;124;03m    \"\"\"\u001b[39;00m\n\u001b[0;32m--> 487\u001b[0m     \u001b[38;5;28;01mreturn\u001b[39;00m \u001b[38;5;28;43mself\u001b[39;49m\u001b[38;5;241;43m.\u001b[39;49m\u001b[43m__query_object\u001b[49m\u001b[43m(\u001b[49m\u001b[43mcoordinate\u001b[49m\u001b[43m,\u001b[49m\u001b[43m \u001b[49m\u001b[43mradius\u001b[49m\u001b[43m,\u001b[49m\u001b[43m \u001b[49m\u001b[43mwidth\u001b[49m\u001b[43m,\u001b[49m\u001b[43m \u001b[49m\u001b[43mheight\u001b[49m\u001b[43m,\u001b[49m\u001b[43m \u001b[49m\u001b[43masync_job\u001b[49m\u001b[38;5;241;43m=\u001b[39;49m\u001b[38;5;28;43;01mTrue\u001b[39;49;00m\u001b[43m,\u001b[49m\u001b[43m \u001b[49m\u001b[43mverbose\u001b[49m\u001b[38;5;241;43m=\u001b[39;49m\u001b[43mverbose\u001b[49m\u001b[43m,\u001b[49m\u001b[43m \u001b[49m\u001b[43mcolumns\u001b[49m\u001b[38;5;241;43m=\u001b[39;49m\u001b[43mcolumns\u001b[49m\u001b[43m)\u001b[49m\n",
      "File \u001b[0;32m~/miniconda3/envs/pysnack_1/lib/python3.10/site-packages/astroquery/gaia/core.py:432\u001b[0m, in \u001b[0;36mGaiaClass.__query_object\u001b[0;34m(self, coordinate, radius, width, height, async_job, verbose, columns)\u001b[0m\n\u001b[1;32m    404\u001b[0m query \u001b[38;5;241m=\u001b[39m \u001b[38;5;124m\"\"\"\u001b[39m\n\u001b[1;32m    405\u001b[0m \u001b[38;5;124m        SELECT\u001b[39m\n\u001b[1;32m    406\u001b[0m \u001b[38;5;124m          \u001b[39m\u001b[38;5;132;01m{row_limit}\u001b[39;00m\n\u001b[0;32m   (...)\u001b[0m\n\u001b[1;32m    429\u001b[0m                       \u001b[38;5;124m'\u001b[39m\u001b[38;5;124mcolumns\u001b[39m\u001b[38;5;124m'\u001b[39m: columns, \u001b[38;5;124m'\u001b[39m\u001b[38;5;124mtable_name\u001b[39m\u001b[38;5;124m'\u001b[39m: \u001b[38;5;28mself\u001b[39m\u001b[38;5;241m.\u001b[39mMAIN_GAIA_TABLE \u001b[38;5;129;01mor\u001b[39;00m conf\u001b[38;5;241m.\u001b[39mMAIN_GAIA_TABLE, \u001b[38;5;124m'\u001b[39m\u001b[38;5;124mra\u001b[39m\u001b[38;5;124m'\u001b[39m: ra, \u001b[38;5;124m'\u001b[39m\u001b[38;5;124mdec\u001b[39m\u001b[38;5;124m'\u001b[39m: dec,\n\u001b[1;32m    430\u001b[0m                       \u001b[38;5;124m'\u001b[39m\u001b[38;5;124mwidth\u001b[39m\u001b[38;5;124m'\u001b[39m: widthDeg\u001b[38;5;241m.\u001b[39mvalue, \u001b[38;5;124m'\u001b[39m\u001b[38;5;124mheight\u001b[39m\u001b[38;5;124m'\u001b[39m: heightDeg\u001b[38;5;241m.\u001b[39mvalue})\n\u001b[1;32m    431\u001b[0m \u001b[38;5;28;01mif\u001b[39;00m async_job:\n\u001b[0;32m--> 432\u001b[0m     job \u001b[38;5;241m=\u001b[39m \u001b[38;5;28;43mself\u001b[39;49m\u001b[38;5;241;43m.\u001b[39;49m\u001b[43mlaunch_job_async\u001b[49m\u001b[43m(\u001b[49m\u001b[43mquery\u001b[49m\u001b[43m,\u001b[49m\u001b[43m \u001b[49m\u001b[43mverbose\u001b[49m\u001b[38;5;241;43m=\u001b[39;49m\u001b[43mverbose\u001b[49m\u001b[43m)\u001b[49m\n\u001b[1;32m    433\u001b[0m \u001b[38;5;28;01melse\u001b[39;00m:\n\u001b[1;32m    434\u001b[0m     job \u001b[38;5;241m=\u001b[39m \u001b[38;5;28mself\u001b[39m\u001b[38;5;241m.\u001b[39mlaunch_job(query, verbose\u001b[38;5;241m=\u001b[39mverbose)\n",
      "File \u001b[0;32m~/miniconda3/envs/pysnack_1/lib/python3.10/site-packages/astroquery/gaia/core.py:892\u001b[0m, in \u001b[0;36mGaiaClass.launch_job_async\u001b[0;34m(self, query, name, output_file, output_format, verbose, dump_to_file, background, upload_resource, upload_table_name, autorun)\u001b[0m\n\u001b[1;32m    853\u001b[0m \u001b[38;5;28;01mdef\u001b[39;00m \u001b[38;5;21mlaunch_job_async\u001b[39m(\u001b[38;5;28mself\u001b[39m, query, name\u001b[38;5;241m=\u001b[39m\u001b[38;5;28;01mNone\u001b[39;00m, output_file\u001b[38;5;241m=\u001b[39m\u001b[38;5;28;01mNone\u001b[39;00m,\n\u001b[1;32m    854\u001b[0m                      output_format\u001b[38;5;241m=\u001b[39m\u001b[38;5;124m\"\u001b[39m\u001b[38;5;124mvotable\u001b[39m\u001b[38;5;124m\"\u001b[39m, verbose\u001b[38;5;241m=\u001b[39m\u001b[38;5;28;01mFalse\u001b[39;00m,\n\u001b[1;32m    855\u001b[0m                      dump_to_file\u001b[38;5;241m=\u001b[39m\u001b[38;5;28;01mFalse\u001b[39;00m, background\u001b[38;5;241m=\u001b[39m\u001b[38;5;28;01mFalse\u001b[39;00m,\n\u001b[1;32m    856\u001b[0m                      upload_resource\u001b[38;5;241m=\u001b[39m\u001b[38;5;28;01mNone\u001b[39;00m, upload_table_name\u001b[38;5;241m=\u001b[39m\u001b[38;5;28;01mNone\u001b[39;00m,\n\u001b[1;32m    857\u001b[0m                      autorun\u001b[38;5;241m=\u001b[39m\u001b[38;5;28;01mTrue\u001b[39;00m):\n\u001b[1;32m    858\u001b[0m     \u001b[38;5;124;03m\"\"\"Launches an asynchronous job\u001b[39;00m\n\u001b[1;32m    859\u001b[0m \n\u001b[1;32m    860\u001b[0m \u001b[38;5;124;03m    Parameters\u001b[39;00m\n\u001b[0;32m   (...)\u001b[0m\n\u001b[1;32m    890\u001b[0m \u001b[38;5;124;03m    A Job object\u001b[39;00m\n\u001b[1;32m    891\u001b[0m \u001b[38;5;124;03m    \"\"\"\u001b[39;00m\n\u001b[0;32m--> 892\u001b[0m     \u001b[38;5;28;01mreturn\u001b[39;00m \u001b[43mTapPlus\u001b[49m\u001b[38;5;241;43m.\u001b[39;49m\u001b[43mlaunch_job_async\u001b[49m\u001b[43m(\u001b[49m\u001b[38;5;28;43mself\u001b[39;49m\u001b[43m,\u001b[49m\u001b[43m \u001b[49m\u001b[43mquery\u001b[49m\u001b[38;5;241;43m=\u001b[39;49m\u001b[43mquery\u001b[49m\u001b[43m,\u001b[49m\n\u001b[1;32m    893\u001b[0m \u001b[43m                                    \u001b[49m\u001b[43mname\u001b[49m\u001b[38;5;241;43m=\u001b[39;49m\u001b[43mname\u001b[49m\u001b[43m,\u001b[49m\n\u001b[1;32m    894\u001b[0m \u001b[43m                                    \u001b[49m\u001b[43moutput_file\u001b[49m\u001b[38;5;241;43m=\u001b[39;49m\u001b[43moutput_file\u001b[49m\u001b[43m,\u001b[49m\n\u001b[1;32m    895\u001b[0m \u001b[43m                                    \u001b[49m\u001b[43moutput_format\u001b[49m\u001b[38;5;241;43m=\u001b[39;49m\u001b[43moutput_format\u001b[49m\u001b[43m,\u001b[49m\n\u001b[1;32m    896\u001b[0m \u001b[43m                                    \u001b[49m\u001b[43mverbose\u001b[49m\u001b[38;5;241;43m=\u001b[39;49m\u001b[43mverbose\u001b[49m\u001b[43m,\u001b[49m\n\u001b[1;32m    897\u001b[0m \u001b[43m                                    \u001b[49m\u001b[43mdump_to_file\u001b[49m\u001b[38;5;241;43m=\u001b[39;49m\u001b[43mdump_to_file\u001b[49m\u001b[43m,\u001b[49m\n\u001b[1;32m    898\u001b[0m \u001b[43m                                    \u001b[49m\u001b[43mbackground\u001b[49m\u001b[38;5;241;43m=\u001b[39;49m\u001b[43mbackground\u001b[49m\u001b[43m,\u001b[49m\n\u001b[1;32m    899\u001b[0m \u001b[43m                                    \u001b[49m\u001b[43mupload_resource\u001b[49m\u001b[38;5;241;43m=\u001b[39;49m\u001b[43mupload_resource\u001b[49m\u001b[43m,\u001b[49m\n\u001b[1;32m    900\u001b[0m \u001b[43m                                    \u001b[49m\u001b[43mupload_table_name\u001b[49m\u001b[38;5;241;43m=\u001b[39;49m\u001b[43mupload_table_name\u001b[49m\u001b[43m,\u001b[49m\n\u001b[1;32m    901\u001b[0m \u001b[43m                                    \u001b[49m\u001b[43mautorun\u001b[49m\u001b[38;5;241;43m=\u001b[39;49m\u001b[43mautorun\u001b[49m\u001b[43m)\u001b[49m\n",
      "File \u001b[0;32m~/miniconda3/envs/pysnack_1/lib/python3.10/site-packages/astroquery/utils/tap/core.py:432\u001b[0m, in \u001b[0;36mTap.launch_job_async\u001b[0;34m(self, query, name, output_file, output_format, verbose, dump_to_file, background, upload_resource, upload_table_name, autorun)\u001b[0m\n\u001b[1;32m    429\u001b[0m             \u001b[38;5;28mprint\u001b[39m(\u001b[38;5;124mf\u001b[39m\u001b[38;5;124m\"\u001b[39m\u001b[38;5;124mSaving error to: \u001b[39m\u001b[38;5;132;01m{\u001b[39;00msuitableOutputFile\u001b[38;5;132;01m}\u001b[39;00m\u001b[38;5;124m\"\u001b[39m)\n\u001b[1;32m    430\u001b[0m         \u001b[38;5;28mself\u001b[39m\u001b[38;5;241m.\u001b[39m__connHandler\u001b[38;5;241m.\u001b[39mdump_to_file(suitableOutputFile,\n\u001b[1;32m    431\u001b[0m                                         response)\n\u001b[0;32m--> 432\u001b[0m     \u001b[38;5;28;01mraise\u001b[39;00m requests\u001b[38;5;241m.\u001b[39mexceptions\u001b[38;5;241m.\u001b[39mHTTPError(response\u001b[38;5;241m.\u001b[39mreason)\n\u001b[1;32m    433\u001b[0m \u001b[38;5;28;01melse\u001b[39;00m:\n\u001b[1;32m    434\u001b[0m     location \u001b[38;5;241m=\u001b[39m \u001b[38;5;28mself\u001b[39m\u001b[38;5;241m.\u001b[39m__connHandler\u001b[38;5;241m.\u001b[39mfind_header(\n\u001b[1;32m    435\u001b[0m         response\u001b[38;5;241m.\u001b[39mgetheaders(),\n\u001b[1;32m    436\u001b[0m         \u001b[38;5;124m\"\u001b[39m\u001b[38;5;124mlocation\u001b[39m\u001b[38;5;124m\"\u001b[39m)\n",
      "\u001b[0;31mHTTPError\u001b[0m: OK"
     ]
    }
   ],
   "source": [
    "import astropy.units as u\n",
    "from astropy.coordinates import SkyCoord\n",
    "from astroquery.gaia import Gaia\n",
    "\n",
    "coord = SkyCoord(ra=280, dec=-60, unit=(u.degree, u.degree), frame='icrs')\n",
    "width = u.Quantity(0.1, u.deg)\n",
    "height = u.Quantity(0.1, u.deg)\n",
    "r = Gaia.query_object_async(coordinate=coord, width=width, height=height)\n",
    "\n",
    "r.pprint(max_lines=12, max_width=130)"
   ]
  },
  {
   "cell_type": "code",
   "execution_count": null,
   "id": "485890d3-cf7c-4bc5-a366-515903c3fdc6",
   "metadata": {},
   "outputs": [],
   "source": []
  }
 ],
 "metadata": {
  "kernelspec": {
   "display_name": "Python 3 (ipykernel)",
   "language": "python",
   "name": "python3"
  },
  "language_info": {
   "codemirror_mode": {
    "name": "ipython",
    "version": 3
   },
   "file_extension": ".py",
   "mimetype": "text/x-python",
   "name": "python",
   "nbconvert_exporter": "python",
   "pygments_lexer": "ipython3",
   "version": "3.10.0"
  }
 },
 "nbformat": 4,
 "nbformat_minor": 5
}
