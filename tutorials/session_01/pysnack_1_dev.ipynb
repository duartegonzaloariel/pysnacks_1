{
 "cells": [
  {
   "cell_type": "markdown",
   "id": "c42f305d-5c5f-4631-8a35-bec08ff9004d",
   "metadata": {},
   "source": [
    "# Introduction to the problem"
   ]
  },
  {
   "cell_type": "markdown",
   "id": "ffefa332-5f99-4a17-a21e-dc79f61e0f7f",
   "metadata": {},
   "source": [
    "# Outline of the session. What will we learn?"
   ]
  },
  {
   "cell_type": "markdown",
   "id": "34dd380b-5dd9-4490-b156-ade5866b3960",
   "metadata": {},
   "source": [
    "# Using Jupyter\n",
    "Quick intro to Jupyter Lab interface"
   ]
  },
  {
   "cell_type": "markdown",
   "id": "e7a58c15-013e-4cbf-91b8-75d52468536e",
   "metadata": {
    "tags": []
   },
   "source": [
    "# Astropy Main ingredients"
   ]
  },
  {
   "cell_type": "markdown",
   "id": "dda1b2b0-5789-45a2-8e07-743f4e422497",
   "metadata": {
    "tags": []
   },
   "source": [
    "## Astropy Units and Quantities\n"
   ]
  },
  {
   "cell_type": "code",
   "execution_count": 217,
   "id": "833ea751-9aa0-4a9a-a9eb-d0c55850d0c4",
   "metadata": {},
   "outputs": [
    {
     "data": {
      "text/latex": [
       "$42 \\; \\mathrm{m}$"
      ],
      "text/plain": [
       "<Quantity 42. m>"
      ]
     },
     "execution_count": 217,
     "metadata": {},
     "output_type": "execute_result"
    }
   ],
   "source": [
    "from astropy import units as u\n",
    "import numpy as np\n",
    "\n",
    "42.0 * u.meter  "
   ]
  },
  {
   "cell_type": "code",
   "execution_count": 218,
   "id": "4b4fdb42-3ea6-49e0-8723-7bfbfeaf5fc3",
   "metadata": {},
   "outputs": [],
   "source": [
    "a = [1, 2, 3, 4, 5, 6]*u.deg"
   ]
  },
  {
   "cell_type": "code",
   "execution_count": 219,
   "id": "25f6f511-d20c-4202-852a-e4281acf647f",
   "metadata": {},
   "outputs": [
    {
     "data": {
      "text/latex": [
       "$[1.0066667,~2.0066667,~3.0066667,~4.0066667,~5.0066667,~6.0066667] \\; \\mathrm{{}^{\\circ}}$"
      ],
      "text/plain": [
       "<Quantity [1.00666667, 2.00666667, 3.00666667, 4.00666667, 5.00666667,\n",
       "           6.00666667] deg>"
      ]
     },
     "execution_count": 219,
     "metadata": {},
     "output_type": "execute_result"
    }
   ],
   "source": [
    "a + 24*u.arcsec"
   ]
  },
  {
   "cell_type": "code",
   "execution_count": 220,
   "id": "eb08a486-42d4-4b1e-acdd-80c505aaaf55",
   "metadata": {},
   "outputs": [
    {
     "data": {
      "text/latex": [
       "$[3600,~7200,~10800,~14400,~18000,~21600] \\; \\mathrm{{}^{\\prime\\prime}}$"
      ],
      "text/plain": [
       "<Quantity [ 3600.,  7200., 10800., 14400., 18000., 21600.] arcsec>"
      ]
     },
     "execution_count": 220,
     "metadata": {},
     "output_type": "execute_result"
    }
   ],
   "source": [
    "a.to('arcsec')"
   ]
  },
  {
   "cell_type": "code",
   "execution_count": 221,
   "id": "f142b097-a701-4a50-ac29-ec7ac643842b",
   "metadata": {},
   "outputs": [
    {
     "data": {
      "text/latex": [
       "$3.5 \\; \\mathrm{{}^{\\circ}}$"
      ],
      "text/plain": [
       "<Quantity 3.5 deg>"
      ]
     },
     "execution_count": 221,
     "metadata": {},
     "output_type": "execute_result"
    }
   ],
   "source": [
    "np.mean(a)"
   ]
  },
  {
   "cell_type": "code",
   "execution_count": 222,
   "id": "0f03f18b-7b5f-484a-960b-2624b64d69dc",
   "metadata": {},
   "outputs": [
    {
     "ename": "NameError",
     "evalue": "name 'v' is not defined",
     "output_type": "error",
     "traceback": [
      "\u001b[0;31m---------------------------------------------------------------------------\u001b[0m",
      "\u001b[0;31mNameError\u001b[0m                                 Traceback (most recent call last)",
      "\u001b[0;32m/tmp/ipykernel_20429/3947161591.py\u001b[0m in \u001b[0;36m<module>\u001b[0;34m\u001b[0m\n\u001b[0;32m----> 1\u001b[0;31m \u001b[0mprint\u001b[0m\u001b[0;34m(\u001b[0m\u001b[0mv\u001b[0m\u001b[0;34m.\u001b[0m\u001b[0mvalue\u001b[0m\u001b[0;34m)\u001b[0m\u001b[0;34m\u001b[0m\u001b[0;34m\u001b[0m\u001b[0m\n\u001b[0m\u001b[1;32m      2\u001b[0m \u001b[0mprint\u001b[0m\u001b[0;34m(\u001b[0m\u001b[0mv\u001b[0m\u001b[0;34m.\u001b[0m\u001b[0munit\u001b[0m\u001b[0;34m)\u001b[0m\u001b[0;34m\u001b[0m\u001b[0;34m\u001b[0m\u001b[0m\n",
      "\u001b[0;31mNameError\u001b[0m: name 'v' is not defined"
     ]
    }
   ],
   "source": [
    "print(v.value)\n",
    "print(v.unit)"
   ]
  },
  {
   "cell_type": "code",
   "execution_count": null,
   "id": "efb0908f-ce6b-488b-9152-2fc25693291c",
   "metadata": {},
   "outputs": [],
   "source": [
    "Emin = 100*u.keV\n",
    "Emin"
   ]
  },
  {
   "cell_type": "code",
   "execution_count": null,
   "id": "fd245ba4-037d-4dbf-b617-fcb8e15f9b7a",
   "metadata": {},
   "outputs": [],
   "source": [
    "Emax = 10*u.MeV\n",
    "Emax"
   ]
  },
  {
   "cell_type": "code",
   "execution_count": null,
   "id": "ecefcea4-153c-4f04-9565-e8bc04468eb4",
   "metadata": {},
   "outputs": [],
   "source": [
    "Emax/Emin"
   ]
  },
  {
   "cell_type": "code",
   "execution_count": 6,
   "id": "f9494945-fa9b-46f7-95f6-72aff28084a1",
   "metadata": {},
   "outputs": [
    {
     "ename": "NameError",
     "evalue": "name 'np' is not defined",
     "output_type": "error",
     "traceback": [
      "\u001b[0;31m---------------------------------------------------------------------------\u001b[0m",
      "\u001b[0;31mNameError\u001b[0m                                 Traceback (most recent call last)",
      "\u001b[0;32m/tmp/ipykernel_14817/2751573103.py\u001b[0m in \u001b[0;36m<module>\u001b[0;34m\u001b[0m\n\u001b[0;32m----> 1\u001b[0;31m \u001b[0mnp\u001b[0m\u001b[0;34m.\u001b[0m\u001b[0mlog\u001b[0m\u001b[0;34m(\u001b[0m\u001b[0mEmax\u001b[0m\u001b[0;34m/\u001b[0m\u001b[0mEmin\u001b[0m\u001b[0;34m)\u001b[0m\u001b[0;34m\u001b[0m\u001b[0;34m\u001b[0m\u001b[0m\n\u001b[0m",
      "\u001b[0;31mNameError\u001b[0m: name 'np' is not defined"
     ]
    }
   ],
   "source": [
    "np.log(Emax/Emin)"
   ]
  },
  {
   "cell_type": "code",
   "execution_count": 7,
   "id": "c0ca5a78-6680-4dd6-a254-3bac1a2c9044",
   "metadata": {},
   "outputs": [
    {
     "data": {
      "text/latex": [
       "$100 \\; \\mathrm{\\frac{m}{s}}$"
      ],
      "text/plain": [
       "<Quantity 100. m / s>"
      ]
     },
     "execution_count": 7,
     "metadata": {},
     "output_type": "execute_result"
    }
   ],
   "source": [
    "v = 100 * u.meter / u.second\n",
    "v"
   ]
  },
  {
   "cell_type": "code",
   "execution_count": 8,
   "id": "81be3ea1-9d47-4457-8f02-cf1e372771e0",
   "metadata": {},
   "outputs": [
    {
     "data": {
      "text/latex": [
       "$1.0227122 \\times 10^{-7} \\; \\mathrm{\\frac{pc}{yr}}$"
      ],
      "text/plain": [
       "<Quantity 1.02271217e-07 pc / yr>"
      ]
     },
     "execution_count": 8,
     "metadata": {},
     "output_type": "execute_result"
    }
   ],
   "source": [
    "v.to(u.pc/u.yr)"
   ]
  },
  {
   "cell_type": "markdown",
   "id": "394f5570-1b81-4b03-a7cb-4354ddcbfde3",
   "metadata": {},
   "source": [
    "An alternative way to create a `Quantity` object, which is much faster for large datasets"
   ]
  },
  {
   "cell_type": "code",
   "execution_count": 12,
   "id": "be370879-b263-4b86-907e-b76ab992e892",
   "metadata": {},
   "outputs": [
    {
     "data": {
      "text/latex": [
       "$[0,~1,~2,~3,~4,~5,~6,~7,~8,~9] \\; \\mathrm{m}$"
      ],
      "text/plain": [
       "<Quantity [0., 1., 2., 3., 4., 5., 6., 7., 8., 9.] m>"
      ]
     },
     "execution_count": 12,
     "metadata": {},
     "output_type": "execute_result"
    }
   ],
   "source": [
    "x = u.Quantity(np.arange(10), unit='m')\n",
    "x"
   ]
  },
  {
   "cell_type": "markdown",
   "id": "6f3bda41-5e53-46bd-8b0d-84a6e14a1fcb",
   "metadata": {},
   "source": [
    "Introducing constants. A full list of available constants is here: http://docs.astropy.org/en/stable/constants/#module-astropy.constants"
   ]
  },
  {
   "cell_type": "code",
   "execution_count": 13,
   "id": "47d77a36-3237-470e-aaa3-008f1ad7fe4a",
   "metadata": {},
   "outputs": [
    {
     "data": {
      "text/latex": [
       "$2.9979246 \\times 10^{8} \\; \\mathrm{\\frac{m}{s}}$"
      ],
      "text/plain": [
       "<<class 'astropy.constants.codata2018.CODATA2018'> name='Speed of light in vacuum' value=299792458.0 uncertainty=0.0 unit='m / s' reference='CODATA 2018'>"
      ]
     },
     "execution_count": 13,
     "metadata": {},
     "output_type": "execute_result"
    }
   ],
   "source": [
    "from astropy import constants as const\n",
    "# speed of light\n",
    "speed_of_light = const.c\n",
    "speed_of_light"
   ]
  },
  {
   "cell_type": "code",
   "execution_count": 14,
   "id": "b2bbdc47-68da-48af-9dfd-9446a9e6d7ab",
   "metadata": {},
   "outputs": [
    {
     "data": {
      "text/latex": [
       "$3.335641 \\times 10^{-9} \\; \\mathrm{\\frac{AU\\,s}{m}}$"
      ],
      "text/plain": [
       "<Quantity 3.33564095e-09 AU s / m>"
      ]
     },
     "execution_count": 14,
     "metadata": {},
     "output_type": "execute_result"
    }
   ],
   "source": [
    "# distance sun - earth\n",
    "distance_sun = 1 * u.au\n",
    "\n",
    "# time\n",
    "time_sun = distance_sun / speed_of_light\n",
    "time_sun"
   ]
  },
  {
   "cell_type": "code",
   "execution_count": 15,
   "id": "73eb8901-ebad-4910-a16f-75249e196319",
   "metadata": {},
   "outputs": [
    {
     "data": {
      "text/latex": [
       "$8.3167464 \\; \\mathrm{min}$"
      ],
      "text/plain": [
       "<Quantity 8.3167464 min>"
      ]
     },
     "execution_count": 15,
     "metadata": {},
     "output_type": "execute_result"
    }
   ],
   "source": [
    "time_sun.to('min')"
   ]
  },
  {
   "cell_type": "code",
   "execution_count": 16,
   "id": "ad8097df-02e1-48ce-8e39-84d8c5eeb24a",
   "metadata": {},
   "outputs": [
    {
     "name": "stdout",
     "output_type": "stream",
     "text": [
      "SI: 149597870700.0 m\n",
      "CGS: 14959787070000.0 cm\n"
     ]
    }
   ],
   "source": [
    "print(f\"SI: {distance_sun.si}\")\n",
    "print(f\"CGS: {distance_sun.cgs}\")"
   ]
  },
  {
   "cell_type": "markdown",
   "id": "9b1bc49c-754b-49f8-82a9-547fb1bfffbc",
   "metadata": {},
   "source": [
    "### ⛏ Exercise\n",
    "Assuming that the distance to the Galactic Center is 8 kpc, compute the time it takes for light to travel from the Galactic Center to Earth in years."
   ]
  },
  {
   "cell_type": "code",
   "execution_count": 17,
   "id": "a75584da-ca65-45b9-b126-f1396539f50c",
   "metadata": {},
   "outputs": [
    {
     "data": {
      "text/latex": [
       "$26092.51 \\; \\mathrm{yr}$"
      ],
      "text/plain": [
       "<Quantity 26092.51021734 yr>"
      ]
     },
     "execution_count": 17,
     "metadata": {},
     "output_type": "execute_result"
    }
   ],
   "source": [
    "# distance to GC\n",
    "distance_gc = 8 * u.kpc\n",
    "\n",
    "# time\n",
    "time_gc = distance_gc / speed_of_light\n",
    "time_gc.to(u.yr)"
   ]
  },
  {
   "cell_type": "markdown",
   "id": "a515c857-8464-45bc-893a-6cf8363e8ac9",
   "metadata": {
    "tags": []
   },
   "source": [
    "## Astropy Coordinates"
   ]
  },
  {
   "cell_type": "code",
   "execution_count": 18,
   "id": "485f4bbe-d790-4bc5-aa06-6a5c61a2869c",
   "metadata": {},
   "outputs": [
    {
     "data": {
      "text/latex": [
       "$24^\\circ00{}^\\prime00{}^{\\prime\\prime}$"
      ],
      "text/plain": [
       "<Angle 24. deg>"
      ]
     },
     "execution_count": 18,
     "metadata": {},
     "output_type": "execute_result"
    }
   ],
   "source": [
    "from astropy.coordinates import Angle\n",
    "\n",
    "Angle(24*u.deg)"
   ]
  },
  {
   "cell_type": "code",
   "execution_count": 19,
   "id": "9378c054-345d-47be-a758-d009ec1c1d02",
   "metadata": {},
   "outputs": [
    {
     "name": "stdout",
     "output_type": "stream",
     "text": [
      "1.0\n",
      "60.0\n",
      "3600.0\n"
     ]
    }
   ],
   "source": [
    "a = Angle(1*u.deg)\n",
    "print(a.deg)\n",
    "print(a.arcmin)\n",
    "print(a.arcsec)"
   ]
  },
  {
   "cell_type": "code",
   "execution_count": 20,
   "id": "d9e70ec8-606d-4deb-b72f-590e77372d02",
   "metadata": {},
   "outputs": [
    {
     "data": {
      "text/latex": [
       "[$1^\\circ00{}^\\prime00{}^{\\prime\\prime}$\n",
       " $4^\\circ00{}^\\prime00{}^{\\prime\\prime}$\n",
       " $6^\\circ00{}^\\prime00{}^{\\prime\\prime}$\n",
       " $15^\\circ00{}^\\prime00{}^{\\prime\\prime}$\n",
       " $-3^\\circ00{}^\\prime00{}^{\\prime\\prime}$\n",
       " $2^\\circ00{}^\\prime00{}^{\\prime\\prime}$\n",
       " $10^\\circ00{}^\\prime00{}^{\\prime\\prime}$\n",
       " $2^\\circ00{}^\\prime00{}^{\\prime\\prime}$\n",
       " $0^\\circ00{}^\\prime00{}^{\\prime\\prime}$]"
      ],
      "text/plain": [
       "<Angle [ 1.,  4.,  6., 15., -3.,  2., 10.,  2.,  0.] deg>"
      ]
     },
     "execution_count": 20,
     "metadata": {},
     "output_type": "execute_result"
    }
   ],
   "source": [
    "angles = Angle([1, 4, 6, 15, -3, 2, 10, 2, 0]*u.deg)\n",
    "angles"
   ]
  },
  {
   "cell_type": "code",
   "execution_count": 21,
   "id": "0d416147-c5e2-4902-9b58-d37f60a27414",
   "metadata": {},
   "outputs": [
    {
     "data": {
      "text/latex": [
       "[$60\\mathrm{{}^{\\prime}}$ $240\\mathrm{{}^{\\prime}}$\n",
       " $360\\mathrm{{}^{\\prime}}$ $900\\mathrm{{}^{\\prime}}$\n",
       " $-180\\mathrm{{}^{\\prime}}$ $120\\mathrm{{}^{\\prime}}$\n",
       " $600\\mathrm{{}^{\\prime}}$ $120\\mathrm{{}^{\\prime}}$\n",
       " $0\\mathrm{{}^{\\prime}}$]"
      ],
      "text/plain": [
       "<Angle [  60.,  240.,  360.,  900., -180.,  120.,  600.,  120.,    0.] arcmin>"
      ]
     },
     "execution_count": 21,
     "metadata": {},
     "output_type": "execute_result"
    }
   ],
   "source": [
    "angles.to('arcmin')"
   ]
  },
  {
   "cell_type": "code",
   "execution_count": 22,
   "id": "00656d1e-e1de-4edd-9274-c82be99feabd",
   "metadata": {},
   "outputs": [
    {
     "data": {
      "text/plain": [
       "array([-180.,    0.,   60.,  120.,  120.,  240.,  360.,  600.,  900.])"
      ]
     },
     "execution_count": 22,
     "metadata": {},
     "output_type": "execute_result"
    }
   ],
   "source": [
    "angles.sort()\n",
    "angles.arcmin"
   ]
  },
  {
   "cell_type": "code",
   "execution_count": 23,
   "id": "8ff3bb16-f22b-4d92-a115-7644f6e5bfdc",
   "metadata": {},
   "outputs": [
    {
     "data": {
      "text/latex": [
       "$37^\\circ00{}^\\prime00{}^{\\prime\\prime}$"
      ],
      "text/plain": [
       "<Angle 37. deg>"
      ]
     },
     "execution_count": 23,
     "metadata": {},
     "output_type": "execute_result"
    }
   ],
   "source": [
    "angles.sum()"
   ]
  },
  {
   "cell_type": "markdown",
   "id": "4e6c12f5-8c45-4da2-813c-fb37e1a832bc",
   "metadata": {},
   "source": [
    "Let's work with coordinates"
   ]
  },
  {
   "cell_type": "code",
   "execution_count": 24,
   "id": "29d63e17-adc1-49fc-9d70-7424b2332996",
   "metadata": {},
   "outputs": [
    {
     "data": {
      "text/plain": [
       "<SkyCoord (ICRS): (ra, dec) in deg\n",
       "    (10.625, 41.2)>"
      ]
     },
     "execution_count": 24,
     "metadata": {},
     "output_type": "execute_result"
    }
   ],
   "source": [
    "from astropy.coordinates import SkyCoord\n",
    "c = SkyCoord(ra=10.625*u.degree, dec=41.2*u.degree, frame='icrs')\n",
    "c"
   ]
  },
  {
   "cell_type": "markdown",
   "id": "ef875215-5eb6-4a4a-aeb3-4039ed69b86f",
   "metadata": {},
   "source": [
    "Multiple ways to initialize the coordinates"
   ]
  },
  {
   "cell_type": "code",
   "execution_count": 25,
   "id": "61815067-6b21-4e44-898f-7273cd61e1c1",
   "metadata": {},
   "outputs": [],
   "source": [
    "c = SkyCoord(10.625, 41.2, frame='icrs', unit='deg')\n",
    "c = SkyCoord('00h42m30s', '+41d12m00s', frame='icrs')\n",
    "c = SkyCoord('00h42.5m', '+41d12m')\n",
    "c = SkyCoord('00 42 30 +41 12 00', unit=(u.hourangle, u.deg))\n",
    "c = SkyCoord('00:42.5 +41:12', unit=(u.hourangle, u.deg))"
   ]
  },
  {
   "cell_type": "markdown",
   "id": "b6f8e11a-c1c2-4b14-b1a5-17d717736dc7",
   "metadata": {},
   "source": [
    "The coordinates can be accessed by R.A. or Declination, and can be converted to different units."
   ]
  },
  {
   "cell_type": "code",
   "execution_count": 26,
   "id": "6d34fca7-8ce3-4b2e-b7d0-61f087782ef0",
   "metadata": {},
   "outputs": [
    {
     "name": "stdout",
     "output_type": "stream",
     "text": [
      "637.5\n",
      "148320.0\n",
      "0.18544123302439752\n",
      "hms_tuple(h=0.0, m=42.0, s=30.000000000000426)\n",
      "dms_tuple(d=41.0, m=12.0, s=1.0231815394945443e-11)\n"
     ]
    }
   ],
   "source": [
    "print(c.ra.arcmin)\n",
    "print(c.dec.arcsec)\n",
    "print(c.ra.radian)\n",
    "print(c.ra.hms)\n",
    "print(c.dec.dms)"
   ]
  },
  {
   "cell_type": "markdown",
   "id": "c2431f4d-2485-44ba-b532-a073ef751725",
   "metadata": {},
   "source": [
    "It also accespts arrays"
   ]
  },
  {
   "cell_type": "code",
   "execution_count": 27,
   "id": "024e42f7-0bbc-4f8b-b46d-9d29e62e12f8",
   "metadata": {},
   "outputs": [
    {
     "data": {
      "text/plain": [
       "<SkyCoord (ICRS): (ra, dec) in deg\n",
       "    [(151.09751505,  16.3899239 ), (127.77792177, -54.76580095),\n",
       "     ( 91.36636695,   4.40723231), (109.42431825,  85.4724803 ),\n",
       "     (100.6720047 ,  86.5236251 ), ( 24.24643337, -78.27750658),\n",
       "     ( 56.69975715, -67.5279936 ), ( 36.43804337, -11.54742096),\n",
       "     (172.67450337,  73.17568556), (150.07673234,  -9.88141243),\n",
       "     (126.38018602, -48.75169931), (146.17396663, -15.46234571),\n",
       "     ( 41.51580047,   8.32968804), (123.90969634, -80.04948608),\n",
       "     (165.92113401, -73.65183016), (123.56487353,  50.57799602),\n",
       "     (169.50399491,  15.18014373), (102.87121106,   3.28549716),\n",
       "     ( 15.75214515,  51.44542577), ( 32.5436332 ,   0.99307619),\n",
       "     ( 94.51231317, -24.01785422), ( 69.94827415, -61.17609779),\n",
       "     (126.81501035, -58.73706132), ( 47.65297134,   5.18692839),\n",
       "     ( 63.78173471,  64.1312269 ), ( 93.09366103, -44.93141487),\n",
       "     ( 91.55595478,  12.84342073), (176.30996211, -42.74493987),\n",
       "     ( 65.86997422, -47.58093879), ( 96.61073628, -88.88654982),\n",
       "     (  4.72847479,  42.56109042), ( 51.67729702, -42.31895586),\n",
       "     ( 89.58574752, -30.84037178), (134.60977845,  82.63568704),\n",
       "     (138.56078634, -30.65426221), (109.67091732, -86.6649458 ),\n",
       "     ( 20.55462045,  32.84858853), (153.01304478,  55.80174268),\n",
       "     (169.63086049,  -6.59136557), (103.09188718, -42.8028257 ),\n",
       "     ( 72.05723211, -83.46809894), ( 23.20624387,  50.66266759),\n",
       "     ( 59.1764816 ,  28.01268376), ( 85.2093903 ,  40.00601954),\n",
       "     (169.08180925,  81.95079442), ( 14.88042982, -26.41663912),\n",
       "     (138.34542138,  14.41385888), (146.19750089,  25.01753484),\n",
       "     (122.67266337, -67.83906591), (154.63681476,  66.80533884),\n",
       "     (157.82501029, -19.25152395), ( 62.91920394,  42.1513225 ),\n",
       "     ( 76.90047318,  78.0273833 ), (165.16476403,  48.21445706),\n",
       "     (168.98641328,  56.65004794), (147.85766328,  16.39866001),\n",
       "     ( 49.00371215, -45.25982701), ( 35.64800216, -45.39529755),\n",
       "     ( 93.80318028, -32.75590972), ( 85.97038181, -86.2016676 ),\n",
       "     ( 10.83047059,  60.47818353), (103.52564324,  13.76061231),\n",
       "     ( 67.60576727, -68.94937731), (130.90652957,  48.06574804),\n",
       "     (167.50628967,  62.32551046), (109.94447774,  56.9421933 ),\n",
       "     (119.1034384 , -37.84240454), (164.58766806,  66.77034316),\n",
       "     ( 37.24582032, -13.61585572), ( 81.32562872,  13.69363202),\n",
       "     ( 22.83957631, -48.9826516 ), ( 66.86748257,  33.18907243),\n",
       "     (174.38916415, -27.43544815), (  3.23524717,  59.98311111),\n",
       "     (171.96309351, -49.85224879), ( 46.62124836, -27.26524506),\n",
       "     (121.02488156,  49.34257451), (136.98580726,  69.46948714),\n",
       "     (122.85136395, -14.44013159), (169.65178313,  38.96682519),\n",
       "     ( 11.2990457 , -67.64806496), (157.31738582,   2.59739376),\n",
       "     ( 57.94725148, -76.25662513), (177.76846042, -24.60404042),\n",
       "     (152.53841742,  67.12593157), ( 98.43218535,   8.9590946 ),\n",
       "     ( 66.12398337,  52.58378804), ( 85.24984046, -17.81749997),\n",
       "     ( 92.29526944,  53.23180785), ( 64.03849686, -58.70457149),\n",
       "     (142.56163938,  54.98773758), ( 76.94146699, -37.79760669),\n",
       "     ( 85.90075475, -31.00048444), (149.19717322, -24.180917  ),\n",
       "     ( 74.73267466, -31.98954075), (  9.13600403, -84.47120459),\n",
       "     (163.41514759,  52.66980885), (156.14015885, -80.92820053),\n",
       "     (159.81217713, -68.86207214), (160.07488344,   4.24818593)]>"
      ]
     },
     "execution_count": 27,
     "metadata": {},
     "output_type": "execute_result"
    }
   ],
   "source": [
    "cs = SkyCoord(np.random.uniform(0, 180, 100)*u.deg, np.random.uniform(-90, 90, 100)*u.deg, frame='icrs')\n",
    "cs"
   ]
  },
  {
   "cell_type": "code",
   "execution_count": 28,
   "id": "92742bcc-42d5-4a2e-9fdd-1940c77bdf7c",
   "metadata": {},
   "outputs": [
    {
     "data": {
      "text/plain": [
       "[<matplotlib.lines.Line2D at 0x7f36c18a3f40>]"
      ]
     },
     "execution_count": 28,
     "metadata": {},
     "output_type": "execute_result"
    },
    {
     "data": {
      "image/png": "[encoded data removed]",
      "text/plain": [
       "<Figure size 432x288 with 1 Axes>"
      ]
     },
     "metadata": {
      "needs_background": "light"
     },
     "output_type": "display_data"
    }
   ],
   "source": [
    "import matplotlib.pyplot as plt\n",
    "plt.plot(cs.ra, cs.dec, 'o')"
   ]
  },
  {
   "cell_type": "markdown",
   "id": "5d59d804-51a3-4e4a-95bc-0cfcd0960dfa",
   "metadata": {},
   "source": [
    "Coordinate transformation"
   ]
  },
  {
   "cell_type": "code",
   "execution_count": 29,
   "id": "1b472dc1-4eb0-4ae9-8240-b4eb976b3271",
   "metadata": {},
   "outputs": [
    {
     "data": {
      "text/plain": [
       "<SkyCoord (Galactic): (l, b) in deg\n",
       "    (121.17424181, -21.57288557)>"
      ]
     },
     "execution_count": 29,
     "metadata": {},
     "output_type": "execute_result"
    }
   ],
   "source": [
    "c_icrs = SkyCoord(ra=10.68458*u.degree, dec=41.26917*u.degree, frame='icrs')\n",
    "c_icrs.galactic  "
   ]
  },
  {
   "cell_type": "markdown",
   "id": "38a96a59-7cc0-44e0-8d1e-89217fac21fe",
   "metadata": {},
   "source": [
    "Distance between two coordinates"
   ]
  },
  {
   "cell_type": "code",
   "execution_count": 30,
   "id": "914b4a68-67ec-4477-b855-f58decbaa6ed",
   "metadata": {},
   "outputs": [
    {
     "data": {
      "text/latex": [
       "$1^\\circ24{}^\\prime16.32091173{}^{\\prime\\prime}$"
      ],
      "text/plain": [
       "<Angle 1.40453359 deg>"
      ]
     },
     "execution_count": 30,
     "metadata": {},
     "output_type": "execute_result"
    }
   ],
   "source": [
    "c1 = SkyCoord(ra=10*u.degree, dec=9*u.degree, frame='icrs')\n",
    "c2 = SkyCoord(ra=11*u.degree, dec=10*u.degree, frame='fk5')\n",
    "c1.separation(c2)  # Differing frames handled correctly  "
   ]
  },
  {
   "cell_type": "markdown",
   "id": "1ce25ff2-6b73-469d-ad8c-70eb8dccdc80",
   "metadata": {},
   "source": [
    "Search coordinates by source name"
   ]
  },
  {
   "cell_type": "code",
   "execution_count": 31,
   "id": "08942034-7d39-48b9-a187-5d86f864765a",
   "metadata": {},
   "outputs": [
    {
     "data": {
      "text/plain": [
       "<SkyCoord (ICRS): (ra, dec) in deg\n",
       "    (153.1393106, 53.1173746)>"
      ]
     },
     "execution_count": 31,
     "metadata": {},
     "output_type": "execute_result"
    }
   ],
   "source": [
    "SkyCoord.from_name(\"PSR J1012+5307\")  \n"
   ]
  },
  {
   "cell_type": "markdown",
   "id": "ed0f6587-59a2-469e-9b70-8c6ba342f1aa",
   "metadata": {},
   "source": [
    "### ⛏ Exercise\n",
    "Find the separation in arcmin between M51 and the point of the Sky in Galactic Coordinates l=10h25m47.0s and b=+10deg. Be careful setting the coordinate frame of reference."
   ]
  },
  {
   "cell_type": "code",
   "execution_count": 32,
   "id": "fcab5e69-66d2-48b0-a577-32c09c380209",
   "metadata": {},
   "outputs": [
    {
     "name": "stdout",
     "output_type": "stream",
     "text": [
      "4040.44arcmin\n"
     ]
    }
   ],
   "source": [
    "m51_coord = SkyCoord.from_name(\"M51\")  \n",
    "point_coord = SkyCoord(l='10h25m47.0s', b=10*u.degree, frame='galactic')\n",
    "m51_coord, point_coord\n",
    "print(m51_coord.separation(point_coord).to('arcmin'))"
   ]
  },
  {
   "cell_type": "markdown",
   "id": "e1941171-6a04-498d-b35c-d814c1c0a2b8",
   "metadata": {},
   "source": [
    "# Vizier Queries\n",
    "https://ioa-coding.github.io/codecorners/2017_10_24_CC02_astroquery.html  \n",
    "https://astroquery.readthedocs.io/en/latest/vizier/vizier.html"
   ]
  },
  {
   "cell_type": "markdown",
   "id": "830c4b9c-6079-4f42-9b53-e0dc4e3cf21f",
   "metadata": {},
   "source": [
    "## Table Discover"
   ]
  },
  {
   "cell_type": "code",
   "execution_count": 33,
   "id": "3af7af98-4ccd-4eae-ae9c-8cbf5534fbd3",
   "metadata": {},
   "outputs": [
    {
     "name": "stderr",
     "output_type": "stream",
     "text": [
      "WARNING: UnitsWarning: Unit 'Msun' not supported by the VOUnit standard.  [astropy.units.format.vounit]\n",
      "WARNING: UnitsWarning: The unit 'a' has been deprecated in the VOUnit standard. Suggested: 365.25d. [astropy.units.format.utils]\n",
      "WARNING: UnitsWarning: Unit 'Lsun' not supported by the VOUnit standard.  [astropy.units.format.vounit]\n",
      "WARNING: UnitsWarning: Unit 'Rsun' not supported by the VOUnit standard.  [astropy.units.format.vounit]\n"
     ]
    },
    {
     "data": {
      "text/plain": [
       "['J/A+A/577/A128: CARMENES input catalogue of M dwarfs. I (Alonso-Floriano+, 2015)',\n",
       " 'J/A+A/597/A47: CARMENES input catalogue of M dwarfs II (Cortes-Contreras+ 2017)',\n",
       " 'J/A+A/609/A117: CARMENES radial velocity curves of 7 M-dwarf (Trifonov+, 2018)',\n",
       " 'J/A+A/609/L5: HD147379 b velocity curve (Reiners+, 2018)',\n",
       " 'J/A+A/612/A49: 324 CARMENES M dwarfs velocities (Reiners+, 2018)',\n",
       " 'J/A+A/614/A76: CARMENES input catalogue of M dwarfs. III. (Jeffers+, 2018)',\n",
       " 'J/A+A/614/A122: Radial-velocity of CARMENES M dwarfs (Tal-Or+, 2018)',\n",
       " 'J/A+A/615/A6: Photospheric parameters of CARMENES stars (Passegger+, 2018)',\n",
       " 'J/A+A/618/A115: HD 147379 radial velocities (Kaminski+, 2018)',\n",
       " 'J/A+A/619/A32: CARMENES SB2 orbital parameters (Baroch+, 2018)',\n",
       " 'J/A+A/620/A171: Radial velocities of GJ 3779 and GJ 1265 (Luque+, 2018)',\n",
       " 'J/A+A/621/A126: CARMENES input catalogue of M dwarfs. IV. (Diez Alonso+ 2019)',\n",
       " 'J/A+A/622/A153: GJ 4276 radial velocity curve (Nagel+, 2019)',\n",
       " 'J/A+A/623/A44: CARMENES M-dwarfs activity indicators (Schoefer+, 2019)',\n",
       " 'J/A+A/625/A68: Radii and masses of the CARMENES targets (Schweitzer+, 2019)',\n",
       " \"J/A+A/627/A49: Teegarden's Star RV and H{alpha} curves (Zechmeister+, 2019)\",\n",
       " 'J/A+A/627/A116: LSPM J2116+0234 and GJ 686 radial velocities (Lalitha+, 2019)',\n",
       " 'J/A+A/627/A161: CARMENES stars multi wavelength measurements (Passegger+, 2019)',\n",
       " 'J/A+A/632/A24: HeI IR triplet measurements for M dwarfs (Fuhrmeister+, 2019)',\n",
       " 'J/A+A/636/A36: Absolute radial velocities of CARMENES M dwarfs (Lafarga+, 2020)',\n",
       " 'J/A+A/636/A119: YZ Ceti CARMENES and HARPS radial velocity curve (Stock+, 2020)',\n",
       " 'J/A+A/637/A93: HD 79211 CARMENES radial velocities (Gonzalez-Alvarez+, 2020)',\n",
       " 'J/A+A/640/A52: M dwarfs HeI infrared triplet variability (Fuhrmeister+, 2020)',\n",
       " 'J/A+A/642/A115: CARMENES input catalogue of M dwarfs. V. (Cifuentes+, 2020)',\n",
       " 'J/A+A/643/A112: CARMENES VIS RVs of 3 M dwarfs (Stock+, 2020)',\n",
       " 'J/A+A/644/A127: LP714-47 (TOI 442) radial velocity curve (Dreizler+, 2020)',\n",
       " 'J/A+A/649/L12: GJ 1151 radial velocity curve (Perger+, 2021)',\n",
       " 'J/A+A/650/A188: G 264-012 and Gl 393 radial velocity curves (Amado+, 2021)',\n",
       " 'J/A+A/652/A28: Activity indicators across the M dwarf domain (Lafarga+, 2021)',\n",
       " 'J/A+A/652/A116: CARMENES time-resolved CaII H&K catalog (Perdelwitz+, 2021)',\n",
       " 'J/A+A/654/A118: Vanadium measurements for 135 M dwarfs (Shan+, 2021)',\n",
       " 'J/A+A/656/A162: CARMENES stellar atmospheric parameters (Marfil+, 2021)',\n",
       " 'J/A+A/657/A125: KI diagnostic capabilities for M dwarfs (Fuhrmeister+, 2022)',\n",
       " 'J/AJ/155/257: Photometry & RV follow-up observations of K2-18 (Sarkis+, 2018)']"
      ]
     },
     "execution_count": 33,
     "metadata": {},
     "output_type": "execute_result"
    }
   ],
   "source": [
    "from astroquery.vizier import Vizier\n",
    "catalog_list = Vizier.find_catalogs('carmenes dwarf')\n",
    "['{}: {}'.format(k, v.description) for k, v in catalog_list.items()]"
   ]
  },
  {
   "cell_type": "code",
   "execution_count": 34,
   "id": "f90a2b24-45de-4d37-afca-ac1a585cc3e0",
   "metadata": {},
   "outputs": [
    {
     "name": "stderr",
     "output_type": "stream",
     "text": [
      "WARNING: UnitsWarning: Unit 'Msun' not supported by the VOUnit standard.  [astropy.units.format.vounit]\n"
     ]
    }
   ],
   "source": [
    "Vizier.ROW_LIMIT = -1\n",
    "cat = Vizier.get_catalogs('J/A+A/612/A49')[0]"
   ]
  },
  {
   "cell_type": "code",
   "execution_count": 35,
   "id": "657b460f-d02a-442c-9532-d61419822e5f",
   "metadata": {},
   "outputs": [
    {
     "data": {
      "text/html": [
       "<div><i>Table length=324</i>\n",
       "<table id=\"table139873143239392\" class=\"table-striped table-bordered table-condensed\">\n",
       "<thead><tr><th>Seq</th><th>ID</th><th>GJ</th><th>Name</th><th>SpType</th><th>Jmag</th><th>Mass</th><th>RV</th><th>Per</th><th>r_Per</th><th>l_vsini</th><th>vsini</th><th>l_Pvsini</th><th>Pvsini</th><th>l_i</th><th>i</th><th>logLHa_Lbol</th><th>SimbadName</th><th>_RA</th><th>_DE</th></tr></thead>\n",
       "<thead><tr><th></th><th></th><th></th><th></th><th></th><th>mag</th><th>Msun</th><th>km / s</th><th>d</th><th></th><th></th><th>km / s</th><th></th><th>d</th><th></th><th>deg</th><th>[-]</th><th></th><th>deg</th><th>deg</th></tr></thead>\n",
       "<thead><tr><th>int16</th><th>str11</th><th>str6</th><th>str23</th><th>str4</th><th>float32</th><th>float32</th><th>float64</th><th>float32</th><th>str6</th><th>str1</th><th>float32</th><th>str1</th><th>float32</th><th>str2</th><th>int16</th><th>float32</th><th>str23</th><th>float64</th><th>float64</th></tr></thead>\n",
       "<tr><td>1</td><td>J00051+457</td><td>2</td><td>GJ 2</td><td>M1.0</td><td>6.70</td><td>0.56</td><td>-0.392</td><td>--</td><td></td><td>&lt;</td><td>2.0</td><td>&gt;</td><td>13.30</td><td></td><td>--</td><td>--</td><td>GJ 2</td><td>1.29537</td><td>45.78657</td></tr>\n",
       "<tr><td>2</td><td>J00067-075</td><td>1002</td><td>GJ 1002</td><td>M5.5</td><td>8.32</td><td>0.11</td><td>-40.058</td><td>--</td><td></td><td>&lt;</td><td>2.0</td><td>&gt;</td><td>3.50</td><td></td><td>--</td><td>-4.83</td><td>GJ 1002</td><td>1.67999</td><td>-7.53806</td></tr>\n",
       "<tr><td>3</td><td>J00162+198E</td><td>1006B</td><td>LP 404-062</td><td>M4.0</td><td>8.89</td><td>0.30</td><td>-1.457</td><td>104.00</td><td>Irw11</td><td>&lt;</td><td>2.0</td><td>&gt;</td><td>7.40</td><td>&lt;=</td><td>90</td><td>--</td><td>LP 404-062</td><td>4.06730</td><td>19.86402</td></tr>\n",
       "<tr><td>4</td><td>J00183+440</td><td>15A</td><td>GX And</td><td>M1.0</td><td>5.25</td><td>0.45</td><td>11.671</td><td>--</td><td></td><td>&lt;</td><td>2.0</td><td>&gt;</td><td>10.50</td><td></td><td>--</td><td>--</td><td>GX And</td><td>4.59535</td><td>44.02295</td></tr>\n",
       "<tr><td>5</td><td>J00184+440</td><td>15B</td><td>GQ And</td><td>M3.5</td><td>6.79</td><td>0.16</td><td>10.876</td><td>--</td><td></td><td>&lt;</td><td>2.0</td><td>&gt;</td><td>4.60</td><td></td><td>--</td><td>--</td><td>GQ And</td><td>4.60760</td><td>44.02725</td></tr>\n",
       "<tr><td>6</td><td>J00286-066</td><td>1012</td><td>GJ 1012</td><td>M4.0</td><td>8.04</td><td>0.39</td><td>-12.531</td><td>--</td><td></td><td>&lt;</td><td>2.0</td><td>&gt;</td><td>9.10</td><td></td><td>--</td><td>--</td><td>GJ 1012</td><td>7.16444</td><td>-6.66366</td></tr>\n",
       "<tr><td>7</td><td>J00389+306</td><td>26</td><td>Wolf 1056</td><td>M2.5</td><td>7.45</td><td>0.47</td><td>-0.499</td><td>--</td><td></td><td>&lt;</td><td>2.0</td><td>&gt;</td><td>11.10</td><td></td><td>--</td><td>--</td><td>Wolf 1056</td><td>9.74602</td><td>30.61622</td></tr>\n",
       "<tr><td>8</td><td>J00570+450</td><td></td><td>G 172-030</td><td>M3.0</td><td>8.10</td><td>0.39</td><td>6.396</td><td>--</td><td></td><td>&lt;</td><td>2.0</td><td>&gt;</td><td>9.30</td><td></td><td>--</td><td>--</td><td>G 172-030</td><td>14.26122</td><td>45.08605</td></tr>\n",
       "<tr><td>9</td><td>J01013+613</td><td>47</td><td>GJ 47</td><td>M2.0</td><td>7.27</td><td>0.44</td><td>7.426</td><td>--</td><td></td><td>&lt;</td><td>2.0</td><td>&gt;</td><td>10.40</td><td></td><td>--</td><td>-4.47</td><td>GJ 47</td><td>15.33354</td><td>61.36574</td></tr>\n",
       "<tr><td>...</td><td>...</td><td>...</td><td>...</td><td>...</td><td>...</td><td>...</td><td>...</td><td>...</td><td>...</td><td>...</td><td>...</td><td>...</td><td>...</td><td>...</td><td>...</td><td>...</td><td>...</td><td>...</td><td>...</td></tr>\n",
       "<tr><td>316</td><td>J23351-023</td><td>1286</td><td>GJ 1286</td><td>M5.5</td><td>9.15</td><td>0.12</td><td>-41.013</td><td>--</td><td></td><td>&lt;</td><td>2.0</td><td>&gt;</td><td>3.60</td><td></td><td>--</td><td>-4.55</td><td>GJ 1286</td><td>353.79359</td><td>-2.38906</td></tr>\n",
       "<tr><td>317</td><td>J23381-162</td><td>4352</td><td>G 273-093</td><td>M2.0</td><td>7.81</td><td>0.51</td><td>20.657</td><td>--</td><td></td><td>&lt;</td><td>2.0</td><td>&gt;</td><td>12.00</td><td></td><td>--</td><td>--</td><td>G 273-093</td><td>354.53399</td><td>-16.23617</td></tr>\n",
       "<tr><td>318</td><td>J23419+441</td><td>905</td><td>HH And</td><td>M5.0</td><td>6.88</td><td>0.14</td><td>-78.032</td><td>--</td><td></td><td>&lt;</td><td>2.0</td><td>&gt;</td><td>4.20</td><td></td><td>--</td><td>-4.62</td><td>HH And</td><td>355.47932</td><td>44.17745</td></tr>\n",
       "<tr><td>319</td><td>J23431+365</td><td>1289</td><td>GJ 1289</td><td>M4.0</td><td>8.11</td><td>0.21</td><td>-2.797</td><td>--</td><td></td><td>&lt;</td><td>2.0</td><td>&gt;</td><td>5.60</td><td></td><td>--</td><td>-4.39</td><td>GJ 1289</td><td>355.77630</td><td>36.53698</td></tr>\n",
       "<tr><td>320</td><td>J23492+024</td><td>908</td><td>BR Psc</td><td>M1.0</td><td>5.83</td><td>0.47</td><td>-71.296</td><td>--</td><td></td><td>&lt;</td><td>2.0</td><td>&gt;</td><td>10.90</td><td></td><td>--</td><td>--</td><td>BR Psc</td><td>357.30219</td><td>2.40122</td></tr>\n",
       "<tr><td>321</td><td>J23505-095</td><td>4367</td><td>LP 763-012</td><td>M4.0</td><td>8.94</td><td>0.30</td><td>-21.685</td><td>--</td><td></td><td>&lt;</td><td>2.0</td><td>&gt;</td><td>7.40</td><td></td><td>--</td><td>--</td><td>LP 763-012</td><td>357.63184</td><td>-9.55907</td></tr>\n",
       "<tr><td>322</td><td>J23548+385</td><td></td><td>RX J2354.8+3831</td><td>M4.0</td><td>8.94</td><td>0.29</td><td>5.522</td><td>4.76</td><td>KS13</td><td></td><td>3.6</td><td></td><td>4.00</td><td></td><td>90</td><td>-3.67</td><td>RX J2354.8+3831</td><td>358.71441</td><td>38.52672</td></tr>\n",
       "<tr><td>323</td><td>J23556-061</td><td>912</td><td>GJ 912</td><td>M2.5</td><td>7.60</td><td>0.60</td><td>17.444</td><td>--</td><td></td><td>&lt;</td><td>2.0</td><td>&gt;</td><td>14.10</td><td></td><td>--</td><td>--</td><td>GJ 912</td><td>358.91576</td><td>-6.14260</td></tr>\n",
       "<tr><td>324</td><td>J23585+076</td><td>4383</td><td>Wolf 1051</td><td>M3.0</td><td>7.91</td><td>0.51</td><td>-13.070</td><td>--</td><td></td><td>&lt;</td><td>2.0</td><td>&gt;</td><td>11.90</td><td></td><td>--</td><td>--</td><td>Wolf 1051</td><td>359.63607</td><td>7.65837</td></tr>\n",
       "</table></div>"
      ],
      "text/plain": [
       "<Table length=324>\n",
       " Seq       ID       GJ        Name      ...    SimbadName      _RA       _DE   \n",
       "                                        ...                    deg       deg   \n",
       "int16    str11     str6      str23      ...      str23       float64   float64 \n",
       "----- ----------- ----- --------------- ... --------------- --------- ---------\n",
       "    1  J00051+457     2            GJ 2 ...            GJ 2   1.29537  45.78657\n",
       "    2  J00067-075  1002         GJ 1002 ...         GJ 1002   1.67999  -7.53806\n",
       "    3 J00162+198E 1006B      LP 404-062 ...      LP 404-062   4.06730  19.86402\n",
       "    4  J00183+440   15A          GX And ...          GX And   4.59535  44.02295\n",
       "    5  J00184+440   15B          GQ And ...          GQ And   4.60760  44.02725\n",
       "    6  J00286-066  1012         GJ 1012 ...         GJ 1012   7.16444  -6.66366\n",
       "    7  J00389+306    26       Wolf 1056 ...       Wolf 1056   9.74602  30.61622\n",
       "    8  J00570+450             G 172-030 ...       G 172-030  14.26122  45.08605\n",
       "    9  J01013+613    47           GJ 47 ...           GJ 47  15.33354  61.36574\n",
       "  ...         ...   ...             ... ...             ...       ...       ...\n",
       "  316  J23351-023  1286         GJ 1286 ...         GJ 1286 353.79359  -2.38906\n",
       "  317  J23381-162  4352       G 273-093 ...       G 273-093 354.53399 -16.23617\n",
       "  318  J23419+441   905          HH And ...          HH And 355.47932  44.17745\n",
       "  319  J23431+365  1289         GJ 1289 ...         GJ 1289 355.77630  36.53698\n",
       "  320  J23492+024   908          BR Psc ...          BR Psc 357.30219   2.40122\n",
       "  321  J23505-095  4367      LP 763-012 ...      LP 763-012 357.63184  -9.55907\n",
       "  322  J23548+385       RX J2354.8+3831 ... RX J2354.8+3831 358.71441  38.52672\n",
       "  323  J23556-061   912          GJ 912 ...          GJ 912 358.91576  -6.14260\n",
       "  324  J23585+076  4383       Wolf 1051 ...       Wolf 1051 359.63607   7.65837"
      ]
     },
     "execution_count": 35,
     "metadata": {},
     "output_type": "execute_result"
    }
   ],
   "source": [
    "cat"
   ]
  },
  {
   "cell_type": "code",
   "execution_count": 36,
   "id": "6d78c890-849f-4e2d-8a3b-0993c0a2c9a8",
   "metadata": {},
   "outputs": [
    {
     "name": "stdout",
     "output_type": "stream",
     "text": [
      "<Table length=324>\n",
      "    name     dtype   unit   format                             description                             n_bad\n",
      "----------- ------- ------ ------- ------------------------------------------------------------------- -----\n",
      "        Seq   int16                                                                  Sequential number     0\n",
      "         ID   str11                                                                   ID (JHHMMm+DDmA)     0\n",
      "         GJ    str6                                                                            GJ name     0\n",
      "       Name   str23                                                                               Name     0\n",
      "     SpType    str4                                                                   MK spectral type     0\n",
      "       Jmag float32    mag {:5.2f}                                                         J magnitude     0\n",
      "       Mass float32   Msun {:5.2f}                                                                Mass     0\n",
      "         RV float64 km / s {:8.3f}                                                     Radial velocity     0\n",
      "        Per float32      d {:6.2f}                                                            ? Period   261\n",
      "      r_Per    str6                                                               Period reference (1)     0\n",
      "    l_vsini    str1                                                                Limit flag on vsini     0\n",
      "      vsini float32 km / s {:4.1f}                                                 Rotational velocity     0\n",
      "   l_Pvsini    str1                                                               Limit flag on Pvsini     0\n",
      "     Pvsini float32      d {:5.2f}                                                   Period from vsini     0\n",
      "        l_i    str2                                                              [<= ] Limit flag on i     0\n",
      "          i   int16    deg                     ? Inclination [NULL integer written as an empty string]   260\n",
      "logLHa_Lbol float32    [-] {:5.2f}                           ? H{alpha} to bolometric luminosity ratio   222\n",
      " SimbadName   str23                                                     Simbad column added by the CDS     0\n",
      "        _RA float64    deg {:9.5f} Right Ascension (J2000) from SIMBAD (not part of the original data)     0\n",
      "        _DE float64    deg {:9.5f}     Declination (J2000) from SIMBAD (not part of the original data)     0\n"
     ]
    }
   ],
   "source": [
    "cat.info()"
   ]
  },
  {
   "cell_type": "code",
   "execution_count": 37,
   "id": "987d6c35-ab5f-4f65-a662-174f848de3a5",
   "metadata": {},
   "outputs": [
    {
     "name": "stdout",
     "output_type": "stream",
     "text": [
      "<Table length=324>\n",
      "    name      mean     std      min      max   n_bad\n",
      "----------- -------- -------- -------- ------- -----\n",
      "        Seq    162.5  93.5303        1     324     0\n",
      "         ID       --       --       --      --     0\n",
      "         GJ       --       --       --      --     0\n",
      "       Name       --       --       --      --     0\n",
      "     SpType       --       --       --      --     0\n",
      "       Jmag  7.81867  1.18761      4.2   11.35     0\n",
      "       Mass 0.369877 0.168519     0.07    0.74     0\n",
      "         RV -3.34948  31.2111 -120.236 105.798     0\n",
      "        Per  41.0267  46.5482     0.27   165.1   261\n",
      "      r_Per       --       --       --      --     0\n",
      "    l_vsini       --       --       --      --     0\n",
      "      vsini  4.56543  8.11359        2    59.8     0\n",
      "   l_Pvsini       --       --       --      --     0\n",
      "     Pvsini  8.02358  4.34176     0.09    16.1     0\n",
      "        l_i       --       --       --      --     0\n",
      "          i  80.4531  18.7316       18      90   260\n",
      "logLHa_Lbol -4.03627 0.419084    -5.18   -3.32   222\n",
      " SimbadName       --       --       --      --     0\n",
      "        _RA  185.434  99.5264  1.29537 359.636     0\n",
      "        _DE  21.0018   27.516 -23.8362 83.3847     0\n"
     ]
    }
   ],
   "source": [
    "cat.info('stats')"
   ]
  },
  {
   "cell_type": "markdown",
   "id": "86cdcc1e-5dcb-4e12-b740-ff9283c25af8",
   "metadata": {},
   "source": [
    "### ⛏ Exercise\n",
    "Get the coordinates from catalog in "
   ]
  },
  {
   "cell_type": "markdown",
   "id": "974f0098-1386-4371-a628-d5fcef064401",
   "metadata": {},
   "source": [
    "## Query a Simbad object"
   ]
  },
  {
   "cell_type": "code",
   "execution_count": 38,
   "id": "c2a5bed0-d747-47de-82c3-846cd1e3566f",
   "metadata": {},
   "outputs": [
    {
     "name": "stderr",
     "output_type": "stream",
     "text": [
      "WARNING: UnitsWarning: The unit 'pix' has been deprecated in the VOUnit standard. [astropy.units.format.utils]\n",
      "WARNING: UnitsWarning: Unit 'e' not supported by the VOUnit standard.  [astropy.units.format.vounit]\n",
      "WARNING: UnitsWarning: Unit 'Msun' not supported by the VOUnit standard.  [astropy.units.format.vounit]\n",
      "WARNING: UnitsWarning: The unit 'ct' has been deprecated in the VOUnit standard. [astropy.units.format.utils]\n",
      "WARNING: UnitsWarning: Unit 'Rsun' not supported by the VOUnit standard.  [astropy.units.format.vounit]\n",
      "WARNING: UnitsWarning: Unit 'pct' not supported by the VOUnit standard. Did you mean 1e+15count, PC, PT, Pct (deprecated), pC, pT or pc? [astropy.units.format.vounit]\n",
      "WARNING: UnitsWarning: Unit 'Lsun' not supported by the VOUnit standard.  [astropy.units.format.vounit]\n",
      "WARNING: UnitsWarning: Unit 'TMsun' not supported by the VOUnit standard.  [astropy.units.format.vounit]\n"
     ]
    },
    {
     "name": "stdout",
     "output_type": "stream",
     "text": [
      "TableList with 200 tables:\n",
      "\t'0:I/252/out' with 8 column(s) and 32 row(s) \n",
      "\t'1:I/254/out' with 10 column(s) and 4 row(s) \n",
      "\t'2:I/259/tyc2' with 10 column(s) and 1 row(s) \n",
      "\t'3:I/261/fonac' with 9 column(s) and 1 row(s) \n",
      "\t'4:I/267/out' with 16 column(s) and 48 row(s) \n",
      "\t'5:I/271/out' with 11 column(s) and 28 row(s) \n",
      "\t'6:I/275/ac2002' with 9 column(s) and 1 row(s) \n",
      "\t'7:I/280B/ascc' with 12 column(s) and 1 row(s) \n",
      "\t'8:I/284/out' with 14 column(s) and 72 row(s) \n",
      "\t'9:I/294A/ucac2bss' with 12 column(s) and 1 row(s) \n",
      "\t'10:I/297/out' with 19 column(s) and 75 row(s) \n",
      "\t'11:I/305/out' with 11 column(s) and 68 row(s) \n",
      "\t'12:I/312/sample' with 13 column(s) and 3 row(s) \n",
      "\t'13:I/317/sample' with 13 column(s) and 63 row(s) \n",
      "\t'14:I/319/xpm' with 25 column(s) and 23 row(s) \n",
      "\t'15:I/322A/out' with 24 column(s) and 7 row(s) \n",
      "\t'16:I/324/igsl3' with 18 column(s) and 61 row(s) \n",
      "\t'17:I/329/urat1' with 16 column(s) and 35 row(s) \n",
      "\t'18:I/337/gaia' with 14 column(s) and 47 row(s) \n",
      "\t'19:I/337/tgas' with 20 column(s) and 1 row(s) \n",
      "\t'20:I/337/tgasptyc' with 22 column(s) and 1 row(s) \n",
      "\t'21:I/339/hsoy' with 18 column(s) and 32 row(s) \n",
      "\t'22:I/340/ucac5' with 20 column(s) and 7 row(s) \n",
      "\t'23:I/342/f3' with 18 column(s) and 7 row(s) \n",
      "\t'24:I/343/gps1' with 39 column(s) and 36 row(s) \n",
      "\t'25:I/345/gaia2' with 32 column(s) and 49 row(s) \n",
      "\t'26:I/347/gaia2dis' with 9 column(s) and 46 row(s) \n",
      "\t'27:I/349/starhorse' with 19 column(s) and 13 row(s) \n",
      "\t'28:I/350/gaiaedr3' with 39 column(s) and 58 row(s) \n",
      "\t'29:I/350/tyc2tdsc' with 16 column(s) and 1 row(s) \n",
      "\t'30:I/350/comscanl' with 13 column(s) and 1 row(s) \n",
      "\t'31:I/351/gps1_p' with 22 column(s) and 42 row(s) \n",
      "\t'32:I/352/gedr3dis' with 10 column(s) and 46 row(s) \n",
      "\t'33:I/353/gsc242' with 35 column(s) and 161 row(s) \n",
      "\t'34:I/354/starhorse2021' with 20 column(s) and 18 row(s) \n",
      "\t'35:II/125/main' with 13 column(s) and 1 row(s) \n",
      "\t'36:II/156A/main' with 12 column(s) and 1 row(s) \n",
      "\t'37:II/225/catalog' with 14 column(s) and 12 row(s) \n",
      "\t'38:II/225/names' with 5 column(s) and 4 row(s) \n",
      "\t'39:II/225/psc' with 8 column(s) and 1 row(s) \n",
      "\t'40:II/246/out' with 15 column(s) and 38 row(s) \n",
      "\t'41:II/271A/patch2' with 10 column(s) and 1 row(s) \n",
      "\t'42:II/287/skydot' with 11 column(s) and 8 row(s) \n",
      "\t'43:II/297/irc' with 13 column(s) and 2 row(s) \n",
      "\t'44:II/298/fis' with 15 column(s) and 1 row(s) \n",
      "\t'45:II/311/wise' with 22 column(s) and 54 row(s) \n",
      "\t'46:II/328/allwise' with 28 column(s) and 68 row(s) \n",
      "\t'47:II/336/apass9' with 20 column(s) and 5 row(s) \n",
      "\t'48:II/338/catalog' with 23 column(s) and 2 row(s) \n",
      "\t'49:II/340/xmmom2_1' with 46 column(s) and 10 row(s) \n",
      "\t'50:II/340/summary' with 19 column(s) and 1 row(s) \n",
      "\t'51:II/349/ps1' with 35 column(s) and 127 row(s) \n",
      "\t'52:II/356/xmmom41s' with 44 column(s) and 11 row(s) \n",
      "\t'53:II/363/unwise' with 11 column(s) and 139 row(s) \n",
      "\t'54:II/365/catwise' with 38 column(s) and 139 row(s) \n",
      "\t'55:II/368/sstsl2' with 37 column(s) and 152 row(s) \n",
      "\t'56:II/370/xmmom5s' with 44 column(s) and 11 row(s) \n",
      "\t'57:IV/38/tic' with 48 column(s) and 64 row(s) \n",
      "\t'58:IV/39/tic82' with 48 column(s) and 64 row(s) \n",
      "\t'59:V/136/tycall' with 14 column(s) and 1 row(s) \n",
      "\t'60:V/148/morx' with 33 column(s) and 4 row(s) \n",
      "\t'61:VI/111/isolog' with 7 column(s) and 10 row(s) \n",
      "\t'62:VI/135/table15' with 15 column(s) and 1 row(s) \n",
      "\t'63:VI/139/herschel' with 10 column(s) and 11 row(s) \n",
      "\t'64:VI/145/attitude' with 18 column(s) and 1 row(s) \n",
      "\t'65:VII/1B/catalog' with 12 column(s) and 1 row(s) \n",
      "\t'66:VII/26D/catalog' with 10 column(s) and 1 row(s) \n",
      "\t'67:VII/62A/mcg' with 10 column(s) and 1 row(s) \n",
      "\t'68:VII/113/xcat' with 12 column(s) and 1 row(s) \n",
      "\t'69:VII/118/ngc2000' with 11 column(s) and 1 row(s) \n",
      "\t'70:VII/157/12micron' with 7 column(s) and 1 row(s) \n",
      "\t'71:VII/185/catalog' with 20 column(s) and 1 row(s) \n",
      "\t'72:VII/190/zg_ori' with 9 column(s) and 1 row(s) \n",
      "\t'73:VII/193/zcat' with 8 column(s) and 2 row(s) \n",
      "\t'74:VII/221/pscz' with 19 column(s) and 1 row(s) \n",
      "\t'75:VII/233/xsc' with 13 column(s) and 2 row(s) \n",
      "\t'76:VII/236/catalog' with 14 column(s) and 3 row(s) \n",
      "\t'77:VII/237/pgc' with 9 column(s) and 3 row(s) \n",
      "\t'78:VII/238/hidat' with 9 column(s) and 1 row(s) \n",
      "\t'79:VII/239A/icpos' with 10 column(s) and 4 row(s) \n",
      "\t'80:VII/239A/icdata' with 14 column(s) and 12 row(s) \n",
      "\t'81:VII/275/glade1' with 31 column(s) and 2 row(s) \n",
      "\t'82:VII/281/glade2' with 17 column(s) and 3 row(s) \n",
      "\t'83:VII/290/catalog' with 13 column(s) and 1 row(s) \n",
      "\t'84:VIII/40/gb6' with 18 column(s) and 1 row(s) \n",
      "\t'85:VIII/62/wenss' with 11 column(s) and 1 row(s) \n",
      "\t'86:VIII/65/nvss' with 12 column(s) and 1 row(s) \n",
      "\t'87:VIII/68/catalog' with 15 column(s) and 2 row(s) \n",
      "\t'88:VIII/85A/spectra' with 15 column(s) and 3 row(s) \n",
      "\t'89:VIII/88/erc' with 18 column(s) and 1 row(s) \n",
      "\t'90:VIII/91/pccs1' with 17 column(s) and 1 row(s) \n",
      "\t'91:VIII/104/spectra' with 13 column(s) and 3 row(s) \n",
      "\t'92:VIII/106/hppsc070' with 20 column(s) and 3 row(s) \n",
      "\t'93:VIII/106/hppsc100' with 20 column(s) and 3 row(s) \n",
      "\t'94:VIII/106/hppsc160' with 20 column(s) and 3 row(s) \n",
      "\t'95:VIII/106/hprsl' with 5 column(s) and 67 row(s) \n",
      "\t'96:IX/29/rass_fsc' with 11 column(s) and 1 row(s) \n",
      "\t'97:IX/47/3xmmeu' with 23 column(s) and 4 row(s) \n",
      "\t'98:IX/48/xgustwra' with 46 column(s) and 3 row(s) \n",
      "\t'99:IX/50/xmm3r6s' with 17 column(s) and 4 row(s) \n",
      "\t'100:IX/50/summary' with 6 column(s) and 1 row(s) \n",
      "\t'101:IX/54/xmm3r7s' with 17 column(s) and 4 row(s) \n",
      "\t'102:IX/54/summary' with 7 column(s) and 1 row(s) \n",
      "\t'103:IX/55/xmm3r8s' with 17 column(s) and 4 row(s) \n",
      "\t'104:IX/55/summary' with 7 column(s) and 1 row(s) \n",
      "\t'105:IX/57/csc2master' with 79 column(s) and 9 row(s) \n",
      "\t'106:IX/59/xmm4dr9s' with 17 column(s) and 4 row(s) \n",
      "\t'107:IX/59/summary' with 7 column(s) and 1 row(s) \n",
      "\t'108:B/hst/obscore' with 12 column(s) and 580 row(s) \n",
      "\t'109:B/hst/hstlog' with 9 column(s) and 3 row(s) \n",
      "\t'110:B/chandra/chandra' with 11 column(s) and 1 row(s) \n",
      "\t'111:B/xmm/xmmlog' with 11 column(s) and 1 row(s) \n",
      "\t'112:B/vsx/vsx' with 19 column(s) and 1 row(s) \n",
      "\t'113:B/jcmt/obscore' with 11 column(s) and 15 row(s) \n",
      "\t'114:J/ApJ/453/616/table1' with 10 column(s) and 2 row(s) \n",
      "\t'115:J/ApJ/554/803/catalog' with 9 column(s) and 1 row(s) \n",
      "\t'116:J/ApJ/703/1672/table2' with 19 column(s) and 1 row(s) \n",
      "\t'117:J/ApJ/709/884/class' with 23 column(s) and 2 row(s) \n",
      "\t'118:J/ApJ/715/572/systems' with 16 column(s) and 1 row(s) \n",
      "\t'119:J/ApJ/715/572/galaxies' with 13 column(s) and 2 row(s) \n",
      "\t'120:J/ApJ/723/993/table1' with 14 column(s) and 2 row(s) \n",
      "\t'121:J/ApJ/724/1336/survey' with 25 column(s) and 3 row(s) \n",
      "\t'122:J/ApJ/737/45/table1' with 8 column(s) and 1 row(s) \n",
      "\t'123:J/ApJ/741/32/table1' with 20 column(s) and 2 row(s) \n",
      "\t'124:J/ApJ/765/L26/table1' with 19 column(s) and 1 row(s) \n",
      "\t'125:J/ApJ/768/102/table2' with 17 column(s) and 4 row(s) \n",
      "\t'126:J/ApJ/774/68/table1' with 19 column(s) and 2 row(s) \n",
      "\t'127:J/ApJ/777/156/irfluxes' with 28 column(s) and 2 row(s) \n",
      "\t'128:J/ApJ/790/124/table12' with 35 column(s) and 2 row(s) \n",
      "\t'129:J/ApJ/833/119/distall' with 16 column(s) and 1 row(s) \n",
      "\t'130:J/ApJ/833/119/distallw' with 16 column(s) and 1 row(s) \n",
      "\t'131:J/ApJ/837/120/table2' with 19 column(s) and 1 row(s) \n",
      "\t'132:J/ApJ/841/76/table5' with 10 column(s) and 1 row(s) \n",
      "\t'133:J/ApJ/846/32/galaxies' with 10 column(s) and 2 row(s) \n",
      "\t'134:J/ApJ/846/32/table1' with 15 column(s) and 6 row(s) \n",
      "\t'135:J/ApJ/847/123/table1' with 6 column(s) and 1 row(s) \n",
      "\t'136:J/ApJ/867/105/refcat2' with 23 column(s) and 35 row(s) \n",
      "\t'137:J/ApJ/870/104/table1' with 22 column(s) and 1 row(s) \n",
      "\t'138:J/ApJ/872/134/table5' with 9 column(s) and 2 row(s) \n",
      "\t'139:J/ApJ/872/148/table1' with 15 column(s) and 2 row(s) \n",
      "\t'140:J/ApJ/900/124/table1' with 22 column(s) and 2 row(s) \n",
      "\t'141:J/ApJ/901/3/catalog' with 30 column(s) and 1 row(s) \n",
      "\t'142:J/ApJS/125/409/table1' with 6 column(s) and 3 row(s) \n",
      "\t'143:J/ApJS/164/81/galaxies' with 14 column(s) and 3 row(s) \n",
      "\t'144:J/ApJS/175/277/maps' with 15 column(s) and 2 row(s) \n",
      "\t'145:J/ApJS/199/26/table3' with 21 column(s) and 2 row(s) \n",
      "\t'146:J/ApJS/206/1/table1' with 16 column(s) and 2 row(s) \n",
      "\t'147:J/ApJS/222/12/table1' with 14 column(s) and 1 row(s) \n",
      "\t'148:J/ApJS/224/40/table5' with 15 column(s) and 6 row(s) \n",
      "\t'149:J/ApJS/224/40/counts' with 34 column(s) and 6 row(s) \n",
      "\t'150:J/ApJS/226/11/table1' with 24 column(s) and 2 row(s) \n",
      "\t'151:J/ApJS/229/25/table1' with 12 column(s) and 1 row(s) \n",
      "\t'152:J/ApJS/229/25/table4' with 22 column(s) and 3 row(s) \n",
      "\t'153:J/ApJS/255/30/comp' with 22 column(s) and 3 row(s) \n",
      "\t'154:J/A+A/359/865/table4' with 10 column(s) and 1 row(s) \n",
      "\t'155:J/A+A/422/39/table4' with 12 column(s) and 1 row(s) \n",
      "\t'156:J/A+A/422/39/table6' with 10 column(s) and 4 row(s) \n",
      "\t'157:J/A+A/514/A3/catalog' with 9 column(s) and 1 row(s) \n",
      "\t'158:J/A+A/588/A14/table1' with 20 column(s) and 2 row(s) \n",
      "\t'159:J/A+A/588/A14/table2' with 20 column(s) and 2 row(s) \n",
      "\t'160:J/A+A/588/A14/table3' with 16 column(s) and 1 row(s) \n",
      "\t'161:J/A+A/588/A14/table4' with 16 column(s) and 1 row(s) \n",
      "\t'162:J/A+A/591/A136/tablea1' with 19 column(s) and 2 row(s) \n",
      "\t'163:J/A+A/594/A26/pccs857' with 14 column(s) and 1 row(s) \n",
      "\t'164:J/A+A/594/A26/pccs857e' with 14 column(s) and 1 row(s) \n",
      "\t'165:J/A+A/594/A116/nhi_hpx' with 6 column(s) and 1 row(s) \n",
      "\t'166:J/A+A/596/A14/grlist_2' with 15 column(s) and 1 row(s) \n",
      "\t'167:J/A+A/596/A14/galist_2' with 7 column(s) and 2 row(s) \n",
      "\t'168:J/A+A/598/A78/table3' with 18 column(s) and 1 row(s) \n",
      "\t'169:J/A+A/617/A130/table1' with 22 column(s) and 2 row(s) \n",
      "\t'170:J/A+A/618/A81/2mrs_gal' with 33 column(s) and 2 row(s) \n",
      "\t'171:J/A+A/618/A81/2mrs_gr' with 19 column(s) and 1 row(s) \n",
      "\t'172:J/A+A/644/A69/news' with 27 column(s) and 4 row(s) \n",
      "\t'173:J/A+A/645/A74/xfcz' with 13 column(s) and 2 row(s) \n",
      "\t'174:J/A+A/648/A44/tabled1' with 41 column(s) and 2 row(s) \n",
      "\t'175:J/A+A/657/A138/table7' with 13 column(s) and 3 row(s) \n",
      "\t'176:J/A+AS/117/467/catalog' with 10 column(s) and 1 row(s) \n",
      "\t'177:J/AJ/110/1993/table1a' with 13 column(s) and 1 row(s) \n",
      "\t'178:J/AJ/126/1607/table1' with 18 column(s) and 1 row(s) \n",
      "\t'179:J/AJ/127/3235/table1' with 16 column(s) and 1 row(s) \n",
      "\t'180:J/AJ/149/171/table3' with 17 column(s) and 1 row(s) \n",
      "\t'181:J/AJ/149/171/table4' with 15 column(s) and 2 row(s) \n",
      "\t'182:J/AJ/149/171/table5' with 20 column(s) and 2 row(s) \n",
      "\t'183:J/AJ/154/259/table6' with 14 column(s) and 1 row(s) \n",
      "\t'184:J/AJ/155/39/table5' with 10 column(s) and 2 row(s) \n",
      "\t'185:J/AJ/156/241/table4' with 16 column(s) and 3 row(s) \n",
      "\t'186:J/AJ/156/295/table2' with 17 column(s) and 2 row(s) \n",
      "\t'187:J/AJ/156/295/table5' with 10 column(s) and 2 row(s) \n",
      "\t'188:J/AJ/158/93/table2' with 5 column(s) and 10 row(s) \n",
      "\t'189:J/AJ/159/84/table2' with 5 column(s) and 10 row(s) \n",
      "\t'190:J/PASP/111/438/catalog' with 12 column(s) and 1 row(s) \n",
      "\t'191:J/MNRAS/253/485/qigc' with 13 column(s) and 1 row(s) \n",
      "\t'192:J/MNRAS/398/109/iifsczv4' with 16 column(s) and 1 row(s) \n",
      "\t'193:J/MNRAS/412/1419/table2' with 14 column(s) and 1 row(s) \n",
      "\t'194:J/MNRAS/455/1796/tableb1' with 9 column(s) and 1 row(s) \n",
      "\t'195:J/MNRAS/463/4210/ucac4rpm' with 12 column(s) and 1 row(s) \n",
      "\t'196:J/MNRAS/474/5008/spidxcat' with 21 column(s) and 1 row(s) \n",
      "\t'197:J/MNRAS/474/5363/table1' with 19 column(s) and 1 row(s) \n",
      "\t'198:J/other/AstBu/70.24/2mfgc' with 15 column(s) and 1 row(s) \n",
      "\t'199:J/other/AstBu/73.310/catalog' with 16 column(s) and 1 row(s) \n"
     ]
    }
   ],
   "source": [
    "from astroquery.vizier import Vizier\n",
    "result = Vizier.query_object(\"NGC 6670\")\n",
    "print(result)"
   ]
  },
  {
   "cell_type": "code",
   "execution_count": 40,
   "id": "3a845871-6bc2-43b7-9e05-2abfd842eb7b",
   "metadata": {},
   "outputs": [
    {
     "data": {
      "image/png": "[encoded data removed]",
      "text/plain": [
       "<Figure size 576x432 with 1 Axes>"
      ]
     },
     "metadata": {
      "needs_background": "light"
     },
     "output_type": "display_data"
    }
   ],
   "source": [
    "from astropy.coordinates import SkyCoord\n",
    "\n",
    "ra = Angle(cat['_RA'])\n",
    "de = Angle(cat['_DE'])\n",
    "ra = ra.wrap_at('180d')\n",
    "\n",
    "fig = plt.figure(figsize=(8,6))\n",
    "ax = fig.add_subplot(111, projection=\"mollweide\")\n",
    "ax.scatter(ra.rad, de.rad)\n",
    "ax.set_xticklabels(['14h','16h','18h','20h','22h','0h','2h','4h','6h','8h','10h'])\n",
    "ax.grid(True)"
   ]
  },
  {
   "cell_type": "code",
   "execution_count": 41,
   "id": "167215d3-4195-4fce-91b1-dedab9b1dde6",
   "metadata": {},
   "outputs": [
    {
     "data": {
      "text/plain": [
       "<Table length=324>\n",
       "    name     dtype   unit   format                             description                             n_bad\n",
       "----------- ------- ------ ------- ------------------------------------------------------------------- -----\n",
       "        Seq   int16                                                                  Sequential number     0\n",
       "         ID   str11                                                                   ID (JHHMMm+DDmA)     0\n",
       "         GJ    str6                                                                            GJ name     0\n",
       "       Name   str23                                                                               Name     0\n",
       "     SpType    str4                                                                   MK spectral type     0\n",
       "       Jmag float32    mag {:5.2f}                                                         J magnitude     0\n",
       "       Mass float32   Msun {:5.2f}                                                                Mass     0\n",
       "         RV float64 km / s {:8.3f}                                                     Radial velocity     0\n",
       "        Per float32      d {:6.2f}                                                            ? Period   261\n",
       "      r_Per    str6                                                               Period reference (1)     0\n",
       "    l_vsini    str1                                                                Limit flag on vsini     0\n",
       "      vsini float32 km / s {:4.1f}                                                 Rotational velocity     0\n",
       "   l_Pvsini    str1                                                               Limit flag on Pvsini     0\n",
       "     Pvsini float32      d {:5.2f}                                                   Period from vsini     0\n",
       "        l_i    str2                                                              [<= ] Limit flag on i     0\n",
       "          i   int16    deg                     ? Inclination [NULL integer written as an empty string]   260\n",
       "logLHa_Lbol float32    [-] {:5.2f}                           ? H{alpha} to bolometric luminosity ratio   222\n",
       " SimbadName   str23                                                     Simbad column added by the CDS     0\n",
       "        _RA float64    deg {:9.5f} Right Ascension (J2000) from SIMBAD (not part of the original data)     0\n",
       "        _DE float64    deg {:9.5f}     Declination (J2000) from SIMBAD (not part of the original data)     0"
      ]
     },
     "execution_count": 41,
     "metadata": {},
     "output_type": "execute_result"
    }
   ],
   "source": [
    "cat.info"
   ]
  },
  {
   "cell_type": "markdown",
   "id": "419a90ef-5e03-46de-91af-29ffc6b735a8",
   "metadata": {},
   "source": [
    "# Quick access to data from the Gaia catalog"
   ]
  },
  {
   "cell_type": "markdown",
   "id": "370a866f-939e-4d30-83d1-218d81f9c112",
   "metadata": {},
   "source": [
    "The library we will use to get Gaia data is [Astroquery](https://astroquery.readthedocs.io/en/latest/). Astroquery provides `Gaia`, which is an [object that represents a connection to the Gaia database](https://astroquery.readthedocs.io/en/latest/gaia/gaia.html).\n",
    "\n",
    "We can connect to the Gaia database like this:"
   ]
  },
  {
   "cell_type": "code",
   "execution_count": 3,
   "id": "e901f933-ac80-46b6-a945-4ebe1bcc3f6c",
   "metadata": {},
   "outputs": [],
   "source": [
    "from astroquery.gaia import Gaia\n",
    "Gaia.ROW_LIMIT = -1"
   ]
  },
  {
   "cell_type": "markdown",
   "id": "c7057130-10d0-43a8-8f25-ab5dcd434d64",
   "metadata": {},
   "source": [
    "## Direct query with `astroquery` function"
   ]
  },
  {
   "cell_type": "markdown",
   "id": "78ccdac7-c117-4c01-8f20-2daed809c751",
   "metadata": {},
   "source": [
    "First we will use the `Gaia.query_object_async` function, which easily connects to the Gaia catalog. Although it does not give extensive functionality to filter the query, it is a first step."
   ]
  },
  {
   "cell_type": "code",
   "execution_count": 8,
   "id": "07ba9b81-4198-4978-9492-785366b67aed",
   "metadata": {},
   "outputs": [],
   "source": [
    "import numpy as np\n",
    "import astropy.units as u\n",
    "from astropy.coordinates import SkyCoord\n",
    "import matplotlib.pyplot as plt"
   ]
  },
  {
   "cell_type": "markdown",
   "id": "741f4c21-a6c7-4631-8726-a853d77bc9b3",
   "metadata": {},
   "source": [
    "To do a basic query on the *Gaia* catalogue we just need a pointing centre and the (width, height), or the radius, of the region of interest. This is a clear case where you could build a python function to retrieve data based only on those four parameters.\n",
    "\n",
    "Here we also include the Jupyter Magic `%time` that will report the execution time of a particular line of code to run. The Magic `%%time` could also be used to report the execution time of the whole cell."
   ]
  },
  {
   "cell_type": "code",
   "execution_count": 42,
   "id": "57991a4a-daa7-4486-8414-9d821b37a18f",
   "metadata": {},
   "outputs": [
    {
     "name": "stdout",
     "output_type": "stream",
     "text": [
      "INFO: Query finished. [astroquery.utils.tap.core]\n",
      "CPU times: user 1.85 s, sys: 4.74 ms, total: 1.85 s\n",
      "Wall time: 5.54 s\n"
     ]
    }
   ],
   "source": [
    "ra0 = 130.025\n",
    "de0 = 19.98333\n",
    "w = 3\n",
    "h = 2\n",
    "w = 1\n",
    "h = 1\n",
    "\n",
    "# Define the region to query\n",
    "center_coord = SkyCoord(ra=ra0, dec=de0, unit=(u.degree, u.degree), frame='icrs')\n",
    "width_deg = u.Quantity(w, u.deg)\n",
    "height_deg = u.Quantity(h, u.deg)\n",
    "\n",
    "# Run the actual query to the catalogue\n",
    "%time results1 = Gaia.query_object_async(coordinate=center_coord, width=width_deg, height=height_deg)"
   ]
  },
  {
   "cell_type": "markdown",
   "id": "f2fd6434-163f-4f90-902c-7447ed0dc8de",
   "metadata": {},
   "source": [
    "## Exploring the resulting query object"
   ]
  },
  {
   "cell_type": "code",
   "execution_count": 45,
   "id": "a4216a8e-cdf8-4200-a504-be1318e0b39c",
   "metadata": {},
   "outputs": [
    {
     "data": {
      "text/html": [
       "<div><i>Table length=5259</i>\n",
       "<table id=\"table139873136001424\" class=\"table-striped table-bordered table-condensed\">\n",
       "<thead><tr><th>dist</th><th>solution_id</th><th>DESIGNATION</th><th>source_id</th><th>random_index</th><th>ref_epoch</th><th>ra</th><th>ra_error</th><th>dec</th><th>dec_error</th><th>parallax</th><th>parallax_error</th><th>parallax_over_error</th><th>pmra</th><th>pmra_error</th><th>pmdec</th><th>pmdec_error</th><th>ra_dec_corr</th><th>ra_parallax_corr</th><th>ra_pmra_corr</th><th>ra_pmdec_corr</th><th>dec_parallax_corr</th><th>dec_pmra_corr</th><th>dec_pmdec_corr</th><th>parallax_pmra_corr</th><th>parallax_pmdec_corr</th><th>pmra_pmdec_corr</th><th>astrometric_n_obs_al</th><th>astrometric_n_obs_ac</th><th>astrometric_n_good_obs_al</th><th>astrometric_n_bad_obs_al</th><th>astrometric_gof_al</th><th>astrometric_chi2_al</th><th>astrometric_excess_noise</th><th>astrometric_excess_noise_sig</th><th>astrometric_params_solved</th><th>astrometric_primary_flag</th><th>astrometric_weight_al</th><th>astrometric_pseudo_colour</th><th>astrometric_pseudo_colour_error</th><th>mean_varpi_factor_al</th><th>astrometric_matched_observations</th><th>visibility_periods_used</th><th>astrometric_sigma5d_max</th><th>frame_rotator_object_type</th><th>matched_observations</th><th>duplicated_source</th><th>phot_g_n_obs</th><th>phot_g_mean_flux</th><th>phot_g_mean_flux_error</th><th>phot_g_mean_flux_over_error</th><th>phot_g_mean_mag</th><th>phot_bp_n_obs</th><th>phot_bp_mean_flux</th><th>phot_bp_mean_flux_error</th><th>phot_bp_mean_flux_over_error</th><th>phot_bp_mean_mag</th><th>phot_rp_n_obs</th><th>phot_rp_mean_flux</th><th>phot_rp_mean_flux_error</th><th>phot_rp_mean_flux_over_error</th><th>phot_rp_mean_mag</th><th>phot_bp_rp_excess_factor</th><th>phot_proc_mode</th><th>bp_rp</th><th>bp_g</th><th>g_rp</th><th>radial_velocity</th><th>radial_velocity_error</th><th>rv_nb_transits</th><th>rv_template_teff</th><th>rv_template_logg</th><th>rv_template_fe_h</th><th>phot_variable_flag</th><th>l</th><th>b</th><th>ecl_lon</th><th>ecl_lat</th><th>priam_flags</th><th>teff_val</th><th>teff_percentile_lower</th><th>teff_percentile_upper</th><th>a_g_val</th><th>a_g_percentile_lower</th><th>a_g_percentile_upper</th><th>e_bp_min_rp_val</th><th>e_bp_min_rp_percentile_lower</th><th>e_bp_min_rp_percentile_upper</th><th>flame_flags</th><th>radius_val</th><th>radius_percentile_lower</th><th>radius_percentile_upper</th><th>lum_val</th><th>lum_percentile_lower</th><th>lum_percentile_upper</th><th>datalink_url</th></tr></thead>\n",
       "<thead><tr><th></th><th></th><th></th><th></th><th></th><th>yr</th><th>deg</th><th>mas</th><th>deg</th><th>mas</th><th>mas</th><th>mas</th><th></th><th>mas / yr</th><th>mas / yr</th><th>mas / yr</th><th>mas / yr</th><th></th><th></th><th></th><th></th><th></th><th></th><th></th><th></th><th></th><th></th><th></th><th></th><th></th><th></th><th></th><th></th><th>mas</th><th></th><th></th><th></th><th>1 / mas2</th><th>1 / um</th><th>1 / um</th><th></th><th></th><th></th><th>mas</th><th></th><th></th><th></th><th></th><th>electron / s</th><th>electron / s</th><th></th><th>mag</th><th></th><th>electron / s</th><th>electron / s</th><th></th><th>mag</th><th></th><th>electron / s</th><th>electron / s</th><th></th><th>mag</th><th></th><th></th><th>mag</th><th>mag</th><th>mag</th><th>km / s</th><th>km / s</th><th></th><th>K</th><th>log(cm.s**-2)</th><th>dex</th><th></th><th>deg</th><th>deg</th><th>deg</th><th>deg</th><th></th><th>K</th><th>K</th><th>K</th><th>mag</th><th>mag</th><th>mag</th><th>mag</th><th>mag</th><th>mag</th><th></th><th>Rsun</th><th>Rsun</th><th>Rsun</th><th>Lsun</th><th>Lsun</th><th>Lsun</th><th></th></tr></thead>\n",
       "<thead><tr><th>float64</th><th>int64</th><th>object</th><th>int64</th><th>int64</th><th>float64</th><th>float64</th><th>float64</th><th>float64</th><th>float64</th><th>float64</th><th>float64</th><th>float32</th><th>float64</th><th>float64</th><th>float64</th><th>float64</th><th>float32</th><th>float32</th><th>float32</th><th>float32</th><th>float32</th><th>float32</th><th>float32</th><th>float32</th><th>float32</th><th>float32</th><th>int32</th><th>int32</th><th>int32</th><th>int32</th><th>float32</th><th>float32</th><th>float64</th><th>float64</th><th>int16</th><th>bool</th><th>float32</th><th>float64</th><th>float64</th><th>float32</th><th>int16</th><th>int16</th><th>float32</th><th>int32</th><th>int16</th><th>bool</th><th>int32</th><th>float64</th><th>float64</th><th>float32</th><th>float32</th><th>int32</th><th>float64</th><th>float64</th><th>float32</th><th>float32</th><th>int32</th><th>float64</th><th>float64</th><th>float32</th><th>float32</th><th>float32</th><th>int16</th><th>float32</th><th>float32</th><th>float32</th><th>float64</th><th>float64</th><th>int32</th><th>float32</th><th>float32</th><th>float32</th><th>object</th><th>float64</th><th>float64</th><th>float64</th><th>float64</th><th>int64</th><th>float32</th><th>float32</th><th>float32</th><th>float32</th><th>float32</th><th>float32</th><th>float32</th><th>float32</th><th>float32</th><th>int64</th><th>float32</th><th>float32</th><th>float32</th><th>float32</th><th>float32</th><th>float32</th><th>object</th></tr></thead>\n",
       "<tr><td>0.009802111759292364</td><td>1635721458409799680</td><td>Gaia DR2 661322846442390784</td><td>661322846442390784</td><td>390503307</td><td>2015.5</td><td>130.01500503419462</td><td>0.24888120916348072</td><td>19.980541000468566</td><td>0.193851471702074</td><td>0.828727295033905</td><td>0.3350012064562093</td><td>2.473804</td><td>-4.033231570564601</td><td>0.49627960158587475</td><td>2.915715928312259</td><td>0.33009256613751603</td><td>-0.31987226</td><td>-0.044802926</td><td>-0.18101314</td><td>0.28448436</td><td>-0.21131124</td><td>0.06778818</td><td>-0.43846372</td><td>0.5705786</td><td>-0.209052</td><td>-0.29190946</td><td>152</td><td>0</td><td>143</td><td>9</td><td>0.2536221</td><td>141.57729</td><td>0.2887893752683439</td><td>0.2976614313509744</td><td>31</td><td>False</td><td>0.41604915</td><td>1.4433653233017025</td><td>0.055630092831848624</td><td>0.0069499817</td><td>18</td><td>11</td><td>0.4772171</td><td>0</td><td>24</td><td>False</td><td>196</td><td>667.7619710548339</td><td>2.35694090385261</td><td>283.31723</td><td>18.626812</td><td>21</td><td>277.9334255388577</td><td>10.65346573347537</td><td>26.088545</td><td>19.241537</td><td>22</td><td>720.0270197973655</td><td>14.947795683432332</td><td>48.169445</td><td>17.618547</td><td>1.4944853</td><td>0</td><td>1.6229897</td><td>0.6147251</td><td>1.0082645</td><td>--</td><td>--</td><td>0</td><td>--</td><td>--</td><td>--</td><td>NOT_AVAILABLE</td><td>205.53752569203553</td><td>32.51753674558407</td><td>127.19356700248548</td><td>1.5582862225577503</td><td>--</td><td>--</td><td>--</td><td>--</td><td>--</td><td>--</td><td>--</td><td>--</td><td>--</td><td>--</td><td>--</td><td>--</td><td>--</td><td>--</td><td>--</td><td>--</td><td>--</td><td>https://gea.esac.esa.int/data-server/datalink/links?ID=Gaia+DR2+661322846442390784</td></tr>\n",
       "<tr><td>0.013413931870679088</td><td>1635721458409799680</td><td>Gaia DR2 661322953818940160</td><td>661322953818940160</td><td>350513172</td><td>2015.5</td><td>130.01602099428743</td><td>0.10531691756732188</td><td>19.993747198922243</td><td>0.06883691544492751</td><td>0.42735110852786373</td><td>0.14423369016443197</td><td>2.9629078</td><td>-2.604829384017184</td><td>0.2143511991498884</td><td>-2.7929356142511312</td><td>0.1357087428026782</td><td>-0.2753531</td><td>-0.2453717</td><td>-0.07762003</td><td>0.3213578</td><td>-0.006924325</td><td>0.14893071</td><td>-0.31276566</td><td>0.61602247</td><td>-0.32225782</td><td>-0.32159948</td><td>181</td><td>0</td><td>180</td><td>1</td><td>0.164681</td><td>177.42535</td><td>0.0</td><td>3.0384085438575352e-15</td><td>31</td><td>False</td><td>2.1673975</td><td>1.6142800557449961</td><td>0.023036129675727386</td><td>0.005946917</td><td>21</td><td>12</td><td>0.2099567</td><td>0</td><td>27</td><td>False</td><td>218</td><td>2348.979960123341</td><td>3.527761815333263</td><td>665.8556</td><td>17.261168</td><td>22</td><td>1359.5751899506113</td><td>14.758003437350162</td><td>92.1246</td><td>17.51788</td><td>23</td><td>1631.897473740581</td><td>11.32219131209543</td><td>144.13266</td><td>16.730188</td><td>1.2735199</td><td>0</td><td>0.7876911</td><td>0.25671196</td><td>0.53097916</td><td>--</td><td>--</td><td>0</td><td>--</td><td>--</td><td>--</td><td>NOT_AVAILABLE</td><td>205.52320594679472</td><td>32.52297028929054</td><td>127.19111008054864</td><td>1.5712971139865468</td><td>--</td><td>--</td><td>--</td><td>--</td><td>--</td><td>--</td><td>--</td><td>--</td><td>--</td><td>--</td><td>--</td><td>--</td><td>--</td><td>--</td><td>--</td><td>--</td><td>--</td><td>https://gea.esac.esa.int/data-server/datalink/links?ID=Gaia+DR2+661322953818940160</td></tr>\n",
       "<tr><td>0.016756721407281582</td><td>1635721458409799680</td><td>Gaia DR2 661322919458270080</td><td>661322919458270080</td><td>1520423091</td><td>2015.5</td><td>130.00808964157096</td><td>18.64640385871734</td><td>19.98862140943764</td><td>11.796211604159437</td><td>--</td><td>--</td><td>--</td><td>--</td><td>--</td><td>--</td><td>--</td><td>0.18874478</td><td>--</td><td>--</td><td>--</td><td>--</td><td>--</td><td>--</td><td>--</td><td>--</td><td>--</td><td>37</td><td>0</td><td>37</td><td>0</td><td>1.0761361</td><td>40.61765</td><td>3.396321596080307</td><td>0.5888805153086976</td><td>3</td><td>False</td><td>0.010354782</td><td>--</td><td>--</td><td>0.13324586</td><td>6</td><td>3</td><td>1944862.4</td><td>0</td><td>10</td><td>False</td><td>76</td><td>80.84812048620186</td><td>1.726649418013041</td><td>46.823704</td><td>20.919191</td><td>8</td><td>116.77374372779016</td><td>18.642022950579758</td><td>6.264006</td><td>20.183025</td><td>5</td><td>112.54034906025636</td><td>4.292816250766519</td><td>26.215971</td><td>19.63365</td><td>2.8363564</td><td>0</td><td>0.54937553</td><td>-0.736166</td><td>1.2855415</td><td>--</td><td>--</td><td>0</td><td>--</td><td>--</td><td>--</td><td>NOT_AVAILABLE</td><td>205.52587850134847</td><td>32.51420962781687</td><td>127.18521390472002</td><td>1.5644349871443421</td><td>--</td><td>--</td><td>--</td><td>--</td><td>--</td><td>--</td><td>--</td><td>--</td><td>--</td><td>--</td><td>--</td><td>--</td><td>--</td><td>--</td><td>--</td><td>--</td><td>--</td><td>https://gea.esac.esa.int/data-server/datalink/links?ID=Gaia+DR2+661322919458270080</td></tr>\n",
       "<tr><td>0.017762653805475315</td><td>1635721458409799680</td><td>Gaia DR2 661322129182111232</td><td>661322129182111232</td><td>1348785594</td><td>2015.5</td><td>130.0395266278045</td><td>0.4941417306409737</td><td>19.971954482920996</td><td>0.36915177444918323</td><td>1.561678711578475</td><td>0.6338064353530554</td><td>2.4639678</td><td>-1.7453018263697153</td><td>0.9915618973154319</td><td>-6.233321453722209</td><td>0.6882409570004236</td><td>-0.24402109</td><td>-0.21101649</td><td>-0.27843076</td><td>0.23411706</td><td>-0.036329705</td><td>0.13346621</td><td>-0.48022816</td><td>0.58364636</td><td>-0.20805396</td><td>-0.31724802</td><td>174</td><td>0</td><td>174</td><td>0</td><td>3.0214918</td><td>230.03822</td><td>0.9634406883422764</td><td>0.980622966984935</td><td>31</td><td>False</td><td>0.08573789</td><td>1.1553313131126206</td><td>0.11527612481931133</td><td>0.008504597</td><td>21</td><td>11</td><td>0.9657745</td><td>0</td><td>25</td><td>False</td><td>204</td><td>243.86996698817273</td><td>2.1279342292037855</td><td>114.60409</td><td>19.72047</td><td>18</td><td>193.1033631566052</td><td>19.163796669419472</td><td>10.076467</td><td>19.636913</td><td>19</td><td>411.1740527611684</td><td>12.666610985013866</td><td>32.46125</td><td>18.226856</td><td>2.4778674</td><td>0</td><td>1.4100571</td><td>-0.08355713</td><td>1.4936142</td><td>--</td><td>--</td><td>0</td><td>--</td><td>--</td><td>--</td><td>NOT_AVAILABLE</td><td>205.55648208555272</td><td>32.53622911880207</td><td>127.21805226820634</td><td>1.5558837899377755</td><td>--</td><td>--</td><td>--</td><td>--</td><td>--</td><td>--</td><td>--</td><td>--</td><td>--</td><td>--</td><td>--</td><td>--</td><td>--</td><td>--</td><td>--</td><td>--</td><td>--</td><td>https://gea.esac.esa.int/data-server/datalink/links?ID=Gaia+DR2+661322129182111232</td></tr>\n",
       "<tr><td>0.018219646009271676</td><td>1635721458409799680</td><td>Gaia DR2 661322090528141568</td><td>661322090528141568</td><td>1417274752</td><td>2015.5</td><td>130.02147958786338</td><td>0.2557732478660761</td><td>19.965408437364445</td><td>0.17642404227037176</td><td>0.565757068941956</td><td>0.36537998487960965</td><td>1.5484074</td><td>-3.942520628852158</td><td>0.5384438848822735</td><td>-3.3645265815605776</td><td>0.3199843213412598</td><td>-0.18282382</td><td>0.22794095</td><td>0.12537797</td><td>0.12527843</td><td>-0.23610674</td><td>-0.047932703</td><td>-0.37539652</td><td>0.66919726</td><td>-0.07641474</td><td>-0.18695752</td><td>182</td><td>0</td><td>182</td><td>0</td><td>1.2680956</td><td>201.22012</td><td>0.0</td><td>0.0</td><td>31</td><td>False</td><td>0.3211193</td><td>1.485597751508344</td><td>0.05466792698089434</td><td>0.05768763</td><td>21</td><td>10</td><td>0.5134967</td><td>0</td><td>27</td><td>False</td><td>234</td><td>550.3469143877239</td><td>2.233194139748548</td><td>246.43935</td><td>18.836775</td><td>22</td><td>261.00026070735646</td><td>11.578763024887387</td><td>22.54129</td><td>19.309786</td><td>23</td><td>576.571485602652</td><td>14.191081641466921</td><td>40.629143</td><td>17.859787</td><td>1.5218978</td><td>0</td><td>1.4499989</td><td>0.47301102</td><td>0.97698784</td><td>--</td><td>--</td><td>0</td><td>--</td><td>--</td><td>--</td><td>NOT_AVAILABLE</td><td>205.5568587711664</td><td>32.51805054072796</td><td>127.20332521257922</td><td>1.5452144786864574</td><td>--</td><td>--</td><td>--</td><td>--</td><td>--</td><td>--</td><td>--</td><td>--</td><td>--</td><td>--</td><td>--</td><td>--</td><td>--</td><td>--</td><td>--</td><td>--</td><td>--</td><td>https://gea.esac.esa.int/data-server/datalink/links?ID=Gaia+DR2+661322090528141568</td></tr>\n",
       "<tr><td>0.023270220863531647</td><td>1635721458409799680</td><td>Gaia DR2 661323606650853632</td><td>661323606650853632</td><td>1478051041</td><td>2015.5</td><td>130.0497621299465</td><td>0.3991352977034726</td><td>19.98377789498254</td><td>0.28844719612018865</td><td>0.47516678330988377</td><td>0.6075418076862926</td><td>0.78211373</td><td>-2.985105973480117</td><td>0.8928841351157153</td><td>-3.3053980495513504</td><td>0.5356421247455114</td><td>-0.2430514</td><td>0.060146667</td><td>-0.031679697</td><td>0.23205896</td><td>-0.019443963</td><td>0.15211082</td><td>-0.51304716</td><td>0.72079027</td><td>-0.18845779</td><td>-0.31357604</td><td>166</td><td>0</td><td>165</td><td>1</td><td>-1.6789334</td><td>131.22136</td><td>0.0</td><td>0.0</td><td>31</td><td>False</td><td>0.14627965</td><td>1.5183035578195883</td><td>0.0917591091213367</td><td>0.029090581</td><td>20</td><td>10</td><td>0.86764276</td><td>0</td><td>26</td><td>False</td><td>211</td><td>329.0287067450474</td><td>2.4905575313534687</td><td>132.11046</td><td>19.39528</td><td>21</td><td>254.87159508065454</td><td>15.597762097222056</td><td>16.340267</td><td>19.335585</td><td>21</td><td>346.26964953395196</td><td>10.205116270068805</td><td>33.930984</td><td>18.413383</td><td>1.8270177</td><td>0</td><td>0.92220116</td><td>-0.059696198</td><td>0.98189735</td><td>--</td><td>--</td><td>0</td><td>--</td><td>--</td><td>--</td><td>NOT_AVAILABLE</td><td>205.5472308366335</td><td>32.54932528053905</td><td>127.22432656078497</td><td>1.5697759416067607</td><td>--</td><td>--</td><td>--</td><td>--</td><td>--</td><td>--</td><td>--</td><td>--</td><td>--</td><td>--</td><td>--</td><td>--</td><td>--</td><td>--</td><td>--</td><td>--</td><td>--</td><td>https://gea.esac.esa.int/data-server/datalink/links?ID=Gaia+DR2+661323606650853632</td></tr>\n",
       "<tr><td>0.02445630792133449</td><td>1635721458409799680</td><td>Gaia DR2 661324431287688448</td><td>661324431287688448</td><td>788166040</td><td>2015.5</td><td>130.02657947132394</td><td>0.043558763357000686</td><td>20.00773569688166</td><td>0.03099984816650081</td><td>5.316194371046439</td><td>0.05892472792863759</td><td>90.22009</td><td>-35.60957552754509</td><td>0.08754513933765422</td><td>-11.963702152166118</td><td>0.055136721474611516</td><td>-0.41975328</td><td>-0.1358385</td><td>-0.22184417</td><td>0.4538053</td><td>-0.111287355</td><td>0.215826</td><td>-0.48650834</td><td>0.62542593</td><td>-0.25465265</td><td>-0.3871421</td><td>220</td><td>220</td><td>212</td><td>8</td><td>7.091365</td><td>386.3978</td><td>0.0</td><td>0.0</td><td>31</td><td>True</td><td>316.96573</td><td>1.5727062771431164</td><td>0.009477604151890891</td><td>-0.008497519</td><td>25</td><td>12</td><td>0.056965407</td><td>0</td><td>37</td><td>False</td><td>291</td><td>66232823.59961401</td><td>20482.763922214683</td><td>3233.5881</td><td>6.1356826</td><td>29</td><td>30612233.464896858</td><td>50147.45191680208</td><td>610.44446</td><td>6.6366506</td><td>29</td><td>49206886.48189549</td><td>95742.81356889517</td><td>513.9486</td><td>5.531855</td><td>1.2051294</td><td>0</td><td>1.1047955</td><td>0.500968</td><td>0.6038275</td><td>34.1410282196341</td><td>0.14830496348234412</td><td>13</td><td>5000.0</td><td>2.5</td><td>0.25</td><td>NOT_AVAILABLE</td><td>205.51166437920656</td><td>32.53709222672014</td><td>127.1971240804592</td><td>1.5873587768058746</td><td>100001</td><td>5047.947</td><td>4981.25</td><td>5098.27</td><td>--</td><td>--</td><td>--</td><td>--</td><td>--</td><td>--</td><td>200111</td><td>13.151215</td><td>12.892875</td><td>13.505751</td><td>101.17787</td><td>99.69645</td><td>102.659294</td><td>https://gea.esac.esa.int/data-server/datalink/links?ID=Gaia+DR2+661324431287688448</td></tr>\n",
       "<tr><td>0.02447974121342088</td><td>1635721458409799680</td><td>Gaia DR2 661322060465742336</td><td>661322060465742336</td><td>1182878022</td><td>2015.5</td><td>130.04755822939757</td><td>0.05087222973848031</td><td>19.97107625044161</td><td>0.036801006459923714</td><td>5.206498219518862</td><td>0.07128844383925169</td><td>73.034256</td><td>-35.31181931034908</td><td>0.10905925697574156</td><td>-13.595467525919654</td><td>0.06887100894638347</td><td>-0.20699872</td><td>0.09335284</td><td>0.00015156937</td><td>0.066691816</td><td>-0.27197075</td><td>-0.107541405</td><td>-0.20886442</td><td>0.61031735</td><td>-0.11527132</td><td>-0.22315204</td><td>215</td><td>215</td><td>212</td><td>3</td><td>23.445768</td><td>1142.2775</td><td>0.14708764423007065</td><td>8.302862008696037</td><td>31</td><td>True</td><td>33.309208</td><td>1.7670762286186992</td><td>0.012142569950974577</td><td>0.053338535</td><td>24</td><td>12</td><td>0.065090746</td><td>0</td><td>30</td><td>False</td><td>268</td><td>43915052.44293111</td><td>13696.966800274238</td><td>3206.1882</td><td>6.5818324</td><td>29</td><td>31390760.809441037</td><td>55284.283373517115</td><td>567.8062</td><td>6.6093836</td><td>25</td><td>18691695.285531655</td><td>41181.01899762565</td><td>453.89102</td><td>6.5827985</td><td>1.1404394</td><td>0</td><td>0.026585102</td><td>0.027551174</td><td>-0.0009660721</td><td>--</td><td>--</td><td>0</td><td>--</td><td>--</td><td>--</td><td>NOT_AVAILABLE</td><td>205.5605373902636</td><td>32.543016250409416</td><td>127.22557691601486</td><td>1.556967359532462</td><td>100001</td><td>9450.0</td><td>9064.0</td><td>9650.0</td><td>0.4295</td><td>0.2473</td><td>0.5498</td><td>0.229</td><td>0.1372</td><td>0.288</td><td>--</td><td>--</td><td>--</td><td>--</td><td>--</td><td>--</td><td>--</td><td>https://gea.esac.esa.int/data-server/datalink/links?ID=Gaia+DR2+661322060465742336</td></tr>\n",
       "<tr><td>0.02637108609881465</td><td>1635721458409799680</td><td>Gaia DR2 661323641013705472</td><td>661323641013705472</td><td>944638641</td><td>2015.5</td><td>130.05094752875684</td><td>0.03140352283380697</td><td>19.993378723341063</td><td>0.024089131225049437</td><td>0.873737603014143</td><td>0.043736884045707254</td><td>19.977135</td><td>-10.744406774314907</td><td>0.066497995858921</td><td>2.0476039889799527</td><td>0.05132474633097743</td><td>-0.37346002</td><td>-0.019186025</td><td>-0.0946354</td><td>0.13968724</td><td>-0.18200842</td><td>-0.00045726876</td><td>-0.14170519</td><td>0.57538384</td><td>-0.07291132</td><td>-0.4032194</td><td>182</td><td>0</td><td>182</td><td>0</td><td>-2.3185678</td><td>136.30124</td><td>0.0</td><td>0.0</td><td>31</td><td>False</td><td>30.268837</td><td>1.6145288053256406</td><td>0.007257166674730938</td><td>-0.0672907</td><td>21</td><td>11</td><td>0.07329084</td><td>0</td><td>30</td><td>False</td><td>231</td><td>24678.55838774669</td><td>9.89867924550079</td><td>2493.1162</td><td>14.707566</td><td>25</td><td>13680.739119643029</td><td>33.85964016114821</td><td>404.04266</td><td>15.011114</td><td>24</td><td>16368.645365490383</td><td>25.406669589867377</td><td>644.2657</td><td>14.226888</td><td>1.2176312</td><td>0</td><td>0.7842264</td><td>0.30354786</td><td>0.48067856</td><td>--</td><td>--</td><td>0</td><td>--</td><td>--</td><td>--</td><td>NOT_AVAILABLE</td><td>205.5369874707462</td><td>32.55366891725116</td><td>127.22294459585045</td><td>1.5793419489614577</td><td>100001</td><td>5878.25</td><td>5499.533</td><td>6650.21</td><td>0.0887</td><td>0.03</td><td>0.1683</td><td>0.047</td><td>0.0145</td><td>0.0835</td><td>200111</td><td>1.0863596</td><td>0.84878755</td><td>1.2411323</td><td>1.2695041</td><td>1.1268711</td><td>1.412137</td><td>https://gea.esac.esa.int/data-server/datalink/links?ID=Gaia+DR2+661323641013705472</td></tr>\n",
       "<tr><td>...</td><td>...</td><td>...</td><td>...</td><td>...</td><td>...</td><td>...</td><td>...</td><td>...</td><td>...</td><td>...</td><td>...</td><td>...</td><td>...</td><td>...</td><td>...</td><td>...</td><td>...</td><td>...</td><td>...</td><td>...</td><td>...</td><td>...</td><td>...</td><td>...</td><td>...</td><td>...</td><td>...</td><td>...</td><td>...</td><td>...</td><td>...</td><td>...</td><td>...</td><td>...</td><td>...</td><td>...</td><td>...</td><td>...</td><td>...</td><td>...</td><td>...</td><td>...</td><td>...</td><td>...</td><td>...</td><td>...</td><td>...</td><td>...</td><td>...</td><td>...</td><td>...</td><td>...</td><td>...</td><td>...</td><td>...</td><td>...</td><td>...</td><td>...</td><td>...</td><td>...</td><td>...</td><td>...</td><td>...</td><td>...</td><td>...</td><td>...</td><td>...</td><td>...</td><td>...</td><td>...</td><td>...</td><td>...</td><td>...</td><td>...</td><td>...</td><td>...</td><td>...</td><td>...</td><td>...</td><td>...</td><td>...</td><td>...</td><td>...</td><td>...</td><td>...</td><td>...</td><td>...</td><td>...</td><td>...</td><td>...</td><td>...</td><td>...</td><td>...</td><td>...</td><td>...</td></tr>\n",
       "<tr><td>0.667658962184965</td><td>1635721458409799680</td><td>Gaia DR2 661279347014175104</td><td>661279347014175104</td><td>702233076</td><td>2015.5</td><td>129.54737507816313</td><td>20.681431390680856</td><td>19.489710016923734</td><td>13.091977161812693</td><td>--</td><td>--</td><td>--</td><td>--</td><td>--</td><td>--</td><td>--</td><td>-0.96785563</td><td>--</td><td>--</td><td>--</td><td>--</td><td>--</td><td>--</td><td>--</td><td>--</td><td>--</td><td>37</td><td>0</td><td>36</td><td>1</td><td>13.551457</td><td>303.89133</td><td>8.847234905205665</td><td>9.158342475641122</td><td>3</td><td>False</td><td>0.004765002</td><td>--</td><td>--</td><td>-0.19779456</td><td>5</td><td>4</td><td>16393.336</td><td>0</td><td>5</td><td>False</td><td>39</td><td>65.3985809333993</td><td>1.8423996704850942</td><td>35.496414</td><td>21.149445</td><td>0</td><td>--</td><td>--</td><td>--</td><td>--</td><td>0</td><td>--</td><td>--</td><td>--</td><td>--</td><td>--</td><td>0</td><td>--</td><td>--</td><td>--</td><td>--</td><td>--</td><td>0</td><td>--</td><td>--</td><td>--</td><td>NOT_AVAILABLE</td><td>205.90150505540498</td><td>31.93456932522101</td><td>126.89279097516324</td><td>0.9715703549145002</td><td>--</td><td>--</td><td>--</td><td>--</td><td>--</td><td>--</td><td>--</td><td>--</td><td>--</td><td>--</td><td>--</td><td>--</td><td>--</td><td>--</td><td>--</td><td>--</td><td>--</td><td>https://gea.esac.esa.int/data-server/datalink/links?ID=Gaia+DR2+661279347014175104</td></tr>\n",
       "<tr><td>0.6680124060995727</td><td>1635721458409799680</td><td>Gaia DR2 661279557469449728</td><td>661279557469449728</td><td>618493480</td><td>2015.5</td><td>129.53295407456315</td><td>0.138880393263408</td><td>19.501915468891845</td><td>0.09333695890960987</td><td>1.4205288832048466</td><td>0.1890827851000274</td><td>7.5127354</td><td>-11.17048565557718</td><td>0.29464560157712893</td><td>16.646859659368637</td><td>0.19095542108309882</td><td>-0.34696844</td><td>-0.1743789</td><td>-0.07650601</td><td>-0.065962985</td><td>-0.022468973</td><td>-0.0893832</td><td>-0.07134393</td><td>0.5635687</td><td>-0.24024752</td><td>-0.44152948</td><td>149</td><td>0</td><td>149</td><td>0</td><td>10.370549</td><td>400.1104</td><td>0.6646678580875888</td><td>12.534295847618226</td><td>31</td><td>False</td><td>1.3936862</td><td>1.3755381165840113</td><td>0.028241050695701462</td><td>-0.07063775</td><td>17</td><td>10</td><td>0.286894</td><td>0</td><td>22</td><td>False</td><td>189</td><td>3722.851264654331</td><td>5.09797258314512</td><td>730.2611</td><td>16.761177</td><td>18</td><td>1083.8157412702203</td><td>15.726156203058926</td><td>68.91803</td><td>17.764</td><td>17</td><td>4031.0462374812073</td><td>14.195914172115362</td><td>283.9582</td><td>15.748376</td><td>1.3739098</td><td>0</td><td>2.015624</td><td>1.0028229</td><td>1.0128012</td><td>--</td><td>--</td><td>0</td><td>--</td><td>--</td><td>--</td><td>NOT_AVAILABLE</td><td>205.88243412169962</td><td>31.92609527039304</td><td>126.87654639359006</td><td>0.9799348694160107</td><td>100001</td><td>3797.6465</td><td>3641.5</td><td>4309.0</td><td>--</td><td>--</td><td>--</td><td>--</td><td>--</td><td>--</td><td>200111</td><td>0.86186695</td><td>0.6694472</td><td>0.9373649</td><td>0.1391981</td><td>0.10182397</td><td>0.17657222</td><td>https://gea.esac.esa.int/data-server/datalink/links?ID=Gaia+DR2+661279557469449728</td></tr>\n",
       "<tr><td>0.6682096057369734</td><td>1635721458409799680</td><td>Gaia DR2 661234855449970816</td><td>661234855449970816</td><td>1338518606</td><td>2015.5</td><td>130.512965008102</td><td>0.02583639519520009</td><td>19.497973117702667</td><td>0.016208075233901255</td><td>1.118587931853907</td><td>0.034646201185487405</td><td>32.28602</td><td>-9.602998150462675</td><td>0.055278230597921835</td><td>6.014067029882099</td><td>0.031724222359795516</td><td>-0.4025824</td><td>-0.17078462</td><td>-0.2361341</td><td>0.2682341</td><td>0.3248014</td><td>0.33778688</td><td>-0.66718715</td><td>0.5709428</td><td>-0.20533146</td><td>-0.3497539</td><td>331</td><td>0</td><td>331</td><td>0</td><td>-2.9251914</td><td>256.29828</td><td>0.0</td><td>0.0</td><td>31</td><td>False</td><td>64.965614</td><td>1.6216290603788617</td><td>0.0038657768496634295</td><td>0.019517604</td><td>38</td><td>13</td><td>0.062297758</td><td>0</td><td>42</td><td>True</td><td>356</td><td>51598.377198034446</td><td>10.038422980036376</td><td>5140.088</td><td>13.906775</td><td>38</td><td>28429.203024065366</td><td>32.325399121152905</td><td>879.46954</td><td>14.216976</td><td>37</td><td>33917.46382733124</td><td>24.905067468102292</td><td>1361.87</td><td>13.435862</td><td>1.2083068</td><td>0</td><td>0.7811146</td><td>0.3102007</td><td>0.4709139</td><td>--</td><td>--</td><td>0</td><td>--</td><td>--</td><td>--</td><td>NOT_AVAILABLE</td><td>206.267708208455</td><td>32.79068002754112</td><td>127.77076950469785</td><td>1.2124798028776265</td><td>100001</td><td>5962.25</td><td>5844.5</td><td>6458.89</td><td>0.1255</td><td>0.035</td><td>0.4551</td><td>0.0767</td><td>0.024</td><td>0.225</td><td>200111</td><td>1.1903862</td><td>1.0143608</td><td>1.2388352</td><td>1.6132854</td><td>1.4959756</td><td>1.7305952</td><td>https://gea.esac.esa.int/data-server/datalink/links?ID=Gaia+DR2+661234855449970816</td></tr>\n",
       "<tr><td>0.6689951830029696</td><td>1635721458409799680</td><td>Gaia DR2 661234851151874560</td><td>661234851151874560</td><td>1462970606</td><td>2015.5</td><td>130.52256866146277</td><td>0.37747533624575785</td><td>19.505577646931958</td><td>0.20353030220045534</td><td>3.1837231356169515</td><td>0.5096515331176381</td><td>6.246863</td><td>-1.4339041473136707</td><td>0.822857178257525</td><td>-7.985512480462173</td><td>0.399112216117506</td><td>-0.2847031</td><td>-0.08225108</td><td>0.0087994505</td><td>0.14340574</td><td>0.31115672</td><td>0.26667386</td><td>-0.5773638</td><td>0.550481</td><td>-0.17123659</td><td>-0.30406487</td><td>361</td><td>0</td><td>360</td><td>1</td><td>1.2025932</td><td>387.31094</td><td>0.36983164479557945</td><td>0.23955098189978713</td><td>31</td><td>False</td><td>0.13676648</td><td>1.3489225464715158</td><td>0.06103381034142635</td><td>0.032545462</td><td>42</td><td>13</td><td>0.76548845</td><td>0</td><td>46</td><td>False</td><td>391</td><td>313.3846185314785</td><td>0.9119785249936594</td><td>343.6316</td><td>19.448172</td><td>34</td><td>75.49987993687361</td><td>5.45037087836258</td><td>13.852246</td><td>20.656523</td><td>38</td><td>444.29565764369613</td><td>6.391641490962437</td><td>69.51198</td><td>18.14274</td><td>1.6586504</td><td>0</td><td>2.5137825</td><td>1.2083511</td><td>1.3054314</td><td>--</td><td>--</td><td>0</td><td>--</td><td>--</td><td>--</td><td>NOT_AVAILABLE</td><td>206.26296439528912</td><td>32.80181011584079</td><td>127.77755040051298</td><td>1.2221659010136428</td><td>--</td><td>--</td><td>--</td><td>--</td><td>--</td><td>--</td><td>--</td><td>--</td><td>--</td><td>--</td><td>--</td><td>--</td><td>--</td><td>--</td><td>--</td><td>--</td><td>--</td><td>https://gea.esac.esa.int/data-server/datalink/links?ID=Gaia+DR2+661234851151874560</td></tr>\n",
       "<tr><td>0.6725328148547669</td><td>1635721458409799680</td><td>Gaia DR2 661234855449017472</td><td>661234855449017472</td><td>142185307</td><td>2015.5</td><td>130.51844327986493</td><td>21.09396778561141</td><td>19.49691120644797</td><td>6.943465068009919</td><td>--</td><td>--</td><td>--</td><td>--</td><td>--</td><td>--</td><td>--</td><td>-0.7702231</td><td>--</td><td>--</td><td>--</td><td>--</td><td>--</td><td>--</td><td>--</td><td>--</td><td>--</td><td>60</td><td>0</td><td>60</td><td>0</td><td>0.21247792</td><td>56.576653</td><td>0.0</td><td>0.0</td><td>3</td><td>False</td><td>0.011756669</td><td>--</td><td>--</td><td>0.06700609</td><td>8</td><td>4</td><td>376.2201</td><td>0</td><td>10</td><td>False</td><td>74</td><td>72.85095825811574</td><td>1.4760174244372968</td><td>49.356434</td><td>21.032278</td><td>0</td><td>--</td><td>--</td><td>--</td><td>--</td><td>0</td><td>--</td><td>--</td><td>--</td><td>--</td><td>--</td><td>0</td><td>--</td><td>--</td><td>--</td><td>--</td><td>--</td><td>0</td><td>--</td><td>--</td><td>--</td><td>NOT_AVAILABLE</td><td>206.27102635177718</td><td>32.79515388941119</td><td>127.77603380099045</td><td>1.212788782884615</td><td>--</td><td>--</td><td>--</td><td>--</td><td>--</td><td>--</td><td>--</td><td>--</td><td>--</td><td>--</td><td>--</td><td>--</td><td>--</td><td>--</td><td>--</td><td>--</td><td>--</td><td>https://gea.esac.esa.int/data-server/datalink/links?ID=Gaia+DR2+661234855449017472</td></tr>\n",
       "<tr><td>0.6768591886407228</td><td>1635721458409799680</td><td>Gaia DR2 661279351311020288</td><td>661279351311020288</td><td>928144190</td><td>2015.5</td><td>129.53583806511196</td><td>10.516102508039655</td><td>19.48719959008119</td><td>3.921575479942816</td><td>--</td><td>--</td><td>--</td><td>--</td><td>--</td><td>--</td><td>--</td><td>0.48623833</td><td>--</td><td>--</td><td>--</td><td>--</td><td>--</td><td>--</td><td>--</td><td>--</td><td>--</td><td>52</td><td>0</td><td>52</td><td>0</td><td>39.57889</td><td>2413.2136</td><td>17.140528857869114</td><td>203.8250185599655</td><td>3</td><td>False</td><td>0.003220486</td><td>--</td><td>--</td><td>0.072659016</td><td>10</td><td>5</td><td>28.018116</td><td>0</td><td>14</td><td>True</td><td>125</td><td>333.36658101591695</td><td>4.233038169228639</td><td>78.7535</td><td>19.38106</td><td>0</td><td>--</td><td>--</td><td>--</td><td>--</td><td>0</td><td>--</td><td>--</td><td>--</td><td>--</td><td>--</td><td>0</td><td>--</td><td>--</td><td>--</td><td>--</td><td>--</td><td>0</td><td>--</td><td>--</td><td>--</td><td>NOT_AVAILABLE</td><td>205.89979912535722</td><td>31.923501608924855</td><td>126.8829039749511</td><td>0.9663871381282398</td><td>--</td><td>--</td><td>--</td><td>--</td><td>--</td><td>--</td><td>--</td><td>--</td><td>--</td><td>--</td><td>--</td><td>--</td><td>--</td><td>--</td><td>--</td><td>--</td><td>--</td><td>https://gea.esac.esa.int/data-server/datalink/links?ID=Gaia+DR2+661279351311020288</td></tr>\n",
       "<tr><td>0.6809073255405192</td><td>1635721458409799680</td><td>Gaia DR2 661234782432386816</td><td>661234782432386816</td><td>1065789161</td><td>2015.5</td><td>130.5244205030273</td><td>0.6337406934940847</td><td>19.49071277353856</td><td>0.35494440930442783</td><td>-0.21585547124239457</td><td>0.7869862118597212</td><td>-0.27428114</td><td>-3.8396095112728585</td><td>1.3443299054131064</td><td>-0.15782344899170744</td><td>0.7153473040295855</td><td>-0.37460572</td><td>-0.020083535</td><td>-0.03160769</td><td>0.2707783</td><td>0.17780998</td><td>0.31524593</td><td>-0.67613363</td><td>0.47076383</td><td>-0.08061461</td><td>-0.3686729</td><td>346</td><td>0</td><td>345</td><td>1</td><td>1.8396367</td><td>389.53302</td><td>0.0</td><td>0.0</td><td>31</td><td>False</td><td>0.05582853</td><td>1.5377850500533532</td><td>0.09421524855632885</td><td>0.024645146</td><td>41</td><td>13</td><td>1.2474171</td><td>0</td><td>45</td><td>False</td><td>378</td><td>181.76341628033256</td><td>0.8617493067528608</td><td>210.92377</td><td>20.0396</td><td>38</td><td>84.28137337476802</td><td>6.537733512994141</td><td>12.891528</td><td>20.53706</td><td>40</td><td>212.20537229838877</td><td>6.323824979119387</td><td>33.55649</td><td>18.945028</td><td>1.6311685</td><td>0</td><td>1.5920315</td><td>0.4974594</td><td>1.0945721</td><td>--</td><td>--</td><td>0</td><td>--</td><td>--</td><td>--</td><td>NOT_AVAILABLE</td><td>206.28026930236615</td><td>32.798284783996536</td><td>127.78308077985345</td><td>1.208257616062445</td><td>--</td><td>--</td><td>--</td><td>--</td><td>--</td><td>--</td><td>--</td><td>--</td><td>--</td><td>--</td><td>--</td><td>--</td><td>--</td><td>--</td><td>--</td><td>--</td><td>--</td><td>https://gea.esac.esa.int/data-server/datalink/links?ID=Gaia+DR2+661234782432386816</td></tr>\n",
       "<tr><td>0.6813093848167194</td><td>1635721458409799680</td><td>Gaia DR2 661234782435091328</td><td>661234782435091328</td><td>116311266</td><td>2015.5</td><td>130.52256796036067</td><td>0.48477837164239035</td><td>19.488504043965545</td><td>0.24999750483328118</td><td>-0.550804646618592</td><td>0.5742843370649681</td><td>-0.95911485</td><td>-0.653309671211714</td><td>1.024701511562873</td><td>-7.193029615479537</td><td>0.507930989699957</td><td>-0.15137368</td><td>0.056721617</td><td>0.074796006</td><td>0.04727371</td><td>0.15875266</td><td>0.1231279</td><td>-0.60087824</td><td>0.44078583</td><td>-0.07434469</td><td>-0.18610252</td><td>358</td><td>0</td><td>358</td><td>0</td><td>1.0268358</td><td>380.29163</td><td>0.0</td><td>0.0</td><td>31</td><td>False</td><td>0.08602809</td><td>1.5182419349782323</td><td>0.07325921650830794</td><td>0.052777182</td><td>42</td><td>13</td><td>0.9256285</td><td>0</td><td>47</td><td>False</td><td>392</td><td>230.40965476066444</td><td>0.8942700910308462</td><td>257.6511</td><td>19.782114</td><td>37</td><td>90.97424595852297</td><td>7.490022004852389</td><td>12.146059</td><td>20.454092</td><td>35</td><td>259.22879885420633</td><td>9.579134607723194</td><td>27.06182</td><td>18.727713</td><td>1.5199147</td><td>0</td><td>1.7263794</td><td>0.671978</td><td>1.0544014</td><td>--</td><td>--</td><td>0</td><td>--</td><td>--</td><td>--</td><td>NOT_AVAILABLE</td><td>206.28201157896544</td><td>32.79587989633238</td><td>127.7819644961865</td><td>1.205672495571781</td><td>--</td><td>--</td><td>--</td><td>--</td><td>--</td><td>--</td><td>--</td><td>--</td><td>--</td><td>--</td><td>--</td><td>--</td><td>--</td><td>--</td><td>--</td><td>--</td><td>--</td><td>https://gea.esac.esa.int/data-server/datalink/links?ID=Gaia+DR2+661234782435091328</td></tr>\n",
       "<tr><td>0.6816039953065632</td><td>1635721458409799680</td><td>Gaia DR2 661234782432384128</td><td>661234782432384128</td><td>203372573</td><td>2015.5</td><td>130.5219304360675</td><td>0.346792526267856</td><td>19.48753301449533</td><td>0.1999838660088104</td><td>0.5443405724350858</td><td>0.5269980806654072</td><td>1.0329081</td><td>3.078972316255121</td><td>0.7695594529242802</td><td>-21.6713702107636</td><td>0.3625393185478313</td><td>-0.46551967</td><td>-0.35093006</td><td>-0.20410909</td><td>0.32482502</td><td>0.54009056</td><td>0.4635668</td><td>-0.6912317</td><td>0.67102885</td><td>-0.39104298</td><td>-0.44829628</td><td>353</td><td>0</td><td>349</td><td>4</td><td>0.2842268</td><td>350.83328</td><td>0.0</td><td>0.0</td><td>31</td><td>False</td><td>0.2109404</td><td>1.5375453811420061</td><td>0.048800985698359216</td><td>0.01930878</td><td>41</td><td>12</td><td>0.7601729</td><td>0</td><td>45</td><td>False</td><td>380</td><td>417.5615086626549</td><td>1.069547925967255</td><td>390.40936</td><td>19.136564</td><td>35</td><td>232.2776155917648</td><td>9.874025345546345</td><td>23.524105</td><td>19.436369</td><td>39</td><td>417.42432238861096</td><td>8.539440805058462</td><td>48.881927</td><td>18.210476</td><td>1.5559431</td><td>0</td><td>1.225893</td><td>0.2998047</td><td>0.92608833</td><td>--</td><td>--</td><td>0</td><td>--</td><td>--</td><td>--</td><td>NOT_AVAILABLE</td><td>206.28284642082806</td><td>32.794979001821794</td><td>127.78163487186754</td><td>1.2045791078495212</td><td>--</td><td>--</td><td>--</td><td>--</td><td>--</td><td>--</td><td>--</td><td>--</td><td>--</td><td>--</td><td>--</td><td>--</td><td>--</td><td>--</td><td>--</td><td>--</td><td>--</td><td>https://gea.esac.esa.int/data-server/datalink/links?ID=Gaia+DR2+661234782432384128</td></tr>\n",
       "</table></div>"
      ],
      "text/plain": [
       "<Table length=5259>\n",
       "        dist         ...\n",
       "                     ...\n",
       "      float64        ...\n",
       "-------------------- ...\n",
       "0.009802111759292364 ...\n",
       "0.013413931870679088 ...\n",
       "0.016756721407281582 ...\n",
       "0.017762653805475315 ...\n",
       "0.018219646009271676 ...\n",
       "0.023270220863531647 ...\n",
       " 0.02445630792133449 ...\n",
       " 0.02447974121342088 ...\n",
       " 0.02637108609881465 ...\n",
       "                 ... ...\n",
       "   0.667658962184965 ...\n",
       "  0.6680124060995727 ...\n",
       "  0.6682096057369734 ...\n",
       "  0.6689951830029696 ...\n",
       "  0.6725328148547669 ...\n",
       "  0.6768591886407228 ...\n",
       "  0.6809073255405192 ...\n",
       "  0.6813093848167194 ...\n",
       "  0.6816039953065632 ..."
      ]
     },
     "execution_count": 45,
     "metadata": {},
     "output_type": "execute_result"
    }
   ],
   "source": [
    "results1"
   ]
  },
  {
   "cell_type": "code",
   "execution_count": 62,
   "id": "5c33f8bb-01d5-44f7-b996-e577d15f3e6d",
   "metadata": {},
   "outputs": [],
   "source": [
    "data0 = results1[['pmra','pmdec', 'parallax']].to_pandas().dropna()\n",
    "\n",
    "\n",
    "selection = (data0['parallax'] > 3.0) & (data0['parallax'] < 7.7)\n",
    "data = data0[selection]\n",
    "\n",
    "data = data0"
   ]
  },
  {
   "cell_type": "code",
   "execution_count": 63,
   "id": "3ae6a47a-5e56-445f-9cab-c79b30087ee9",
   "metadata": {},
   "outputs": [
    {
     "data": {
      "image/png": "[encoded data removed]",
      "text/plain": [
       "<Figure size 1296x432 with 3 Axes>"
      ]
     },
     "metadata": {
      "needs_background": "light"
     },
     "output_type": "display_data"
    }
   ],
   "source": [
    "\n",
    "\n",
    "fig, ax = plt.subplots(ncols=3, figsize=(18,6))\n",
    "ax[0].hist(data['pmra'], bins=np.linspace(-60, 80, 150), label='Parallax distribution')\n",
    "ax[1].hist(data['pmdec'], bins=np.linspace(-150, 50, 150), label='Distance distribution')\n",
    "ax[2].hist(data['parallax'], bins=np.linspace(0, 20, 150), label='Distance distribution')\n",
    "\n",
    "ax[0].legend()\n",
    "ax[1].legend()\n",
    "ax[0].set_xlabel('Parallax [mas]')\n",
    "ax[0].set_ylabel('Number of stars');\n",
    "ax[1].set_xlabel('Distance [kpc]')\n",
    "ax[1].set_ylabel('Number of stars');\n",
    "\n"
   ]
  },
  {
   "cell_type": "code",
   "execution_count": 64,
   "id": "fe2d7451-971f-4b1c-b83b-c5204ecec3b8",
   "metadata": {},
   "outputs": [],
   "source": [
    "from astropy.coordinates import Distance\n",
    "from sklearn.neighbors import DistanceMetric\n",
    "from sklearn.cluster import DBSCAN\n",
    "def get_clusters(pos,eps=.005,min_samples=20,sphere=False):   \n",
    "    if sphere:\n",
    "        print('Requiring that there are {:d} neighbors in a {:.1f} degree radius '.format(min_samples, np.rad2deg(eps)))\n",
    "        print('Using haversine 2D distance on sky')\n",
    "        dist= DistanceMetric.get_metric('haversine').pairwise(pos[:,:2])\n",
    "    else:\n",
    "        print('Requiring that there are {:d} neighbors in a {:.1f} pc radius '.format(min_samples, eps*1e3))\n",
    "        print('Using Euclidean 3D distance')\n",
    "        dist= DistanceMetric.get_metric('euclidean').pairwise(pos)\n",
    "    db = DBSCAN(eps=eps, min_samples=min_samples,metric='precomputed').fit(dist)\n",
    "    core_samples_mask = np.zeros_like(db.labels_, dtype=bool)\n",
    "    core_samples_mask[db.core_sample_indices_] = True\n",
    "    labels = db.labels_\n",
    "\n",
    "    # Number of clusters in labels, ignoring noise if present.\n",
    "    n_clusters_ = len(set(labels)) - (1 if -1 in labels else 0)\n",
    "    print('Clusters {0}'.format(n_clusters_))\n",
    "    return labels,core_samples_mask, n_clusters_"
   ]
  },
  {
   "cell_type": "code",
   "execution_count": 65,
   "id": "7b20f9d1-09e9-4ab9-b71c-4fe052dff913",
   "metadata": {},
   "outputs": [
    {
     "data": {
      "text/plain": [
       "pandas.core.frame.DataFrame"
      ]
     },
     "execution_count": 65,
     "metadata": {},
     "output_type": "execute_result"
    }
   ],
   "source": [
    "type(data[['pmra','pmdec', 'parallax']])"
   ]
  },
  {
   "cell_type": "code",
   "execution_count": 66,
   "id": "89422aff-9363-4d76-b2a4-4ca4ed7fdbb9",
   "metadata": {},
   "outputs": [
    {
     "data": {
      "text/plain": [
       "(4454, 3)"
      ]
     },
     "execution_count": 66,
     "metadata": {},
     "output_type": "execute_result"
    }
   ],
   "source": [
    "pos = np.array(data[['pmra','pmdec','parallax']])\n",
    "pos\n",
    "np.shape(pos)\n",
    "#get_clusters(pos, eps=.005, min_samples=20,sphere=True)"
   ]
  },
  {
   "cell_type": "code",
   "execution_count": 67,
   "id": "eb86f19f-31bd-4d0c-99ef-c26eb9ef006d",
   "metadata": {},
   "outputs": [],
   "source": [
    "#dist = DistanceMetric.get_metric('euclidean').pairwise(pos)\n",
    "#dist"
   ]
  },
  {
   "cell_type": "code",
   "execution_count": 68,
   "id": "dfd715c6-cd80-40f3-87cc-e398dc71b2c7",
   "metadata": {},
   "outputs": [
    {
     "name": "stdout",
     "output_type": "stream",
     "text": [
      "Requiring that there are 20 neighbors in a 1000.0 pc radius \n",
      "Using Euclidean 3D distance\n",
      "Clusters 3\n"
     ]
    }
   ],
   "source": [
    "labels, core_samples_mask, n_clusters = get_clusters(pos, eps=1,min_samples=20,sphere=False)"
   ]
  },
  {
   "cell_type": "code",
   "execution_count": 78,
   "id": "b609e561-a3d3-4edb-a514-77a08ccaa909",
   "metadata": {},
   "outputs": [
    {
     "data": {
      "text/plain": [
       "array([-1,  0,  0, ...,  0,  0, -1])"
      ]
     },
     "execution_count": 78,
     "metadata": {},
     "output_type": "execute_result"
    }
   ],
   "source": [
    "labels"
   ]
  },
  {
   "cell_type": "code",
   "execution_count": 72,
   "id": "bcc117af-1087-4095-93b1-93a69048160e",
   "metadata": {},
   "outputs": [
    {
     "data": {
      "text/plain": [
       "array([-1,  0,  1,  2])"
      ]
     },
     "execution_count": 72,
     "metadata": {},
     "output_type": "execute_result"
    }
   ],
   "source": [
    "labels, core_samples_mask\n",
    "np.unique(labels)\n"
   ]
  },
  {
   "cell_type": "code",
   "execution_count": 81,
   "id": "1876b827-61b1-43b4-81e3-559a79f11ed8",
   "metadata": {},
   "outputs": [
    {
     "data": {
      "text/plain": [
       "array([ True, False, False, ..., False, False,  True])"
      ]
     },
     "execution_count": 81,
     "metadata": {},
     "output_type": "execute_result"
    }
   ],
   "source": [
    "data[labels == l]"
   ]
  },
  {
   "cell_type": "code",
   "execution_count": 70,
   "id": "6101de6f-ef2f-4f42-8ebd-024837a6fbda",
   "metadata": {},
   "outputs": [
    {
     "data": {
      "text/plain": [
       "1882"
      ]
     },
     "execution_count": 70,
     "metadata": {},
     "output_type": "execute_result"
    }
   ],
   "source": [
    "np.count_nonzero(core_samples_mask)"
   ]
  },
  {
   "cell_type": "code",
   "execution_count": 88,
   "id": "432f69a7-5a2b-4d23-83dc-d779f3613e0e",
   "metadata": {},
   "outputs": [
    {
     "data": {
      "image/png": "[encoded data removed]",
      "text/plain": [
       "<Figure size 1296x432 with 3 Axes>"
      ]
     },
     "metadata": {
      "needs_background": "light"
     },
     "output_type": "display_data"
    }
   ],
   "source": [
    "\n",
    "\n",
    "fig, ax = plt.subplots(ncols=3, figsize=(18,6))\n",
    "\n",
    "for l in np.unique(labels):\n",
    "    selection = labels == l\n",
    "    ax[0].hist(data[selection]['pmra'], bins=np.linspace(-50, 40, 100), label=l)\n",
    "    ax[1].hist(data[selection]['pmdec'], bins=np.linspace(-60, 50, 100), label=l)\n",
    "    ax[2].hist(data[selection]['parallax'], bins=np.linspace(0, 10, 100), label=l)\n",
    "\n",
    "ax[0].legend()\n",
    "ax[1].legend()\n",
    "ax[0].set_xlabel('Parallax [mas]')\n",
    "ax[0].set_ylabel('Number of stars');\n",
    "ax[1].set_xlabel('Distance [kpc]')\n",
    "ax[1].set_ylabel('Number of stars');\n",
    "\n"
   ]
  },
  {
   "cell_type": "code",
   "execution_count": 158,
   "id": "e9223bc7-8013-47f8-8788-fe49d22e38a7",
   "metadata": {},
   "outputs": [
    {
     "data": {
      "image/png": "[encoded data removed]",
      "text/plain": [
       "<Figure size 1296x720 with 1 Axes>"
      ]
     },
     "metadata": {
      "needs_background": "light"
     },
     "output_type": "display_data"
    }
   ],
   "source": [
    "selection = (data['parallax'] > 5.0) & (data['parallax'] < 5.7)\n",
    "cluster = data[selection]\n",
    "\n",
    "fig, ax = plt.subplots(ncols=1, figsize=(18,10))\n",
    "ax.scatter(data['pmra'], data['pmdec'], c='gray', s=1, alpha=0.5);\n",
    "plt.plot(cluster['pmra'], cluster['pmdec'], '.r', ms=8)\n",
    "\n",
    "ax.set_aspect('equal')\n",
    "\n",
    "ax.set_xlabel('Proper motion in right ascension [mas/yr]')\n",
    "ax.set_ylabel('Proper motion in declination [mas/yr]')\n",
    "\n",
    "ax.set_xlim(-60, 30)\n",
    "ax.set_ylim(-60, 30);\n",
    "\n"
   ]
  },
  {
   "cell_type": "code",
   "execution_count": 93,
   "id": "ccb1debe-bceb-4c42-b965-b8cb610afb00",
   "metadata": {},
   "outputs": [
    {
     "data": {
      "image/png": "[encoded data removed]",
      "text/plain": [
       "<Figure size 1296x720 with 1 Axes>"
      ]
     },
     "metadata": {
      "needs_background": "light"
     },
     "output_type": "display_data"
    }
   ],
   "source": [
    "cluster_dbscan = data[labels==1]\n",
    "\n",
    "fig, ax = plt.subplots(ncols=1, figsize=(18,10))\n",
    "ax.scatter(data['pmra'], data['pmdec'], c='gray', s=1, alpha=0.5);\n",
    "plt.plot(cluster_dbscan['pmra'], cluster_dbscan['pmdec'], '.r', ms=8)\n",
    "\n",
    "ax.set_aspect('equal')\n",
    "\n",
    "ax.set_xlabel('Proper motion in right ascension [mas/yr]')\n",
    "ax.set_ylabel('Proper motion in declination [mas/yr]')\n",
    "\n",
    "ax.set_xlim(-60, 30)\n",
    "ax.set_ylim(-60, 30);\n",
    "\n"
   ]
  },
  {
   "cell_type": "code",
   "execution_count": 97,
   "id": "82064aad-8aaa-404a-92ab-aabaf6081992",
   "metadata": {},
   "outputs": [
    {
     "data": {
      "image/png": "[encoded data removed]",
      "text/plain": [
       "<Figure size 1296x720 with 1 Axes>"
      ]
     },
     "metadata": {
      "needs_background": "light"
     },
     "output_type": "display_data"
    }
   ],
   "source": [
    "cluster_dbscan = data[labels==2]\n",
    "\n",
    "fig, ax = plt.subplots(ncols=1, figsize=(18,10))\n",
    "ax.scatter(data['pmra'], data['pmdec'], c='gray', s=1, alpha=0.5);\n",
    "plt.plot(cluster_dbscan['pmra'], cluster_dbscan['pmdec'], '.b', ms=8)\n",
    "cluster_dbscan = data[labels==1]\n",
    "\n",
    "plt.plot(cluster_dbscan['pmra'], cluster_dbscan['pmdec'], '.r', ms=8)\n",
    "\n",
    "\n",
    "ax.set_aspect('equal')\n",
    "\n",
    "ax.set_xlabel('Proper motion in right ascension [mas/yr]')\n",
    "ax.set_ylabel('Proper motion in declination [mas/yr]')\n",
    "\n",
    "ax.set_xlim(-60, 30)\n",
    "ax.set_ylim(-60, 30);\n",
    "\n",
    "\n"
   ]
  },
  {
   "cell_type": "code",
   "execution_count": 95,
   "id": "ca5f0572-de4c-4bce-ae1a-75f68440357b",
   "metadata": {},
   "outputs": [
    {
     "data": {
      "image/png": "[encoded data removed]",
      "text/plain": [
       "<Figure size 1296x720 with 1 Axes>"
      ]
     },
     "metadata": {
      "needs_background": "light"
     },
     "output_type": "display_data"
    }
   ],
   "source": [
    "cluster_dbscan = data[labels==2]\n",
    "\n",
    "fig, ax = plt.subplots(ncols=1, figsize=(18,10))\n",
    "ax.scatter(data['pmra'], data['pmdec'], c='gray', s=1, alpha=0.5);\n",
    "plt.plot(cluster_dbscan['pmra'], cluster_dbscan['pmdec'], '.b', ms=8)\n",
    "\n",
    "ax.set_aspect('equal')\n",
    "\n",
    "ax.set_xlabel('Proper motion in right ascension [mas/yr]')\n",
    "ax.set_ylabel('Proper motion in declination [mas/yr]')\n",
    "\n",
    "ax.set_xlim(-5, 10)\n",
    "ax.set_ylim(-15, -5);\n",
    "\n"
   ]
  },
  {
   "cell_type": "code",
   "execution_count": null,
   "id": "93e8e41b-85af-487f-a53a-26a4e518befe",
   "metadata": {},
   "outputs": [],
   "source": []
  },
  {
   "cell_type": "markdown",
   "id": "b179809d-dd67-43be-9061-28fa32db7af1",
   "metadata": {},
   "source": [
    "### ⛏ Exercise\n",
    "Make a query to retireve only the Right Ascension and Declination and their uncertainties. Store the results in table `results3` and print the table"
   ]
  },
  {
   "cell_type": "code",
   "execution_count": 46,
   "id": "bb1ab80b-b5e0-46fc-acef-672a394c815d",
   "metadata": {},
   "outputs": [
    {
     "name": "stdout",
     "output_type": "stream",
     "text": [
      "INFO: Query finished. [astroquery.utils.tap.core]\n",
      "CPU times: user 288 ms, sys: 2.26 ms, total: 291 ms\n",
      "Wall time: 2.43 s\n"
     ]
    }
   ],
   "source": [
    "%time results3 = Gaia.query_object_async(coordinate=center_coord, width=width_deg, height=height_deg, columns=['ra', 'dec'])"
   ]
  },
  {
   "cell_type": "code",
   "execution_count": 47,
   "id": "019a60fd-fea2-4756-9f45-c407dd72be88",
   "metadata": {},
   "outputs": [
    {
     "data": {
      "text/html": [
       "<div><i>Table length=5259</i>\n",
       "<table id=\"table139873136002672\" class=\"table-striped table-bordered table-condensed\">\n",
       "<thead><tr><th>dist</th><th>ra</th><th>dec</th></tr></thead>\n",
       "<thead><tr><th></th><th>deg</th><th>deg</th></tr></thead>\n",
       "<thead><tr><th>float64</th><th>float64</th><th>float64</th></tr></thead>\n",
       "<tr><td>0.009802111759292364</td><td>130.01500503419462</td><td>19.980541000468566</td></tr>\n",
       "<tr><td>0.013413931870679088</td><td>130.01602099428743</td><td>19.993747198922243</td></tr>\n",
       "<tr><td>0.016756721407281582</td><td>130.00808964157096</td><td>19.98862140943764</td></tr>\n",
       "<tr><td>0.017762653805475315</td><td>130.0395266278045</td><td>19.971954482920996</td></tr>\n",
       "<tr><td>0.018219646009271676</td><td>130.02147958786338</td><td>19.965408437364445</td></tr>\n",
       "<tr><td>0.023270220863531647</td><td>130.0497621299465</td><td>19.98377789498254</td></tr>\n",
       "<tr><td>0.02445630792133449</td><td>130.02657947132394</td><td>20.00773569688166</td></tr>\n",
       "<tr><td>0.02447974121342088</td><td>130.04755822939757</td><td>19.97107625044161</td></tr>\n",
       "<tr><td>0.02637108609881465</td><td>130.05094752875684</td><td>19.993378723341063</td></tr>\n",
       "<tr><td>...</td><td>...</td><td>...</td></tr>\n",
       "<tr><td>0.667658962184965</td><td>129.54737507816313</td><td>19.489710016923734</td></tr>\n",
       "<tr><td>0.6680124060995727</td><td>129.53295407456315</td><td>19.501915468891845</td></tr>\n",
       "<tr><td>0.6682096057369734</td><td>130.512965008102</td><td>19.497973117702667</td></tr>\n",
       "<tr><td>0.6689951830029696</td><td>130.52256866146277</td><td>19.505577646931958</td></tr>\n",
       "<tr><td>0.6725328148547669</td><td>130.51844327986493</td><td>19.49691120644797</td></tr>\n",
       "<tr><td>0.6768591886407228</td><td>129.53583806511196</td><td>19.48719959008119</td></tr>\n",
       "<tr><td>0.6809073255405192</td><td>130.5244205030273</td><td>19.49071277353856</td></tr>\n",
       "<tr><td>0.6813093848167194</td><td>130.52256796036067</td><td>19.488504043965545</td></tr>\n",
       "<tr><td>0.6816039953065632</td><td>130.5219304360675</td><td>19.48753301449533</td></tr>\n",
       "</table></div>"
      ],
      "text/plain": [
       "<Table length=5259>\n",
       "        dist                 ra                dec        \n",
       "                            deg                deg        \n",
       "      float64             float64            float64      \n",
       "-------------------- ------------------ ------------------\n",
       "0.009802111759292364 130.01500503419462 19.980541000468566\n",
       "0.013413931870679088 130.01602099428743 19.993747198922243\n",
       "0.016756721407281582 130.00808964157096  19.98862140943764\n",
       "0.017762653805475315  130.0395266278045 19.971954482920996\n",
       "0.018219646009271676 130.02147958786338 19.965408437364445\n",
       "0.023270220863531647  130.0497621299465  19.98377789498254\n",
       " 0.02445630792133449 130.02657947132394  20.00773569688166\n",
       " 0.02447974121342088 130.04755822939757  19.97107625044161\n",
       " 0.02637108609881465 130.05094752875684 19.993378723341063\n",
       "                 ...                ...                ...\n",
       "   0.667658962184965 129.54737507816313 19.489710016923734\n",
       "  0.6680124060995727 129.53295407456315 19.501915468891845\n",
       "  0.6682096057369734   130.512965008102 19.497973117702667\n",
       "  0.6689951830029696 130.52256866146277 19.505577646931958\n",
       "  0.6725328148547669 130.51844327986493  19.49691120644797\n",
       "  0.6768591886407228 129.53583806511196  19.48719959008119\n",
       "  0.6809073255405192  130.5244205030273  19.49071277353856\n",
       "  0.6813093848167194 130.52256796036067 19.488504043965545\n",
       "  0.6816039953065632  130.5219304360675  19.48753301449533"
      ]
     },
     "execution_count": 47,
     "metadata": {},
     "output_type": "execute_result"
    }
   ],
   "source": [
    "results3"
   ]
  },
  {
   "cell_type": "markdown",
   "id": "24dbf09b-3f66-4d59-bb4f-f01fdf817313",
   "metadata": {},
   "source": [
    "-----------"
   ]
  },
  {
   "cell_type": "markdown",
   "id": "7e101cbe-85a0-46ca-8027-3c3c4e8b8b79",
   "metadata": {
    "tags": []
   },
   "source": [
    "# Astropy tables: columns and units"
   ]
  },
  {
   "cell_type": "markdown",
   "id": "3594ba07-92ae-4f23-9791-53ddfa400ad5",
   "metadata": {},
   "source": [
    "First, we can see that the output is an astropy table:"
   ]
  },
  {
   "cell_type": "code",
   "execution_count": 48,
   "id": "c764849c-f9bd-4be3-9657-6f976e70930f",
   "metadata": {},
   "outputs": [
    {
     "data": {
      "text/plain": [
       "astropy.table.table.Table"
      ]
     },
     "execution_count": 48,
     "metadata": {},
     "output_type": "execute_result"
    }
   ],
   "source": [
    "type(results1)"
   ]
  },
  {
   "cell_type": "markdown",
   "id": "42f4f48f-f0f8-4058-824a-d15fb29f6676",
   "metadata": {
    "tags": []
   },
   "source": [
    "## Accessing astropy tables"
   ]
  },
  {
   "cell_type": "markdown",
   "id": "f20bb3fd-0911-41b6-ba30-436e959348a9",
   "metadata": {},
   "source": [
    "https://docs.astropy.org/en/stable/table/access_table.html"
   ]
  },
  {
   "cell_type": "markdown",
   "id": "2530a62c-b7f5-405e-94cc-20a4796946d3",
   "metadata": {},
   "source": [
    "And that is very convenient, because the table contains some metadata. If you look at the top of the table, you can see that some columns have units (yr, deg, mas), and all of them have a data type(float64, int64, object, etc). The units are managed by astropy, and are very useful to make operations keeping the consistency of the physical values"
   ]
  },
  {
   "cell_type": "code",
   "execution_count": 6,
   "id": "d54e6ed6-4168-4683-9625-cc5f93f4a400",
   "metadata": {},
   "outputs": [
    {
     "data": {
      "text/html": [
       "&lt;MaskedColumn name=&apos;ra&apos; dtype=&apos;float64&apos; unit=&apos;deg&apos; description=&apos;Right ascension&apos; length=50&gt;\n",
       "<table>\n",
       "<tr><td>130.01500503419462</td></tr>\n",
       "<tr><td>130.01602099428743</td></tr>\n",
       "<tr><td>130.00808964157096</td></tr>\n",
       "<tr><td>130.0395266278045</td></tr>\n",
       "<tr><td>130.02147958786338</td></tr>\n",
       "<tr><td>130.0497621299465</td></tr>\n",
       "<tr><td>130.02657947132394</td></tr>\n",
       "<tr><td>130.04755822939757</td></tr>\n",
       "<tr><td>130.05094752875684</td></tr>\n",
       "<tr><td>129.99625583677792</td></tr>\n",
       "<tr><td>130.0546964508995</td></tr>\n",
       "<tr><td>130.0552380083594</td></tr>\n",
       "<tr><td>130.05688913547726</td></tr>\n",
       "<tr><td>130.0189366691638</td></tr>\n",
       "<tr><td>...</td></tr>\n",
       "<tr><td>130.0764992609404</td></tr>\n",
       "<tr><td>130.07263497772774</td></tr>\n",
       "<tr><td>129.97310399598734</td></tr>\n",
       "<tr><td>129.97303151961685</td></tr>\n",
       "<tr><td>130.0071112122719</td></tr>\n",
       "<tr><td>129.97264176185195</td></tr>\n",
       "<tr><td>130.04792905116176</td></tr>\n",
       "<tr><td>130.01850143147556</td></tr>\n",
       "<tr><td>130.07795422865817</td></tr>\n",
       "<tr><td>130.0467081406198</td></tr>\n",
       "<tr><td>130.0106047764714</td></tr>\n",
       "<tr><td>130.0521133043998</td></tr>\n",
       "<tr><td>129.99597894288806</td></tr>\n",
       "<tr><td>130.08362120044177</td></tr>\n",
       "</table>"
      ],
      "text/plain": [
       "<MaskedColumn name='ra' dtype='float64' unit='deg' description='Right ascension' length=50>\n",
       "130.01500503419462\n",
       "130.01602099428743\n",
       "130.00808964157096\n",
       " 130.0395266278045\n",
       "130.02147958786338\n",
       " 130.0497621299465\n",
       "130.02657947132394\n",
       "130.04755822939757\n",
       "130.05094752875684\n",
       "129.99625583677792\n",
       " 130.0546964508995\n",
       " 130.0552380083594\n",
       "130.05688913547726\n",
       " 130.0189366691638\n",
       "               ...\n",
       " 130.0764992609404\n",
       "130.07263497772774\n",
       "129.97310399598734\n",
       "129.97303151961685\n",
       " 130.0071112122719\n",
       "129.97264176185195\n",
       "130.04792905116176\n",
       "130.01850143147556\n",
       "130.07795422865817\n",
       " 130.0467081406198\n",
       " 130.0106047764714\n",
       " 130.0521133043998\n",
       "129.99597894288806\n",
       "130.08362120044177"
      ]
     },
     "execution_count": 6,
     "metadata": {},
     "output_type": "execute_result"
    }
   ],
   "source": [
    "results1['ra']"
   ]
  },
  {
   "cell_type": "code",
   "execution_count": 24,
   "id": "86bc9eb5-d82c-4555-ba43-b703859a07d2",
   "metadata": {},
   "outputs": [
    {
     "data": {
      "text/plain": [
       "<Table length=50>\n",
       "              name                dtype       unit                                          description                                      n_bad\n",
       "-------------------------------- ------- ------------- ------------------------------------------------------------------------------------- -----\n",
       "                            dist float64                                                                                                         0\n",
       "                     solution_id   int64                                                                                 Solution Identifier     0\n",
       "                     DESIGNATION  object                                         Unique source designation (unique across all Data Releases)     0\n",
       "                       source_id   int64                                  Unique source identifier (unique within a particular Data Release)     0\n",
       "                    random_index   int64                                                                 Random index used to select subsets     0\n",
       "                       ref_epoch float64            yr                                                                       Reference epoch     0\n",
       "                              ra float64           deg                                                                       Right ascension     0\n",
       "                        ra_error float64           mas                                                     Standard error of right ascension     0\n",
       "                             dec float64           deg                                                                           Declination     0\n",
       "                       dec_error float64           mas                                                         Standard error of declination     0\n",
       "                        parallax float64           mas                                                                              Parallax     9\n",
       "                  parallax_error float64           mas                                                            Standard error of parallax     9\n",
       "             parallax_over_error float32                                                                       Parallax divided by its error     9\n",
       "                            pmra float64      mas / yr                                            Proper motion in right ascension direction     9\n",
       "                      pmra_error float64      mas / yr                          Standard error of proper motion in right ascension direction     9\n",
       "                           pmdec float64      mas / yr                                                Proper motion in declination direction     9\n",
       "                     pmdec_error float64      mas / yr                              Standard error of proper motion in declination direction     9\n",
       "                     ra_dec_corr float32                                                 Correlation between right ascension and declination     0\n",
       "                ra_parallax_corr float32                                                    Correlation between right ascension and parallax     9\n",
       "                    ra_pmra_corr float32                            Correlation between right ascension and proper motion in right ascension     9\n",
       "                   ra_pmdec_corr float32                                Correlation between right ascension and proper motion in declination     9\n",
       "               dec_parallax_corr float32                                                        Correlation between declination and parallax     9\n",
       "                   dec_pmra_corr float32                                Correlation between declination and proper motion in right ascension     9\n",
       "                  dec_pmdec_corr float32                                    Correlation between declination and proper motion in declination     9\n",
       "              parallax_pmra_corr float32                                   Correlation between parallax and proper motion in right ascension     9\n",
       "             parallax_pmdec_corr float32                                       Correlation between parallax and proper motion in declination     9\n",
       "                 pmra_pmdec_corr float32               Correlation between proper motion in right ascension and proper motion in declination     9\n",
       "            astrometric_n_obs_al   int32                                                                     Total number of observations AL     0\n",
       "            astrometric_n_obs_ac   int32                                                                     Total number of observations AC     0\n",
       "       astrometric_n_good_obs_al   int32                                                                      Number of good observations AL     0\n",
       "        astrometric_n_bad_obs_al   int32                                                                       Number of bad observations AL     0\n",
       "              astrometric_gof_al float32                                      Goodness of fit statistic of model wrt along-scan observations     0\n",
       "             astrometric_chi2_al float32                                                                                 AL chi-square value     0\n",
       "        astrometric_excess_noise float64           mas                                                            Excess noise of the source     0\n",
       "    astrometric_excess_noise_sig float64                                                                        Significance of excess noise     0\n",
       "       astrometric_params_solved   int16                                                              Which parameters have been solved for?     0\n",
       "        astrometric_primary_flag    bool                                                                                 Primary or seconday     0\n",
       "           astrometric_weight_al float32      1 / mas2                                                 Mean astrometric weight of the source     0\n",
       "       astrometric_pseudo_colour float64        1 / um                                 Astrometrically determined pseudocolour of the source     9\n",
       " astrometric_pseudo_colour_error float64        1 / um                                      Standard error of the pseudocolour of the source     9\n",
       "            mean_varpi_factor_al float32                                                                             Mean Parallax factor AL     0\n",
       "astrometric_matched_observations   int16                                                      Matched FOV transits used in the AGIS solution     0\n",
       "         visibility_periods_used   int16                                           Number of visibility periods used in Astrometric solution     0\n",
       "         astrometric_sigma5d_max float32           mas                                The longest semi-major axis of the 5-d error ellipsoid     0\n",
       "       frame_rotator_object_type   int32                                               The type of the source mainly used for frame rotation     0\n",
       "            matched_observations   int16                                                       Amount of observations matched to this source     0\n",
       "               duplicated_source    bool                                                                       Source with duplicate sources     0\n",
       "                    phot_g_n_obs   int32                                                 Number of observations contributing to G photometry     0\n",
       "                phot_g_mean_flux float64  electron / s                                                                      G-band mean flux     0\n",
       "          phot_g_mean_flux_error float64  electron / s                                                             Error on G-band mean flux     0\n",
       "     phot_g_mean_flux_over_error float32                                                               G-band mean flux divided by its error     0\n",
       "                 phot_g_mean_mag float32           mag                                                                 G-band mean magnitude     0\n",
       "                   phot_bp_n_obs   int32                                                Number of observations contributing to BP photometry     0\n",
       "               phot_bp_mean_flux float64  electron / s                                                               Integrated BP mean flux     3\n",
       "         phot_bp_mean_flux_error float64  electron / s                                                  Error on the integrated BP mean flux     3\n",
       "    phot_bp_mean_flux_over_error float32                                                        Integrated BP mean flux divided by its error     3\n",
       "                phot_bp_mean_mag float32           mag                                                          Integrated BP mean magnitude     3\n",
       "                   phot_rp_n_obs   int32                                                Number of observations contributing to RP photometry     0\n",
       "               phot_rp_mean_flux float64  electron / s                                                               Integrated RP mean flux     3\n",
       "         phot_rp_mean_flux_error float64  electron / s                                                  Error on the integrated RP mean flux     3\n",
       "    phot_rp_mean_flux_over_error float32                                                        Integrated RP mean flux divided by its error     3\n",
       "                phot_rp_mean_mag float32           mag                                                          Integrated RP mean magnitude     3\n",
       "        phot_bp_rp_excess_factor float32                                                                                 BP/RP excess factor     3\n",
       "                  phot_proc_mode   int16                                                                          Photometry processing mode     0\n",
       "                           bp_rp float32           mag                                                                        BP - RP colour     3\n",
       "                            bp_g float32           mag                                                                         BP - G colour     3\n",
       "                            g_rp float32           mag                                                                         G - RP colour     3\n",
       "                 radial_velocity float64        km / s                                                                       Radial velocity    47\n",
       "           radial_velocity_error float64        km / s                                                                 Radial velocity error    47\n",
       "                  rv_nb_transits   int32                                                  Number of transits used to compute radial velocity     0\n",
       "                rv_template_teff float32             K                                  Teff of the template used to compute radial velocity    47\n",
       "                rv_template_logg float32 log(cm.s**-2)                                  logg of the template used to compute radial velocity    47\n",
       "                rv_template_fe_h float32           dex                                  Fe/H of the template used to compute radial velocity    47\n",
       "              phot_variable_flag  object                                                                        Photometric variability flag     0\n",
       "                               l float64           deg                                                                    Galactic longitude     0\n",
       "                               b float64           deg                                                                     Galactic latitude     0\n",
       "                         ecl_lon float64           deg                                                                    Ecliptic longitude     0\n",
       "                         ecl_lat float64           deg                                                                     Ecliptic latitude     0\n",
       "                     priam_flags   int64                                                                   flags for the Apsis-Priam results    39\n",
       "                        teff_val float32             K                                                         stellar effective temperature    39\n",
       "           teff_percentile_lower float32             K                                                             teffVal lower uncertainty    39\n",
       "           teff_percentile_upper float32             K                                                             teffVal upper uncertainty    39\n",
       "                         a_g_val float32           mag                                          line-of-sight extinction in the G band, A_G)    41\n",
       "            a_g_percentile_lower float32           mag                                                               aGVal lower uncertainty    41\n",
       "            a_g_percentile_upper float32           mag                                                               aGVal upper uncertainty    41\n",
       "                 e_bp_min_rp_val float32           mag                                                      line-of-sight reddening E(BP-RP)    41\n",
       "    e_bp_min_rp_percentile_lower float32           mag                                                         eBPminRPVal lower uncertainty    41\n",
       "    e_bp_min_rp_percentile_upper float32           mag                                                         eBPminRPVal upper uncertainty    41\n",
       "                     flame_flags   int64                                                                   Flags for the Apsis-FLAME results    42\n",
       "                      radius_val float32        solRad                                                                        stellar radius    42\n",
       "         radius_percentile_lower float32        solRad                                                           radiusVal lower uncertainty    42\n",
       "         radius_percentile_upper float32        solRad                                                           radiusVal upper uncertainty    42\n",
       "                         lum_val float32        solLum                                                                    stellar luminosity    42\n",
       "            lum_percentile_lower float32        solLum                                                              lumVal lower uncertainty    42\n",
       "            lum_percentile_upper float32        solLum                                                              lumVal upper uncertainty    42\n",
       "                    datalink_url  object                                                                                        datalink url     0"
      ]
     },
     "execution_count": 24,
     "metadata": {},
     "output_type": "execute_result"
    }
   ],
   "source": [
    "results1.info"
   ]
  },
  {
   "cell_type": "code",
   "execution_count": 22,
   "id": "26680fc4-d6c9-4e6a-adea-6516a5f1a769",
   "metadata": {},
   "outputs": [
    {
     "name": "stdout",
     "output_type": "stream",
     "text": [
      "<Table length=50>\n",
      "              name                   mean         std         min          max     n_bad\n",
      "-------------------------------- ------------ ----------- ------------ ----------- -----\n",
      "                            dist    0.0386052   0.0117579   0.00980211   0.0561928     0\n",
      "                     solution_id  1.59982e+17 1.47574e+18  1.63572e+18 1.63572e+18     0\n",
      "                     DESIGNATION           --          --           --          --     0\n",
      "                       source_id -7.64865e+16  7.3787e+17  6.61322e+17 6.64327e+17     0\n",
      "                    random_index  8.29198e+08  4.9749e+08  2.76504e+07 1.65132e+09     0\n",
      "                       ref_epoch       2015.5           0       2015.5      2015.5     0\n",
      "                              ra      130.028   0.0316275      129.973     130.084     0\n",
      "                        ra_error      2.11425     5.71869    0.0296481      34.303     0\n",
      "                             dec      19.9837   0.0271353      19.9307     20.0347     0\n",
      "                       dec_error      1.04812     2.25833    0.0212727     11.7962     0\n",
      "                        parallax     0.929649     1.60045     -2.68152     5.54097     9\n",
      "                  parallax_error      0.45972      0.3923    0.0392007     1.61494     9\n",
      "             parallax_over_error       10.603     24.2934     -3.41718     106.074     9\n",
      "                            pmra     -4.46336      11.682     -35.6096     19.5082     9\n",
      "                      pmra_error     0.801015    0.788866    0.0610307      3.1862     9\n",
      "                           pmdec      -5.2056      8.6679     -42.3373     2.91889     9\n",
      "                     pmdec_error     0.572934    0.611335    0.0413745     2.52885     9\n",
      "                     ra_dec_corr    -0.225301    0.258405    -0.893207    0.524041     0\n",
      "                ra_parallax_corr    -0.124133    0.193534    -0.592924    0.352263     9\n",
      "                    ra_pmra_corr    -0.152454    0.181366    -0.631174    0.283996     9\n",
      "                   ra_pmdec_corr     0.213203    0.173071     -0.29593    0.590441     9\n",
      "               dec_parallax_corr   -0.0987205    0.195263     -0.40269    0.386977     9\n",
      "                   dec_pmra_corr    0.0938961    0.160196    -0.354995    0.468271     9\n",
      "                  dec_pmdec_corr     -0.37962    0.132499    -0.634106   -0.141705     9\n",
      "              parallax_pmra_corr     0.521201    0.176128   -0.0186909    0.733599     9\n",
      "             parallax_pmdec_corr    -0.162019    0.176761    -0.578133    0.369819     9\n",
      "                 pmra_pmdec_corr    -0.268441    0.177228    -0.623462     0.36271     9\n",
      "            astrometric_n_obs_al       152.54     50.3282           34         223     0\n",
      "            astrometric_n_obs_ac        16.82     57.2184            0         223     0\n",
      "       astrometric_n_good_obs_al       150.96     49.8554           34         216     0\n",
      "        astrometric_n_bad_obs_al         1.58     2.62366            0          11     0\n",
      "              astrometric_gof_al      4.33203     10.1542     -2.31857     50.0546     0\n",
      "             astrometric_chi2_al      340.736     620.382       21.785     3758.85     0\n",
      "        astrometric_excess_noise      1.06717     2.62629            0     12.9911     0\n",
      "    astrometric_excess_noise_sig      8.58468     32.2412            0     197.084     0\n",
      "       astrometric_params_solved        25.96     10.7572            3          31     0\n",
      "        astrometric_primary_flag          0.1         0.3            0           1     0\n",
      "           astrometric_weight_al      13.8068     53.8036   0.00365807     316.966     0\n",
      "       astrometric_pseudo_colour      1.49987     0.12999      1.15533     1.76708     9\n",
      " astrometric_pseudo_colour_error    0.0816737   0.0736763   0.00673043    0.284098     9\n",
      "            mean_varpi_factor_al     0.036587   0.0849361    -0.158612     0.36627     0\n",
      "astrometric_matched_observations        18.22     5.12753            5          25     0\n",
      "         visibility_periods_used          9.8     2.38328            3          12     0\n",
      "         astrometric_sigma5d_max      59380.3      304592    0.0524331 1.94486e+06     0\n",
      "       frame_rotator_object_type            0           0            0           0     0\n",
      "            matched_observations         23.7     6.36318            8          37     0\n",
      "               duplicated_source         0.02        0.14            0           1     0\n",
      "                    phot_g_n_obs        190.8     57.8754           41         291     0\n",
      "                phot_g_mean_flux  2.40825e+06 1.10259e+07      60.2986 6.62328e+07     0\n",
      "          phot_g_mean_flux_error      749.263     3417.98      1.01183     20482.8     0\n",
      "     phot_g_mean_flux_over_error      631.676     943.481      27.2523      3263.4     0\n",
      "                 phot_g_mean_mag      18.0546     3.51858      6.13568     21.2376     0\n",
      "                   phot_bp_n_obs        18.58     7.05433            0          31     0\n",
      "               phot_bp_mean_flux  1.45366e+06 6.26294e+06      90.7993 3.13908e+07     3\n",
      "         phot_bp_mean_flux_error      2419.78     10644.1      4.67132     55284.3     3\n",
      "    phot_bp_mean_flux_over_error      122.155     231.056       2.9184     1216.92     3\n",
      "                phot_bp_mean_mag      17.9401     3.37699      6.60938     20.4562     3\n",
      "                   phot_rp_n_obs        18.58        7.06            0          32     0\n",
      "               phot_rp_mean_flux  1.56592e+06 7.53938e+06       112.54 4.92069e+07     3\n",
      "         phot_rp_mean_flux_error      3111.49     14909.5      4.29282     95742.8     3\n",
      "    phot_rp_mean_flux_over_error       148.33     225.333      8.62383     996.093     3\n",
      "                phot_rp_mean_mag      16.8637     3.23305      5.53186     19.6336     3\n",
      "        phot_bp_rp_excess_factor      1.96735    0.864363      1.14044     4.99925     3\n",
      "                  phot_proc_mode         0.06    0.310483            0           2     0\n",
      "                           bp_rp      1.07638    0.450902    0.0126762     2.08132     3\n",
      "                            bp_g    0.0584937    0.513772     -1.41129    0.664412     3\n",
      "                            g_rp      1.01789    0.431227 -0.000966072     2.09982     3\n",
      "                 radial_velocity      37.0546      2.2492       34.141     39.6167    47\n",
      "           radial_velocity_error      1.19696    0.884942     0.148305     2.31283    47\n",
      "                  rv_nb_transits         0.54     2.24686            0          13     0\n",
      "                rv_template_teff      5833.33      623.61         5000        6500    47\n",
      "                rv_template_logg      3.16667    0.471404          2.5         3.5    47\n",
      "                rv_template_fe_h    0.0833333    0.117851            0        0.25    47\n",
      "              phot_variable_flag           --          --           --          --     0\n",
      "                               l      205.539   0.0311439      205.474     205.599     0\n",
      "                               b      32.5302   0.0305013      32.4808     32.5829     0\n",
      "                         ecl_lon      127.205   0.0287265      127.152     127.254     0\n",
      "                         ecl_lat      1.56451   0.0281993      1.50906      1.6168     0\n",
      "                     priam_flags       101092     3449.73       100001      112001    39\n",
      "                        teff_val      5813.86     1370.31      4499.82        9450    39\n",
      "           teff_percentile_lower      5519.87     1277.03         4322        9064    39\n",
      "           teff_percentile_upper      6130.88     1406.54         4906        9650    39\n",
      "                         a_g_val     0.489922    0.373039       0.0887       1.234    41\n",
      "            a_g_percentile_lower     0.282544     0.27404        0.008       0.836    41\n",
      "            a_g_percentile_upper     0.696578    0.416272       0.1683       1.507    41\n",
      "                 e_bp_min_rp_val       0.2398    0.179023        0.047       0.594    41\n",
      "    e_bp_min_rp_percentile_lower       0.1469    0.136547       0.0029      0.4139    41\n",
      "    e_bp_min_rp_percentile_upper     0.349611    0.204728       0.0835      0.7385    41\n",
      "                     flame_flags       200111           0       200111      200111    42\n",
      "                      radius_val      2.76612     3.95915     0.654042     13.1512    42\n",
      "         radius_percentile_lower      2.59613     3.91751     0.588973     12.8929    42\n",
      "         radius_percentile_upper      2.99453     4.03857     0.703011     13.5058    42\n",
      "                         lum_val      15.1285     32.6336     0.181049     101.178    42\n",
      "            lum_percentile_lower       14.779     32.2026     0.155329     99.6964    42\n",
      "            lum_percentile_upper      15.4779     33.0661     0.206768     102.659    42\n",
      "                    datalink_url           --          --           --          --     0\n"
     ]
    }
   ],
   "source": [
    "results1.info('stats')  "
   ]
  },
  {
   "cell_type": "markdown",
   "id": "814c63e0-ead3-4803-a042-2338e55b3571",
   "metadata": {
    "tags": []
   },
   "source": [
    "## Managing table columns"
   ]
  },
  {
   "cell_type": "markdown",
   "id": "f81c435c-9ba4-4d33-923c-3226809ea58e",
   "metadata": {},
   "source": [
    "The table columns will help understand what data we have retrieved."
   ]
  },
  {
   "cell_type": "code",
   "execution_count": 19,
   "id": "18f938ac-f392-486a-8c5a-8c55b1a39aee",
   "metadata": {},
   "outputs": [
    {
     "data": {
      "text/plain": [
       "<TableColumns names=('dist','solution_id','DESIGNATION','source_id','random_index','ref_epoch','ra','ra_error','dec','dec_error','parallax','parallax_error','parallax_over_error','pmra','pmra_error','pmdec','pmdec_error','ra_dec_corr','ra_parallax_corr','ra_pmra_corr','ra_pmdec_corr','dec_parallax_corr','dec_pmra_corr','dec_pmdec_corr','parallax_pmra_corr','parallax_pmdec_corr','pmra_pmdec_corr','astrometric_n_obs_al','astrometric_n_obs_ac','astrometric_n_good_obs_al','astrometric_n_bad_obs_al','astrometric_gof_al','astrometric_chi2_al','astrometric_excess_noise','astrometric_excess_noise_sig','astrometric_params_solved','astrometric_primary_flag','astrometric_weight_al','astrometric_pseudo_colour','astrometric_pseudo_colour_error','mean_varpi_factor_al','astrometric_matched_observations','visibility_periods_used','astrometric_sigma5d_max','frame_rotator_object_type','matched_observations','duplicated_source','phot_g_n_obs','phot_g_mean_flux','phot_g_mean_flux_error','phot_g_mean_flux_over_error','phot_g_mean_mag','phot_bp_n_obs','phot_bp_mean_flux','phot_bp_mean_flux_error','phot_bp_mean_flux_over_error','phot_bp_mean_mag','phot_rp_n_obs','phot_rp_mean_flux','phot_rp_mean_flux_error','phot_rp_mean_flux_over_error','phot_rp_mean_mag','phot_bp_rp_excess_factor','phot_proc_mode','bp_rp','bp_g','g_rp','radial_velocity','radial_velocity_error','rv_nb_transits','rv_template_teff','rv_template_logg','rv_template_fe_h','phot_variable_flag','l','b','ecl_lon','ecl_lat','priam_flags','teff_val','teff_percentile_lower','teff_percentile_upper','a_g_val','a_g_percentile_lower','a_g_percentile_upper','e_bp_min_rp_val','e_bp_min_rp_percentile_lower','e_bp_min_rp_percentile_upper','flame_flags','radius_val','radius_percentile_lower','radius_percentile_upper','lum_val','lum_percentile_lower','lum_percentile_upper','datalink_url')>"
      ]
     },
     "execution_count": 19,
     "metadata": {},
     "output_type": "execute_result"
    }
   ],
   "source": [
    "results1.columns"
   ]
  },
  {
   "cell_type": "code",
   "execution_count": 8,
   "id": "4cf468b8-1dc7-4e20-93b3-39a44df3303e",
   "metadata": {},
   "outputs": [
    {
     "data": {
      "text/plain": [
       "['dist',\n",
       " 'solution_id',\n",
       " 'DESIGNATION',\n",
       " 'source_id',\n",
       " 'random_index',\n",
       " 'ref_epoch',\n",
       " 'ra',\n",
       " 'ra_error',\n",
       " 'dec',\n",
       " 'dec_error',\n",
       " 'parallax',\n",
       " 'parallax_error',\n",
       " 'parallax_over_error',\n",
       " 'pmra',\n",
       " 'pmra_error',\n",
       " 'pmdec',\n",
       " 'pmdec_error',\n",
       " 'ra_dec_corr',\n",
       " 'ra_parallax_corr',\n",
       " 'ra_pmra_corr',\n",
       " 'ra_pmdec_corr',\n",
       " 'dec_parallax_corr',\n",
       " 'dec_pmra_corr',\n",
       " 'dec_pmdec_corr',\n",
       " 'parallax_pmra_corr',\n",
       " 'parallax_pmdec_corr',\n",
       " 'pmra_pmdec_corr',\n",
       " 'astrometric_n_obs_al',\n",
       " 'astrometric_n_obs_ac',\n",
       " 'astrometric_n_good_obs_al',\n",
       " 'astrometric_n_bad_obs_al',\n",
       " 'astrometric_gof_al',\n",
       " 'astrometric_chi2_al',\n",
       " 'astrometric_excess_noise',\n",
       " 'astrometric_excess_noise_sig',\n",
       " 'astrometric_params_solved',\n",
       " 'astrometric_primary_flag',\n",
       " 'astrometric_weight_al',\n",
       " 'astrometric_pseudo_colour',\n",
       " 'astrometric_pseudo_colour_error',\n",
       " 'mean_varpi_factor_al',\n",
       " 'astrometric_matched_observations',\n",
       " 'visibility_periods_used',\n",
       " 'astrometric_sigma5d_max',\n",
       " 'frame_rotator_object_type',\n",
       " 'matched_observations',\n",
       " 'duplicated_source',\n",
       " 'phot_g_n_obs',\n",
       " 'phot_g_mean_flux',\n",
       " 'phot_g_mean_flux_error',\n",
       " 'phot_g_mean_flux_over_error',\n",
       " 'phot_g_mean_mag',\n",
       " 'phot_bp_n_obs',\n",
       " 'phot_bp_mean_flux',\n",
       " 'phot_bp_mean_flux_error',\n",
       " 'phot_bp_mean_flux_over_error',\n",
       " 'phot_bp_mean_mag',\n",
       " 'phot_rp_n_obs',\n",
       " 'phot_rp_mean_flux',\n",
       " 'phot_rp_mean_flux_error',\n",
       " 'phot_rp_mean_flux_over_error',\n",
       " 'phot_rp_mean_mag',\n",
       " 'phot_bp_rp_excess_factor',\n",
       " 'phot_proc_mode',\n",
       " 'bp_rp',\n",
       " 'bp_g',\n",
       " 'g_rp',\n",
       " 'radial_velocity',\n",
       " 'radial_velocity_error',\n",
       " 'rv_nb_transits',\n",
       " 'rv_template_teff',\n",
       " 'rv_template_logg',\n",
       " 'rv_template_fe_h',\n",
       " 'phot_variable_flag',\n",
       " 'l',\n",
       " 'b',\n",
       " 'ecl_lon',\n",
       " 'ecl_lat',\n",
       " 'priam_flags',\n",
       " 'teff_val',\n",
       " 'teff_percentile_lower',\n",
       " 'teff_percentile_upper',\n",
       " 'a_g_val',\n",
       " 'a_g_percentile_lower',\n",
       " 'a_g_percentile_upper',\n",
       " 'e_bp_min_rp_val',\n",
       " 'e_bp_min_rp_percentile_lower',\n",
       " 'e_bp_min_rp_percentile_upper',\n",
       " 'flame_flags',\n",
       " 'radius_val',\n",
       " 'radius_percentile_lower',\n",
       " 'radius_percentile_upper',\n",
       " 'lum_val',\n",
       " 'lum_percentile_lower',\n",
       " 'lum_percentile_upper',\n",
       " 'datalink_url']"
      ]
     },
     "execution_count": 8,
     "metadata": {},
     "output_type": "execute_result"
    }
   ],
   "source": [
    "results1.colnames # List of column names"
   ]
  },
  {
   "cell_type": "code",
   "execution_count": 9,
   "id": "4510f389-6359-4989-b263-685498be9844",
   "metadata": {},
   "outputs": [
    {
     "data": {
      "text/plain": [
       "<TableColumns names=('dist','solution_id','DESIGNATION','source_id','random_index','ref_epoch','ra','ra_error','dec','dec_error','parallax','parallax_error','parallax_over_error','pmra','pmra_error','pmdec','pmdec_error','ra_dec_corr','ra_parallax_corr','ra_pmra_corr','ra_pmdec_corr','dec_parallax_corr','dec_pmra_corr','dec_pmdec_corr','parallax_pmra_corr','parallax_pmdec_corr','pmra_pmdec_corr','astrometric_n_obs_al','astrometric_n_obs_ac','astrometric_n_good_obs_al','astrometric_n_bad_obs_al','astrometric_gof_al','astrometric_chi2_al','astrometric_excess_noise','astrometric_excess_noise_sig','astrometric_params_solved','astrometric_primary_flag','astrometric_weight_al','astrometric_pseudo_colour','astrometric_pseudo_colour_error','mean_varpi_factor_al','astrometric_matched_observations','visibility_periods_used','astrometric_sigma5d_max','frame_rotator_object_type','matched_observations','duplicated_source','phot_g_n_obs','phot_g_mean_flux','phot_g_mean_flux_error','phot_g_mean_flux_over_error','phot_g_mean_mag','phot_bp_n_obs','phot_bp_mean_flux','phot_bp_mean_flux_error','phot_bp_mean_flux_over_error','phot_bp_mean_mag','phot_rp_n_obs','phot_rp_mean_flux','phot_rp_mean_flux_error','phot_rp_mean_flux_over_error','phot_rp_mean_mag','phot_bp_rp_excess_factor','phot_proc_mode','bp_rp','bp_g','g_rp','radial_velocity','radial_velocity_error','rv_nb_transits','rv_template_teff','rv_template_logg','rv_template_fe_h','phot_variable_flag','l','b','ecl_lon','ecl_lat','priam_flags','teff_val','teff_percentile_lower','teff_percentile_upper','a_g_val','a_g_percentile_lower','a_g_percentile_upper','e_bp_min_rp_val','e_bp_min_rp_percentile_lower','e_bp_min_rp_percentile_upper','flame_flags','radius_val','radius_percentile_lower','radius_percentile_upper','lum_val','lum_percentile_lower','lum_percentile_upper','datalink_url')>"
      ]
     },
     "execution_count": 9,
     "metadata": {},
     "output_type": "execute_result"
    }
   ],
   "source": [
    "results1.columns   # Dict of table columns (access by column name, index, or slice)"
   ]
  },
  {
   "cell_type": "markdown",
   "id": "368f7044-7f33-40c7-9d84-e23e9a2d0ae2",
   "metadata": {},
   "source": [
    "You can select only one of several relevant columns"
   ]
  },
  {
   "cell_type": "code",
   "execution_count": 10,
   "id": "e85e002f-ab31-4670-9e8a-8a6f68b00145",
   "metadata": {},
   "outputs": [
    {
     "data": {
      "text/html": [
       "&lt;MaskedColumn name=&apos;parallax&apos; dtype=&apos;float64&apos; unit=&apos;mas&apos; description=&apos;Parallax&apos; length=50&gt;\n",
       "<table>\n",
       "<tr><td>0.828727295033905</td></tr>\n",
       "<tr><td>0.42735110852786373</td></tr>\n",
       "<tr><td>--</td></tr>\n",
       "<tr><td>1.561678711578475</td></tr>\n",
       "<tr><td>0.565757068941956</td></tr>\n",
       "<tr><td>0.47516678330988377</td></tr>\n",
       "<tr><td>5.316194371046439</td></tr>\n",
       "<tr><td>5.206498219518862</td></tr>\n",
       "<tr><td>0.873737603014143</td></tr>\n",
       "<tr><td>0.48724091013513215</td></tr>\n",
       "<tr><td>0.6992685146970009</td></tr>\n",
       "<tr><td>0.4930231495938124</td></tr>\n",
       "<tr><td>--</td></tr>\n",
       "<tr><td>0.2785021080219141</td></tr>\n",
       "<tr><td>...</td></tr>\n",
       "<tr><td>-0.07153663886982016</td></tr>\n",
       "<tr><td>0.20484668904770215</td></tr>\n",
       "<tr><td>1.2567147543151678</td></tr>\n",
       "<tr><td>--</td></tr>\n",
       "<tr><td>0.05266378859952248</td></tr>\n",
       "<tr><td>0.661941234157432</td></tr>\n",
       "<tr><td>0.4975412699974269</td></tr>\n",
       "<tr><td>0.8354838966800967</td></tr>\n",
       "<tr><td>0.4059736648821575</td></tr>\n",
       "<tr><td>0.7294321238528539</td></tr>\n",
       "<tr><td>-0.00932645388371948</td></tr>\n",
       "<tr><td>0.7770203764487206</td></tr>\n",
       "<tr><td>5.540973258436969</td></tr>\n",
       "<tr><td>0.42519007733596087</td></tr>\n",
       "</table>"
      ],
      "text/plain": [
       "<MaskedColumn name='parallax' dtype='float64' unit='mas' description='Parallax' length=50>\n",
       "   0.828727295033905\n",
       " 0.42735110852786373\n",
       "                  --\n",
       "   1.561678711578475\n",
       "   0.565757068941956\n",
       " 0.47516678330988377\n",
       "   5.316194371046439\n",
       "   5.206498219518862\n",
       "   0.873737603014143\n",
       " 0.48724091013513215\n",
       "  0.6992685146970009\n",
       "  0.4930231495938124\n",
       "                  --\n",
       "  0.2785021080219141\n",
       "                 ...\n",
       "-0.07153663886982016\n",
       " 0.20484668904770215\n",
       "  1.2567147543151678\n",
       "                  --\n",
       " 0.05266378859952248\n",
       "   0.661941234157432\n",
       "  0.4975412699974269\n",
       "  0.8354838966800967\n",
       "  0.4059736648821575\n",
       "  0.7294321238528539\n",
       "-0.00932645388371948\n",
       "  0.7770203764487206\n",
       "   5.540973258436969\n",
       " 0.42519007733596087"
      ]
     },
     "execution_count": 10,
     "metadata": {},
     "output_type": "execute_result"
    }
   ],
   "source": [
    "results1['parallax']"
   ]
  },
  {
   "cell_type": "code",
   "execution_count": 126,
   "id": "7765514e-1ecc-4ad0-9e8d-e60fe0085972",
   "metadata": {},
   "outputs": [
    {
     "data": {
      "text/html": [
       "<div><i>Table length=50</i>\n",
       "<table id=\"table140523592752752\" class=\"table-striped table-bordered table-condensed\">\n",
       "<thead><tr><th>ra</th><th>ra_error</th><th>dec</th><th>dec_error</th></tr></thead>\n",
       "<thead><tr><th>deg</th><th>mas</th><th>deg</th><th>mas</th></tr></thead>\n",
       "<thead><tr><th>float64</th><th>float64</th><th>float64</th><th>float64</th></tr></thead>\n",
       "<tr><td>130.01500503419462</td><td>0.24888120916348072</td><td>19.980541000468566</td><td>0.193851471702074</td></tr>\n",
       "<tr><td>130.01602099428743</td><td>0.10531691756732188</td><td>19.993747198922243</td><td>0.06883691544492751</td></tr>\n",
       "<tr><td>130.00808964157096</td><td>18.64640385871734</td><td>19.98862140943764</td><td>11.796211604159437</td></tr>\n",
       "<tr><td>130.0395266278045</td><td>0.4941417306409737</td><td>19.971954482920996</td><td>0.36915177444918323</td></tr>\n",
       "<tr><td>130.02147958786338</td><td>0.2557732478660761</td><td>19.965408437364445</td><td>0.17642404227037176</td></tr>\n",
       "<tr><td>130.0497621299465</td><td>0.3991352977034726</td><td>19.98377789498254</td><td>0.28844719612018865</td></tr>\n",
       "<tr><td>130.02657947132394</td><td>0.043558763357000686</td><td>20.00773569688166</td><td>0.03099984816650081</td></tr>\n",
       "<tr><td>130.04755822939757</td><td>0.05087222973848031</td><td>19.97107625044161</td><td>0.036801006459923714</td></tr>\n",
       "<tr><td>130.05094752875684</td><td>0.03140352283380697</td><td>19.993378723341063</td><td>0.024089131225049437</td></tr>\n",
       "<tr><td>129.99625583677792</td><td>0.3057313071979954</td><td>19.993348682261157</td><td>0.22803607952287988</td></tr>\n",
       "<tr><td>130.0546964508995</td><td>0.4086259062453858</td><td>19.972186933000827</td><td>0.2641315630879731</td></tr>\n",
       "<tr><td>...</td><td>...</td><td>...</td><td>...</td></tr>\n",
       "<tr><td>129.97310399598734</td><td>0.05988194821577917</td><td>19.981466326070276</td><td>0.039617671790741577</td></tr>\n",
       "<tr><td>129.97303151961685</td><td>2.839173746136622</td><td>19.981700115469895</td><td>1.252596973965006</td></tr>\n",
       "<tr><td>130.0071112122719</td><td>0.1579700539085561</td><td>19.937132744404817</td><td>0.11849136280670793</td></tr>\n",
       "<tr><td>129.97264176185195</td><td>0.10771919564308073</td><td>19.99418206923589</td><td>0.07233210080783775</td></tr>\n",
       "<tr><td>130.04792905116176</td><td>0.15610403532331626</td><td>19.93695049192596</td><td>0.1153617933809717</td></tr>\n",
       "<tr><td>130.01850143147556</td><td>0.10238363993860003</td><td>20.03467997035261</td><td>0.0707477734027496</td></tr>\n",
       "<tr><td>130.07795422865817</td><td>0.1998886561847718</td><td>19.969099611800065</td><td>0.1403699713577338</td></tr>\n",
       "<tr><td>130.0467081406198</td><td>0.8288793216635298</td><td>20.031570416482857</td><td>0.5163799985975299</td></tr>\n",
       "<tr><td>130.0106047764714</td><td>0.1596580877198381</td><td>19.930710399975162</td><td>0.11914509122073114</td></tr>\n",
       "<tr><td>130.0521133043998</td><td>0.0578057803886757</td><td>20.03183770633591</td><td>0.03495170119037717</td></tr>\n",
       "<tr><td>129.99597894288806</td><td>0.07839214145342041</td><td>20.031352488115036</td><td>0.05374222759140045</td></tr>\n",
       "<tr><td>130.08362120044177</td><td>0.7294145559744418</td><td>19.99443001731349</td><td>0.5015533301368889</td></tr>\n",
       "</table></div>"
      ],
      "text/plain": [
       "<Table length=50>\n",
       "        ra               ra_error              dec              dec_error      \n",
       "       deg                 mas                 deg                 mas         \n",
       "     float64             float64             float64             float64       \n",
       "------------------ -------------------- ------------------ --------------------\n",
       "130.01500503419462  0.24888120916348072 19.980541000468566    0.193851471702074\n",
       "130.01602099428743  0.10531691756732188 19.993747198922243  0.06883691544492751\n",
       "130.00808964157096    18.64640385871734  19.98862140943764   11.796211604159437\n",
       " 130.0395266278045   0.4941417306409737 19.971954482920996  0.36915177444918323\n",
       "130.02147958786338   0.2557732478660761 19.965408437364445  0.17642404227037176\n",
       " 130.0497621299465   0.3991352977034726  19.98377789498254  0.28844719612018865\n",
       "130.02657947132394 0.043558763357000686  20.00773569688166  0.03099984816650081\n",
       "130.04755822939757  0.05087222973848031  19.97107625044161 0.036801006459923714\n",
       "130.05094752875684  0.03140352283380697 19.993378723341063 0.024089131225049437\n",
       "129.99625583677792   0.3057313071979954 19.993348682261157  0.22803607952287988\n",
       " 130.0546964508995   0.4086259062453858 19.972186933000827   0.2641315630879731\n",
       "               ...                  ...                ...                  ...\n",
       "129.97310399598734  0.05988194821577917 19.981466326070276 0.039617671790741577\n",
       "129.97303151961685    2.839173746136622 19.981700115469895    1.252596973965006\n",
       " 130.0071112122719   0.1579700539085561 19.937132744404817  0.11849136280670793\n",
       "129.97264176185195  0.10771919564308073  19.99418206923589  0.07233210080783775\n",
       "130.04792905116176  0.15610403532331626  19.93695049192596   0.1153617933809717\n",
       "130.01850143147556  0.10238363993860003  20.03467997035261   0.0707477734027496\n",
       "130.07795422865817   0.1998886561847718 19.969099611800065   0.1403699713577338\n",
       " 130.0467081406198   0.8288793216635298 20.031570416482857   0.5163799985975299\n",
       " 130.0106047764714   0.1596580877198381 19.930710399975162  0.11914509122073114\n",
       " 130.0521133043998   0.0578057803886757  20.03183770633591  0.03495170119037717\n",
       "129.99597894288806  0.07839214145342041 20.031352488115036  0.05374222759140045\n",
       "130.08362120044177   0.7294145559744418  19.99443001731349   0.5015533301368889"
      ]
     },
     "execution_count": 126,
     "metadata": {},
     "output_type": "execute_result"
    }
   ],
   "source": [
    "results1[['ra', 'ra_error', 'dec', 'dec_error']]"
   ]
  },
  {
   "cell_type": "code",
   "execution_count": 127,
   "id": "6bbfd577-9a7e-49c0-9a7a-3e48a89f7164",
   "metadata": {},
   "outputs": [
    {
     "data": {
      "text/html": [
       "<div><i>Table length=50</i>\n",
       "<table id=\"table140523592752800\" class=\"table-striped table-bordered table-condensed\">\n",
       "<thead><tr><th>ra</th><th>dec</th></tr></thead>\n",
       "<thead><tr><th>deg</th><th>deg</th></tr></thead>\n",
       "<thead><tr><th>float64</th><th>float64</th></tr></thead>\n",
       "<tr><td>130.01500503419462</td><td>19.980541000468566</td></tr>\n",
       "<tr><td>130.01602099428743</td><td>19.993747198922243</td></tr>\n",
       "<tr><td>130.00808964157096</td><td>19.98862140943764</td></tr>\n",
       "<tr><td>130.0395266278045</td><td>19.971954482920996</td></tr>\n",
       "<tr><td>130.02147958786338</td><td>19.965408437364445</td></tr>\n",
       "<tr><td>130.0497621299465</td><td>19.98377789498254</td></tr>\n",
       "<tr><td>130.02657947132394</td><td>20.00773569688166</td></tr>\n",
       "<tr><td>130.04755822939757</td><td>19.97107625044161</td></tr>\n",
       "<tr><td>130.05094752875684</td><td>19.993378723341063</td></tr>\n",
       "<tr><td>129.99625583677792</td><td>19.993348682261157</td></tr>\n",
       "<tr><td>130.0546964508995</td><td>19.972186933000827</td></tr>\n",
       "<tr><td>...</td><td>...</td></tr>\n",
       "<tr><td>129.97310399598734</td><td>19.981466326070276</td></tr>\n",
       "<tr><td>129.97303151961685</td><td>19.981700115469895</td></tr>\n",
       "<tr><td>130.0071112122719</td><td>19.937132744404817</td></tr>\n",
       "<tr><td>129.97264176185195</td><td>19.99418206923589</td></tr>\n",
       "<tr><td>130.04792905116176</td><td>19.93695049192596</td></tr>\n",
       "<tr><td>130.01850143147556</td><td>20.03467997035261</td></tr>\n",
       "<tr><td>130.07795422865817</td><td>19.969099611800065</td></tr>\n",
       "<tr><td>130.0467081406198</td><td>20.031570416482857</td></tr>\n",
       "<tr><td>130.0106047764714</td><td>19.930710399975162</td></tr>\n",
       "<tr><td>130.0521133043998</td><td>20.03183770633591</td></tr>\n",
       "<tr><td>129.99597894288806</td><td>20.031352488115036</td></tr>\n",
       "<tr><td>130.08362120044177</td><td>19.99443001731349</td></tr>\n",
       "</table></div>"
      ],
      "text/plain": [
       "<Table length=50>\n",
       "        ra                dec        \n",
       "       deg                deg        \n",
       "     float64            float64      \n",
       "------------------ ------------------\n",
       "130.01500503419462 19.980541000468566\n",
       "130.01602099428743 19.993747198922243\n",
       "130.00808964157096  19.98862140943764\n",
       " 130.0395266278045 19.971954482920996\n",
       "130.02147958786338 19.965408437364445\n",
       " 130.0497621299465  19.98377789498254\n",
       "130.02657947132394  20.00773569688166\n",
       "130.04755822939757  19.97107625044161\n",
       "130.05094752875684 19.993378723341063\n",
       "129.99625583677792 19.993348682261157\n",
       " 130.0546964508995 19.972186933000827\n",
       "               ...                ...\n",
       "129.97310399598734 19.981466326070276\n",
       "129.97303151961685 19.981700115469895\n",
       " 130.0071112122719 19.937132744404817\n",
       "129.97264176185195  19.99418206923589\n",
       "130.04792905116176  19.93695049192596\n",
       "130.01850143147556  20.03467997035261\n",
       "130.07795422865817 19.969099611800065\n",
       " 130.0467081406198 20.031570416482857\n",
       " 130.0106047764714 19.930710399975162\n",
       " 130.0521133043998  20.03183770633591\n",
       "129.99597894288806 20.031352488115036\n",
       "130.08362120044177  19.99443001731349"
      ]
     },
     "execution_count": 127,
     "metadata": {},
     "output_type": "execute_result"
    }
   ],
   "source": [
    "my_columns = ['ra', 'dec']\n",
    "results1[my_columns]"
   ]
  },
  {
   "cell_type": "markdown",
   "id": "de43f8e1-0348-44d9-8fc9-2efa86557f6d",
   "metadata": {
    "tags": []
   },
   "source": [
    "### ⛏ Exercise\n",
    "Create a new table with a selection of the following columns:  'ra','ra_error','dec','dec_error','parallax','parallax_error','parallax_over_error','pmra','pmra_error','pmdec','pmdec_error'."
   ]
  },
  {
   "cell_type": "code",
   "execution_count": 132,
   "id": "4b24d36b-4b95-4e41-bb57-fb39972b1ed8",
   "metadata": {},
   "outputs": [
    {
     "data": {
      "text/html": [
       "<div><i>Table length=50</i>\n",
       "<table id=\"table140523601421904\" class=\"table-striped table-bordered table-condensed\">\n",
       "<thead><tr><th>ra</th><th>ra_error</th><th>dec</th><th>dec_error</th><th>parallax</th><th>parallax_error</th><th>parallax_over_error</th><th>pmra</th><th>pmra_error</th><th>pmdec</th><th>pmdec_error</th></tr></thead>\n",
       "<thead><tr><th>deg</th><th>mas</th><th>deg</th><th>mas</th><th>mas</th><th>mas</th><th></th><th>mas / yr</th><th>mas / yr</th><th>mas / yr</th><th>mas / yr</th></tr></thead>\n",
       "<thead><tr><th>float64</th><th>float64</th><th>float64</th><th>float64</th><th>float64</th><th>float64</th><th>float32</th><th>float64</th><th>float64</th><th>float64</th><th>float64</th></tr></thead>\n",
       "<tr><td>130.01500503419462</td><td>0.24888120916348072</td><td>19.980541000468566</td><td>0.193851471702074</td><td>0.828727295033905</td><td>0.3350012064562093</td><td>2.473804</td><td>-4.033231570564602</td><td>0.49627960158587475</td><td>2.915715928312259</td><td>0.33009256613751603</td></tr>\n",
       "<tr><td>130.01602099428743</td><td>0.10531691756732188</td><td>19.993747198922243</td><td>0.06883691544492751</td><td>0.42735110852786373</td><td>0.14423369016443197</td><td>2.9629078</td><td>-2.6048293840171843</td><td>0.2143511991498884</td><td>-2.7929356142511312</td><td>0.1357087428026782</td></tr>\n",
       "<tr><td>130.00808964157096</td><td>18.64640385871734</td><td>19.98862140943764</td><td>11.796211604159437</td><td>--</td><td>--</td><td>--</td><td>--</td><td>--</td><td>--</td><td>--</td></tr>\n",
       "<tr><td>130.0395266278045</td><td>0.4941417306409737</td><td>19.971954482920996</td><td>0.36915177444918323</td><td>1.561678711578475</td><td>0.6338064353530554</td><td>2.4639678</td><td>-1.7453018263697155</td><td>0.9915618973154319</td><td>-6.233321453722209</td><td>0.6882409570004236</td></tr>\n",
       "<tr><td>130.02147958786338</td><td>0.2557732478660761</td><td>19.965408437364445</td><td>0.17642404227037176</td><td>0.565757068941956</td><td>0.36537998487960965</td><td>1.5484074</td><td>-3.942520628852159</td><td>0.5384438848822735</td><td>-3.3645265815605776</td><td>0.3199843213412598</td></tr>\n",
       "<tr><td>130.0497621299465</td><td>0.3991352977034726</td><td>19.98377789498254</td><td>0.28844719612018865</td><td>0.47516678330988377</td><td>0.6075418076862926</td><td>0.78211373</td><td>-2.9851059734801173</td><td>0.8928841351157153</td><td>-3.3053980495513504</td><td>0.5356421247455114</td></tr>\n",
       "<tr><td>130.02657947132394</td><td>0.043558763357000686</td><td>20.00773569688166</td><td>0.03099984816650081</td><td>5.316194371046439</td><td>0.05892472792863759</td><td>90.22009</td><td>-35.60957552754509</td><td>0.08754513933765422</td><td>-11.963702152166118</td><td>0.055136721474611516</td></tr>\n",
       "<tr><td>130.04755822939757</td><td>0.05087222973848031</td><td>19.97107625044161</td><td>0.036801006459923714</td><td>5.206498219518862</td><td>0.07128844383925169</td><td>73.034256</td><td>-35.31181931034909</td><td>0.10905925697574156</td><td>-13.595467525919654</td><td>0.06887100894638347</td></tr>\n",
       "<tr><td>130.05094752875684</td><td>0.03140352283380697</td><td>19.993378723341063</td><td>0.024089131225049437</td><td>0.873737603014143</td><td>0.043736884045707254</td><td>19.977135</td><td>-10.744406774314907</td><td>0.066497995858921</td><td>2.0476039889799527</td><td>0.05132474633097743</td></tr>\n",
       "<tr><td>129.99625583677792</td><td>0.3057313071979954</td><td>19.993348682261157</td><td>0.22803607952287988</td><td>0.48724091013513215</td><td>0.3733493688665317</td><td>1.3050535</td><td>0.35183188266884136</td><td>0.5964930477564959</td><td>-3.0740812992375846</td><td>0.4065017229406762</td></tr>\n",
       "<tr><td>130.0546964508995</td><td>0.4086259062453858</td><td>19.972186933000827</td><td>0.2641315630879731</td><td>0.6992685146970009</td><td>0.5639959180617529</td><td>1.2398467</td><td>-0.46788790216777193</td><td>0.7873185734700275</td><td>-0.2701355352452033</td><td>0.5235710318752415</td></tr>\n",
       "<tr><td>...</td><td>...</td><td>...</td><td>...</td><td>...</td><td>...</td><td>...</td><td>...</td><td>...</td><td>...</td><td>...</td></tr>\n",
       "<tr><td>129.97310399598734</td><td>0.05988194821577917</td><td>19.981466326070276</td><td>0.039617671790741577</td><td>1.2567147543151678</td><td>0.08439318884097018</td><td>14.891187</td><td>0.7657012947870702</td><td>0.12410642822838204</td><td>-1.8261069305808906</td><td>0.07590041982712256</td></tr>\n",
       "<tr><td>129.97303151961685</td><td>2.839173746136622</td><td>19.981700115469895</td><td>1.252596973965006</td><td>--</td><td>--</td><td>--</td><td>--</td><td>--</td><td>--</td><td>--</td></tr>\n",
       "<tr><td>130.0071112122719</td><td>0.1579700539085561</td><td>19.937132744404817</td><td>0.11849136280670793</td><td>0.05266378859952248</td><td>0.2126404423146877</td><td>0.24766591</td><td>1.0192632633130823</td><td>0.3231922156231226</td><td>-5.046956675820781</td><td>0.21699402958033617</td></tr>\n",
       "<tr><td>129.97264176185195</td><td>0.10771919564308073</td><td>19.99418206923589</td><td>0.07233210080783775</td><td>0.661941234157432</td><td>0.15370370455738933</td><td>4.306606</td><td>1.042655144653549</td><td>0.22282570630391996</td><td>-8.662895987700377</td><td>0.14221084209665852</td></tr>\n",
       "<tr><td>130.04792905116176</td><td>0.15610403532331626</td><td>19.93695049192596</td><td>0.1153617933809717</td><td>0.4975412699974269</td><td>0.2011594362507958</td><td>2.4733677</td><td>-2.3464614018358825</td><td>0.32028543662446013</td><td>-1.6534811509916074</td><td>0.24444365100235663</td></tr>\n",
       "<tr><td>130.01850143147556</td><td>0.10238363993860003</td><td>20.03467997035261</td><td>0.0707477734027496</td><td>0.8354838966800967</td><td>0.14517355139612864</td><td>5.7550697</td><td>-5.699459793158364</td><td>0.21281383519535316</td><td>-2.6183870025595146</td><td>0.134514978713544</td></tr>\n",
       "<tr><td>130.07795422865817</td><td>0.1998886561847718</td><td>19.969099611800065</td><td>0.1403699713577338</td><td>0.4059736648821575</td><td>0.24717675802906827</td><td>1.6424427</td><td>-1.2249527998415133</td><td>0.39905947092437233</td><td>-1.6009089581546818</td><td>0.27483873652484464</td></tr>\n",
       "<tr><td>130.0467081406198</td><td>0.8288793216635298</td><td>20.031570416482857</td><td>0.5163799985975299</td><td>0.7294321238528539</td><td>0.8428599082483871</td><td>0.8654251</td><td>-0.4509790644510359</td><td>1.6636177595556902</td><td>-42.33729394273802</td><td>0.9882247598615191</td></tr>\n",
       "<tr><td>130.0106047764714</td><td>0.1596580877198381</td><td>19.930710399975162</td><td>0.11914509122073114</td><td>-0.00932645388371948</td><td>0.22140545696273298</td><td>-0.042123865</td><td>-1.3071631791251375</td><td>0.331154196265678</td><td>-3.398526142221404</td><td>0.21763836238079615</td></tr>\n",
       "<tr><td>130.0521133043998</td><td>0.0578057803886757</td><td>20.03183770633591</td><td>0.03495170119037717</td><td>0.7770203764487206</td><td>0.07583168738222319</td><td>10.246645</td><td>-9.302050166469817</td><td>0.11677089346891217</td><td>-4.5288212839397</td><td>0.07268240119217721</td></tr>\n",
       "<tr><td>129.99597894288806</td><td>0.07839214145342041</td><td>20.031352488115036</td><td>0.05374222759140045</td><td>5.540973258436969</td><td>0.10423663679503184</td><td>53.157635</td><td>-35.55976739035602</td><td>0.168935334952042</td><td>-16.35491152624705</td><td>0.10380913564391288</td></tr>\n",
       "<tr><td>130.08362120044177</td><td>0.7294145559744418</td><td>19.99443001731349</td><td>0.5015533301368889</td><td>0.42519007733596087</td><td>0.8184714784663365</td><td>0.51949286</td><td>1.0134726269062881</td><td>1.4631657953462056</td><td>1.8840868544286737</td><td>1.0974575090505554</td></tr>\n",
       "</table></div>"
      ],
      "text/plain": [
       "<Table length=50>\n",
       "        ra               ra_error              dec         ...        pmdec            pmdec_error     \n",
       "       deg                 mas                 deg         ...       mas / yr            mas / yr      \n",
       "     float64             float64             float64       ...       float64             float64       \n",
       "------------------ -------------------- ------------------ ... ------------------- --------------------\n",
       "130.01500503419462  0.24888120916348072 19.980541000468566 ...   2.915715928312259  0.33009256613751603\n",
       "130.01602099428743  0.10531691756732188 19.993747198922243 ... -2.7929356142511312   0.1357087428026782\n",
       "130.00808964157096    18.64640385871734  19.98862140943764 ...                  --                   --\n",
       " 130.0395266278045   0.4941417306409737 19.971954482920996 ...  -6.233321453722209   0.6882409570004236\n",
       "130.02147958786338   0.2557732478660761 19.965408437364445 ... -3.3645265815605776   0.3199843213412598\n",
       " 130.0497621299465   0.3991352977034726  19.98377789498254 ... -3.3053980495513504   0.5356421247455114\n",
       "130.02657947132394 0.043558763357000686  20.00773569688166 ... -11.963702152166118 0.055136721474611516\n",
       "130.04755822939757  0.05087222973848031  19.97107625044161 ... -13.595467525919654  0.06887100894638347\n",
       "130.05094752875684  0.03140352283380697 19.993378723341063 ...  2.0476039889799527  0.05132474633097743\n",
       "129.99625583677792   0.3057313071979954 19.993348682261157 ... -3.0740812992375846   0.4065017229406762\n",
       " 130.0546964508995   0.4086259062453858 19.972186933000827 ... -0.2701355352452033   0.5235710318752415\n",
       "               ...                  ...                ... ...                 ...                  ...\n",
       "129.97310399598734  0.05988194821577917 19.981466326070276 ... -1.8261069305808906  0.07590041982712256\n",
       "129.97303151961685    2.839173746136622 19.981700115469895 ...                  --                   --\n",
       " 130.0071112122719   0.1579700539085561 19.937132744404817 ...  -5.046956675820781  0.21699402958033617\n",
       "129.97264176185195  0.10771919564308073  19.99418206923589 ...  -8.662895987700377  0.14221084209665852\n",
       "130.04792905116176  0.15610403532331626  19.93695049192596 ... -1.6534811509916074  0.24444365100235663\n",
       "130.01850143147556  0.10238363993860003  20.03467997035261 ... -2.6183870025595146    0.134514978713544\n",
       "130.07795422865817   0.1998886561847718 19.969099611800065 ... -1.6009089581546818  0.27483873652484464\n",
       " 130.0467081406198   0.8288793216635298 20.031570416482857 ...  -42.33729394273802   0.9882247598615191\n",
       " 130.0106047764714   0.1596580877198381 19.930710399975162 ...  -3.398526142221404  0.21763836238079615\n",
       " 130.0521133043998   0.0578057803886757  20.03183770633591 ...    -4.5288212839397  0.07268240119217721\n",
       "129.99597894288806  0.07839214145342041 20.031352488115036 ...  -16.35491152624705  0.10380913564391288\n",
       "130.08362120044177   0.7294145559744418  19.99443001731349 ...  1.8840868544286737   1.0974575090505554"
      ]
     },
     "execution_count": 132,
     "metadata": {},
     "output_type": "execute_result"
    }
   ],
   "source": [
    "my_columns = ['ra','ra_error','dec','dec_error','parallax','parallax_error','parallax_over_error','pmra','pmra_error','pmdec','pmdec_error']\n",
    "results3 = results1[my_columns]\n",
    "results3"
   ]
  },
  {
   "cell_type": "markdown",
   "id": "32f02ee7-b9da-4fa3-8678-1fd2ef979133",
   "metadata": {
    "tags": []
   },
   "source": [
    "## Units and quantities\n",
    "https://docs.astropy.org/en/stable/units/index.html"
   ]
  },
  {
   "cell_type": "code",
   "execution_count": 13,
   "id": "8d0a5a5e-d1e6-4996-b5d8-58a50339a412",
   "metadata": {},
   "outputs": [
    {
     "data": {
      "text/latex": [
       "$\\mathrm{{}^{\\circ}}$"
      ],
      "text/plain": [
       "Unit(\"deg\")"
      ]
     },
     "execution_count": 13,
     "metadata": {},
     "output_type": "execute_result"
    }
   ],
   "source": [
    "results1['ra'].unit"
   ]
  },
  {
   "cell_type": "code",
   "execution_count": 14,
   "id": "619940a4-bd02-4a2f-a755-0b320387bf71",
   "metadata": {},
   "outputs": [
    {
     "data": {
      "text/latex": [
       "$[468054.02,~468057.68,~468029.12,~468142.3,~468077.33,~468179.14,~468095.69,~468171.21,~468183.41,~467986.52,~468196.91,~468198.86,~468204.8,~468068.17,~468169.07,~467965.33,~468214.51,~467955.8,~467970.02,~468169.73,~468217.32,~468122.94,~468069.53,~468229.66,~467999.69,~468190.36,~468038.73,~468250.59,~468247.45,~467934.32,~468127.46,~467946.29,~468108.2,~467919.61,~468152.51,~467950.08,~468275.4,~468261.49,~467903.17,~467902.91,~468025.6,~467901.51,~468172.54,~468066.61,~468280.64,~468168.15,~468038.18,~468187.61,~467985.52,~468301.04] \\; \\mathrm{{}^{\\prime\\prime}}$"
      ],
      "text/plain": [
       "<Quantity [468054.0181231 , 468057.67557943, 468029.12270966,\n",
       "           468142.2958601 , 468077.32651631, 468179.14366781,\n",
       "           468095.68609677, 468171.20962583, 468183.41110352,\n",
       "           467986.5210124 , 468196.90722324, 468198.85683009,\n",
       "           468204.80088772, 468068.17200899, 468169.07277152,\n",
       "           467965.32828029, 468214.50905074, 467955.80409146,\n",
       "           467970.02158342, 468169.7321044 , 468217.31586854,\n",
       "           468122.93866333, 468069.52534774, 468229.65988921,\n",
       "           467999.68845832, 468190.36132279, 468038.73461943,\n",
       "           468250.59166357, 468247.4505211 , 467934.32273184,\n",
       "           468127.45632723, 467946.29439657, 468108.19880193,\n",
       "           467919.61184363, 468152.50596762, 467950.07715537,\n",
       "           468275.39733939, 468261.48591982, 467903.17438555,\n",
       "           467902.91347062, 468025.60036418, 467901.51034267,\n",
       "           468172.54458418, 468066.60515331, 468280.63522317,\n",
       "           468168.14930623, 468038.1771953 , 468187.60789584,\n",
       "           467985.5241944 , 468301.03632159] arcsec>"
      ]
     },
     "execution_count": 14,
     "metadata": {},
     "output_type": "execute_result"
    }
   ],
   "source": [
    "results1['ra'].to(u.arcsec)"
   ]
  },
  {
   "cell_type": "code",
   "execution_count": 60,
   "id": "0d04e496-17ba-44aa-a3de-b216923a981d",
   "metadata": {},
   "outputs": [
    {
     "data": {
      "text/latex": [
       "$[7800.9003,~7800.9613,~7800.4854,~7802.3716,~7801.2888,~7802.9857,~7801.5948,~7802.8535,~7803.0569,~7799.7754,~7803.2818,~7803.3143,~7803.4133,~7801.1362,~7802.8179,~7799.4221,~7803.5752,~7799.2634,~7799.5004,~7802.8289,~7803.6219,~7802.049,~7801.1588,~7803.8277,~7799.9948,~7803.1727,~7800.6456,~7804.1765,~7804.1242,~7798.9054,~7802.1243,~7799.1049,~7801.8033,~7798.6602,~7802.5418,~7799.168,~7804.59,~7804.3581,~7798.3862,~7798.3819,~7800.4267,~7798.3585,~7802.8757,~7801.1101,~7804.6773,~7802.8025,~7800.6363,~7803.1268,~7799.7587,~7805.0173] \\; \\mathrm{{}^{\\prime}}$"
      ],
      "text/plain": [
       "<Quantity [7800.90030205, 7800.96125966, 7800.48537849, 7802.37159767,\n",
       "           7801.28877527, 7802.9857278 , 7801.59476828, 7802.85349376,\n",
       "           7803.05685173, 7799.77535021, 7803.28178705, 7803.3142805 ,\n",
       "           7803.41334813, 7801.13620015, 7802.81787953, 7799.422138  ,\n",
       "           7803.57515085, 7799.26340152, 7799.50035972, 7802.82886841,\n",
       "           7803.62193114, 7802.04897772, 7801.1587558 , 7803.82766482,\n",
       "           7799.99480764, 7803.17268871, 7800.64557699, 7804.17652773,\n",
       "           7804.12417535, 7798.90537886, 7802.12427212, 7799.10490661,\n",
       "           7801.80331337, 7798.66019739, 7802.54176613, 7799.16795259,\n",
       "           7804.58995566, 7804.35809866, 7798.38623976, 7798.38189118,\n",
       "           7800.42667274, 7798.35850571, 7802.87574307, 7801.11008589,\n",
       "           7804.67725372, 7802.80248844, 7800.63628659, 7803.12679826,\n",
       "           7799.75873657, 7805.01727203] arcmin>"
      ]
     },
     "execution_count": 60,
     "metadata": {},
     "output_type": "execute_result"
    }
   ],
   "source": [
    "results1['ra'].to(u.arcmin)"
   ]
  },
  {
   "cell_type": "code",
   "execution_count": 67,
   "id": "98af2bf7-b58d-4e4c-9c77-e3de9fcee33c",
   "metadata": {},
   "outputs": [
    {
     "name": "stdout",
     "output_type": "stream",
     "text": [
      "33.0 deg 0.838670567945424\n",
      "118800.0 arcsec 0.838670567945424\n"
     ]
    }
   ],
   "source": [
    "a = 33*u.deg\n",
    "b = a.to(u.arcsec)\n",
    "print(a, np.cos(a))\n",
    "print(b, np.cos(b))\n"
   ]
  },
  {
   "cell_type": "code",
   "execution_count": 51,
   "id": "95c1d028-0e6c-47d4-bc01-e9f8f1dbc2ae",
   "metadata": {},
   "outputs": [
    {
     "data": {
      "text/html": [
       "&lt;MaskedColumn name=&apos;dec&apos; dtype=&apos;float64&apos; length=50&gt;\n",
       "<table>\n",
       "<tr><td>0.42576868367146625</td></tr>\n",
       "<tr><td>0.4137825121907779</td></tr>\n",
       "<tr><td>0.4184434504870536</td></tr>\n",
       "<tr><td>0.43352224892505536</td></tr>\n",
       "<tr><td>0.43941184069557404</td></tr>\n",
       "<tr><td>0.42283761241559953</td></tr>\n",
       "<tr><td>0.40100765455981907</td></tr>\n",
       "<tr><td>0.43431349456807544</td></tr>\n",
       "<tr><td>0.41411793533160063</td></tr>\n",
       "<tr><td>0.4141452792336367</td></tr>\n",
       "<tr><td>0.43331276648421585</td></tr>\n",
       "<tr><td>0.4128263810523492</td></tr>\n",
       "<tr><td>0.4302674113487223</td></tr>\n",
       "<tr><td>0.3953918410429225</td></tr>\n",
       "<tr><td>...</td></tr>\n",
       "<tr><td>0.4268463700499281</td></tr>\n",
       "<tr><td>0.4059230989694719</td></tr>\n",
       "<tr><td>0.4249312372578995</td></tr>\n",
       "<tr><td>0.4247195934901248</td></tr>\n",
       "<tr><td>0.46463246103097344</td></tr>\n",
       "<tr><td>0.41338657768334935</td></tr>\n",
       "<tr><td>0.464793838544811</td></tr>\n",
       "<tr><td>0.376182118011307</td></tr>\n",
       "<tr><td>0.4360931255014384</td></tr>\n",
       "<tr><td>0.3790614385570377</td></tr>\n",
       "<tr><td>0.4703098490320458</td></tr>\n",
       "<tr><td>0.37881408260507493</td></tr>\n",
       "<tr><td>0.37926309425623067</td></tr>\n",
       "<tr><td>0.4131607944629563</td></tr>\n",
       "</table>"
      ],
      "text/plain": [
       "<MaskedColumn name='dec' dtype='float64' length=50>\n",
       "0.42576868367146625\n",
       " 0.4137825121907779\n",
       " 0.4184434504870536\n",
       "0.43352224892505536\n",
       "0.43941184069557404\n",
       "0.42283761241559953\n",
       "0.40100765455981907\n",
       "0.43431349456807544\n",
       "0.41411793533160063\n",
       " 0.4141452792336367\n",
       "0.43331276648421585\n",
       " 0.4128263810523492\n",
       " 0.4302674113487223\n",
       " 0.3953918410429225\n",
       "                ...\n",
       " 0.4268463700499281\n",
       " 0.4059230989694719\n",
       " 0.4249312372578995\n",
       " 0.4247195934901248\n",
       "0.46463246103097344\n",
       "0.41338657768334935\n",
       "  0.464793838544811\n",
       "  0.376182118011307\n",
       " 0.4360931255014384\n",
       " 0.3790614385570377\n",
       " 0.4703098490320458\n",
       "0.37881408260507493\n",
       "0.37926309425623067\n",
       " 0.4131607944629563"
      ]
     },
     "execution_count": 51,
     "metadata": {},
     "output_type": "execute_result"
    }
   ],
   "source": [
    "np.cos(results1['dec'])"
   ]
  },
  {
   "cell_type": "code",
   "execution_count": 89,
   "id": "346ca784-1749-40dc-84f7-f2e42232d54e",
   "metadata": {},
   "outputs": [
    {
     "data": {
      "text/latex": [
       "$[-4.0332316,~-2.6048294,~1000,~-1.7453018,~-3.9425206,~-2.985106,~-35.609576,~-35.311819,~-10.744407,~0.35183188,~-0.4678879,~-2.1542061,~1000,~-4.7634312,~14.147839,~1000,~-5.1022874,~1000,~-0.69325968,~1.8893531,~-3.3297586,~-6.4811683,~19.508222,~-35.489361,~1000,~-2.3949651,~-14.553523,~1000,~3.0787403,~2.1697844,~-4.999259,~0.88282761,~9.704358,~1000,~-5.6214941,~1000,~-0.33068255,~0.67714364,~0.76570129,~1000,~1.0192633,~1.0426551,~-2.3464614,~-5.6994598,~-1.2249528,~-0.45097906,~-1.3071632,~-9.3020502,~-35.559767,~1.0134726] \\; \\mathrm{\\frac{mas}{yr}}$"
      ],
      "text/plain": [
       "<Quantity [-4.03323157e+00, -2.60482938e+00,  1.00000000e+03,\n",
       "           -1.74530183e+00, -3.94252063e+00, -2.98510597e+00,\n",
       "           -3.56095755e+01, -3.53118193e+01, -1.07444068e+01,\n",
       "            3.51831883e-01, -4.67887902e-01, -2.15420610e+00,\n",
       "            1.00000000e+03, -4.76343121e+00,  1.41478394e+01,\n",
       "            1.00000000e+03, -5.10228737e+00,  1.00000000e+03,\n",
       "           -6.93259679e-01,  1.88935310e+00, -3.32975863e+00,\n",
       "           -6.48116830e+00,  1.95082219e+01, -3.54893611e+01,\n",
       "            1.00000000e+03, -2.39496508e+00, -1.45535226e+01,\n",
       "            1.00000000e+03,  3.07874026e+00,  2.16978444e+00,\n",
       "           -4.99925899e+00,  8.82827610e-01,  9.70435803e+00,\n",
       "            1.00000000e+03, -5.62149414e+00,  1.00000000e+03,\n",
       "           -3.30682547e-01,  6.77143638e-01,  7.65701295e-01,\n",
       "            1.00000000e+03,  1.01926326e+00,  1.04265514e+00,\n",
       "           -2.34646140e+00, -5.69945979e+00, -1.22495280e+00,\n",
       "           -4.50979064e-01, -1.30716318e+00, -9.30205017e+00,\n",
       "           -3.55597674e+01,  1.01347263e+00] mas / yr>"
      ]
     },
     "execution_count": 89,
     "metadata": {},
     "output_type": "execute_result"
    }
   ],
   "source": [
    "results1['pmra'].quantity"
   ]
  },
  {
   "cell_type": "code",
   "execution_count": 92,
   "id": "c9d14143-ea60-410a-959d-1937398c93b0",
   "metadata": {},
   "outputs": [],
   "source": [
    "results1['pmra_asec_yr'] = results1['pmra'].to(u.arcsec/u.yr)"
   ]
  },
  {
   "cell_type": "markdown",
   "id": "9697687c-661e-4173-b806-1cec862a31da",
   "metadata": {},
   "source": [
    "⚠️ Tables with units have limited functionality. For full unit management, it is recommended to use `QTable` instead"
   ]
  },
  {
   "cell_type": "code",
   "execution_count": 108,
   "id": "3374ef98-fe2e-4573-9d29-21007e634032",
   "metadata": {},
   "outputs": [],
   "source": [
    "from astropy.table import QTable\n",
    "\n",
    "results1_qt = QTable(results1)"
   ]
  },
  {
   "cell_type": "code",
   "execution_count": 122,
   "id": "aff9805b-aace-4ab2-9c22-7b208104807d",
   "metadata": {},
   "outputs": [
    {
     "data": {
      "text/latex": [
       "$[-4.0332316,~-2.6048294,~1000,~-1.7453018,~-3.9425206,~-2.985106,~-35.609576,~-35.311819,~-10.744407,~0.35183188,~-0.4678879,~-2.1542061,~1000,~-4.7634312,~14.147839,~1000,~-5.1022874,~1000,~-0.69325968,~1.8893531,~-3.3297586,~-6.4811683,~19.508222,~-35.489361,~1000,~-2.3949651,~-14.553523,~1000,~3.0787403,~2.1697844,~-4.999259,~0.88282761,~9.704358,~1000,~-5.6214941,~1000,~-0.33068255,~0.67714364,~0.76570129,~1000,~1.0192633,~1.0426551,~-2.3464614,~-5.6994598,~-1.2249528,~-0.45097906,~-1.3071632,~-9.3020502,~-35.559767,~1.0134726] \\; \\mathrm{m}$"
      ],
      "text/plain": [
       "<Quantity [-4.03323157e+00, -2.60482938e+00,  1.00000000e+03,\n",
       "           -1.74530183e+00, -3.94252063e+00, -2.98510597e+00,\n",
       "           -3.56095755e+01, -3.53118193e+01, -1.07444068e+01,\n",
       "            3.51831883e-01, -4.67887902e-01, -2.15420610e+00,\n",
       "            1.00000000e+03, -4.76343121e+00,  1.41478394e+01,\n",
       "            1.00000000e+03, -5.10228737e+00,  1.00000000e+03,\n",
       "           -6.93259679e-01,  1.88935310e+00, -3.32975863e+00,\n",
       "           -6.48116830e+00,  1.95082219e+01, -3.54893611e+01,\n",
       "            1.00000000e+03, -2.39496508e+00, -1.45535226e+01,\n",
       "            1.00000000e+03,  3.07874026e+00,  2.16978444e+00,\n",
       "           -4.99925899e+00,  8.82827610e-01,  9.70435803e+00,\n",
       "            1.00000000e+03, -5.62149414e+00,  1.00000000e+03,\n",
       "           -3.30682547e-01,  6.77143638e-01,  7.65701295e-01,\n",
       "            1.00000000e+03,  1.01926326e+00,  1.04265514e+00,\n",
       "           -2.34646140e+00, -5.69945979e+00, -1.22495280e+00,\n",
       "           -4.50979064e-01, -1.30716318e+00, -9.30205017e+00,\n",
       "           -3.55597674e+01,  1.01347263e+00] m>"
      ]
     },
     "execution_count": 122,
     "metadata": {},
     "output_type": "execute_result"
    }
   ],
   "source": [
    "results1['pmra']*1*u.m"
   ]
  },
  {
   "cell_type": "code",
   "execution_count": 123,
   "id": "c03f90a0-c843-413d-a85d-830cfeb8727a",
   "metadata": {},
   "outputs": [
    {
     "data": {
      "text/latex": [
       "$[-4.0332316,~-2.6048294,~ ———,~-1.7453018,~-3.9425206,~-2.985106,~-35.609576,~-35.311819,~-10.744407,~0.35183188,~-0.4678879,~-2.1542061,~ ———,~-4.7634312,~14.147839,~ ———,~-5.1022874,~ ———,~-0.69325968,~1.8893531,~-3.3297586,~-6.4811683,~19.508222,~-35.489361,~ ———,~-2.3949651,~-14.553523,~ ———,~3.0787403,~2.1697844,~-4.999259,~0.88282761,~9.704358,~ ———,~-5.6214941,~ ———,~-0.33068255,~0.67714364,~0.76570129,~ ———,~1.0192633,~1.0426551,~-2.3464614,~-5.6994598,~-1.2249528,~-0.45097906,~-1.3071632,~-9.3020502,~-35.559767,~1.0134726] \\; \\mathrm{\\frac{m\\,mas}{yr}}$"
      ],
      "text/plain": [
       "<MaskedQuantity [-4.03323157e+00, -2.60482938e+00,             ———,\n",
       "                 -1.74530183e+00, -3.94252063e+00, -2.98510597e+00,\n",
       "                 -3.56095755e+01, -3.53118193e+01, -1.07444068e+01,\n",
       "                  3.51831883e-01, -4.67887902e-01, -2.15420610e+00,\n",
       "                             ———, -4.76343121e+00,  1.41478394e+01,\n",
       "                             ———, -5.10228737e+00,             ———,\n",
       "                 -6.93259679e-01,  1.88935310e+00, -3.32975863e+00,\n",
       "                 -6.48116830e+00,  1.95082219e+01, -3.54893611e+01,\n",
       "                             ———, -2.39496508e+00, -1.45535226e+01,\n",
       "                             ———,  3.07874026e+00,  2.16978444e+00,\n",
       "                 -4.99925899e+00,  8.82827610e-01,  9.70435803e+00,\n",
       "                             ———, -5.62149414e+00,             ———,\n",
       "                 -3.30682547e-01,  6.77143638e-01,  7.65701295e-01,\n",
       "                             ———,  1.01926326e+00,  1.04265514e+00,\n",
       "                 -2.34646140e+00, -5.69945979e+00, -1.22495280e+00,\n",
       "                 -4.50979064e-01, -1.30716318e+00, -9.30205017e+00,\n",
       "                 -3.55597674e+01,  1.01347263e+00] m mas / yr>"
      ]
     },
     "execution_count": 123,
     "metadata": {},
     "output_type": "execute_result"
    }
   ],
   "source": [
    "results1_qt['pmra']*1*u.m"
   ]
  },
  {
   "cell_type": "markdown",
   "id": "048d8ef4-249f-4e66-9f98-178b33482be1",
   "metadata": {},
   "source": [
    "Each column has a different data type (float, integer, strings, etc). Some examples of the meaning of the datatypes:\n",
    "- `i4`   32-bit signed integer\n",
    "- `f8`   64-bit floating-point number\n",
    "- `c16`  128-bit complex floating-point number\n",
    "- `a25`  25-length zero-terminated bytes\n",
    "- `U25`  25-character string\n"
   ]
  },
  {
   "cell_type": "markdown",
   "id": "d1a37bca-ab09-4ee7-9ae0-54d95afa1ff9",
   "metadata": {
    "tags": []
   },
   "source": [
    "## Modifying an astropy table\n",
    "https://docs.astropy.org/en/stable/table/modify_table.html#in-place-versus-replace-column-update"
   ]
  },
  {
   "cell_type": "code",
   "execution_count": 151,
   "id": "6176142d-12e1-427c-bc03-4edeb06ad07b",
   "metadata": {},
   "outputs": [],
   "source": [
    "import matplotlib.pyplot as plt\n",
    "from astropy.visualization import quantity_support"
   ]
  },
  {
   "cell_type": "code",
   "execution_count": 165,
   "id": "dbcd6181-1949-4f0a-ab7d-b97019561f0f",
   "metadata": {},
   "outputs": [
    {
     "data": {
      "image/png": "[encoded data removed]",
      "text/plain": [
       "<Figure size 432x288 with 1 Axes>"
      ]
     },
     "metadata": {
      "needs_background": "light"
     },
     "output_type": "display_data"
    }
   ],
   "source": [
    "with quantity_support():\n",
    "    plt.plot(results1_qt['pmra'], results1_qt['dec'], 'o')"
   ]
  },
  {
   "cell_type": "code",
   "execution_count": 167,
   "id": "b2a1b00f-fdd0-4a44-ac2e-f82cff971bd5",
   "metadata": {},
   "outputs": [
    {
     "data": {
      "image/png": "[encoded data removed]",
      "text/plain": [
       "<Figure size 432x288 with 1 Axes>"
      ]
     },
     "metadata": {
      "needs_background": "light"
     },
     "output_type": "display_data"
    }
   ],
   "source": [
    "with quantity_support():\n",
    "    plt.plot(results1_qt['ra'], results1_qt['dec'], 'o')"
   ]
  },
  {
   "cell_type": "code",
   "execution_count": 177,
   "id": "34239900-07e0-4dba-962c-32c2f2911e98",
   "metadata": {},
   "outputs": [
    {
     "data": {
      "text/latex": [
       "[$19^\\circ58{}^\\prime49.94760169{}^{\\prime\\prime}$\n",
       " $19^\\circ59{}^\\prime37.48991612{}^{\\prime\\prime}$\n",
       " $19^\\circ59{}^\\prime19.03707398{}^{\\prime\\prime}$ ...\n",
       " $19^\\circ29{}^\\prime26.56598474{}^{\\prime\\prime}$\n",
       " $19^\\circ29{}^\\prime18.61455828{}^{\\prime\\prime}$\n",
       " $19^\\circ29{}^\\prime15.11885218{}^{\\prime\\prime}$]"
      ],
      "text/plain": [
       "<Angle [19.980541  , 19.9937472 , 19.98862141, ..., 19.49071277,\n",
       "        19.48850404, 19.48753301] deg>"
      ]
     },
     "execution_count": 177,
     "metadata": {},
     "output_type": "execute_result"
    }
   ],
   "source": [
    "from astropy.coordinates import Angle\n",
    "\n",
    "ra = Angle(results1['ra'])\n",
    "dec = Angle(results1['dec'])"
   ]
  },
  {
   "cell_type": "code",
   "execution_count": 180,
   "id": "804e8404-79db-4f70-bfe2-ead9e5bdb11a",
   "metadata": {},
   "outputs": [
    {
     "data": {
      "image/png": "[encoded data removed]",
      "text/plain": [
       "<Figure size 576x432 with 1 Axes>"
      ]
     },
     "metadata": {
      "needs_background": "light"
     },
     "output_type": "display_data"
    }
   ],
   "source": [
    "fig = plt.figure(figsize=(8,6))\n",
    "ax = fig.add_subplot(111, projection=\"mollweide\")\n",
    "ax.scatter(ra.radian, dec.radian)\n",
    "ax.set_xticklabels(['14h','16h','18h','20h','22h','0h','2h','4h','6h','8h','10h'])\n",
    "ax.grid(True)"
   ]
  },
  {
   "cell_type": "code",
   "execution_count": 183,
   "id": "8db682c3-e2c7-462a-9d09-def22624655c",
   "metadata": {},
   "outputs": [
    {
     "data": {
      "image/png": "[encoded data removed]",
      "text/plain": [
       "<Figure size 576x432 with 1 Axes>"
      ]
     },
     "metadata": {
      "needs_background": "light"
     },
     "output_type": "display_data"
    }
   ],
   "source": [
    "from astropy.coordinates import SkyCoord\n",
    "\n",
    "coord = SkyCoord(results1['ra'], results1['dec'])\n",
    "\n",
    "fig = plt.figure(figsize=(8,6))\n",
    "ax = fig.add_subplot(111, projection=\"mollweide\")\n",
    "ax.scatter(coord.ra.radian, coord.dec.radian)\n",
    "ax.set_xticklabels(['14h','16h','18h','20h','22h','0h','2h','4h','6h','8h','10h'])\n",
    "ax.grid(True)"
   ]
  },
  {
   "cell_type": "code",
   "execution_count": 49,
   "id": "5b846d7c-db0a-4cae-80d6-e7fdeb8a0b69",
   "metadata": {},
   "outputs": [
    {
     "ename": "NameError",
     "evalue": "name 'quantity_support' is not defined",
     "output_type": "error",
     "traceback": [
      "\u001b[0;31m---------------------------------------------------------------------------\u001b[0m",
      "\u001b[0;31mNameError\u001b[0m                                 Traceback (most recent call last)",
      "\u001b[0;32m/tmp/ipykernel_14817/237344657.py\u001b[0m in \u001b[0;36m<module>\u001b[0;34m\u001b[0m\n\u001b[0;32m----> 1\u001b[0;31m \u001b[0;32mwith\u001b[0m \u001b[0mquantity_support\u001b[0m\u001b[0;34m(\u001b[0m\u001b[0;34m)\u001b[0m\u001b[0;34m:\u001b[0m\u001b[0;34m\u001b[0m\u001b[0;34m\u001b[0m\u001b[0m\n\u001b[0m\u001b[1;32m      2\u001b[0m     \u001b[0mplt\u001b[0m\u001b[0;34m.\u001b[0m\u001b[0mplot\u001b[0m\u001b[0;34m(\u001b[0m\u001b[0mcoord\u001b[0m\u001b[0;34m.\u001b[0m\u001b[0mra\u001b[0m\u001b[0;34m,\u001b[0m \u001b[0mcoord\u001b[0m\u001b[0;34m.\u001b[0m\u001b[0mdec\u001b[0m\u001b[0;34m,\u001b[0m \u001b[0;34m'o'\u001b[0m\u001b[0;34m)\u001b[0m\u001b[0;34m\u001b[0m\u001b[0;34m\u001b[0m\u001b[0m\n",
      "\u001b[0;31mNameError\u001b[0m: name 'quantity_support' is not defined"
     ]
    }
   ],
   "source": [
    "with quantity_support():\n",
    "    plt.plot(coord.ra, coord.dec, 'o')"
   ]
  },
  {
   "cell_type": "markdown",
   "id": "de1d6e07-fb7b-487d-9565-29672dae86c3",
   "metadata": {
    "tags": []
   },
   "source": [
    "# Compute galactocentric coordinates\n",
    "https://docs.astropy.org/en/stable/generated/examples/coordinates/plot_galactocentric-frame.html\n"
   ]
  },
  {
   "cell_type": "code",
   "execution_count": 124,
   "id": "76bec14d-2361-4fa5-a581-73459296afbb",
   "metadata": {},
   "outputs": [],
   "source": [
    "from astropy.coordinates import SkyCoord, Galactocentric"
   ]
  },
  {
   "cell_type": "code",
   "execution_count": 161,
   "id": "13d4f645-a99e-40c7-bb60-59a83efbc73f",
   "metadata": {},
   "outputs": [],
   "source": [
    "selection = (results1['parallax'] > 5.0) & (results1['parallax'] < 5.7)\n",
    "cluster = results1[selection].to_pandas()"
   ]
  },
  {
   "cell_type": "code",
   "execution_count": 162,
   "id": "fcb3a35c-b6e4-40a2-9867-b217b6627607",
   "metadata": {},
   "outputs": [
    {
     "data": {
      "text/plain": [
       "Index(['dist', 'solution_id', 'DESIGNATION', 'source_id', 'random_index',\n",
       "       'ref_epoch', 'ra', 'ra_error', 'dec', 'dec_error', 'parallax',\n",
       "       'parallax_error', 'parallax_over_error', 'pmra', 'pmra_error', 'pmdec',\n",
       "       'pmdec_error', 'ra_dec_corr', 'ra_parallax_corr', 'ra_pmra_corr',\n",
       "       'ra_pmdec_corr', 'dec_parallax_corr', 'dec_pmra_corr', 'dec_pmdec_corr',\n",
       "       'parallax_pmra_corr', 'parallax_pmdec_corr', 'pmra_pmdec_corr',\n",
       "       'astrometric_n_obs_al', 'astrometric_n_obs_ac',\n",
       "       'astrometric_n_good_obs_al', 'astrometric_n_bad_obs_al',\n",
       "       'astrometric_gof_al', 'astrometric_chi2_al', 'astrometric_excess_noise',\n",
       "       'astrometric_excess_noise_sig', 'astrometric_params_solved',\n",
       "       'astrometric_primary_flag', 'astrometric_weight_al',\n",
       "       'astrometric_pseudo_colour', 'astrometric_pseudo_colour_error',\n",
       "       'mean_varpi_factor_al', 'astrometric_matched_observations',\n",
       "       'visibility_periods_used', 'astrometric_sigma5d_max',\n",
       "       'frame_rotator_object_type', 'matched_observations',\n",
       "       'duplicated_source', 'phot_g_n_obs', 'phot_g_mean_flux',\n",
       "       'phot_g_mean_flux_error', 'phot_g_mean_flux_over_error',\n",
       "       'phot_g_mean_mag', 'phot_bp_n_obs', 'phot_bp_mean_flux',\n",
       "       'phot_bp_mean_flux_error', 'phot_bp_mean_flux_over_error',\n",
       "       'phot_bp_mean_mag', 'phot_rp_n_obs', 'phot_rp_mean_flux',\n",
       "       'phot_rp_mean_flux_error', 'phot_rp_mean_flux_over_error',\n",
       "       'phot_rp_mean_mag', 'phot_bp_rp_excess_factor', 'phot_proc_mode',\n",
       "       'bp_rp', 'bp_g', 'g_rp', 'radial_velocity', 'radial_velocity_error',\n",
       "       'rv_nb_transits', 'rv_template_teff', 'rv_template_logg',\n",
       "       'rv_template_fe_h', 'phot_variable_flag', 'l', 'b', 'ecl_lon',\n",
       "       'ecl_lat', 'priam_flags', 'teff_val', 'teff_percentile_lower',\n",
       "       'teff_percentile_upper', 'a_g_val', 'a_g_percentile_lower',\n",
       "       'a_g_percentile_upper', 'e_bp_min_rp_val',\n",
       "       'e_bp_min_rp_percentile_lower', 'e_bp_min_rp_percentile_upper',\n",
       "       'flame_flags', 'radius_val', 'radius_percentile_lower',\n",
       "       'radius_percentile_upper', 'lum_val', 'lum_percentile_lower',\n",
       "       'lum_percentile_upper', 'datalink_url'],\n",
       "      dtype='object')"
      ]
     },
     "execution_count": 162,
     "metadata": {},
     "output_type": "execute_result"
    }
   ],
   "source": [
    "cluster.columns"
   ]
  },
  {
   "cell_type": "code",
   "execution_count": 130,
   "id": "0d1b5e05-a7d8-49cf-b4ef-c187266021fd",
   "metadata": {},
   "outputs": [
    {
     "name": "stdout",
     "output_type": "stream",
     "text": [
      "Average values for the cluter:\n",
      "Right Ascension: 130.065 deg\n",
      "Declination:      19.933 deg\n",
      "Parallax:          5.356 mas\n"
     ]
    },
    {
     "data": {
      "text/plain": [
       "(130.06529528119498,\n",
       " 19.932944309253983,\n",
       " 5.355577500320106,\n",
       " -36.00163972660106,\n",
       " -13.103434885558013,\n",
       " 34.868167437602224)"
      ]
     },
     "execution_count": 130,
     "metadata": {},
     "output_type": "execute_result"
    }
   ],
   "source": [
    "ra_median = cluster['ra'].median()\n",
    "dec_median = cluster['dec'].median()\n",
    "parallax_median = cluster['parallax'].median()\n",
    "pm_ra_median = cluster['pmra'].median()  # check cosdec?\n",
    "pm_de_median = cluster['pmdec'].median()\n",
    "pm_rv_median = cluster['radial_velocity'].median()\n",
    "\n",
    "print('Average values for the cluter:')\n",
    "print('Right Ascension: {0:7.3f} deg'.format(ra_median))\n",
    "print('Declination:     {0:7.3f} deg'.format(dec_median))\n",
    "print('Parallax:        {0:7.3f} mas'.format(parallax_median))\n",
    "\n",
    "ra_median, dec_median, parallax_median, pm_ra_median, pm_de_median, pm_rv_median"
   ]
  },
  {
   "cell_type": "code",
   "execution_count": 131,
   "id": "c592491c-6f99-41f1-a066-8efabf967542",
   "metadata": {},
   "outputs": [
    {
     "data": {
      "text/latex": [
       "$186.72123 \\; \\mathrm{pc}$"
      ],
      "text/plain": [
       "<Quantity 186.7212266 pc>"
      ]
     },
     "execution_count": 131,
     "metadata": {},
     "output_type": "execute_result"
    }
   ],
   "source": [
    "(parallax_median*u.mas).to(u.pc, u.parallax())"
   ]
  },
  {
   "cell_type": "code",
   "execution_count": 122,
   "id": "b9b5812d-f44d-4170-8499-2c8d77ba102c",
   "metadata": {},
   "outputs": [
    {
     "data": {
      "text/plain": [
       "<SkyCoord (ICRS): (ra, dec, distance) in (deg, deg, pc)\n",
       "    (130.06529528, 19.93294431, 186.7212266)\n",
       " (pm_ra_cosdec, pm_dec, radial_velocity) in (mas / yr, mas / yr, km / s)\n",
       "    (-36.00163973, -13.10343489, 34.86816744)>"
      ]
     },
     "execution_count": 122,
     "metadata": {},
     "output_type": "execute_result"
    }
   ],
   "source": [
    "c1 = SkyCoord(ra=ra_median*u.degree, dec=dec_median*u.degree,\n",
    "                    distance=(parallax_median*u.mas).to(u.pc, u.parallax()),\n",
    "                    pm_ra_cosdec=pm_ra_median*u.mas/u.yr,\n",
    "                    pm_dec=pm_de_median*u.mas/u.yr,\n",
    "                    radial_velocity=pm_rv_median*u.km/u.s,\n",
    "                    frame='icrs')\n",
    "c1"
   ]
  },
  {
   "cell_type": "code",
   "execution_count": 133,
   "id": "56a0a17b-5d92-499f-b069-ca5f81c7c691",
   "metadata": {},
   "outputs": [],
   "source": [
    "v_sun = [11.1, 244, 7.25] * (u.km / u.s)  # [vx, vy, vz]\n",
    "gc_frame = Galactocentric(\n",
    "    galcen_distance=8*u.kpc,\n",
    "    galcen_v_sun=v_sun,\n",
    "    z_sun=0*u.pc)"
   ]
  },
  {
   "cell_type": "code",
   "execution_count": null,
   "id": "48dbbb05-ae1d-418a-8fb3-b646d547d324",
   "metadata": {},
   "outputs": [
    {
     "name": "stdout",
     "output_type": "stream",
     "text": [
      "-31.886642727201245 km / s 223.4731485626047 km / s -2.578446652512869 km / s\n"
     ]
    }
   ],
   "source": [
    "gc2 = c1.transform_to(gc_frame)\n",
    "print(gc2.v_x, gc2.v_y, gc2.v_z)\n"
   ]
  },
  {
   "cell_type": "code",
   "execution_count": 137,
   "id": "300503aa-2a66-431b-8393-8c6566f5eff7",
   "metadata": {},
   "outputs": [
    {
     "data": {
      "text/latex": [
       "$3.7525945 \\times 10^{15} \\; \\mathrm{km}$"
      ],
      "text/plain": [
       "<Quantity 3.7525945e+15 km>"
      ]
     },
     "execution_count": 137,
     "metadata": {},
     "output_type": "execute_result"
    }
   ],
   "source": [
    "gc1.z.to(u.km)"
   ]
  },
  {
   "cell_type": "code",
   "execution_count": 126,
   "id": "8aeefc0e-3fb1-482d-9d7c-31980363c909",
   "metadata": {},
   "outputs": [
    {
     "name": "stdout",
     "output_type": "stream",
     "text": [
      "-30.111671881275004 km / s 225.0731485626047 km / s -1.938327970122827 km / s\n"
     ]
    }
   ],
   "source": [
    "gc1 = c1.transform_to(Galactocentric)\n",
    "print(gc1.v_x, gc1.v_y, gc1.v_z)"
   ]
  },
  {
   "cell_type": "code",
   "execution_count": 127,
   "id": "f189e803-1010-4386-9ecf-2035aabc1c7d",
   "metadata": {},
   "outputs": [
    {
     "name": "stdout",
     "output_type": "stream",
     "text": [
      "-8263.651963510032 pc -68.03432179627598 pc 121.61330548195235 pc\n"
     ]
    }
   ],
   "source": [
    "print(gc1.x, gc1.y, gc1.z)"
   ]
  },
  {
   "cell_type": "code",
   "execution_count": 129,
   "id": "bbf13ad3-de97-4ca1-b452-4475601f566e",
   "metadata": {},
   "outputs": [
    {
     "data": {
      "text/latex": [
       "$-61348000 \\; \\mathrm{yr}$"
      ],
      "text/plain": [
       "<Quantity -61347999.91851094 yr>"
      ]
     },
     "execution_count": 129,
     "metadata": {},
     "output_type": "execute_result"
    }
   ],
   "source": [
    "(gc1.z/gc1.v_z).to(u.yr)"
   ]
  },
  {
   "cell_type": "code",
   "execution_count": 191,
   "id": "ad5ac744-acfb-48f4-b21c-8c887ba63621",
   "metadata": {},
   "outputs": [],
   "source": [
    "from astroquery.vizier import Vizier\n",
    "soubiran18_text = 'J/A+A/619/A155/oc'\n",
    "Vizier.ROW_LIMIT = -1\n",
    "soubiran18 = Vizier.get_catalogs(soubiran18_text)[0]"
   ]
  },
  {
   "cell_type": "code",
   "execution_count": 197,
   "id": "72ed0882-650e-41b9-9480-ca4ce86842a3",
   "metadata": {},
   "outputs": [
    {
     "data": {
      "text/html": [
       "<div><i>Table length=5</i>\n",
       "<table id=\"table140145000597920\" class=\"table-striped table-bordered table-condensed\">\n",
       "<thead><tr><th>ID</th><th>ID2</th><th>RA_ICRS</th><th>DE_ICRS</th><th>dmode</th><th>Nmemb</th><th>Nsele</th><th>RV</th><th>e_RV</th><th>s_RV</th><th>X</th><th>e_X</th><th>Y</th><th>e_Y</th><th>Z</th><th>e_Z</th><th>U</th><th>e_U</th><th>V</th><th>e_V</th><th>W</th><th>e_W</th><th>Vr</th><th>e_Vr</th><th>Vphi</th><th>e_Vphi</th><th>Vz</th><th>e_Vz</th><th>SimbadName</th></tr></thead>\n",
       "<thead><tr><th></th><th></th><th>deg</th><th>deg</th><th>pc</th><th></th><th></th><th>km / s</th><th>km / s</th><th>km / s</th><th>pc</th><th>pc</th><th>pc</th><th>pc</th><th>pc</th><th>pc</th><th>km / s</th><th>km / s</th><th>km / s</th><th>km / s</th><th>km / s</th><th>km / s</th><th>km / s</th><th>km / s</th><th>km / s</th><th>km / s</th><th>km / s</th><th>km / s</th><th></th></tr></thead>\n",
       "<thead><tr><th>str20</th><th>str20</th><th>float32</th><th>float32</th><th>float32</th><th>int16</th><th>int16</th><th>float32</th><th>float32</th><th>float32</th><th>float64</th><th>float64</th><th>float64</th><th>float64</th><th>float64</th><th>float64</th><th>float32</th><th>float32</th><th>float32</th><th>float32</th><th>float32</th><th>float32</th><th>float32</th><th>float32</th><th>float32</th><th>float32</th><th>float32</th><th>float32</th><th>str21</th></tr></thead>\n",
       "<tr><td>ASCC_10</td><td>[KPS2012] MWSC 0275</td><td>51.870</td><td>34.981</td><td>672.0</td><td>4</td><td>2</td><td>-15.67</td><td>1.16</td><td>1.63</td><td>-8923.4</td><td>5.1</td><td>263.1</td><td>2.3</td><td>-191.1</td><td>1.8</td><td>16.27</td><td>1.01</td><td>-5.24</td><td>0.46</td><td>-1.67</td><td>0.36</td><td>-20.08</td><td>1.02</td><td>247.70</td><td>0.43</td><td>5.58</td><td>0.36</td><td>[KPS2012] MWSC 0275</td></tr>\n",
       "<tr><td>ASCC_101</td><td>[KPS2012] MWSC 3070</td><td>288.399</td><td>36.369</td><td>397.3</td><td>17</td><td>15</td><td>-20.17</td><td>0.92</td><td>3.56</td><td>-8194.4</td><td>0.5</td><td>360.9</td><td>1.1</td><td>93.9</td><td>0.3</td><td>-10.08</td><td>0.34</td><td>-17.12</td><td>0.84</td><td>-4.60</td><td>0.19</td><td>9.33</td><td>0.31</td><td>234.94</td><td>0.85</td><td>2.65</td><td>0.19</td><td>[KPS2012] MWSC 3070</td></tr>\n",
       "<tr><td>ASCC_105</td><td>[KPS2012] MWSC 3157</td><td>295.548</td><td>27.366</td><td>551.8</td><td>24</td><td>20</td><td>-13.81</td><td>0.50</td><td>2.23</td><td>-8088.1</td><td>0.8</td><td>490.6</td><td>1.6</td><td>33.9</td><td>0.1</td><td>-4.59</td><td>0.23</td><td>-12.93</td><td>0.45</td><td>-5.94</td><td>0.06</td><td>7.99</td><td>0.21</td><td>239.26</td><td>0.46</td><td>1.31</td><td>0.06</td><td>[KPS2012] MWSC 3157</td></tr>\n",
       "<tr><td>ASCC_108</td><td>[KPS2012] MWSC 3201</td><td>298.306</td><td>39.349</td><td>1154.0</td><td>2</td><td>1</td><td>-6.33</td><td>2.10</td><td>0.00</td><td>-8031.0</td><td>1.1</td><td>1105.1</td><td>3.8</td><td>136.1</td><td>0.4</td><td>7.43</td><td>0.56</td><td>-8.37</td><td>2.01</td><td>-2.88</td><td>0.23</td><td>14.89</td><td>0.30</td><td>244.12</td><td>2.07</td><td>4.37</td><td>0.23</td><td>[KPS2012] MWSC 3201</td></tr>\n",
       "<tr><td>ASCC_11</td><td>[KPS2012] MWSC 0284</td><td>53.056</td><td>44.856</td><td>854.5</td><td>3</td><td>3</td><td>-14.43</td><td>0.32</td><td>0.56</td><td>-9074.4</td><td>2.5</td><td>414.8</td><td>1.4</td><td>-123.0</td><td>0.5</td><td>8.48</td><td>0.28</td><td>-16.49</td><td>0.16</td><td>-5.38</td><td>0.08</td><td>-8.79</td><td>0.29</td><td>236.39</td><td>0.15</td><td>1.87</td><td>0.08</td><td>[KPS2012] MWSC 0284</td></tr>\n",
       "</table></div>"
      ],
      "text/plain": [
       "<Table length=5>\n",
       "   ID            ID2         RA_ICRS ...    Vz     e_Vz       SimbadName    \n",
       "                               deg   ...  km / s  km / s                    \n",
       " str20          str20        float32 ... float32 float32        str21       \n",
       "-------- ------------------- ------- ... ------- ------- -------------------\n",
       " ASCC_10 [KPS2012] MWSC 0275  51.870 ...    5.58    0.36 [KPS2012] MWSC 0275\n",
       "ASCC_101 [KPS2012] MWSC 3070 288.399 ...    2.65    0.19 [KPS2012] MWSC 3070\n",
       "ASCC_105 [KPS2012] MWSC 3157 295.548 ...    1.31    0.06 [KPS2012] MWSC 3157\n",
       "ASCC_108 [KPS2012] MWSC 3201 298.306 ...    4.37    0.23 [KPS2012] MWSC 3201\n",
       " ASCC_11 [KPS2012] MWSC 0284  53.056 ...    1.87    0.08 [KPS2012] MWSC 0284"
      ]
     },
     "execution_count": 197,
     "metadata": {},
     "output_type": "execute_result"
    }
   ],
   "source": [
    "soubiran18[0:5]"
   ]
  },
  {
   "cell_type": "code",
   "execution_count": 203,
   "id": "5fbb1e15-eb80-404e-acb7-c0d98da54ca2",
   "metadata": {},
   "outputs": [],
   "source": [
    "#Alternative \n",
    "#soubiran18[soubiran18['SimbadName'] == '[KPS2012] MWSC 2632']"
   ]
  },
  {
   "cell_type": "code",
   "execution_count": 229,
   "id": "0305bc4b-f96e-4bda-ba84-31db3a4b695f",
   "metadata": {},
   "outputs": [
    {
     "data": {
      "text/plain": [
       "array(533)"
      ]
     },
     "execution_count": 229,
     "metadata": {},
     "output_type": "execute_result"
    }
   ],
   "source": [
    "# https://docs.astropy.org/en/stable/coordinates/matchsep.html#matching-catalogs\n",
    "cluster_center = SkyCoord(ra=np.mean(results1['ra'])*u.deg, dec=np.mean(results1['dec'])*u.deg, frame='icrs') # Change to cluster\n",
    "catalog = SkyCoord(ra=soubiran18['RA_ICRS'], dec=soubiran18['DE_ICRS'])\n",
    "\n",
    "idx, d2d, d3d = cluster_center.match_to_catalog_sky(catalog)\n",
    "idx"
   ]
  },
  {
   "cell_type": "code",
   "execution_count": 230,
   "id": "e1f50690-ed70-48dc-8979-02dd266e8992",
   "metadata": {},
   "outputs": [
    {
     "data": {
      "text/html": [
       "<i>Row index=533</i>\n",
       "<table id=\"table140144999739120\">\n",
       "<thead><tr><th>ID</th><th>ID2</th><th>RA_ICRS</th><th>DE_ICRS</th><th>dmode</th><th>Nmemb</th><th>Nsele</th><th>RV</th><th>e_RV</th><th>s_RV</th><th>X</th><th>e_X</th><th>Y</th><th>e_Y</th><th>Z</th><th>e_Z</th><th>U</th><th>e_U</th><th>V</th><th>e_V</th><th>W</th><th>e_W</th><th>Vr</th><th>e_Vr</th><th>Vphi</th><th>e_Vphi</th><th>Vz</th><th>e_Vz</th><th>SimbadName</th></tr></thead>\n",
       "<thead><tr><th></th><th></th><th>deg</th><th>deg</th><th>pc</th><th></th><th></th><th>km / s</th><th>km / s</th><th>km / s</th><th>pc</th><th>pc</th><th>pc</th><th>pc</th><th>pc</th><th>pc</th><th>km / s</th><th>km / s</th><th>km / s</th><th>km / s</th><th>km / s</th><th>km / s</th><th>km / s</th><th>km / s</th><th>km / s</th><th>km / s</th><th>km / s</th><th>km / s</th><th></th></tr></thead>\n",
       "<thead><tr><th>str20</th><th>str20</th><th>float32</th><th>float32</th><th>float32</th><th>int16</th><th>int16</th><th>float32</th><th>float32</th><th>float32</th><th>float64</th><th>float64</th><th>float64</th><th>float64</th><th>float64</th><th>float64</th><th>float32</th><th>float32</th><th>float32</th><th>float32</th><th>float32</th><th>float32</th><th>float32</th><th>float32</th><th>float32</th><th>float32</th><th>float32</th><th>float32</th><th>str21</th></tr></thead>\n",
       "<tr><td>NGC_2632</td><td>[KPS2012] MWSC 1527</td><td>130.054</td><td>19.621</td><td>185.5</td><td>191</td><td>186</td><td>34.72</td><td>0.08</td><td>1.10</td><td>-8480.8</td><td>0.1</td><td>-68.5</td><td>0.1</td><td>113.5</td><td>0.1</td><td>-42.76</td><td>0.07</td><td>-20.41</td><td>0.04</td><td>-9.83</td><td>0.06</td><td>29.79</td><td>0.07</td><td>232.08</td><td>0.04</td><td>-2.58</td><td>0.06</td><td>[KPS2012] MWSC 1527</td></tr>\n",
       "</table>"
      ],
      "text/plain": [
       "<Row index=533>\n",
       "   ID            ID2         RA_ICRS DE_ICRS  dmode  Nmemb Nsele    RV     e_RV    s_RV     X       e_X       Y       e_Y       Z       e_Z       U      e_U      V      e_V      W      e_W      Vr     e_Vr    Vphi   e_Vphi    Vz     e_Vz       SimbadName    \n",
       "                               deg     deg      pc                km / s  km / s  km / s    pc       pc       pc       pc       pc       pc     km / s  km / s  km / s  km / s  km / s  km / s  km / s  km / s  km / s  km / s  km / s  km / s                    \n",
       " str20          str20        float32 float32 float32 int16 int16 float32 float32 float32 float64  float64  float64  float64  float64  float64  float32 float32 float32 float32 float32 float32 float32 float32 float32 float32 float32 float32        str21       \n",
       "-------- ------------------- ------- ------- ------- ----- ----- ------- ------- ------- -------- -------- -------- -------- -------- -------- ------- ------- ------- ------- ------- ------- ------- ------- ------- ------- ------- ------- -------------------\n",
       "NGC_2632 [KPS2012] MWSC 1527 130.054  19.621   185.5   191   186   34.72    0.08    1.10  -8480.8      0.1    -68.5      0.1    113.5      0.1  -42.76    0.07  -20.41    0.04   -9.83    0.06   29.79    0.07  232.08    0.04   -2.58    0.06 [KPS2012] MWSC 1527"
      ]
     },
     "execution_count": 230,
     "metadata": {},
     "output_type": "execute_result"
    }
   ],
   "source": [
    "soubiran18[idx]"
   ]
  },
  {
   "cell_type": "markdown",
   "id": "32ba3a7d-e5ff-497e-bde2-186a14855f1e",
   "metadata": {},
   "source": [
    "# Work with galacocentric coordinates"
   ]
  },
  {
   "cell_type": "code",
   "execution_count": 168,
   "id": "05aff335-210a-420b-85a1-91ad0538046a",
   "metadata": {},
   "outputs": [
    {
     "data": {
      "text/html": [
       "<div><i>Table length=189</i>\n",
       "<table id=\"table140145000026640\" class=\"table-striped table-bordered table-condensed\">\n",
       "<thead><tr><th>dist</th><th>solution_id</th><th>DESIGNATION</th><th>source_id</th><th>random_index</th><th>ref_epoch</th><th>ra</th><th>ra_error</th><th>dec</th><th>dec_error</th><th>parallax</th><th>parallax_error</th><th>parallax_over_error</th><th>pmra</th><th>pmra_error</th><th>pmdec</th><th>pmdec_error</th><th>ra_dec_corr</th><th>ra_parallax_corr</th><th>ra_pmra_corr</th><th>ra_pmdec_corr</th><th>dec_parallax_corr</th><th>dec_pmra_corr</th><th>dec_pmdec_corr</th><th>parallax_pmra_corr</th><th>parallax_pmdec_corr</th><th>pmra_pmdec_corr</th><th>astrometric_n_obs_al</th><th>astrometric_n_obs_ac</th><th>astrometric_n_good_obs_al</th><th>astrometric_n_bad_obs_al</th><th>astrometric_gof_al</th><th>astrometric_chi2_al</th><th>astrometric_excess_noise</th><th>astrometric_excess_noise_sig</th><th>astrometric_params_solved</th><th>astrometric_primary_flag</th><th>astrometric_weight_al</th><th>astrometric_pseudo_colour</th><th>astrometric_pseudo_colour_error</th><th>mean_varpi_factor_al</th><th>astrometric_matched_observations</th><th>visibility_periods_used</th><th>astrometric_sigma5d_max</th><th>frame_rotator_object_type</th><th>matched_observations</th><th>duplicated_source</th><th>phot_g_n_obs</th><th>phot_g_mean_flux</th><th>phot_g_mean_flux_error</th><th>phot_g_mean_flux_over_error</th><th>phot_g_mean_mag</th><th>phot_bp_n_obs</th><th>phot_bp_mean_flux</th><th>phot_bp_mean_flux_error</th><th>phot_bp_mean_flux_over_error</th><th>phot_bp_mean_mag</th><th>phot_rp_n_obs</th><th>phot_rp_mean_flux</th><th>phot_rp_mean_flux_error</th><th>phot_rp_mean_flux_over_error</th><th>phot_rp_mean_mag</th><th>phot_bp_rp_excess_factor</th><th>phot_proc_mode</th><th>bp_rp</th><th>bp_g</th><th>g_rp</th><th>radial_velocity</th><th>radial_velocity_error</th><th>rv_nb_transits</th><th>rv_template_teff</th><th>rv_template_logg</th><th>rv_template_fe_h</th><th>phot_variable_flag</th><th>l</th><th>b</th><th>ecl_lon</th><th>ecl_lat</th><th>priam_flags</th><th>teff_val</th><th>teff_percentile_lower</th><th>teff_percentile_upper</th><th>a_g_val</th><th>a_g_percentile_lower</th><th>a_g_percentile_upper</th><th>e_bp_min_rp_val</th><th>e_bp_min_rp_percentile_lower</th><th>e_bp_min_rp_percentile_upper</th><th>flame_flags</th><th>radius_val</th><th>radius_percentile_lower</th><th>radius_percentile_upper</th><th>lum_val</th><th>lum_percentile_lower</th><th>lum_percentile_upper</th><th>datalink_url</th></tr></thead>\n",
       "<thead><tr><th></th><th></th><th></th><th></th><th></th><th>yr</th><th>deg</th><th>mas</th><th>deg</th><th>mas</th><th>mas</th><th>mas</th><th></th><th>mas / yr</th><th>mas / yr</th><th>mas / yr</th><th>mas / yr</th><th></th><th></th><th></th><th></th><th></th><th></th><th></th><th></th><th></th><th></th><th></th><th></th><th></th><th></th><th></th><th></th><th>mas</th><th></th><th></th><th></th><th>1 / mas2</th><th>1 / um</th><th>1 / um</th><th></th><th></th><th></th><th>mas</th><th></th><th></th><th></th><th></th><th>electron / s</th><th>electron / s</th><th></th><th>mag</th><th></th><th>electron / s</th><th>electron / s</th><th></th><th>mag</th><th></th><th>electron / s</th><th>electron / s</th><th></th><th>mag</th><th></th><th></th><th>mag</th><th>mag</th><th>mag</th><th>km / s</th><th>km / s</th><th></th><th>K</th><th>log(cm.s**-2)</th><th>dex</th><th></th><th>deg</th><th>deg</th><th>deg</th><th>deg</th><th></th><th>K</th><th>K</th><th>K</th><th>mag</th><th>mag</th><th>mag</th><th>mag</th><th>mag</th><th>mag</th><th></th><th>solRad</th><th>solRad</th><th>solRad</th><th>solLum</th><th>solLum</th><th>solLum</th><th></th></tr></thead>\n",
       "<thead><tr><th>float64</th><th>int64</th><th>object</th><th>int64</th><th>int64</th><th>float64</th><th>float64</th><th>float64</th><th>float64</th><th>float64</th><th>float64</th><th>float64</th><th>float32</th><th>float64</th><th>float64</th><th>float64</th><th>float64</th><th>float32</th><th>float32</th><th>float32</th><th>float32</th><th>float32</th><th>float32</th><th>float32</th><th>float32</th><th>float32</th><th>float32</th><th>int32</th><th>int32</th><th>int32</th><th>int32</th><th>float32</th><th>float32</th><th>float64</th><th>float64</th><th>int16</th><th>bool</th><th>float32</th><th>float64</th><th>float64</th><th>float32</th><th>int16</th><th>int16</th><th>float32</th><th>int32</th><th>int16</th><th>bool</th><th>int32</th><th>float64</th><th>float64</th><th>float32</th><th>float32</th><th>int32</th><th>float64</th><th>float64</th><th>float32</th><th>float32</th><th>int32</th><th>float64</th><th>float64</th><th>float32</th><th>float32</th><th>float32</th><th>int16</th><th>float32</th><th>float32</th><th>float32</th><th>float64</th><th>float64</th><th>int32</th><th>float32</th><th>float32</th><th>float32</th><th>object</th><th>float64</th><th>float64</th><th>float64</th><th>float64</th><th>int64</th><th>float32</th><th>float32</th><th>float32</th><th>float32</th><th>float32</th><th>float32</th><th>float32</th><th>float32</th><th>float32</th><th>int64</th><th>float32</th><th>float32</th><th>float32</th><th>float32</th><th>float32</th><th>float32</th><th>object</th></tr></thead>\n",
       "<tr><td>0.02445630792133449</td><td>1635721458409799680</td><td>Gaia DR2 661324431287688448</td><td>661324431287688448</td><td>788166040</td><td>2015.5</td><td>130.02657947132394</td><td>0.043558763357000686</td><td>20.00773569688166</td><td>0.03099984816650081</td><td>5.316194371046439</td><td>0.05892472792863759</td><td>90.22009</td><td>-35.60957552754509</td><td>0.08754513933765422</td><td>-11.963702152166118</td><td>0.055136721474611516</td><td>-0.41975328</td><td>-0.1358385</td><td>-0.22184417</td><td>0.4538053</td><td>-0.111287355</td><td>0.215826</td><td>-0.48650834</td><td>0.62542593</td><td>-0.25465265</td><td>-0.3871421</td><td>220</td><td>220</td><td>212</td><td>8</td><td>7.091365</td><td>386.3978</td><td>0.0</td><td>0.0</td><td>31</td><td>True</td><td>316.96573</td><td>1.5727062771431164</td><td>0.009477604151890891</td><td>-0.008497519</td><td>25</td><td>12</td><td>0.056965407</td><td>0</td><td>37</td><td>False</td><td>291</td><td>66232823.59961401</td><td>20482.763922214683</td><td>3233.5881</td><td>6.1356826</td><td>29</td><td>30612233.464896858</td><td>50147.45191680208</td><td>610.44446</td><td>6.6366506</td><td>29</td><td>49206886.48189549</td><td>95742.81356889517</td><td>513.9486</td><td>5.531855</td><td>1.2051294</td><td>0</td><td>1.1047955</td><td>0.500968</td><td>0.6038275</td><td>34.1410282196341</td><td>0.14830496348234412</td><td>13</td><td>5000.0</td><td>2.5</td><td>0.25</td><td>NOT_AVAILABLE</td><td>205.51166437920656</td><td>32.53709222672014</td><td>127.1971240804592</td><td>1.5873587768058746</td><td>100001</td><td>5047.947</td><td>4981.25</td><td>5098.27</td><td>--</td><td>--</td><td>--</td><td>--</td><td>--</td><td>--</td><td>200111</td><td>13.151215</td><td>12.892875</td><td>13.505751</td><td>101.17787</td><td>99.69645</td><td>102.659294</td><td>https://gea.esac.esa.int/data-server/datalink/links?ID=Gaia+DR2+661324431287688448</td></tr>\n",
       "<tr><td>0.02447974121342088</td><td>1635721458409799680</td><td>Gaia DR2 661322060465742336</td><td>661322060465742336</td><td>1182878022</td><td>2015.5</td><td>130.04755822939757</td><td>0.05087222973848031</td><td>19.97107625044161</td><td>0.036801006459923714</td><td>5.206498219518862</td><td>0.07128844383925169</td><td>73.034256</td><td>-35.31181931034908</td><td>0.10905925697574156</td><td>-13.595467525919654</td><td>0.06887100894638347</td><td>-0.20699872</td><td>0.09335284</td><td>0.00015156937</td><td>0.066691816</td><td>-0.27197075</td><td>-0.107541405</td><td>-0.20886442</td><td>0.61031735</td><td>-0.11527132</td><td>-0.22315204</td><td>215</td><td>215</td><td>212</td><td>3</td><td>23.445768</td><td>1142.2775</td><td>0.14708764423007065</td><td>8.302862008696037</td><td>31</td><td>True</td><td>33.309208</td><td>1.7670762286186992</td><td>0.012142569950974577</td><td>0.053338535</td><td>24</td><td>12</td><td>0.065090746</td><td>0</td><td>30</td><td>False</td><td>268</td><td>43915052.44293111</td><td>13696.966800274238</td><td>3206.1882</td><td>6.5818324</td><td>29</td><td>31390760.809441037</td><td>55284.283373517115</td><td>567.8062</td><td>6.6093836</td><td>25</td><td>18691695.285531655</td><td>41181.01899762565</td><td>453.89102</td><td>6.5827985</td><td>1.1404394</td><td>0</td><td>0.026585102</td><td>0.027551174</td><td>-0.0009660721</td><td>--</td><td>--</td><td>0</td><td>--</td><td>--</td><td>--</td><td>NOT_AVAILABLE</td><td>205.5605373902636</td><td>32.543016250409416</td><td>127.22557691601486</td><td>1.556967359532462</td><td>100001</td><td>9450.0</td><td>9064.0</td><td>9650.0</td><td>0.4295</td><td>0.2473</td><td>0.5498</td><td>0.229</td><td>0.1372</td><td>0.288</td><td>--</td><td>--</td><td>--</td><td>--</td><td>--</td><td>--</td><td>--</td><td>https://gea.esac.esa.int/data-server/datalink/links?ID=Gaia+DR2+661322060465742336</td></tr>\n",
       "<tr><td>0.038053441367871484</td><td>1635721458409799680</td><td>Gaia DR2 661323641013704832</td><td>661323641013704832</td><td>392861152</td><td>2015.5</td><td>130.06379441366838</td><td>0.0392950930495796</td><td>19.994247345945585</td><td>0.02712233617918436</td><td>5.351792662498999</td><td>0.05045323571824499</td><td>106.07432</td><td>-35.48936113269752</td><td>0.08135879348022924</td><td>-12.4675451197553</td><td>0.05410001269235788</td><td>-0.1924319</td><td>-0.08137269</td><td>-0.18620414</td><td>0.17782232</td><td>-0.060910713</td><td>0.0931246</td><td>-0.36489075</td><td>0.5747074</td><td>-0.12614317</td><td>-0.22905853</td><td>223</td><td>223</td><td>216</td><td>7</td><td>11.073765</td><td>528.79877</td><td>0.0</td><td>0.0</td><td>31</td><td>True</td><td>224.36055</td><td>1.6811750080163603</td><td>0.009247115181078016</td><td>0.059213687</td><td>25</td><td>12</td><td>0.052433137</td><td>0</td><td>33</td><td>True</td><td>269</td><td>5976309.33886138</td><td>1844.22453945409</td><td>3240.554</td><td>8.747283</td><td>31</td><td>3748490.5905184</td><td>3080.3040443171803</td><td>1216.9222</td><td>8.916747</td><td>32</td><td>3227050.929935356</td><td>3239.7074574317794</td><td>996.0933</td><td>8.489905</td><td>1.1671989</td><td>0</td><td>0.42684174</td><td>0.16946411</td><td>0.25737762</td><td>37.40602642114743</td><td>1.1297359456078717</td><td>7</td><td>6500.0</td><td>3.5</td><td>0.0</td><td>NOT_AVAILABLE</td><td>205.5409381016999</td><td>32.56530571486562</td><td>127.23439652849127</td><td>1.5832732617978895</td><td>100001</td><td>6618.0</td><td>5636.0</td><td>7283.0</td><td>0.696</td><td>0.2955</td><td>0.987</td><td>0.3425</td><td>0.173</td><td>0.491</td><td>200111</td><td>2.16094</td><td>1.7843317</td><td>2.9795744</td><td>8.070252</td><td>7.9659157</td><td>8.174589</td><td>https://gea.esac.esa.int/data-server/datalink/links?ID=Gaia+DR2+661323641013704832</td></tr>\n",
       "<tr><td>0.05523268100681419</td><td>1635721458409799680</td><td>Gaia DR2 664327128823010688</td><td>664327128823010688</td><td>742729289</td><td>2015.5</td><td>129.99597894288806</td><td>0.07839214145342041</td><td>20.031352488115036</td><td>0.05374222759140045</td><td>5.540973258436969</td><td>0.10423663679503184</td><td>53.157635</td><td>-35.559767390356015</td><td>0.168935334952042</td><td>-16.35491152624705</td><td>0.10380913564391288</td><td>-0.14509107</td><td>-0.07653908</td><td>-0.0044498704</td><td>0.1518411</td><td>-0.18120104</td><td>-0.024760881</td><td>-0.1945248</td><td>0.55662215</td><td>-0.21203043</td><td>-0.1353658</td><td>183</td><td>183</td><td>183</td><td>0</td><td>29.172596</td><td>1487.9781</td><td>0.2686897090162089</td><td>25.778384904815585</td><td>31</td><td>True</td><td>11.813656</td><td>1.6291121842855474</td><td>0.018945916550627172</td><td>0.062665045</td><td>21</td><td>11</td><td>0.093071796</td><td>0</td><td>28</td><td>False</td><td>220</td><td>4184528.6075670854</td><td>1282.2622028220421</td><td>3263.3955</td><td>9.13425</td><td>26</td><td>2514717.082026055</td><td>4421.525759218131</td><td>568.7442</td><td>9.350165</td><td>25</td><td>2392124.3878111793</td><td>5448.078519636606</td><td>439.07672</td><td>8.8149605</td><td>1.172615</td><td>0</td><td>0.5352049</td><td>0.21591568</td><td>0.3192892</td><td>39.616677342079434</td><td>2.312832753079115</td><td>7</td><td>6000.0</td><td>3.5</td><td>0.0</td><td>NOT_AVAILABLE</td><td>205.47365069392654</td><td>32.51819343455274</td><td>127.16327411498746</td><td>1.6028336059671813</td><td>100001</td><td>6553.475</td><td>6436.4</td><td>6721.3335</td><td>0.7867</td><td>0.4772</td><td>1.0591</td><td>0.387</td><td>0.2669</td><td>0.5206</td><td>200111</td><td>1.7810589</td><td>1.6932095</td><td>1.8464415</td><td>5.2715445</td><td>5.1528287</td><td>5.39026</td><td>https://gea.esac.esa.int/data-server/datalink/links?ID=Gaia+DR2+664327128823010688</td></tr>\n",
       "<tr><td>0.06253545405280647</td><td>1635721458409799680</td><td>Gaia DR2 664325616994522880</td><td>664325616994522880</td><td>580068564</td><td>2015.5</td><td>129.96965440857483</td><td>0.07852594302713874</td><td>20.018041955003966</td><td>0.05278456730511137</td><td>5.463804765742646</td><td>0.10983451616452823</td><td>49.74579</td><td>-36.137058457903976</td><td>0.16427513662378065</td><td>-13.536197419312114</td><td>0.10354020409130514</td><td>-0.23234566</td><td>-0.20175225</td><td>-0.06846197</td><td>0.262398</td><td>-0.023049532</td><td>0.09051346</td><td>-0.32855165</td><td>0.6271385</td><td>-0.32423162</td><td>-0.26691437</td><td>170</td><td>0</td><td>170</td><td>0</td><td>3.4813156</td><td>235.81815</td><td>0.2583782242397094</td><td>2.8318061801043597</td><td>31</td><td>False</td><td>3.9920828</td><td>1.314326693334132</td><td>0.018040730823613103</td><td>0.028252976</td><td>20</td><td>11</td><td>0.16103698</td><td>0</td><td>26</td><td>False</td><td>223</td><td>5143.1125404676395</td><td>5.620883839983672</td><td>915.0007</td><td>16.410301</td><td>22</td><td>1024.5936433308193</td><td>9.688555106897166</td><td>105.75299</td><td>17.825008</td><td>23</td><td>6685.317864263132</td><td>16.05463190976545</td><td>416.41052</td><td>15.199115</td><td>1.499075</td><td>0</td><td>2.6258936</td><td>1.4147072</td><td>1.2111864</td><td>--</td><td>--</td><td>0</td><td>--</td><td>--</td><td>--</td><td>NOT_AVAILABLE</td><td>205.47840826531467</td><td>32.49039420218061</td><td>127.14275869607563</td><td>1.5836414500231597</td><td>100001</td><td>3861.9524</td><td>3300.0</td><td>4609.44</td><td>0.3557</td><td>0.08</td><td>0.5196</td><td>0.2237</td><td>0.0343</td><td>0.3008</td><td>--</td><td>--</td><td>--</td><td>--</td><td>--</td><td>--</td><td>--</td><td>https://gea.esac.esa.int/data-server/datalink/links?ID=Gaia+DR2+664325616994522880</td></tr>\n",
       "<tr><td>0.06749484036413232</td><td>1635721458409799680</td><td>Gaia DR2 661321304551503616</td><td>661321304551503616</td><td>842144507</td><td>2015.5</td><td>130.01509413700168</td><td>0.09754175419106156</td><td>19.916475433266566</td><td>0.07007052242660768</td><td>5.164064303751698</td><td>0.15502189325679486</td><td>33.31184</td><td>-37.21497741860088</td><td>0.21864587105166416</td><td>-14.396874933935372</td><td>0.1372521163555848</td><td>-0.45593494</td><td>-0.44609785</td><td>-0.4522203</td><td>0.41455603</td><td>0.2711528</td><td>0.3184392</td><td>-0.542804</td><td>0.7846131</td><td>-0.5056182</td><td>-0.50892687</td><td>163</td><td>0</td><td>161</td><td>2</td><td>6.736218</td><td>306.75256</td><td>0.3796138459662598</td><td>6.829607986203996</td><td>31</td><td>False</td><td>3.2469065</td><td>1.2238779839140346</td><td>0.020549183930894038</td><td>-0.040576812</td><td>19</td><td>10</td><td>0.23442383</td><td>0</td><td>24</td><td>False</td><td>205</td><td>5633.254126094977</td><td>5.66037294791806</td><td>995.209</td><td>16.311468</td><td>21</td><td>961.4299427715906</td><td>12.775324933562162</td><td>75.25679</td><td>17.894094</td><td>21</td><td>7715.430010287027</td><td>29.71789311593137</td><td>259.62238</td><td>15.04352</td><td>1.5402926</td><td>0</td><td>2.8505745</td><td>1.5826263</td><td>1.2679482</td><td>--</td><td>--</td><td>0</td><td>--</td><td>--</td><td>--</td><td>NOT_AVAILABLE</td><td>205.60889308434494</td><td>32.49558182573391</td><td>127.21004545949397</td><td>1.4963745329872942</td><td>100001</td><td>3904.36</td><td>3285.0</td><td>4607.447</td><td>--</td><td>--</td><td>--</td><td>--</td><td>--</td><td>--</td><td>--</td><td>--</td><td>--</td><td>--</td><td>--</td><td>--</td><td>--</td><td>https://gea.esac.esa.int/data-server/datalink/links?ID=Gaia+DR2+661321304551503616</td></tr>\n",
       "<tr><td>0.07810573605043844</td><td>1635721458409799680</td><td>Gaia DR2 661318624491908480</td><td>661318624491908480</td><td>1040245384</td><td>2015.5</td><td>130.06529528119498</td><td>0.03986466197590929</td><td>19.915014401443578</td><td>0.028515338666424576</td><td>5.432871099250876</td><td>0.05801649685888545</td><td>93.643555</td><td>-31.83144823573413</td><td>0.08585225180707341</td><td>-18.287962999236825</td><td>0.05158885101251711</td><td>-0.20404634</td><td>-0.12592283</td><td>-0.14882857</td><td>0.18437748</td><td>-0.1561106</td><td>0.0029772683</td><td>-0.25112492</td><td>0.6578415</td><td>-0.24778838</td><td>-0.29491255</td><td>211</td><td>211</td><td>205</td><td>6</td><td>14.41206</td><td>647.4269</td><td>0.0</td><td>0.7088273210088785</td><td>31</td><td>True</td><td>282.8977</td><td>1.5498759272224627</td><td>0.009612187882590516</td><td>0.016914306</td><td>24</td><td>12</td><td>0.054725807</td><td>0</td><td>29</td><td>False</td><td>254</td><td>218366.95462021377</td><td>121.17396930499753</td><td>1802.0946</td><td>12.340399</td><td>28</td><td>92764.17642182128</td><td>243.71954687242211</td><td>380.61853</td><td>12.932938</td><td>27</td><td>180714.56001580914</td><td>262.5816819751051</td><td>688.2223</td><td>11.619437</td><td>1.2523816</td><td>0</td><td>1.3135004</td><td>0.59253883</td><td>0.7209616</td><td>--</td><td>--</td><td>0</td><td>--</td><td>--</td><td>--</td><td>NOT_AVAILABLE</td><td>205.62978547765925</td><td>32.53939398505723</td><td>127.25606144754774</td><td>1.5070445115186382</td><td>100001</td><td>4764.105</td><td>3945.0</td><td>5011.3335</td><td>0.724</td><td>0.648</td><td>0.8601</td><td>0.3545</td><td>0.3094</td><td>0.4527</td><td>200111</td><td>0.8589953</td><td>0.7763308</td><td>1.2527356</td><td>0.34245348</td><td>0.3376029</td><td>0.34730405</td><td>https://gea.esac.esa.int/data-server/datalink/links?ID=Gaia+DR2+661318624491908480</td></tr>\n",
       "<tr><td>0.07939761348705524</td><td>1635721458409799680</td><td>Gaia DR2 661325187202016512</td><td>661325187202016512</td><td>840705301</td><td>2015.5</td><td>130.05441151317862</td><td>0.07571560888931145</td><td>20.057759572051047</td><td>0.04627610042444984</td><td>5.186720288140602</td><td>0.10043756832024298</td><td>51.641235</td><td>-36.712739636396165</td><td>0.15667097965440552</td><td>-13.08454143077346</td><td>0.09496901870515001</td><td>-0.25062826</td><td>-0.2623647</td><td>-0.08256737</td><td>0.3252145</td><td>0.113381505</td><td>0.2249141</td><td>-0.32325402</td><td>0.6111229</td><td>-0.30596605</td><td>-0.2760855</td><td>204</td><td>0</td><td>203</td><td>1</td><td>5.6888695</td><td>333.2091</td><td>0.3344322557859995</td><td>6.706704644784148</td><td>31</td><td>True</td><td>4.11772</td><td>1.28306354987537</td><td>0.015675119976945807</td><td>0.054380026</td><td>23</td><td>12</td><td>0.15344843</td><td>0</td><td>29</td><td>False</td><td>256</td><td>6846.956948032715</td><td>7.144270129936173</td><td>958.3844</td><td>16.09962</td><td>28</td><td>1262.4371507756557</td><td>14.577376661239294</td><td>86.60249</td><td>17.598364</td><td>28</td><td>9141.997375571224</td><td>25.84886171512805</td><td>353.67117</td><td>14.859317</td><td>1.5195706</td><td>0</td><td>2.739047</td><td>1.498743</td><td>1.240304</td><td>--</td><td>--</td><td>0</td><td>--</td><td>--</td><td>--</td><td>NOT_AVAILABLE</td><td>205.46655693734368</td><td>32.57881381609239</td><td>127.20959952114315</td><td>1.6424096548051659</td><td>100001</td><td>3904.6667</td><td>3414.9133</td><td>4675.263</td><td>1.612</td><td>1.2939</td><td>2.4283</td><td>0.9032</td><td>0.716</td><td>1.2231</td><td>--</td><td>--</td><td>--</td><td>--</td><td>--</td><td>--</td><td>--</td><td>https://gea.esac.esa.int/data-server/datalink/links?ID=Gaia+DR2+661325187202016512</td></tr>\n",
       "<tr><td>0.08284866807063142</td><td>1635721458409799680</td><td>Gaia DR2 664325543977630464</td><td>664325543977630464</td><td>606910678</td><td>2015.5</td><td>129.93972672697976</td><td>0.1532665761218812</td><td>20.004338564161014</td><td>0.11132504543051618</td><td>5.392286284907245</td><td>0.21792821776164123</td><td>24.743406</td><td>-36.641449303302835</td><td>0.3234585060338832</td><td>-13.166884555866643</td><td>0.20787486520620416</td><td>-0.26182345</td><td>-0.19632341</td><td>-0.20688243</td><td>0.26020253</td><td>-0.04480058</td><td>0.09032363</td><td>-0.43423465</td><td>0.6582831</td><td>-0.29308477</td><td>-0.30022115</td><td>180</td><td>0</td><td>178</td><td>2</td><td>0.6209805</td><td>184.11409</td><td>0.0</td><td>0.0</td><td>31</td><td>False</td><td>0.90379155</td><td>1.808514155068534</td><td>0.03519119135104711</td><td>-0.009158812</td><td>21</td><td>11</td><td>0.31692147</td><td>0</td><td>26</td><td>False</td><td>221</td><td>1190.1528493589956</td><td>2.155790270983101</td><td>552.07263</td><td>17.99936</td><td>23</td><td>969.8438316996585</td><td>17.55985269133528</td><td>55.23075</td><td>17.884634</td><td>24</td><td>495.1124918205705</td><td>12.19737513711816</td><td>40.591724</td><td>18.02516</td><td>1.2308977</td><td>0</td><td>-0.14052582</td><td>-0.11472511</td><td>-0.025800705</td><td>--</td><td>--</td><td>0</td><td>--</td><td>--</td><td>--</td><td>NOT_AVAILABLE</td><td>205.48221561739533</td><td>32.45927753974989</td><td>127.11906439063048</td><td>1.5632070009390293</td><td>--</td><td>--</td><td>--</td><td>--</td><td>--</td><td>--</td><td>--</td><td>--</td><td>--</td><td>--</td><td>--</td><td>--</td><td>--</td><td>--</td><td>--</td><td>--</td><td>--</td><td>https://gea.esac.esa.int/data-server/datalink/links?ID=Gaia+DR2+664325543977630464</td></tr>\n",
       "<tr><td>...</td><td>...</td><td>...</td><td>...</td><td>...</td><td>...</td><td>...</td><td>...</td><td>...</td><td>...</td><td>...</td><td>...</td><td>...</td><td>...</td><td>...</td><td>...</td><td>...</td><td>...</td><td>...</td><td>...</td><td>...</td><td>...</td><td>...</td><td>...</td><td>...</td><td>...</td><td>...</td><td>...</td><td>...</td><td>...</td><td>...</td><td>...</td><td>...</td><td>...</td><td>...</td><td>...</td><td>...</td><td>...</td><td>...</td><td>...</td><td>...</td><td>...</td><td>...</td><td>...</td><td>...</td><td>...</td><td>...</td><td>...</td><td>...</td><td>...</td><td>...</td><td>...</td><td>...</td><td>...</td><td>...</td><td>...</td><td>...</td><td>...</td><td>...</td><td>...</td><td>...</td><td>...</td><td>...</td><td>...</td><td>...</td><td>...</td><td>...</td><td>...</td><td>...</td><td>...</td><td>...</td><td>...</td><td>...</td><td>...</td><td>...</td><td>...</td><td>...</td><td>...</td><td>...</td><td>...</td><td>...</td><td>...</td><td>...</td><td>...</td><td>...</td><td>...</td><td>...</td><td>...</td><td>...</td><td>...</td><td>...</td><td>...</td><td>...</td><td>...</td><td>...</td><td>...</td></tr>\n",
       "<tr><td>0.5735679669386582</td><td>1635721458409799680</td><td>Gaia DR2 661281756492696448</td><td>661281756492696448</td><td>1046233829</td><td>2015.5</td><td>129.6954498859958</td><td>0.0501691042276933</td><td>19.50086583935849</td><td>0.0332537787442592</td><td>5.216658650176257</td><td>0.06918125662906426</td><td>75.40566</td><td>-34.214493195258626</td><td>0.10614944103182676</td><td>-12.633509391910042</td><td>0.06195086265361239</td><td>-0.43110353</td><td>-0.41300648</td><td>-0.44167325</td><td>0.30399385</td><td>0.27956015</td><td>0.2761241</td><td>-0.45932266</td><td>0.65654415</td><td>-0.43952402</td><td>-0.44633678</td><td>187</td><td>187</td><td>182</td><td>5</td><td>11.097583</td><td>477.3728</td><td>0.0</td><td>0.0</td><td>31</td><td>True</td><td>255.57364</td><td>1.690382392166938</td><td>0.010600427211683531</td><td>-0.09563155</td><td>21</td><td>11</td><td>0.06846464</td><td>0</td><td>29</td><td>False</td><td>229</td><td>5119030.512034519</td><td>1321.0905940528237</td><td>3874.852</td><td>8.915397</td><td>28</td><td>3184884.6460832395</td><td>3817.3459585736587</td><td>834.3191</td><td>9.093654</td><td>26</td><td>2790553.6034511896</td><td>2677.7129929129324</td><td>1042.1406</td><td>8.647694</td><td>1.1672988</td><td>0</td><td>0.44596004</td><td>0.17825699</td><td>0.26770306</td><td>36.70586274008021</td><td>1.7285764546176936</td><td>3</td><td>6500.0</td><td>3.5</td><td>0.0</td><td>NOT_AVAILABLE</td><td>205.94665008194556</td><td>32.069264829501904</td><td>127.02499910359337</td><td>1.017774771578294</td><td>100001</td><td>7135.967</td><td>7025.0</td><td>7387.11</td><td>0.854</td><td>0.6019</td><td>0.9951</td><td>0.4185</td><td>0.2803</td><td>0.484</td><td>200111</td><td>1.7705829</td><td>1.6522387</td><td>1.8269609</td><td>7.3238344</td><td>7.199812</td><td>7.447857</td><td>https://gea.esac.esa.int/data-server/datalink/links?ID=Gaia+DR2+661281756492696448</td></tr>\n",
       "<tr><td>0.5853165408269203</td><td>1635721458409799680</td><td>Gaia DR2 661246675199973504</td><td>661246675199973504</td><td>165177285</td><td>2015.5</td><td>130.4056985661868</td><td>0.021947491695313053</td><td>19.520483545325238</td><td>0.013932852662553749</td><td>5.410946201218841</td><td>0.0253294603137214</td><td>213.62263</td><td>-36.72722595750087</td><td>0.04393853659545776</td><td>-12.225647109556002</td><td>0.02803749141782539</td><td>-0.34097436</td><td>-0.0044606044</td><td>-0.28013846</td><td>0.30884978</td><td>0.11400086</td><td>0.31059557</td><td>-0.70642865</td><td>0.4874835</td><td>-0.05729398</td><td>-0.3118995</td><td>321</td><td>0</td><td>321</td><td>0</td><td>-5.244332</td><td>201.15117</td><td>0.0</td><td>0.0</td><td>31</td><td>False</td><td>129.52733</td><td>1.4884420221421695</td><td>0.003401518611516376</td><td>0.07893137</td><td>36</td><td>13</td><td>0.053012166</td><td>0</td><td>41</td><td>True</td><td>343</td><td>102868.22000069551</td><td>23.81279033108749</td><td>4319.8726</td><td>13.157662</td><td>38</td><td>40953.4797321947</td><td>50.5731778291516</td><td>809.78656</td><td>13.820662</td><td>37</td><td>89109.8270888458</td><td>50.892495509512564</td><td>1750.9424</td><td>12.387106</td><td>1.2643682</td><td>0</td><td>1.4335556</td><td>0.66299915</td><td>0.77055645</td><td>32.49467122878333</td><td>1.567126294899187</td><td>15</td><td>4000.0</td><td>3.0</td><td>0.0</td><td>NOT_AVAILABLE</td><td>206.20085921281932</td><td>32.703683637719934</td><td>127.66725451595488</td><td>1.2081231576438154</td><td>100001</td><td>4626.5</td><td>4442.355</td><td>4843.0</td><td>0.367</td><td>0.2014</td><td>0.627</td><td>0.1625</td><td>0.0879</td><td>0.3101</td><td>200111</td><td>0.6416175</td><td>0.58553433</td><td>0.6959128</td><td>0.16992502</td><td>0.16790827</td><td>0.17194177</td><td>https://gea.esac.esa.int/data-server/datalink/links?ID=Gaia+DR2+661246675199973504</td></tr>\n",
       "<tr><td>0.6191826164435329</td><td>1635721458409799680</td><td>Gaia DR2 664399078114921600</td><td>664399078114921600</td><td>1315024976</td><td>2015.5</td><td>129.5889795611787</td><td>0.036579096253548576</td><td>20.448051399529515</td><td>0.0229249535425201</td><td>5.303606948501503</td><td>0.046580771232117825</td><td>113.85829</td><td>-34.38188324789799</td><td>0.0745192157928143</td><td>-13.941862707738707</td><td>0.044252192725137</td><td>-0.369126</td><td>-0.33673924</td><td>-0.47481662</td><td>0.3865357</td><td>0.11412207</td><td>0.29298025</td><td>-0.5344805</td><td>0.66605425</td><td>-0.3194286</td><td>-0.43575656</td><td>206</td><td>0</td><td>206</td><td>0</td><td>1.2042797</td><td>225.40514</td><td>0.0512822321005928</td><td>0.43598396672546474</td><td>31</td><td>True</td><td>31.857035</td><td>1.3716967788329892</td><td>0.007643779114035001</td><td>0.04820503</td><td>23</td><td>11</td><td>0.08360725</td><td>0</td><td>30</td><td>False</td><td>267</td><td>27154.715769276598</td><td>8.784192683314268</td><td>3091.3162</td><td>14.603752</td><td>29</td><td>7940.333641055945</td><td>23.150952032518205</td><td>342.98087</td><td>15.601791</td><td>26</td><td>28780.654991492156</td><td>26.9018240386522</td><td>1069.8403</td><td>13.614168</td><td>1.3522878</td><td>0</td><td>1.9876232</td><td>0.99803925</td><td>0.98958397</td><td>--</td><td>--</td><td>0</td><td>--</td><td>--</td><td>--</td><td>NOT_AVAILABLE</td><td>204.85525050603954</td><td>32.30163032181031</td><td>126.68764337058614</td><td>1.9085277665576243</td><td>100001</td><td>3921.2651</td><td>3729.96</td><td>4524.6367</td><td>0.5783</td><td>0.177</td><td>0.775</td><td>0.2705</td><td>0.092</td><td>0.41</td><td>200111</td><td>0.5608042</td><td>0.42120764</td><td>0.61980534</td><td>0.06699186</td><td>0.06568473</td><td>0.06829899</td><td>https://gea.esac.esa.int/data-server/datalink/links?ID=Gaia+DR2+664399078114921600</td></tr>\n",
       "<tr><td>0.6382045281014038</td><td>1635721458409799680</td><td>Gaia DR2 661234679353175296</td><td>661234679353175296</td><td>1233270224</td><td>2015.5</td><td>130.460614726997</td><td>0.18537737215881125</td><td>19.49424801737875</td><td>0.09747702093973701</td><td>5.5797887425506945</td><td>0.23207829132123978</td><td>24.0427</td><td>-37.7079095741186</td><td>0.39642488260140707</td><td>-12.7885619925498</td><td>0.20218632110818177</td><td>-0.19899912</td><td>0.21495566</td><td>0.13555236</td><td>0.18938625</td><td>0.15096793</td><td>0.2386316</td><td>-0.5796236</td><td>0.55839354</td><td>-0.036054816</td><td>-0.21257797</td><td>370</td><td>0</td><td>369</td><td>1</td><td>4.3314557</td><td>493.0064</td><td>0.5612348904905665</td><td>2.862594678396641</td><td>31</td><td>False</td><td>0.5476445</td><td>1.2559404163446624</td><td>0.027481847198778803</td><td>0.091558635</td><td>42</td><td>12</td><td>0.36744043</td><td>0</td><td>46</td><td>False</td><td>404</td><td>947.4840206752252</td><td>1.3907607913517914</td><td>681.2703</td><td>18.246937</td><td>43</td><td>141.77138614760395</td><td>6.128221409981938</td><td>23.134182</td><td>19.972416</td><td>41</td><td>1391.4916065683035</td><td>8.377780069006473</td><td>166.09312</td><td>16.90322</td><td>1.6182468</td><td>0</td><td>3.0691967</td><td>1.7254791</td><td>1.3437176</td><td>--</td><td>--</td><td>0</td><td>--</td><td>--</td><td>--</td><td>NOT_AVAILABLE</td><td>206.25147577648278</td><td>32.74311045232166</td><td>127.72404769295242</td><td>1.1961332306582528</td><td>--</td><td>--</td><td>--</td><td>--</td><td>--</td><td>--</td><td>--</td><td>--</td><td>--</td><td>--</td><td>--</td><td>--</td><td>--</td><td>--</td><td>--</td><td>--</td><td>--</td><td>https://gea.esac.esa.int/data-server/datalink/links?ID=Gaia+DR2+661234679353175296</td></tr>\n",
       "<tr><td>0.638529280391164</td><td>1635721458409799680</td><td>Gaia DR2 661235263468787328</td><td>661235263468787328</td><td>523617849</td><td>2015.5</td><td>130.5185431340924</td><td>0.15442423615986067</td><td>19.545152506238</td><td>0.0825803444298845</td><td>5.163056970487931</td><td>0.19135383767432274</td><td>26.981728</td><td>-36.75771904034623</td><td>0.32625624652495727</td><td>-9.056134420458758</td><td>0.17265653598596303</td><td>-0.2519068</td><td>0.08610214</td><td>0.08920207</td><td>0.13937901</td><td>0.12099373</td><td>0.19306573</td><td>-0.572939</td><td>0.4634447</td><td>0.0012026905</td><td>-0.25727084</td><td>380</td><td>0</td><td>378</td><td>2</td><td>3.4844754</td><td>475.71088</td><td>0.502591467741031</td><td>3.1335156346466744</td><td>31</td><td>False</td><td>0.7507769</td><td>1.246688606500947</td><td>0.02310262419078269</td><td>0.052574</td><td>44</td><td>13</td><td>0.30030233</td><td>0</td><td>47</td><td>False</td><td>404</td><td>1211.4983410280179</td><td>1.6684984915455117</td><td>726.10095</td><td>17.980059</td><td>44</td><td>176.6899681533087</td><td>6.244714679748098</td><td>28.294323</td><td>19.733358</td><td>43</td><td>1781.4657745228208</td><td>6.690934936102275</td><td>266.25064</td><td>16.634975</td><td>1.616309</td><td>0</td><td>3.098383</td><td>1.7532997</td><td>1.3450832</td><td>--</td><td>--</td><td>0</td><td>--</td><td>--</td><td>--</td><td>NOT_AVAILABLE</td><td>206.2172390785955</td><td>32.811985126237516</td><td>127.76365177995761</td><td>1.2594148354100592</td><td>--</td><td>--</td><td>--</td><td>--</td><td>--</td><td>--</td><td>--</td><td>--</td><td>--</td><td>--</td><td>--</td><td>--</td><td>--</td><td>--</td><td>--</td><td>--</td><td>--</td><td>https://gea.esac.esa.int/data-server/datalink/links?ID=Gaia+DR2+661235263468787328</td></tr>\n",
       "<tr><td>0.6486950886454707</td><td>1635721458409799680</td><td>Gaia DR2 664401960036152960</td><td>664401960036152960</td><td>269245215</td><td>2015.5</td><td>129.53351784023096</td><td>0.05072340123116772</td><td>20.43948122102108</td><td>0.0322454416358299</td><td>5.352046844158329</td><td>0.07614164721997609</td><td>70.290665</td><td>-35.88252361905924</td><td>0.1156685124798726</td><td>-13.465363748083659</td><td>0.0646060785197616</td><td>-0.35283956</td><td>-0.24094172</td><td>-0.37434262</td><td>0.314983</td><td>0.2056397</td><td>0.32730862</td><td>-0.4747301</td><td>0.73115087</td><td>-0.26469424</td><td>-0.4431264</td><td>179</td><td>179</td><td>169</td><td>10</td><td>4.6133647</td><td>261.63226</td><td>0.0</td><td>0.0</td><td>31</td><td>True</td><td>419.29263</td><td>1.5738127842379723</td><td>0.011610050328400876</td><td>0.042558808</td><td>20</td><td>10</td><td>0.0724674</td><td>0</td><td>28</td><td>False</td><td>242</td><td>465257.04661624273</td><td>321.45829013375686</td><td>1447.3325</td><td>11.519134</td><td>27</td><td>234054.7466481248</td><td>414.1094633837383</td><td>565.2002</td><td>11.928095</td><td>28</td><td>326213.73291651456</td><td>332.80900242466885</td><td>980.18304</td><td>10.978165</td><td>1.2042128</td><td>1</td><td>0.9499302</td><td>0.4089613</td><td>0.5409689</td><td>33.40528646436668</td><td>0.8930305004962344</td><td>8</td><td>5500.0</td><td>5.0</td><td>0.25</td><td>NOT_AVAILABLE</td><td>204.84387596397065</td><td>32.249845339326</td><td>126.63951820770029</td><td>1.8870642953250352</td><td>100002</td><td>5357.3667</td><td>5251.407</td><td>5626.3574</td><td>0.0315</td><td>0.0086</td><td>0.2311</td><td>0.0293</td><td>0.0036</td><td>0.1146</td><td>200111</td><td>0.94780415</td><td>0.85934335</td><td>0.98643833</td><td>0.6667107</td><td>0.65480566</td><td>0.6786157</td><td>https://gea.esac.esa.int/data-server/datalink/links?ID=Gaia+DR2+664401960036152960</td></tr>\n",
       "<tr><td>0.6530900884696984</td><td>1635721458409799680</td><td>Gaia DR2 664401964332947584</td><td>664401964332947584</td><td>1566539857</td><td>2015.5</td><td>129.53391425824518</td><td>0.05471159950317465</td><td>20.446090508264035</td><td>0.034481129695736475</td><td>5.5105332458584195</td><td>0.07028625848373987</td><td>78.40129</td><td>-36.276016660723144</td><td>0.11058866991554686</td><td>-13.613724375007383</td><td>0.0685504295107535</td><td>-0.3575924</td><td>-0.310958</td><td>-0.40841955</td><td>0.37529925</td><td>0.099259615</td><td>0.28635052</td><td>-0.45782676</td><td>0.64531326</td><td>-0.28189042</td><td>-0.42257893</td><td>196</td><td>0</td><td>196</td><td>0</td><td>3.8494132</td><td>275.69476</td><td>0.1799319393257165</td><td>3.1104426364947817</td><td>31</td><td>False</td><td>9.922418</td><td>1.3258342184503398</td><td>0.011722587530640219</td><td>0.033753812</td><td>22</td><td>11</td><td>0.11716031</td><td>0</td><td>30</td><td>False</td><td>267</td><td>12159.440365895403</td><td>9.168181067936025</td><td>1326.2653</td><td>15.476082</td><td>25</td><td>2846.908768703253</td><td>17.385791677873115</td><td>163.74916</td><td>16.715454</td><td>28</td><td>14427.75531232079</td><td>33.61739452102181</td><td>429.1753</td><td>14.363923</td><td>1.4206792</td><td>1</td><td>2.351531</td><td>1.2393723</td><td>1.1121588</td><td>--</td><td>--</td><td>0</td><td>--</td><td>--</td><td>--</td><td>NOT_AVAILABLE</td><td>204.8366765505854</td><td>32.2524431813111</td><td>126.63820245742288</td><td>1.8935520791898706</td><td>100002</td><td>3578.2566</td><td>3391.75</td><td>4186.207</td><td>0.468</td><td>0.07</td><td>0.64</td><td>0.215</td><td>0.0323</td><td>0.352</td><td>--</td><td>--</td><td>--</td><td>--</td><td>--</td><td>--</td><td>--</td><td>https://gea.esac.esa.int/data-server/datalink/links?ID=Gaia+DR2+664401964332947584</td></tr>\n",
       "<tr><td>0.6573889098625324</td><td>1635721458409799680</td><td>Gaia DR2 664402170491377920</td><td>664402170491377920</td><td>1172634822</td><td>2015.5</td><td>129.53026274866565</td><td>0.06208264955956487</td><td>20.448748652790314</td><td>0.03631480529524933</td><td>5.426250453421254</td><td>0.07839422984234252</td><td>69.217476</td><td>-37.39848384841903</td><td>0.11925381796577984</td><td>-14.820577441273972</td><td>0.07476043211567013</td><td>-0.33102772</td><td>-0.3735229</td><td>-0.26084706</td><td>0.37405515</td><td>0.06397704</td><td>0.25706762</td><td>-0.37666926</td><td>0.56453454</td><td>-0.2868666</td><td>-0.4040212</td><td>168</td><td>0</td><td>168</td><td>0</td><td>3.2871754</td><td>229.00932</td><td>0.17188799579870273</td><td>2.4145230876766544</td><td>31</td><td>False</td><td>9.890683</td><td>1.3148864189336706</td><td>0.012899936772222715</td><td>0.012350298</td><td>19</td><td>11</td><td>0.12290002</td><td>0</td><td>27</td><td>False</td><td>235</td><td>11554.966462861921</td><td>6.309806245168181</td><td>1831.2712</td><td>15.531444</td><td>20</td><td>2675.03496844034</td><td>13.903762378631168</td><td>192.39648</td><td>16.783064</td><td>23</td><td>13865.256343376406</td><td>27.808559363856034</td><td>498.5967</td><td>14.407101</td><td>1.4314443</td><td>1</td><td>2.3759632</td><td>1.2516203</td><td>1.1243429</td><td>--</td><td>--</td><td>0</td><td>--</td><td>--</td><td>--</td><td>NOT_AVAILABLE</td><td>204.8323447266522</td><td>32.25013000024745</td><td>126.6342170635958</td><td>1.8952567711020605</td><td>100002</td><td>4039.46</td><td>3450.0</td><td>4695.18</td><td>--</td><td>--</td><td>--</td><td>--</td><td>--</td><td>--</td><td>--</td><td>--</td><td>--</td><td>--</td><td>--</td><td>--</td><td>--</td><td>https://gea.esac.esa.int/data-server/datalink/links?ID=Gaia+DR2+664402170491377920</td></tr>\n",
       "<tr><td>0.6588254372448853</td><td>1635721458409799680</td><td>Gaia DR2 661235027248663552</td><td>661235027248663552</td><td>320272209</td><td>2015.5</td><td>130.49375046473932</td><td>0.15110316865358256</td><td>19.494046056189788</td><td>0.0841394337317003</td><td>5.56198657941912</td><td>0.18846389479396303</td><td>29.512213</td><td>4.587920321123609</td><td>0.3180129483286464</td><td>-20.297883286169462</td><td>0.17249071819082482</td><td>-0.28425637</td><td>0.06564434</td><td>0.05529593</td><td>0.15000625</td><td>0.09204861</td><td>0.16740072</td><td>-0.5702672</td><td>0.4677083</td><td>-0.016261406</td><td>-0.25127327</td><td>359</td><td>0</td><td>355</td><td>4</td><td>5.8462653</td><td>527.7053</td><td>0.5645373132089551</td><td>4.207701306546213</td><td>31</td><td>False</td><td>0.7796246</td><td>1.2570806215531676</td><td>0.023247662458198353</td><td>0.040747702</td><td>41</td><td>13</td><td>0.2929147</td><td>0</td><td>45</td><td>False</td><td>388</td><td>1332.813683565149</td><td>1.667405334597852</td><td>799.3339</td><td>17.876442</td><td>41</td><td>213.8976245173738</td><td>7.1863633974433645</td><td>29.764376</td><td>19.525873</td><td>42</td><td>1874.5349036205569</td><td>7.755232337849503</td><td>241.71228</td><td>16.579685</td><td>1.5669351</td><td>0</td><td>2.946188</td><td>1.6494312</td><td>1.2967567</td><td>--</td><td>--</td><td>0</td><td>--</td><td>--</td><td>--</td><td>NOT_AVAILABLE</td><td>206.264605154255</td><td>32.77233086467337</td><td>127.75428296278663</td><td>1.2040055624970913</td><td>--</td><td>--</td><td>--</td><td>--</td><td>--</td><td>--</td><td>--</td><td>--</td><td>--</td><td>--</td><td>--</td><td>--</td><td>--</td><td>--</td><td>--</td><td>--</td><td>--</td><td>https://gea.esac.esa.int/data-server/datalink/links?ID=Gaia+DR2+661235027248663552</td></tr>\n",
       "</table></div>"
      ],
      "text/plain": [
       "<Table length=189>\n",
       "        dist         ...\n",
       "                     ...\n",
       "      float64        ...\n",
       "-------------------- ...\n",
       " 0.02445630792133449 ...\n",
       " 0.02447974121342088 ...\n",
       "0.038053441367871484 ...\n",
       " 0.05523268100681419 ...\n",
       " 0.06253545405280647 ...\n",
       " 0.06749484036413232 ...\n",
       " 0.07810573605043844 ...\n",
       " 0.07939761348705524 ...\n",
       " 0.08284866807063142 ...\n",
       "                 ... ...\n",
       "  0.5735679669386582 ...\n",
       "  0.5853165408269203 ...\n",
       "  0.6191826164435329 ...\n",
       "  0.6382045281014038 ...\n",
       "   0.638529280391164 ...\n",
       "  0.6486950886454707 ...\n",
       "  0.6530900884696984 ...\n",
       "  0.6573889098625324 ...\n",
       "  0.6588254372448853 ..."
      ]
     },
     "execution_count": 168,
     "metadata": {},
     "output_type": "execute_result"
    }
   ],
   "source": [
    "results1\n",
    "cluster = results1[selection]\n",
    "cluster"
   ]
  },
  {
   "cell_type": "code",
   "execution_count": 169,
   "id": "ed2f1a96-c35a-4d9e-b717-8eafb70a7bdc",
   "metadata": {},
   "outputs": [],
   "source": [
    "c1 = SkyCoord(ra=results1['ra'],\n",
    "              dec=results1['dec'],\n",
    "              pm_ra_cosdec=results1['pmra'],\n",
    "              pm_dec=results1['pmdec'],\n",
    "              frame='icrs')\n",
    "c1_gal = c1.galactic\n",
    "cluster_coord = SkyCoord(ra=cluster['ra'],\n",
    "               dec=cluster['dec'],\n",
    "               pm_ra_cosdec=cluster['pmra'],\n",
    "               pm_dec=cluster['pmdec'],\n",
    "               frame='icrs')\n",
    "cluster_gal = cluster_coord.galactic\n",
    "\n"
   ]
  },
  {
   "cell_type": "code",
   "execution_count": 170,
   "id": "2ad6c0d8-b536-4786-8675-6023ba3d8c16",
   "metadata": {},
   "outputs": [
    {
     "data": {
      "text/plain": [
       "<SkyCoord (Galactic): (l, b) in deg\n",
       "    [(205.53753328, 32.51753891), (205.52321354, 32.52297246),\n",
       "     (205.52588609, 32.5142118 ), ..., (206.28027692, 32.79828692),\n",
       "     (206.2820192 , 32.79588204), (206.28285404, 32.79498114)]\n",
       " (pm_l_cosb, pm_b) in mas / yr\n",
       "    [(-4.12403813, -2.78579716), ( 1.72832031, -3.4056621 ),\n",
       "     (        nan,         nan), ..., (-1.18571216, -3.65535171),\n",
       "     ( 6.51813031, -3.1113447 ), (21.39128915, -4.64123967)]>"
      ]
     },
     "execution_count": 170,
     "metadata": {},
     "output_type": "execute_result"
    }
   ],
   "source": [
    "c1_gal"
   ]
  },
  {
   "cell_type": "code",
   "execution_count": 175,
   "id": "3308a27f-c1d9-44cc-85ea-4602d7841874",
   "metadata": {},
   "outputs": [
    {
     "data": {
      "text/plain": [
       "[<matplotlib.lines.Line2D at 0x7f760beeb160>]"
      ]
     },
     "execution_count": 175,
     "metadata": {},
     "output_type": "execute_result"
    },
    {
     "data": {
      "image/png": "[encoded data removed]",
      "text/plain": [
       "<Figure size 432x288 with 1 Axes>"
      ]
     },
     "metadata": {
      "needs_background": "light"
     },
     "output_type": "display_data"
    }
   ],
   "source": [
    "plt.plot(c1_gal.l, c1_gal.b, '0.5', marker='.', ls='')\n",
    "plt.plot(cluster_gal.l, cluster_gal.b, 'r.')"
   ]
  },
  {
   "cell_type": "code",
   "execution_count": 179,
   "id": "2afa7955-0add-4b53-9ff5-27df743eaa84",
   "metadata": {},
   "outputs": [
    {
     "data": {
      "text/plain": [
       "(-60.0, 50.0)"
      ]
     },
     "execution_count": 179,
     "metadata": {},
     "output_type": "execute_result"
    },
    {
     "data": {
      "image/png": "[encoded data removed]",
      "text/plain": [
       "<Figure size 432x288 with 1 Axes>"
      ]
     },
     "metadata": {
      "needs_background": "light"
     },
     "output_type": "display_data"
    }
   ],
   "source": [
    "plt.plot(c1_gal.pm_l_cosb, c1_gal.pm_b, '0.5', marker='.', ls='')\n",
    "plt.plot(cluster_gal.pm_l_cosb, cluster_gal.pm_b, 'r.')\n",
    "plt.xlim(-50, 60)\n",
    "plt.ylim(-60,50)"
   ]
  },
  {
   "cell_type": "code",
   "execution_count": 243,
   "id": "a2397a47-8702-470c-9b04-80dda2a9e5cb",
   "metadata": {},
   "outputs": [
    {
     "data": {
      "image/png": "[encoded data removed]",
      "text/plain": [
       "<Figure size 576x432 with 1 Axes>"
      ]
     },
     "metadata": {
      "needs_background": "light"
     },
     "output_type": "display_data"
    }
   ],
   "source": [
    "from astropy.coordinates import Angle\n",
    "\n",
    "l_cluster = Angle(cluster_gal.l)\n",
    "b_cluster = Angle(cluster_gal.b)\n",
    "l_cluster = l_cluster.wrap_at('180d') # Angle should be between -180d and 180d\n",
    "\n",
    "\n",
    "fig = plt.figure(figsize=(8,6))\n",
    "ax = fig.add_subplot(111, projection=\"mollweide\")\n",
    "ax.scatter(l_cluster.radian, b_cluster.radian)\n",
    "ax.grid(True)"
   ]
  },
  {
   "cell_type": "code",
   "execution_count": null,
   "id": "05819bf8-dea7-47e7-b327-37cb5a25c7f7",
   "metadata": {},
   "outputs": [],
   "source": []
  }
 ],
 "metadata": {
  "kernelspec": {
   "display_name": "Python 3 (ipykernel)",
   "language": "python",
   "name": "python3"
  },
  "language_info": {
   "codemirror_mode": {
    "name": "ipython",
    "version": 3
   },
   "file_extension": ".py",
   "mimetype": "text/x-python",
   "name": "python",
   "nbconvert_exporter": "python",
   "pygments_lexer": "ipython3",
   "version": "3.10.0"
  }
 },
 "nbformat": 4,
 "nbformat_minor": 5
}
