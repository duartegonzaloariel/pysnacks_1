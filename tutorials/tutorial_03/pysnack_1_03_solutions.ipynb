{
 "cells": [
  {
   "cell_type": "markdown",
   "id": "b8662781-7447-45fd-9f6f-629d2ff51dee",
   "metadata": {},
   "source": [
    "# Set up environment\n",
    "Let's load the basic modules and read the tables from disk"
   ]
  },
  {
   "cell_type": "code",
   "execution_count": 1,
   "id": "b17f6cb9-56b4-49d8-b3bb-ee9ff9ba7b36",
   "metadata": {},
   "outputs": [],
   "source": [
    "import numpy as np\n",
    "import astropy.units as u\n",
    "from astropy.table import Table, QTable\n",
    "from astropy.coordinates import SkyCoord\n",
    "import matplotlib.pyplot as plt"
   ]
  },
  {
   "cell_type": "markdown",
   "id": "e97c4674-7c04-437f-aacc-e73232d4c270",
   "metadata": {},
   "source": [
    "We will now load the two tables we generated in the last session. `data1` contains the Gaia query in a rectangle around our region of interest, excluding negative parallaxes. `cluster1` is our selection on the previous table to select sources with parallaxes between 5.0 and 5.7 mas."
   ]
  },
  {
   "cell_type": "markdown",
   "id": "019d176c-2df1-43a1-a1a2-cbfe83250590",
   "metadata": {},
   "source": [
    "⚠️ If you want to use the \"official\" `data1` and `cluster1` tables instead of the ones created by yourself do:\n",
    "- open a terminal\n",
    "- Navigate to the data folder  \n",
    "`cd pysnacks_1/tutorials/data`\n",
    "- Delete the files `data1.ecsv` and `cluster1.ecsv`."
   ]
  },
  {
   "cell_type": "code",
   "execution_count": 2,
   "id": "4e670856-1de3-4f29-8639-ccb14ed4d468",
   "metadata": {},
   "outputs": [
    {
     "name": "stdout",
     "output_type": "stream",
     "text": [
      "Doing nothing because ../data/data1.ecsv already exists\n",
      "Doing nothing because ../data/cluster1.ecsv already exists\n"
     ]
    }
   ],
   "source": [
    "import os\n",
    "for my_file in ['data1', 'cluster1']:\n",
    "    if not os.path.isfile(f'../data/{my_file}.ecsv'):\n",
    "        print(f'Using official {my_file} file')\n",
    "        os.system(f'unzip ../data/backup/{my_file}.ecsv.zip')\n",
    "        os.system(f'mv {my_file}.ecsv ../data')\n",
    "    else:\n",
    "        print(f'Doing nothing because ../data/{my_file}.ecsv already exists')"
   ]
  },
  {
   "cell_type": "code",
   "execution_count": 3,
   "id": "39c42ec8-0dbb-4606-8ecf-bcbedd2e809b",
   "metadata": {},
   "outputs": [],
   "source": [
    "data1 = Table.read('../data/data1.ecsv')\n",
    "cluster1 = Table.read('../data/cluster1.ecsv')"
   ]
  },
  {
   "cell_type": "markdown",
   "id": "df553fa5-6d97-4b5c-872f-beddbddd43d9",
   "metadata": {},
   "source": [
    "# ADQL searches\n",
    "\n",
    "Astronomical Data Query Language (ADQL) is a language developed for astronomy to query catalogs and tables following Virtual Observatory standards. Full specifications can be found [here](https://www.ivoa.net/documents/ADQL/20180112/PR-ADQL-2.1-20180112.html).\n",
    "\n",
    "- Other resources are this [ADQL Cheat Sheet](http://simbad.u-strasbg.fr/simbad/tap/help/adqlHelp.html)\n",
    "- Many ADQL examples on Gaia data: https://gaia.ari.uni-heidelberg.de/tap.html"
   ]
  },
  {
   "cell_type": "code",
   "execution_count": 4,
   "id": "7ad8a760-509a-4ebb-96ca-7b03007e6a60",
   "metadata": {},
   "outputs": [],
   "source": [
    "from astroquery.gaia import Gaia"
   ]
  },
  {
   "cell_type": "markdown",
   "id": "816a944a-916b-4d83-907f-b05cfba9ee8a",
   "metadata": {},
   "source": [
    "Gaia provides a large amount of tables. If you want to see all available tables (including many cross-matches with other catalogs like SDSS, WISE, UCAC4, Hipparcos, etc) you can run:\n",
    "```python\n",
    "tables = Gaia.load_tables(only_names=True)\n",
    "for table in tables:\n",
    "    print(table.name)\n",
    "```\n",
    "\n",
    "For this tutorial we are going to use table the full Gaia EDR3 catalog: `gaiaedr3.gaia_source`."
   ]
  },
  {
   "cell_type": "markdown",
   "id": "e6e40288-95e0-460b-bcc2-67ca9112c2a3",
   "metadata": {},
   "source": [
    "## Basic ADQL query\n",
    "\n",
    "There are 4 main stages for a query:\n",
    "1. Write the query as a text string\n",
    "2. Launch the job with the function `Gaia.launch_job()`\n",
    "3. Convert the job into an astropy Table with `job.get_results()`.\n",
    "\n",
    "The query will be written as a python string, which will then be send to a job to actually conduct the query on the Gaia server. The main ingredients to write a query are these statements.\n",
    "- `SELECT`: this statement is used to select data from a database.\n",
    "- `TOP`: to limit the query to a certain number of rows. `*` would download all the rows, be careful!\n",
    "- `FROM`: to indicate the table we want to query.\n",
    "- `WHERE`: to include a filter to select specific data. `AND` to include additional filters.\n",
    "\n",
    "Although it is not a formal requirement, these statements are usually included in CAPITAL letters, while our values are written in lowercase."
   ]
  },
  {
   "cell_type": "code",
   "execution_count": 5,
   "id": "8f2b7b05-8857-4252-8ccb-45eb2d49245e",
   "metadata": {},
   "outputs": [],
   "source": [
    "query1 = \"\"\"\n",
    "SELECT\n",
    "TOP 10\n",
    "    ra, dec, pmra, pmdec, parallax\n",
    "FROM\n",
    "    gaiaedr3.gaia_source\n",
    "\"\"\""
   ]
  },
  {
   "cell_type": "markdown",
   "id": "d35b7d1c-7c8e-4435-a66e-e724d7e5cf24",
   "metadata": {},
   "source": [
    "Note that dividing in lines and adding spaces is just to make it nice. The query could be written as:\n",
    "```python\n",
    "query1 = \"SELECT TOP 10 ra, dec, pmra, pmdec, parallax FROM gaiaedr3.gaia_source\"\n",
    "```"
   ]
  },
  {
   "cell_type": "code",
   "execution_count": 6,
   "id": "055e1534-3c1e-40a6-a877-08d8b9f54dcb",
   "metadata": {},
   "outputs": [],
   "source": [
    "job1 = Gaia.launch_job(query1)   # Here is where the data are downloaded!"
   ]
  },
  {
   "cell_type": "code",
   "execution_count": 7,
   "id": "f0747c28-951d-457b-ae14-e9ed0fd90436",
   "metadata": {},
   "outputs": [],
   "source": [
    "table1 = job1.get_results()"
   ]
  },
  {
   "cell_type": "code",
   "execution_count": 8,
   "id": "6c964d06-e194-4d7e-943a-ebeb374a2c39",
   "metadata": {},
   "outputs": [
    {
     "data": {
      "text/html": [
       "<div><i>Table length=10</i>\n",
       "<table id=\"table140674102208368\" class=\"table-striped table-bordered table-condensed\">\n",
       "<thead><tr><th>ra</th><th>dec</th><th>pmra</th><th>pmdec</th><th>parallax</th></tr></thead>\n",
       "<thead><tr><th>deg</th><th>deg</th><th>mas / yr</th><th>mas / yr</th><th>mas</th></tr></thead>\n",
       "<thead><tr><th>float64</th><th>float64</th><th>float64</th><th>float64</th><th>float64</th></tr></thead>\n",
       "<tr><td>276.8272363249419</td><td>-23.36668286912214</td><td>-1.371898184879889</td><td>-3.186157566832506</td><td>0.5283438664979859</td></tr>\n",
       "<tr><td>276.8232169716289</td><td>-23.369388814928357</td><td>--</td><td>--</td><td>--</td></tr>\n",
       "<tr><td>276.82806075487196</td><td>-23.363751699409708</td><td>-1.7157338177912043</td><td>-4.769110065387002</td><td>0.6551034285648674</td></tr>\n",
       "<tr><td>276.842096307241</td><td>-23.369000319223897</td><td>2.6251380887898645</td><td>0.3281248125702702</td><td>0.09840819001519581</td></tr>\n",
       "<tr><td>276.83391452535005</td><td>-23.365123305276086</td><td>--</td><td>--</td><td>--</td></tr>\n",
       "<tr><td>276.82597480165475</td><td>-23.368778891495012</td><td>--</td><td>--</td><td>--</td></tr>\n",
       "<tr><td>276.84262877586053</td><td>-23.36986985273777</td><td>--</td><td>--</td><td>--</td></tr>\n",
       "<tr><td>276.84017361437816</td><td>-23.37072024770279</td><td>--</td><td>--</td><td>--</td></tr>\n",
       "<tr><td>276.8360802740097</td><td>-23.375062155189713</td><td>-2.3165193974135674</td><td>-7.673764836151747</td><td>0.09077970568441722</td></tr>\n",
       "<tr><td>276.8352081246041</td><td>-23.37549793373118</td><td>-5.0192492746039505</td><td>-5.191538257843948</td><td>0.09477444798883929</td></tr>\n",
       "</table></div>"
      ],
      "text/plain": [
       "<Table length=10>\n",
       "        ra                 dec         ...       parallax     \n",
       "       deg                 deg         ...         mas        \n",
       "     float64             float64       ...       float64      \n",
       "------------------ ------------------- ... -------------------\n",
       " 276.8272363249419  -23.36668286912214 ...  0.5283438664979859\n",
       " 276.8232169716289 -23.369388814928357 ...                  --\n",
       "276.82806075487196 -23.363751699409708 ...  0.6551034285648674\n",
       "  276.842096307241 -23.369000319223897 ... 0.09840819001519581\n",
       "276.83391452535005 -23.365123305276086 ...                  --\n",
       "276.82597480165475 -23.368778891495012 ...                  --\n",
       "276.84262877586053  -23.36986985273777 ...                  --\n",
       "276.84017361437816  -23.37072024770279 ...                  --\n",
       " 276.8360802740097 -23.375062155189713 ... 0.09077970568441722\n",
       " 276.8352081246041  -23.37549793373118 ... 0.09477444798883929"
      ]
     },
     "execution_count": 8,
     "metadata": {},
     "output_type": "execute_result"
    }
   ],
   "source": [
    "table1"
   ]
  },
  {
   "cell_type": "markdown",
   "id": "cc4346bf-90f2-4a9a-bf84-f3380f711e92",
   "metadata": {},
   "source": [
    "Now let's add a filter. This will be filtered in the input catalog, so it is fast"
   ]
  },
  {
   "cell_type": "code",
   "execution_count": 9,
   "id": "26329415-c70a-4c6d-87c8-647725747d42",
   "metadata": {},
   "outputs": [
    {
     "data": {
      "text/html": [
       "<div><i>Table length=10</i>\n",
       "<table id=\"table140674062519552\" class=\"table-striped table-bordered table-condensed\">\n",
       "<thead><tr><th>ra</th><th>dec</th><th>pmra</th><th>pmdec</th><th>parallax</th></tr></thead>\n",
       "<thead><tr><th>deg</th><th>deg</th><th>mas / yr</th><th>mas / yr</th><th>mas</th></tr></thead>\n",
       "<thead><tr><th>float64</th><th>float64</th><th>float64</th><th>float64</th><th>float64</th></tr></thead>\n",
       "<tr><td>319.2950181380955</td><td>-38.872456400701786</td><td>-3258.966218702396</td><td>-1145.8623969124255</td><td>251.9124222107058</td></tr>\n",
       "<tr><td>77.9599373502188</td><td>-45.0438126993602</td><td>6491.223339061598</td><td>-5708.614150045243</td><td>254.19859326384577</td></tr>\n",
       "<tr><td>43.26964247679057</td><td>16.86437381897744</td><td>3429.0828268077694</td><td>-3805.54112273733</td><td>260.98844068047276</td></tr>\n",
       "<tr><td>111.85462844259372</td><td>5.209382701706996</td><td>571.2323467293181</td><td>-3691.4865653792745</td><td>264.12689775460655</td></tr>\n",
       "<tr><td>18.13325425370941</td><td>-16.996154872479234</td><td>1205.074450317742</td><td>637.5466339679103</td><td>269.05730465038937</td></tr>\n",
       "<tr><td>331.07645259656397</td><td>-56.79381206688221</td><td>3981.97666296105</td><td>-2466.8318147663504</td><td>270.6580324694526</td></tr>\n",
       "<tr><td>54.00339387736301</td><td>-44.51436231604776</td><td>745.6543400042402</td><td>-373.3232809136534</td><td>272.16154083178225</td></tr>\n",
       "<tr><td>26.009055057160104</td><td>-15.933680200693857</td><td>-1721.7277944720731</td><td>854.9631570589582</td><td>273.80974511859966</td></tr>\n",
       "<tr><td>330.8724078795965</td><td>-56.79725466122902</td><td>3966.6605387484133</td><td>-2536.1919868044724</td><td>274.8431415216296</td></tr>\n",
       "<tr><td>127.45009240230564</td><td>26.77328596508202</td><td>-1113.693546784546</td><td>-612.1910728285187</td><td>279.2496391012477</td></tr>\n",
       "</table></div>"
      ],
      "text/plain": [
       "<Table length=10>\n",
       "        ra                 dec         ...      parallax     \n",
       "       deg                 deg         ...        mas        \n",
       "     float64             float64       ...      float64      \n",
       "------------------ ------------------- ... ------------------\n",
       " 319.2950181380955 -38.872456400701786 ...  251.9124222107058\n",
       "  77.9599373502188   -45.0438126993602 ... 254.19859326384577\n",
       " 43.26964247679057   16.86437381897744 ... 260.98844068047276\n",
       "111.85462844259372   5.209382701706996 ... 264.12689775460655\n",
       " 18.13325425370941 -16.996154872479234 ... 269.05730465038937\n",
       "331.07645259656397  -56.79381206688221 ...  270.6580324694526\n",
       " 54.00339387736301  -44.51436231604776 ... 272.16154083178225\n",
       "26.009055057160104 -15.933680200693857 ... 273.80974511859966\n",
       " 330.8724078795965  -56.79725466122902 ...  274.8431415216296\n",
       "127.45009240230564   26.77328596508202 ...  279.2496391012477"
      ]
     },
     "execution_count": 9,
     "metadata": {},
     "output_type": "execute_result"
    }
   ],
   "source": [
    "query2 = \"\"\"\n",
    "SELECT\n",
    "TOP 10\n",
    "    ra, dec, pmra, pmdec, parallax\n",
    "FROM\n",
    "    gaiaedr3.gaia_source\n",
    "WHERE\n",
    "    parallax > 250\n",
    "\"\"\"\n",
    "job2 = Gaia.launch_job(query2)\n",
    "table2 = job2.get_results()\n",
    "table2"
   ]
  },
  {
   "cell_type": "markdown",
   "id": "6c53f65a-44ac-45e6-8e17-ba72d519c1d1",
   "metadata": {},
   "source": [
    "And adding additional filters is also easy:\n"
   ]
  },
  {
   "cell_type": "code",
   "execution_count": 10,
   "id": "ff7438db-a97b-47dc-b0bd-221aba9c73e7",
   "metadata": {},
   "outputs": [
    {
     "data": {
      "text/html": [
       "<div><i>Table length=10</i>\n",
       "<table id=\"table140675212254064\" class=\"table-striped table-bordered table-condensed\">\n",
       "<thead><tr><th>ra</th><th>dec</th><th>pmra</th><th>pmdec</th><th>parallax</th><th>phot_g_mean_mag</th></tr></thead>\n",
       "<thead><tr><th>deg</th><th>deg</th><th>mas / yr</th><th>mas / yr</th><th>mas</th><th>mag</th></tr></thead>\n",
       "<thead><tr><th>float64</th><th>float64</th><th>float64</th><th>float64</th><th>float64</th><th>float32</th></tr></thead>\n",
       "<tr><td>39.55534450841904</td><td>55.70117410383229</td><td>133.8178117295073</td><td>-11.837413755695902</td><td>19.11510100168238</td><td>11.550609</td></tr>\n",
       "<tr><td>73.001541835844</td><td>57.82064962211621</td><td>174.67043502513522</td><td>-173.62505448473277</td><td>16.17298230381911</td><td>16.471771</td></tr>\n",
       "<tr><td>67.93424053887837</td><td>56.49415175469436</td><td>156.26681909748066</td><td>-203.33919856668535</td><td>15.3333870648532</td><td>17.843945</td></tr>\n",
       "<tr><td>70.52203182388584</td><td>57.218527577845585</td><td>121.71501407431862</td><td>-17.931875936951727</td><td>13.118525159179592</td><td>14.149204</td></tr>\n",
       "<tr><td>67.77970024894226</td><td>57.14174772278866</td><td>117.29933997974308</td><td>-10.000585324838873</td><td>30.862572147591337</td><td>9.700968</td></tr>\n",
       "<tr><td>67.56932178379238</td><td>57.403814933033615</td><td>122.11089841693095</td><td>-98.56116554188154</td><td>11.743476351018504</td><td>11.513459</td></tr>\n",
       "<tr><td>68.21080482528</td><td>56.52847940299108</td><td>349.04936080414313</td><td>-299.0663710676119</td><td>29.272908092568912</td><td>15.477264</td></tr>\n",
       "<tr><td>69.03014271319383</td><td>55.410901812317256</td><td>543.9124159491503</td><td>-302.82400193311247</td><td>30.09392297788444</td><td>8.076589</td></tr>\n",
       "<tr><td>70.76898927007858</td><td>56.2608160504956</td><td>111.41112205201074</td><td>-133.12217275675124</td><td>19.172637587784923</td><td>15.323566</td></tr>\n",
       "<tr><td>71.11010240291556</td><td>58.67887076770439</td><td>119.7432370156806</td><td>-152.26917673172744</td><td>13.217349530549189</td><td>13.97251</td></tr>\n",
       "</table></div>"
      ],
      "text/plain": [
       "<Table length=10>\n",
       "        ra               dec         ...      parallax      phot_g_mean_mag\n",
       "       deg               deg         ...        mas               mag      \n",
       "     float64           float64       ...      float64           float32    \n",
       "----------------- ------------------ ... ------------------ ---------------\n",
       "39.55534450841904  55.70117410383229 ...  19.11510100168238       11.550609\n",
       "  73.001541835844  57.82064962211621 ...  16.17298230381911       16.471771\n",
       "67.93424053887837  56.49415175469436 ...   15.3333870648532       17.843945\n",
       "70.52203182388584 57.218527577845585 ... 13.118525159179592       14.149204\n",
       "67.77970024894226  57.14174772278866 ... 30.862572147591337        9.700968\n",
       "67.56932178379238 57.403814933033615 ... 11.743476351018504       11.513459\n",
       "   68.21080482528  56.52847940299108 ... 29.272908092568912       15.477264\n",
       "69.03014271319383 55.410901812317256 ...  30.09392297788444        8.076589\n",
       "70.76898927007858   56.2608160504956 ... 19.172637587784923       15.323566\n",
       "71.11010240291556  58.67887076770439 ... 13.217349530549189        13.97251"
      ]
     },
     "execution_count": 10,
     "metadata": {},
     "output_type": "execute_result"
    }
   ],
   "source": [
    "query3 = \"\"\"\n",
    "SELECT\n",
    "TOP 10\n",
    "    ra, dec, pmra, pmdec, parallax, phot_g_mean_mag\n",
    "FROM\n",
    "    gaiaedr3.gaia_source\n",
    "WHERE\n",
    "    parallax > 10\n",
    "    AND dec BETWEEN 55 AND 60\n",
    "    AND pmra > 100\n",
    "\"\"\"\n",
    "job3 = Gaia.launch_job(query3)\n",
    "table3 = job3.get_results()\n",
    "table3"
   ]
  },
  {
   "cell_type": "markdown",
   "id": "c9f10023-506c-4a34-9f8b-2f88bb76c105",
   "metadata": {},
   "source": [
    "### ⛏ Exercise 3.1\n",
    "Construct and run a query named `job3_1` using the following information:\n",
    "- Select 10 rows.\n",
    "- Query table `gaiaedr3.gaia_source`.\n",
    "- Select columns: right ascension, declination and phot_g_mean_mag.\n",
    "- Use filters to select stars with dec between 50 and 80 deg and magnitude brighter than 10"
   ]
  },
  {
   "cell_type": "code",
   "execution_count": 11,
   "id": "04c19288-e8e5-4ff9-9ad1-f248fcb28ab5",
   "metadata": {},
   "outputs": [
    {
     "data": {
      "text/html": [
       "<div><i>Table length=10</i>\n",
       "<table id=\"table140675212263040\" class=\"table-striped table-bordered table-condensed\">\n",
       "<thead><tr><th>ra</th><th>dec</th><th>phot_g_mean_mag</th></tr></thead>\n",
       "<thead><tr><th>deg</th><th>deg</th><th>mag</th></tr></thead>\n",
       "<thead><tr><th>float64</th><th>float64</th><th>float32</th></tr></thead>\n",
       "<tr><td>193.50817846782095</td><td>55.959784778923755</td><td>1.731607</td></tr>\n",
       "<tr><td>10.12724197930297</td><td>56.53718879378639</td><td>1.9425238</td></tr>\n",
       "<tr><td>14.177450998208093</td><td>60.71672280471204</td><td>2.0645833</td></tr>\n",
       "<tr><td>2.2990654282325518</td><td>59.14897576410493</td><td>2.232691</td></tr>\n",
       "<tr><td>200.98237336533253</td><td>54.92525907860076</td><td>2.282647</td></tr>\n",
       "<tr><td>165.46097417209683</td><td>56.38257749355825</td><td>2.3985364</td></tr>\n",
       "<tr><td>319.64633694354825</td><td>62.58579604829105</td><td>2.428267</td></tr>\n",
       "<tr><td>178.45836676657404</td><td>53.694797326318046</td><td>2.4362755</td></tr>\n",
       "<tr><td>325.87694430713873</td><td>58.78002783444686</td><td>2.450726</td></tr>\n",
       "<tr><td>245.9977069286059</td><td>61.514463511632556</td><td>2.494415</td></tr>\n",
       "</table></div>"
      ],
      "text/plain": [
       "<Table length=10>\n",
       "        ra                dec         phot_g_mean_mag\n",
       "       deg                deg               mag      \n",
       "     float64            float64           float32    \n",
       "------------------ ------------------ ---------------\n",
       "193.50817846782095 55.959784778923755        1.731607\n",
       " 10.12724197930297  56.53718879378639       1.9425238\n",
       "14.177450998208093  60.71672280471204       2.0645833\n",
       "2.2990654282325518  59.14897576410493        2.232691\n",
       "200.98237336533253  54.92525907860076        2.282647\n",
       "165.46097417209683  56.38257749355825       2.3985364\n",
       "319.64633694354825  62.58579604829105        2.428267\n",
       "178.45836676657404 53.694797326318046       2.4362755\n",
       "325.87694430713873  58.78002783444686        2.450726\n",
       " 245.9977069286059 61.514463511632556        2.494415"
      ]
     },
     "execution_count": 11,
     "metadata": {},
     "output_type": "execute_result"
    }
   ],
   "source": [
    "query3_1 = \"\"\"\n",
    "SELECT\n",
    "TOP 10\n",
    "    ra, dec, phot_g_mean_mag\n",
    "FROM\n",
    "    gaiaedr3.gaia_source\n",
    "WHERE\n",
    "    dec BETWEEN 50 AND 80\n",
    "    AND phot_g_mean_mag < 10\n",
    "\"\"\"\n",
    "job3_1 = Gaia.launch_job(query3_1)\n",
    "table3_1 = job3_1.get_results()\n",
    "table3_1"
   ]
  },
  {
   "cell_type": "markdown",
   "id": "d5c86d30-f244-4383-a21c-b76690302cdd",
   "metadata": {},
   "source": [
    "How to know which columns are available?"
   ]
  },
  {
   "cell_type": "code",
   "execution_count": 12,
   "id": "9ca6347e-c102-4f18-b299-02303e5affa0",
   "metadata": {},
   "outputs": [
    {
     "name": "stdout",
     "output_type": "stream",
     "text": [
      "Retrieving table 'gaiaedr3.gaia_source'\n",
      "solution_id                   : Solution Identifier\n",
      "designation                   : Unique source designation (unique across all Data Releases)\n",
      "source_id                     : Unique source identifier (unique within a particular Data Release)\n",
      "random_index                  : Random index used to select subsets\n",
      "ref_epoch                     : Reference epoch\n",
      "ra                            : Right ascension\n",
      "ra_error                      : Standard error of right ascension\n",
      "dec                           : Declination\n",
      "dec_error                     : Standard error of declination\n",
      "parallax                      : Parallax\n",
      "parallax_error                : Standard error of parallax\n",
      "parallax_over_error           : Parallax divided by its standard error\n",
      "pm                            : Total proper motion\n",
      "pmra                          : Proper motion in right ascension direction\n",
      "pmra_error                    : Standard error of proper motion in right ascension direction\n",
      "pmdec                         : Proper motion in declination direction\n",
      "pmdec_error                   : Standard error of proper motion in declination direction\n",
      "ra_dec_corr                   : Correlation between right ascension and declination\n",
      "ra_parallax_corr              : Correlation between right ascension and parallax\t\t\n",
      "ra_pmra_corr                  : Correlation between right ascension and proper motion in right ascension\n",
      "ra_pmdec_corr                 : Correlation between right ascension and proper motion in declination\n",
      "dec_parallax_corr             : Correlation between declination and parallax\n",
      "dec_pmra_corr                 : Correlation between declination and proper motion in right ascension\n",
      "dec_pmdec_corr                : Correlation between declination and proper motion in declination\n",
      "parallax_pmra_corr            : Correlation between parallax and proper motion in right ascension\n",
      "parallax_pmdec_corr           : Correlation between parallax and proper motion in declination\n",
      "pmra_pmdec_corr               : Correlation between proper motion in right ascension and proper motion in declination\n",
      "astrometric_n_obs_al          : Total number of observations AL\n",
      "astrometric_n_obs_ac          : Total number of observations AC\n",
      "astrometric_n_good_obs_al     : Number of good observations AL\n",
      "astrometric_n_bad_obs_al      : Number of bad observations AL\n",
      "astrometric_gof_al            : Goodness of fit statistic of model wrt along-scan observations\n",
      "astrometric_chi2_al           : AL chi-square value\n",
      "astrometric_excess_noise      : Excess noise of the source\n",
      "astrometric_excess_noise_sig  : Significance of excess noise\n",
      "astrometric_params_solved     : Which parameters have been solved for?\n",
      "astrometric_primary_flag      : Primary or seconday\n",
      "nu_eff_used_in_astrometry     : Effective wavenumber of the source used in the astrometric solution\n",
      "pseudocolour                  : Astrometrically estimated pseudocolour of the source\n",
      "pseudocolour_error            : Standard error of the pseudocolour of the source\n",
      "ra_pseudocolour_corr          : Correlation between right ascension and pseudocolour\n",
      "dec_pseudocolour_corr         : Correlation between declination and pseudocolour\n",
      "parallax_pseudocolour_corr    : Correlation between parallax and pseudocolour\n",
      "pmra_pseudocolour_corr        : Correlation between proper motion in right asension and pseudocolour\n",
      "pmdec_pseudocolour_corr       : Correlation between proper motion in declination and pseudocolour\n",
      "astrometric_matched_transits  : Matched FOV transits used in the AGIS solution\n",
      "visibility_periods_used       : Number of visibility periods used in Astrometric solution\n",
      "astrometric_sigma5d_max       : The longest semi-major axis of the 5-d error ellipsoid\n",
      "matched_transits              : The number of transits matched to this source\n",
      "new_matched_transits          : The number of transits newly incorporated into an existing source in the current cycle\n",
      "matched_transits_removed      : The number of transits removed from an existing source in the current cycle\n",
      "ipd_gof_harmonic_amplitude    : Amplitude of the IPD GoF versus position angle of scan\n",
      "ipd_gof_harmonic_phase        : Phase of the IPD GoF versus position angle of scan\n",
      "ipd_frac_multi_peak           : Percent of successful-IPD windows with more than one peak\n",
      "ipd_frac_odd_win              : Percent of transits with truncated windows or multiple gate\n",
      "ruwe                          : Renormalised unit weight error\n",
      "scan_direction_strength_k1    : Degree of concentration of scan directions across the source\n",
      "scan_direction_strength_k2    : Degree of concentration of scan directions across the source\n",
      "scan_direction_strength_k3    : Degree of concentration of scan directions across the source\n",
      "scan_direction_strength_k4    : Degree of concentration of scan directions across the source\n",
      "scan_direction_mean_k1        : Mean position angle of scan directions across the source\n",
      "scan_direction_mean_k2        : Mean position angle of scan directions across the source\n",
      "scan_direction_mean_k3        : Mean position angle of scan directions across the source\n",
      "scan_direction_mean_k4        : Mean position angle of scan directions across the source\n",
      "duplicated_source             : Source with multiple source identifiers\n",
      "phot_g_n_obs                  : Number of observations contributing to G photometry\n",
      "phot_g_mean_flux              : G-band mean flux\n",
      "phot_g_mean_flux_error        : Error on G-band mean flux\n",
      "phot_g_mean_flux_over_error   : G-band mean flux divided by its error\n",
      "phot_g_mean_mag               : G-band mean magnitude\n",
      "phot_bp_n_obs                 : Number of observations contributing to BP photometry\n",
      "phot_bp_mean_flux             : Integrated BP mean flux\n",
      "phot_bp_mean_flux_error       : Error on the integrated BP mean flux\n",
      "phot_bp_mean_flux_over_error  : Integrated BP mean flux divided by its error\n",
      "phot_bp_mean_mag              : Integrated BP mean magnitude\n",
      "phot_rp_n_obs                 : Number of observations contributing to RP photometry\n",
      "phot_rp_mean_flux             : Integrated RP mean flux\n",
      "phot_rp_mean_flux_error       : Error on the integrated RP mean flux\n",
      "phot_rp_mean_flux_over_error  : Integrated RP mean flux divided by its error\n",
      "phot_rp_mean_mag              : Integrated RP mean magnitude\n",
      "phot_bp_n_contaminated_transits: Number of BP contaminated transits\n",
      "phot_bp_n_blended_transits    : Number of BP blended transits\n",
      "phot_rp_n_contaminated_transits: Number of RP contaminated transits\n",
      "phot_rp_n_blended_transits    : Number of RP blended transits\n",
      "phot_proc_mode                : Photometry processing mode\n",
      "phot_bp_rp_excess_factor      : BP/RP excess factor\n",
      "bp_rp                         : BP - RP colour\n",
      "bp_g                          : BP - G colour\n",
      "g_rp                          : G - RP colour\n",
      "dr2_radial_velocity           : Radial velocity from Gaia DR2\n",
      "dr2_radial_velocity_error     : Radial velocity error from Gaia DR2\n",
      "dr2_rv_nb_transits            : Number of transits used to compute radial velocity in Gaia DR2\n",
      "dr2_rv_template_teff          : Teff of the template used to compute radial velocity in Gaia DR2\n",
      "dr2_rv_template_logg          : logg of the template used to compute radial velocity in Gaia DR2\n",
      "dr2_rv_template_fe_h          : Fe/H of the template used to compute radial velocity in Gaia DR2\n",
      "l                             : Galactic longitude\n",
      "b                             : Galactic latitude\n",
      "ecl_lon                       : Ecliptic longitude\n",
      "ecl_lat                       : Ecliptic latitude\n"
     ]
    }
   ],
   "source": [
    "table_metadata = Gaia.load_table('gaiaedr3.gaia_source')\n",
    "for column in table_metadata.columns:\n",
    "    print(f\"{column.name:30}: {column.description}\")"
   ]
  },
  {
   "cell_type": "markdown",
   "id": "b7619f5f-4905-4292-8042-f9a897e846dd",
   "metadata": {},
   "source": [
    "We can rename columns and give a name to the table."
   ]
  },
  {
   "cell_type": "code",
   "execution_count": 13,
   "id": "462ea48f-e68f-4752-8f11-f3939f3d549b",
   "metadata": {},
   "outputs": [
    {
     "data": {
      "text/html": [
       "<div><i>Table length=10</i>\n",
       "<table id=\"table140675212260160\" class=\"table-striped table-bordered table-condensed\">\n",
       "<thead><tr><th>right_ascension</th><th>declination</th><th>pmra</th><th>pmdec</th><th>plx</th><th>phot_g_mean_mag</th></tr></thead>\n",
       "<thead><tr><th>deg</th><th>deg</th><th>mas / yr</th><th>mas / yr</th><th>mas</th><th>mag</th></tr></thead>\n",
       "<thead><tr><th>float64</th><th>float64</th><th>float64</th><th>float64</th><th>float64</th><th>float32</th></tr></thead>\n",
       "<tr><td>124.01144966021175</td><td>65.88461692187626</td><td>169.84974708266532</td><td>-24.570410918912756</td><td>18.038639548679384</td><td>20.91073</td></tr>\n",
       "<tr><td>120.43804827470753</td><td>68.86202269142112</td><td>133.63583347344328</td><td>3.3750313610693956</td><td>13.72848737126279</td><td>16.861578</td></tr>\n",
       "<tr><td>129.4503472979296</td><td>64.71585025054333</td><td>120.78641610564706</td><td>34.47326771205426</td><td>11.339471660941864</td><td>9.413093</td></tr>\n",
       "<tr><td>119.20575805974968</td><td>66.83225418999076</td><td>161.93030391025002</td><td>-212.18945951987138</td><td>23.49525243858702</td><td>17.78913</td></tr>\n",
       "<tr><td>118.08689347243653</td><td>69.42490496669896</td><td>127.26088845038271</td><td>-184.6974457158127</td><td>14.080704792233242</td><td>16.69432</td></tr>\n",
       "<tr><td>118.08533569980663</td><td>69.42563479208752</td><td>126.22933243851233</td><td>-184.62388991566053</td><td>14.056114013587498</td><td>14.970832</td></tr>\n",
       "<tr><td>122.58738707958943</td><td>69.72560126912373</td><td>162.99237948955613</td><td>116.76920053112454</td><td>33.463540006349675</td><td>6.4029765</td></tr>\n",
       "<tr><td>127.48968033210458</td><td>61.72258164768267</td><td>530.7950990781364</td><td>-715.2782846089408</td><td>49.288752987563555</td><td>9.659495</td></tr>\n",
       "<tr><td>126.49040353037444</td><td>66.16833582259768</td><td>144.786785712217</td><td>124.37529053547584</td><td>10.778134053220755</td><td>16.584415</td></tr>\n",
       "<tr><td>124.59358012860116</td><td>61.46085607940323</td><td>128.26588482263713</td><td>30.42697419536343</td><td>16.55983340784323</td><td>8.05852</td></tr>\n",
       "</table></div>"
      ],
      "text/plain": [
       "<Table length=10>\n",
       " right_ascension      declination    ...        plx         phot_g_mean_mag\n",
       "       deg                deg        ...        mas               mag      \n",
       "     float64            float64      ...      float64           float32    \n",
       "------------------ ----------------- ... ------------------ ---------------\n",
       "124.01144966021175 65.88461692187626 ... 18.038639548679384        20.91073\n",
       "120.43804827470753 68.86202269142112 ...  13.72848737126279       16.861578\n",
       " 129.4503472979296 64.71585025054333 ... 11.339471660941864        9.413093\n",
       "119.20575805974968 66.83225418999076 ...  23.49525243858702        17.78913\n",
       "118.08689347243653 69.42490496669896 ... 14.080704792233242        16.69432\n",
       "118.08533569980663 69.42563479208752 ... 14.056114013587498       14.970832\n",
       "122.58738707958943 69.72560126912373 ... 33.463540006349675       6.4029765\n",
       "127.48968033210458 61.72258164768267 ... 49.288752987563555        9.659495\n",
       "126.49040353037444 66.16833582259768 ... 10.778134053220755       16.584415\n",
       "124.59358012860116 61.46085607940323 ...  16.55983340784323         8.05852"
      ]
     },
     "execution_count": 13,
     "metadata": {},
     "output_type": "execute_result"
    }
   ],
   "source": [
    "query4 = \"\"\"\n",
    "SELECT\n",
    "TOP 10\n",
    "    ra AS right_ascension, dec AS declination, pmra, pmdec, parallax AS plx, phot_g_mean_mag\n",
    "FROM\n",
    "    gaiaedr3.gaia_source AS gaia\n",
    "WHERE\n",
    "    parallax > 10\n",
    "    AND dec > 60\n",
    "    AND pmra > 100\n",
    "\"\"\"\n",
    "job4 = Gaia.launch_job(query4)\n",
    "table4 = job4.get_results()\n",
    "table4"
   ]
  },
  {
   "cell_type": "markdown",
   "id": "b91e2267-a692-4ae7-aad7-f0515d447e23",
   "metadata": {},
   "source": [
    "We can create new columns as combinations of other ones including complex operations.\n"
   ]
  },
  {
   "cell_type": "code",
   "execution_count": 14,
   "id": "0f8916cf-acc8-4a84-9a5d-29b98d220a5c",
   "metadata": {},
   "outputs": [
    {
     "data": {
      "text/html": [
       "<div><i>Table length=10</i>\n",
       "<table id=\"table140674062022784\" class=\"table-striped table-bordered table-condensed\">\n",
       "<thead><tr><th>ra</th><th>dec</th><th>pmra</th><th>pmdec</th><th>pmra_error</th><th>pmdec_error</th><th>pm_error</th></tr></thead>\n",
       "<thead><tr><th>deg</th><th>deg</th><th>mas / yr</th><th>mas / yr</th><th>mas / yr</th><th>mas / yr</th><th></th></tr></thead>\n",
       "<thead><tr><th>float64</th><th>float64</th><th>float64</th><th>float64</th><th>float32</th><th>float32</th><th>float64</th></tr></thead>\n",
       "<tr><td>120.43804827470753</td><td>68.86202269142112</td><td>133.63583347344328</td><td>3.3750313610693956</td><td>0.041086283</td><td>0.055974327</td><td>0.06943491846720999</td></tr>\n",
       "<tr><td>129.4503472979296</td><td>64.71585025054333</td><td>120.78641610564706</td><td>34.47326771205426</td><td>0.025411397</td><td>0.038386714</td><td>0.04603562640305742</td></tr>\n",
       "<tr><td>118.08689347243653</td><td>69.42490496669896</td><td>127.26088845038271</td><td>-184.6974457158127</td><td>0.0427494</td><td>0.05347884</td><td>0.06846530295085035</td></tr>\n",
       "<tr><td>118.08533569980663</td><td>69.42563479208752</td><td>126.22933243851233</td><td>-184.62388991566053</td><td>0.016621985</td><td>0.021808855</td><td>0.02742109656416782</td></tr>\n",
       "<tr><td>127.48968033210458</td><td>61.72258164768267</td><td>530.7950990781364</td><td>-715.2782846089408</td><td>0.013492958</td><td>0.013408528</td><td>0.01902231643441946</td></tr>\n",
       "<tr><td>126.49040353037444</td><td>66.16833582259768</td><td>144.786785712217</td><td>124.37529053547584</td><td>0.030179866</td><td>0.04561104</td><td>0.05469178322140326</td></tr>\n",
       "<tr><td>124.59358012860116</td><td>61.46085607940323</td><td>128.26588482263713</td><td>30.42697419536343</td><td>0.017638555</td><td>0.018331049</td><td>0.025439063919976128</td></tr>\n",
       "<tr><td>107.0934699216425</td><td>60.894279372999705</td><td>374.403109862856</td><td>-347.5239300167945</td><td>0.021102061</td><td>0.019266477</td><td>0.028574361405612567</td></tr>\n",
       "<tr><td>115.65238204470637</td><td>67.94433119994244</td><td>108.6270271549356</td><td>-32.5003158540832</td><td>0.021859339</td><td>0.031073056</td><td>0.03799165038762882</td></tr>\n",
       "<tr><td>114.96280879690975</td><td>68.08324168377347</td><td>122.36288616597582</td><td>-34.41337765854729</td><td>0.018729597</td><td>0.026577964</td><td>0.03251439695163713</td></tr>\n",
       "</table></div>"
      ],
      "text/plain": [
       "<Table length=10>\n",
       "        ra                dec         ... pmdec_error       pm_error      \n",
       "       deg                deg         ...   mas / yr                      \n",
       "     float64            float64       ...   float32         float64       \n",
       "------------------ ------------------ ... ----------- --------------------\n",
       "120.43804827470753  68.86202269142112 ... 0.055974327  0.06943491846720999\n",
       " 129.4503472979296  64.71585025054333 ... 0.038386714  0.04603562640305742\n",
       "118.08689347243653  69.42490496669896 ...  0.05347884  0.06846530295085035\n",
       "118.08533569980663  69.42563479208752 ... 0.021808855  0.02742109656416782\n",
       "127.48968033210458  61.72258164768267 ... 0.013408528  0.01902231643441946\n",
       "126.49040353037444  66.16833582259768 ...  0.04561104  0.05469178322140326\n",
       "124.59358012860116  61.46085607940323 ... 0.018331049 0.025439063919976128\n",
       " 107.0934699216425 60.894279372999705 ... 0.019266477 0.028574361405612567\n",
       "115.65238204470637  67.94433119994244 ... 0.031073056  0.03799165038762882\n",
       "114.96280879690975  68.08324168377347 ... 0.026577964  0.03251439695163713"
      ]
     },
     "execution_count": 14,
     "metadata": {},
     "output_type": "execute_result"
    }
   ],
   "source": [
    "query5 = \"\"\"\n",
    "SELECT\n",
    "TOP 10\n",
    "    ra, dec, pmra, pmdec, pmra_error, pmdec_error,\n",
    "    sqrt(power(pmra_error, 2) + power(pmdec_error, 2)) AS pm_error\n",
    "FROM\n",
    "    gaiaedr3.gaia_source AS gaia\n",
    "WHERE\n",
    "    parallax > 10\n",
    "    AND dec > 60\n",
    "    AND pmra > 100\n",
    "    AND sqrt(power(pmra_error, 2) + power(pmdec_error, 2)) < 0.1\n",
    "\"\"\"\n",
    "job5 = Gaia.launch_job(query5)\n",
    "table5 = job5.get_results()\n",
    "table5"
   ]
  },
  {
   "cell_type": "markdown",
   "id": "97da0c9a-a3a3-4396-aa15-87f1948245ba",
   "metadata": {},
   "source": [
    "This means we can directly compute the distance in kpc as 1/parallax[mas]. Note: you cannot call the column \"distance\" because that is a reserved ADQL statement."
   ]
  },
  {
   "cell_type": "code",
   "execution_count": 15,
   "id": "de9535fe-0bcf-408d-bf38-2fd99a1e8ec7",
   "metadata": {},
   "outputs": [
    {
     "data": {
      "text/html": [
       "<div><i>Table length=10</i>\n",
       "<table id=\"table140674062016784\" class=\"table-striped table-bordered table-condensed\">\n",
       "<thead><tr><th>ra</th><th>dec</th><th>pmra</th><th>pmdec</th><th>parallax</th><th>distance_kpc</th></tr></thead>\n",
       "<thead><tr><th>deg</th><th>deg</th><th>mas / yr</th><th>mas / yr</th><th>mas</th><th></th></tr></thead>\n",
       "<thead><tr><th>float64</th><th>float64</th><th>float64</th><th>float64</th><th>float64</th><th>float64</th></tr></thead>\n",
       "<tr><td>74.66451270361384</td><td>62.15181340608831</td><td>100.00193154067665</td><td>-88.86589952933775</td><td>12.505373845741055</td><td>0.07996562216655116</td></tr>\n",
       "<tr><td>149.41600324144636</td><td>67.49217956894574</td><td>100.00879826225145</td><td>-69.8566220872247</td><td>10.091146997935779</td><td>0.09909676275695495</td></tr>\n",
       "<tr><td>139.97476242532935</td><td>66.05549888164397</td><td>100.0095895872081</td><td>-69.62102585379789</td><td>15.98423787439987</td><td>0.06256163151835883</td></tr>\n",
       "<tr><td>323.84691274648014</td><td>67.52300451606419</td><td>100.02507110926138</td><td>-6.417828960232144</td><td>19.497322234874673</td><td>0.051289094366574584</td></tr>\n",
       "<tr><td>8.774216010678863</td><td>66.09847004748724</td><td>100.02592661671935</td><td>77.55322853028491</td><td>4.880189684813282</td><td>0.20491006796557754</td></tr>\n",
       "<tr><td>50.912557004283634</td><td>73.96366867624116</td><td>100.0261031618998</td><td>-94.51463946438408</td><td>5.764660649771974</td><td>0.17347074888780414</td></tr>\n",
       "<tr><td>21.723091909676675</td><td>69.29224228578344</td><td>100.04218136198642</td><td>-30.740662923862253</td><td>4.436027695340312</td><td>0.2254269063852823</td></tr>\n",
       "<tr><td>6.876645499764789</td><td>71.20594200585153</td><td>100.04921965493844</td><td>2.8273362498455668</td><td>3.0536148859229333</td><td>0.3274807195268689</td></tr>\n",
       "<tr><td>24.690999421761852</td><td>75.25474640063449</td><td>100.05450772500372</td><td>46.52714808139754</td><td>9.165781223670185</td><td>0.10910144761229391</td></tr>\n",
       "<tr><td>31.073906826968148</td><td>60.587819730093756</td><td>100.05467569584923</td><td>17.779395857111677</td><td>6.2057559734480146</td><td>0.16114072230339158</td></tr>\n",
       "</table></div>"
      ],
      "text/plain": [
       "<Table length=10>\n",
       "        ra                dec         ...     distance_kpc    \n",
       "       deg                deg         ...                     \n",
       "     float64            float64       ...       float64       \n",
       "------------------ ------------------ ... --------------------\n",
       " 74.66451270361384  62.15181340608831 ...  0.07996562216655116\n",
       "149.41600324144636  67.49217956894574 ...  0.09909676275695495\n",
       "139.97476242532935  66.05549888164397 ...  0.06256163151835883\n",
       "323.84691274648014  67.52300451606419 ... 0.051289094366574584\n",
       " 8.774216010678863  66.09847004748724 ...  0.20491006796557754\n",
       "50.912557004283634  73.96366867624116 ...  0.17347074888780414\n",
       "21.723091909676675  69.29224228578344 ...   0.2254269063852823\n",
       " 6.876645499764789  71.20594200585153 ...   0.3274807195268689\n",
       "24.690999421761852  75.25474640063449 ...  0.10910144761229391\n",
       "31.073906826968148 60.587819730093756 ...  0.16114072230339158"
      ]
     },
     "execution_count": 15,
     "metadata": {},
     "output_type": "execute_result"
    }
   ],
   "source": [
    "query6 = \"\"\"\n",
    "SELECT\n",
    "TOP 10\n",
    "    ra, dec, pmra, pmdec, parallax, 1/parallax AS distance_kpc\n",
    "FROM\n",
    "    gaiaedr3.gaia_source AS gaia\n",
    "WHERE\n",
    "    parallax > 1\n",
    "    AND dec > 60\n",
    "    AND pmra > 100\n",
    "\"\"\"\n",
    "job6 = Gaia.launch_job(query6)\n",
    "table6 = job6.get_results()\n",
    "table6"
   ]
  },
  {
   "cell_type": "markdown",
   "id": "45a0e63c-2cb9-4971-8fe8-75baa111bece",
   "metadata": {},
   "source": [
    "For example, we can directly compute the absolute magnitude and create a new column:"
   ]
  },
  {
   "cell_type": "code",
   "execution_count": 16,
   "id": "3ab11742-ad4f-40a5-84ee-af3bb251529d",
   "metadata": {},
   "outputs": [
    {
     "data": {
      "text/html": [
       "<div><i>Table length=10</i>\n",
       "<table id=\"table140674062529152\" class=\"table-striped table-bordered table-condensed\">\n",
       "<thead><tr><th>ra</th><th>dec</th><th>pmra</th><th>pmdec</th><th>parallax</th><th>phot_g_mean_mag</th><th>g_mag_abs</th></tr></thead>\n",
       "<thead><tr><th>deg</th><th>deg</th><th>mas / yr</th><th>mas / yr</th><th>mas</th><th>mag</th><th></th></tr></thead>\n",
       "<thead><tr><th>float64</th><th>float64</th><th>float64</th><th>float64</th><th>float64</th><th>float32</th><th>float64</th></tr></thead>\n",
       "<tr><td>124.01144966021175</td><td>65.88461692187626</td><td>169.84974708266532</td><td>-24.570410918912756</td><td>18.038639548679384</td><td>20.91073</td><td>17.19174926444787</td></tr>\n",
       "<tr><td>120.43804827470753</td><td>68.86202269142112</td><td>133.63583347344328</td><td>3.3750313610693956</td><td>13.72848737126279</td><td>16.861578</td><td>12.54969143040855</td></tr>\n",
       "<tr><td>129.4503472979296</td><td>64.71585025054333</td><td>120.78641610564706</td><td>34.47326771205426</td><td>11.339471660941864</td><td>9.413093</td><td>4.686056713128586</td></tr>\n",
       "<tr><td>119.20575805974968</td><td>66.83225418999076</td><td>161.93030391025002</td><td>-212.18945951987138</td><td>23.49525243858702</td><td>17.78913</td><td>14.64402983493899</td></tr>\n",
       "<tr><td>118.08689347243653</td><td>69.42490496669896</td><td>127.26088845038271</td><td>-184.6974457158127</td><td>14.080704792233242</td><td>16.69432</td><td>12.437442645822813</td></tr>\n",
       "<tr><td>118.08533569980663</td><td>69.42563479208752</td><td>126.22933243851233</td><td>-184.62388991566053</td><td>14.056114013587498</td><td>14.970832</td><td>10.710158227040015</td></tr>\n",
       "<tr><td>122.58738707958943</td><td>69.72560126912373</td><td>162.99237948955613</td><td>116.76920053112454</td><td>33.463540006349675</td><td>6.4029765</td><td>4.025835921668726</td></tr>\n",
       "<tr><td>127.48968033210458</td><td>61.72258164768267</td><td>530.7950990781364</td><td>-715.2782846089408</td><td>49.288752987563555</td><td>9.659495</td><td>8.123234506607584</td></tr>\n",
       "<tr><td>126.49040353037444</td><td>66.16833582259768</td><td>144.786785712217</td><td>124.37529053547584</td><td>10.778134053220755</td><td>16.584415</td><td>11.747133339983051</td></tr>\n",
       "<tr><td>124.59358012860116</td><td>61.46085607940323</td><td>128.26588482263713</td><td>30.42697419536343</td><td>16.55983340784323</td><td>8.05852</td><td>4.15380013438887</td></tr>\n",
       "</table></div>"
      ],
      "text/plain": [
       "<Table length=10>\n",
       "        ra                dec        ... phot_g_mean_mag     g_mag_abs     \n",
       "       deg                deg        ...       mag                         \n",
       "     float64            float64      ...     float32          float64      \n",
       "------------------ ----------------- ... --------------- ------------------\n",
       "124.01144966021175 65.88461692187626 ...        20.91073  17.19174926444787\n",
       "120.43804827470753 68.86202269142112 ...       16.861578  12.54969143040855\n",
       " 129.4503472979296 64.71585025054333 ...        9.413093  4.686056713128586\n",
       "119.20575805974968 66.83225418999076 ...        17.78913  14.64402983493899\n",
       "118.08689347243653 69.42490496669896 ...        16.69432 12.437442645822813\n",
       "118.08533569980663 69.42563479208752 ...       14.970832 10.710158227040015\n",
       "122.58738707958943 69.72560126912373 ...       6.4029765  4.025835921668726\n",
       "127.48968033210458 61.72258164768267 ...        9.659495  8.123234506607584\n",
       "126.49040353037444 66.16833582259768 ...       16.584415 11.747133339983051\n",
       "124.59358012860116 61.46085607940323 ...         8.05852   4.15380013438887"
      ]
     },
     "execution_count": 16,
     "metadata": {},
     "output_type": "execute_result"
    }
   ],
   "source": [
    "query7 = \"\"\"\n",
    "SELECT\n",
    "TOP 10\n",
    "    ra, dec, pmra, pmdec, parallax, phot_g_mean_mag,\n",
    "    gaia.phot_g_mean_mag + 5*log10(gaia.parallax) - 10 AS g_mag_abs\n",
    "FROM\n",
    "    gaiaedr3.gaia_source AS gaia\n",
    "WHERE\n",
    "    parallax > 10\n",
    "    AND dec > 60\n",
    "    AND pmra > 100\n",
    "\"\"\"\n",
    "job7 = Gaia.launch_job(query7)\n",
    "table7 = job7.get_results()\n",
    "table7"
   ]
  },
  {
   "cell_type": "markdown",
   "id": "88cb1e91-aa5d-429e-a4cb-c82d3748706e",
   "metadata": {},
   "source": [
    "## Select by region"
   ]
  },
  {
   "cell_type": "code",
   "execution_count": 17,
   "id": "c22b2764-719c-4888-8ab9-4a382f56794f",
   "metadata": {},
   "outputs": [
    {
     "data": {
      "text/html": [
       "<div><i>Table length=10</i>\n",
       "<table id=\"table140674062016592\" class=\"table-striped table-bordered table-condensed\">\n",
       "<thead><tr><th>ra</th><th>dec</th><th>pmra</th><th>pmdec</th><th>parallax</th><th>phot_g_mean_mag</th></tr></thead>\n",
       "<thead><tr><th>deg</th><th>deg</th><th>mas / yr</th><th>mas / yr</th><th>mas</th><th>mag</th></tr></thead>\n",
       "<thead><tr><th>float64</th><th>float64</th><th>float64</th><th>float64</th><th>float64</th><th>float32</th></tr></thead>\n",
       "<tr><td>15.071831169789679</td><td>59.91302873540859</td><td>--</td><td>--</td><td>--</td><td>20.977959</td></tr>\n",
       "<tr><td>14.933407749253156</td><td>59.91153362051373</td><td>5.3847781088986935</td><td>-1.9325072661079779</td><td>-0.30453374880917633</td><td>20.50302</td></tr>\n",
       "<tr><td>14.937958587597747</td><td>59.90932563471064</td><td>-3.1696274429712084</td><td>-1.4072159490972487</td><td>0.10879996568743136</td><td>18.139885</td></tr>\n",
       "<tr><td>14.937548388938223</td><td>59.90891303230689</td><td>-0.7745266496067702</td><td>-0.9903480716602326</td><td>-0.561817412847953</td><td>20.46902</td></tr>\n",
       "<tr><td>14.939829641766513</td><td>59.90624967964418</td><td>-2.4632653146799894</td><td>-1.2223383927227272</td><td>0.1753889214442334</td><td>18.504358</td></tr>\n",
       "<tr><td>14.94113722990093</td><td>59.90615950498211</td><td>-1.9887068693401864</td><td>-1.4055849953931179</td><td>-0.3320124881313277</td><td>19.67224</td></tr>\n",
       "<tr><td>14.936752386111156</td><td>59.90689111014183</td><td>--</td><td>--</td><td>--</td><td>20.935993</td></tr>\n",
       "<tr><td>14.934914803073248</td><td>59.90953548064737</td><td>--</td><td>--</td><td>--</td><td>20.938787</td></tr>\n",
       "<tr><td>14.93420757104676</td><td>59.91042479164623</td><td>-1.2897449235476026</td><td>-0.7208841472937249</td><td>0.7255961226204158</td><td>20.677528</td></tr>\n",
       "<tr><td>14.946025565064204</td><td>59.90645570877076</td><td>-0.027512139024265192</td><td>-5.5459919860091045</td><td>0.7700927329352995</td><td>20.721956</td></tr>\n",
       "</table></div>"
      ],
      "text/plain": [
       "<Table length=10>\n",
       "        ra                dec        ...       parallax       phot_g_mean_mag\n",
       "       deg                deg        ...         mas                mag      \n",
       "     float64            float64      ...       float64            float32    \n",
       "------------------ ----------------- ... -------------------- ---------------\n",
       "15.071831169789679 59.91302873540859 ...                   --       20.977959\n",
       "14.933407749253156 59.91153362051373 ... -0.30453374880917633        20.50302\n",
       "14.937958587597747 59.90932563471064 ...  0.10879996568743136       18.139885\n",
       "14.937548388938223 59.90891303230689 ...   -0.561817412847953        20.46902\n",
       "14.939829641766513 59.90624967964418 ...   0.1753889214442334       18.504358\n",
       " 14.94113722990093 59.90615950498211 ...  -0.3320124881313277        19.67224\n",
       "14.936752386111156 59.90689111014183 ...                   --       20.935993\n",
       "14.934914803073248 59.90953548064737 ...                   --       20.938787\n",
       " 14.93420757104676 59.91042479164623 ...   0.7255961226204158       20.677528\n",
       "14.946025565064204 59.90645570877076 ...   0.7700927329352995       20.721956"
      ]
     },
     "execution_count": 17,
     "metadata": {},
     "output_type": "execute_result"
    }
   ],
   "source": [
    "query8 = \"\"\"\n",
    "SELECT\n",
    "TOP 10\n",
    "    ra, dec, pmra, pmdec, parallax, phot_g_mean_mag\n",
    "FROM\n",
    "    gaiaedr3.gaia_source AS gaia\n",
    "WHERE\n",
    "    CONTAINS(POINT(ra, dec), CIRCLE(15, 60, 0.1)) = 1\n",
    "\"\"\"\n",
    "job8 = Gaia.launch_job(query8)\n",
    "table8 = job8.get_results()\n",
    "table8"
   ]
  },
  {
   "cell_type": "markdown",
   "id": "505a3547-9a96-47c9-8486-94204511238f",
   "metadata": {},
   "source": [
    "## Create a query programatically"
   ]
  },
  {
   "cell_type": "code",
   "execution_count": 18,
   "id": "584582a7-9361-4412-b781-65d8c2758ff1",
   "metadata": {},
   "outputs": [],
   "source": [
    "my_columns = 'ra, dec, phot_g_mean_mag'\n",
    "my_table = 'gaiaedr3.gaia_source'\n",
    "min_dec = 50\n",
    "max_dec = 80\n",
    "max_mag = 10"
   ]
  },
  {
   "cell_type": "code",
   "execution_count": 19,
   "id": "507d79d1-4370-43de-a23f-f83ef3edc977",
   "metadata": {},
   "outputs": [
    {
     "data": {
      "text/html": [
       "<div><i>Table length=10</i>\n",
       "<table id=\"table140674062014480\" class=\"table-striped table-bordered table-condensed\">\n",
       "<thead><tr><th>ra</th><th>dec</th><th>phot_g_mean_mag</th></tr></thead>\n",
       "<thead><tr><th>deg</th><th>deg</th><th>mag</th></tr></thead>\n",
       "<thead><tr><th>float64</th><th>float64</th><th>float32</th></tr></thead>\n",
       "<tr><td>193.50817846782095</td><td>55.959784778923755</td><td>1.731607</td></tr>\n",
       "<tr><td>10.12724197930297</td><td>56.53718879378639</td><td>1.9425238</td></tr>\n",
       "<tr><td>14.177450998208093</td><td>60.71672280471204</td><td>2.0645833</td></tr>\n",
       "<tr><td>2.2990654282325518</td><td>59.14897576410493</td><td>2.232691</td></tr>\n",
       "<tr><td>200.98237336533253</td><td>54.92525907860076</td><td>2.282647</td></tr>\n",
       "<tr><td>165.46097417209683</td><td>56.38257749355825</td><td>2.3985364</td></tr>\n",
       "<tr><td>319.64633694354825</td><td>62.58579604829105</td><td>2.428267</td></tr>\n",
       "<tr><td>178.45836676657404</td><td>53.694797326318046</td><td>2.4362755</td></tr>\n",
       "<tr><td>325.87694430713873</td><td>58.78002783444686</td><td>2.450726</td></tr>\n",
       "<tr><td>245.9977069286059</td><td>61.514463511632556</td><td>2.494415</td></tr>\n",
       "</table></div>"
      ],
      "text/plain": [
       "<Table length=10>\n",
       "        ra                dec         phot_g_mean_mag\n",
       "       deg                deg               mag      \n",
       "     float64            float64           float32    \n",
       "------------------ ------------------ ---------------\n",
       "193.50817846782095 55.959784778923755        1.731607\n",
       " 10.12724197930297  56.53718879378639       1.9425238\n",
       "14.177450998208093  60.71672280471204       2.0645833\n",
       "2.2990654282325518  59.14897576410493        2.232691\n",
       "200.98237336533253  54.92525907860076        2.282647\n",
       "165.46097417209683  56.38257749355825       2.3985364\n",
       "319.64633694354825  62.58579604829105        2.428267\n",
       "178.45836676657404 53.694797326318046       2.4362755\n",
       "325.87694430713873  58.78002783444686        2.450726\n",
       " 245.9977069286059 61.514463511632556        2.494415"
      ]
     },
     "execution_count": 19,
     "metadata": {},
     "output_type": "execute_result"
    }
   ],
   "source": [
    "query9 = f\"\"\"\n",
    "SELECT\n",
    "TOP 10\n",
    "    {my_columns}\n",
    "FROM\n",
    "    {my_table}\n",
    "WHERE\n",
    "    dec BETWEEN {min_dec} AND {max_dec}\n",
    "    AND phot_g_mean_mag < {max_mag}\n",
    "\"\"\"\n",
    "job9 = Gaia.launch_job(query9)\n",
    "table9 = job9.get_results()\n",
    "table9"
   ]
  },
  {
   "cell_type": "markdown",
   "id": "11b1b350-1d60-4559-8212-2ee4f37ac8d3",
   "metadata": {},
   "source": [
    "You can verify that `query9` is exactly the same as `query3_1` and the `table9` is the same as `table3_1`."
   ]
  },
  {
   "cell_type": "code",
   "execution_count": 20,
   "id": "82f0f012-9b01-42cf-87f6-55bdf5532aa6",
   "metadata": {},
   "outputs": [
    {
     "name": "stdout",
     "output_type": "stream",
     "text": [
      "\n",
      "SELECT\n",
      "TOP 10\n",
      "    ra, dec, phot_g_mean_mag\n",
      "FROM\n",
      "    gaiaedr3.gaia_source\n",
      "WHERE\n",
      "    dec BETWEEN 50 AND 80\n",
      "    AND phot_g_mean_mag < 10\n",
      " \n",
      "SELECT\n",
      "TOP 10\n",
      "    ra, dec, phot_g_mean_mag\n",
      "FROM\n",
      "    gaiaedr3.gaia_source\n",
      "WHERE\n",
      "    dec BETWEEN 50 AND 80\n",
      "    AND phot_g_mean_mag < 10\n",
      "\n"
     ]
    }
   ],
   "source": [
    "print(query9, query3_1)"
   ]
  },
  {
   "cell_type": "code",
   "execution_count": 21,
   "id": "7046dd3d-f4c0-43e4-bb7e-a5efb5286a6c",
   "metadata": {},
   "outputs": [
    {
     "name": "stdout",
     "output_type": "stream",
     "text": [
      "        ra                dec         phot_g_mean_mag\n",
      "       deg                deg               mag      \n",
      "------------------ ------------------ ---------------\n",
      "193.50817846782095 55.959784778923755        1.731607\n",
      " 10.12724197930297  56.53718879378639       1.9425238\n",
      "14.177450998208093  60.71672280471204       2.0645833\n",
      "2.2990654282325518  59.14897576410493        2.232691\n",
      "200.98237336533253  54.92525907860076        2.282647\n",
      "165.46097417209683  56.38257749355825       2.3985364\n",
      "319.64633694354825  62.58579604829105        2.428267\n",
      "178.45836676657404 53.694797326318046       2.4362755\n",
      "325.87694430713873  58.78002783444686        2.450726\n",
      " 245.9977069286059 61.514463511632556        2.494415\n",
      "        ra                dec         phot_g_mean_mag\n",
      "       deg                deg               mag      \n",
      "------------------ ------------------ ---------------\n",
      "193.50817846782095 55.959784778923755        1.731607\n",
      " 10.12724197930297  56.53718879378639       1.9425238\n",
      "14.177450998208093  60.71672280471204       2.0645833\n",
      "2.2990654282325518  59.14897576410493        2.232691\n",
      "200.98237336533253  54.92525907860076        2.282647\n",
      "165.46097417209683  56.38257749355825       2.3985364\n",
      "319.64633694354825  62.58579604829105        2.428267\n",
      "178.45836676657404 53.694797326318046       2.4362755\n",
      "325.87694430713873  58.78002783444686        2.450726\n",
      " 245.9977069286059 61.514463511632556        2.494415\n"
     ]
    }
   ],
   "source": [
    "print(table9)\n",
    "print(table3_1)"
   ]
  },
  {
   "cell_type": "markdown",
   "id": "71d7fffe-4203-4d91-a091-db8173f61475",
   "metadata": {},
   "source": [
    "## ⛏ Exercise 3.2\n",
    "\n",
    "- Use `SkyCoord.from_name()` to get the coordinates of the star Vega.\n",
    "- Run an ADQL query to find stars within 50 arcsec of that position to obtain columns 'ra, dec, phot_g_mean_mag, distance_kpc'. You will need to compute the new column distance_kpc.\n",
    "- Is Vega included in the resulting table? Read more [I can not find data for a bright star. Why is that?](https://www.cosmos.esa.int/web/gaia/faqs#BrightStar). Also, read about the VEGAMAG system [here](https://gea.esac.esa.int/archive/documentation/GDR2/Data_processing/chap_cu5pho/sec_cu5pho_calibr/ssec_cu5pho_calibr_extern.html#SSS6):\n",
    "> The VEGAMAG system is defined so that Vega’s colours are all zero: this is equivalent to normalizing all the observed fluxes to the flux of Vega."
   ]
  },
  {
   "cell_type": "code",
   "execution_count": 22,
   "id": "b6692fec-4f7e-4a90-9ff4-3b6921721dc7",
   "metadata": {},
   "outputs": [],
   "source": [
    "vega_coord = SkyCoord.from_name(\"Vega\")\n",
    "vega_coord.to_string('hmsdms')\n",
    "search_radius = 50/60/60 # We need in degrees"
   ]
  },
  {
   "cell_type": "code",
   "execution_count": 23,
   "id": "935222f3-8006-4122-947a-a645ba9c95fe",
   "metadata": {},
   "outputs": [
    {
     "data": {
      "text/html": [
       "<div><i>Table length=5</i>\n",
       "<table id=\"table140674062024224\" class=\"table-striped table-bordered table-condensed\">\n",
       "<thead><tr><th>ra</th><th>dec</th><th>phot_g_mean_mag</th><th>distance_kpc</th></tr></thead>\n",
       "<thead><tr><th>deg</th><th>deg</th><th>mag</th><th></th></tr></thead>\n",
       "<thead><tr><th>float64</th><th>float64</th><th>float32</th><th>float64</th></tr></thead>\n",
       "<tr><td>279.23090140207887</td><td>38.77493571907557</td><td>16.828749</td><td>1.6757087299450542</td></tr>\n",
       "<tr><td>279.24601139325796</td><td>38.77404619176373</td><td>17.17283</td><td>-0.5162007040686745</td></tr>\n",
       "<tr><td>279.24289761454577</td><td>38.78910887473515</td><td>17.335606</td><td>--</td></tr>\n",
       "<tr><td>279.2222641579334</td><td>38.774730984228476</td><td>16.93353</td><td>0.26777310537663623</td></tr>\n",
       "<tr><td>279.2242956202031</td><td>38.78935247026724</td><td>15.78001</td><td>1.4851713119866699</td></tr>\n",
       "</table></div>"
      ],
      "text/plain": [
       "<Table length=5>\n",
       "        ra                dec         phot_g_mean_mag     distance_kpc   \n",
       "       deg                deg               mag                          \n",
       "     float64            float64           float32           float64      \n",
       "------------------ ------------------ --------------- -------------------\n",
       "279.23090140207887  38.77493571907557       16.828749  1.6757087299450542\n",
       "279.24601139325796  38.77404619176373        17.17283 -0.5162007040686745\n",
       "279.24289761454577  38.78910887473515       17.335606                  --\n",
       " 279.2222641579334 38.774730984228476        16.93353 0.26777310537663623\n",
       " 279.2242956202031  38.78935247026724        15.78001  1.4851713119866699"
      ]
     },
     "execution_count": 23,
     "metadata": {},
     "output_type": "execute_result"
    }
   ],
   "source": [
    "query3_2 = f\"\"\"\n",
    "SELECT\n",
    "TOP 1000\n",
    "    ra, dec, phot_g_mean_mag, 1/parallax AS distance_kpc\n",
    "FROM\n",
    "    gaiaedr3.gaia_source AS gaia\n",
    "WHERE\n",
    "    CONTAINS(POINT(ra, dec),\n",
    "    CIRCLE({vega_coord.ra.deg}, {vega_coord.dec.deg}, {search_radius})) = 1\n",
    "\"\"\"\n",
    "job3_2 = Gaia.launch_job(query3_2)\n",
    "table3_2 = job3_2.get_results()\n",
    "table3_2"
   ]
  },
  {
   "cell_type": "markdown",
   "id": "5f7a8922-d8a9-400d-8685-2864714ca5e6",
   "metadata": {},
   "source": [
    "### 🌪 Additional fun\n",
    "Repeat the query around Vega but with a radius of 100 arcsec. Select 50 rows. Make a plot of the R.A. and Dec. of the resulting stars."
   ]
  },
  {
   "cell_type": "code",
   "execution_count": 24,
   "id": "da24d676-4e03-4833-ba30-094d176b12c1",
   "metadata": {},
   "outputs": [
    {
     "data": {
      "text/plain": [
       "Text(0, 0.5, 'Declination [deg]')"
      ]
     },
     "execution_count": 24,
     "metadata": {},
     "output_type": "execute_result"
    },
    {
     "data": {
      "image/png": "[encoded data removed]",
      "text/plain": [
       "<Figure size 720x576 with 1 Axes>"
      ]
     },
     "metadata": {
      "needs_background": "light"
     },
     "output_type": "display_data"
    }
   ],
   "source": [
    "vega_coord = SkyCoord.from_name(\"Vega\")\n",
    "vega_coord.to_string('hmsdms')\n",
    "search_radius = 100/60/60 # We need in degrees\n",
    "query3_2b = f\"\"\"\n",
    "SELECT\n",
    "TOP 50\n",
    "    ra, dec, phot_g_mean_mag, 1/parallax AS distance_kpc\n",
    "FROM\n",
    "    gaiaedr3.gaia_source AS gaia\n",
    "WHERE\n",
    "    CONTAINS(POINT(ra, dec),\n",
    "    CIRCLE({vega_coord.ra.deg}, {vega_coord.dec.deg}, {search_radius})) = 1\n",
    "\"\"\"\n",
    "job3_2b = Gaia.launch_job(query3_2b)\n",
    "table3_2b = job3_2b.get_results()\n",
    "table3_2b\n",
    "\n",
    "fig, ax = plt.subplots(figsize=(10,8))\n",
    "\n",
    "ax.plot(table3_2b['ra'], table3_2b['dec'], 'o')\n",
    "ax.plot(vega_coord.ra.deg, vega_coord.dec.deg, '+', color='r', ms=50)\n",
    "\n",
    "ax.set_aspect('equal')\n",
    "\n",
    "ax.set_xlabel('R.A. [deg]')\n",
    "ax.set_ylabel('Declination [deg]')"
   ]
  },
  {
   "cell_type": "code",
   "execution_count": null,
   "id": "485a2e67-7825-4ba8-bad2-9baedd429ef3",
   "metadata": {},
   "outputs": [],
   "source": []
  },
  {
   "cell_type": "code",
   "execution_count": 25,
   "id": "acb706b4-328f-413c-bef2-3c1b40fc8ed0",
   "metadata": {},
   "outputs": [
    {
     "data": {
      "text/plain": [
       "'ra, dec, parallax, parallax_error, pmra, pmra_error, pmdec, pmdec_error, astrometric_matched_transits, phot_g_mean_flux, phot_g_mean_mag, phot_bp_mean_mag, phot_rp_mean_mag, bp_rp, bp_g, g_rp, dr2_radial_velocity, dr2_radial_velocity_error, dr2_rv_template_teff'"
      ]
     },
     "execution_count": 25,
     "metadata": {},
     "output_type": "execute_result"
    }
   ],
   "source": [
    "gaia_columns = ['ra','dec','parallax','parallax_error','pmra','pmra_error','pmdec','pmdec_error','astrometric_matched_transits','phot_g_mean_flux','phot_g_mean_mag','phot_bp_mean_mag','phot_rp_mean_mag','bp_rp','bp_g','g_rp','dr2_radial_velocity','dr2_radial_velocity_error','dr2_rv_template_teff']\n",
    "my_columns = ', '.join(gaia_columns)\n",
    "my_columns"
   ]
  },
  {
   "cell_type": "code",
   "execution_count": 26,
   "id": "bb17fd23-280d-46ac-b41a-7df1d110dd7b",
   "metadata": {},
   "outputs": [],
   "source": [
    "my_table = 'gaiaedr3.gaia_source'\n",
    "min_ra = 130.025 - 3/2\n",
    "max_ra = 130.025 + 3/2\n",
    "min_dec = 19.98333 - 2/2\n",
    "max_dec = 19.98333 + 2/2\n",
    "min_parallax = 0"
   ]
  },
  {
   "cell_type": "code",
   "execution_count": 27,
   "id": "a9f207e9-990d-4844-9550-3c853a750021",
   "metadata": {},
   "outputs": [],
   "source": [
    "query_final = f\"\"\"\n",
    "SELECT\n",
    "TOP 35000\n",
    "    {my_columns},\n",
    "    1/parallax AS distance_kpc,\n",
    "    phot_g_mean_mag + 5*log10(parallax) - 10 AS g_mag_abs\n",
    "FROM\n",
    "    {my_table}\n",
    "WHERE\n",
    "    ra BETWEEN {min_ra} AND {max_ra}\n",
    "    AND dec BETWEEN {min_dec} AND {max_dec}\n",
    "    AND parallax > {min_parallax}\n",
    "\"\"\"\n",
    "job_final = Gaia.launch_job(query_final)\n",
    "data1_adql = job_final.get_results()"
   ]
  },
  {
   "cell_type": "code",
   "execution_count": 28,
   "id": "e35afdf8-9f82-4c73-a6cf-5c5b0232727d",
   "metadata": {},
   "outputs": [
    {
     "data": {
      "text/html": [
       "<div><i>Table length=23050</i>\n",
       "<table id=\"table140674107437552\" class=\"table-striped table-bordered table-condensed\">\n",
       "<thead><tr><th>ra</th><th>dec</th><th>parallax</th><th>parallax_error</th><th>pmra</th><th>pmra_error</th><th>pmdec</th><th>pmdec_error</th><th>astrometric_matched_transits</th><th>phot_g_mean_flux</th><th>phot_g_mean_mag</th><th>phot_bp_mean_mag</th><th>phot_rp_mean_mag</th><th>bp_rp</th><th>bp_g</th><th>g_rp</th><th>dr2_radial_velocity</th><th>dr2_radial_velocity_error</th><th>dr2_rv_template_teff</th><th>distance_kpc</th><th>g_mag_abs</th></tr></thead>\n",
       "<thead><tr><th>deg</th><th>deg</th><th>mas</th><th>mas</th><th>mas / yr</th><th>mas / yr</th><th>mas / yr</th><th>mas / yr</th><th></th><th>electron / s</th><th>mag</th><th>mag</th><th>mag</th><th>mag</th><th>mag</th><th>mag</th><th>km / s</th><th>km / s</th><th>K</th><th></th><th></th></tr></thead>\n",
       "<thead><tr><th>float64</th><th>float64</th><th>float64</th><th>float32</th><th>float64</th><th>float32</th><th>float64</th><th>float32</th><th>int16</th><th>float64</th><th>float32</th><th>float32</th><th>float32</th><th>float32</th><th>float32</th><th>float32</th><th>float32</th><th>float32</th><th>float32</th><th>float64</th><th>float64</th></tr></thead>\n",
       "<tr><td>131.22968270095606</td><td>18.983827201863143</td><td>0.31998871956721814</td><td>0.49794808</td><td>-1.6223404085587294</td><td>0.5614138</td><td>-1.0105924563161917</td><td>0.38008142</td><td>46</td><td>241.0244269476377</td><td>19.732214</td><td>20.053925</td><td>19.384422</td><td>0.66950226</td><td>0.3217106</td><td>0.34779167</td><td>--</td><td>--</td><td>--</td><td>3.1251101643598282</td><td>7.257887316910093</td></tr>\n",
       "<tr><td>131.28445136091062</td><td>19.00845193710329</td><td>0.5151998785794699</td><td>1.3006121</td><td>-1.5297876468186185</td><td>1.2919384</td><td>-2.843560646665468</td><td>1.2246985</td><td>25</td><td>96.2696925676696</td><td>20.728643</td><td>20.89959</td><td>20.31875</td><td>0.58083916</td><td>0.17094612</td><td>0.40989304</td><td>--</td><td>--</td><td>--</td><td>1.9409942462665961</td><td>9.28852217735211</td></tr>\n",
       "<tr><td>131.28563865066036</td><td>19.010494922567894</td><td>0.13490804016686328</td><td>0.3181554</td><td>-3.076730055168175</td><td>0.3238071</td><td>-7.359471668488383</td><td>0.23946682</td><td>47</td><td>394.8387851857072</td><td>19.196318</td><td>19.62897</td><td>18.777939</td><td>0.85103035</td><td>0.43265152</td><td>0.41837883</td><td>--</td><td>--</td><td>--</td><td>7.412456653903898</td><td>4.846506839030049</td></tr>\n",
       "<tr><td>131.25698350902147</td><td>18.99538731950092</td><td>1.2187092847745848</td><td>0.2575996</td><td>-5.5986482301070515</td><td>0.25462997</td><td>-4.4498040876448846</td><td>0.19418992</td><td>45</td><td>575.2274112416579</td><td>18.787767</td><td>19.775286</td><td>17.816483</td><td>1.9588032</td><td>0.9875183</td><td>0.97128487</td><td>--</td><td>--</td><td>--</td><td>0.8205402325994112</td><td>9.217268009429358</td></tr>\n",
       "<tr><td>131.2355391791492</td><td>18.999266470059794</td><td>0.5964944744112647</td><td>0.69358546</td><td>-9.987451244118489</td><td>0.6922935</td><td>1.4050607195805065</td><td>0.5469776</td><td>44</td><td>166.8080069396004</td><td>20.131824</td><td>20.92843</td><td>18.943783</td><td>1.9846478</td><td>0.79660606</td><td>1.1880417</td><td>--</td><td>--</td><td>--</td><td>1.6764614642692073</td><td>9.00985661823622</td></tr>\n",
       "<tr><td>131.23663846952257</td><td>19.000781690200437</td><td>0.8711013589326823</td><td>0.073754616</td><td>-10.281595584933397</td><td>0.07906608</td><td>1.6545907275451583</td><td>0.06229423</td><td>45</td><td>4077.3282298584913</td><td>16.661428</td><td>17.27445</td><td>15.9210205</td><td>1.3534298</td><td>0.61302185</td><td>0.74040794</td><td>--</td><td>--</td><td>--</td><td>1.147972035338403</td><td>6.361771907770752</td></tr>\n",
       "<tr><td>131.27836980626788</td><td>19.01688286266123</td><td>1.11703994851533</td><td>0.01790161</td><td>2.057040558069246</td><td>0.018296564</td><td>1.50343545327416</td><td>0.014275822</td><td>46</td><td>77931.8217543654</td><td>13.458079</td><td>13.736864</td><td>13.01631</td><td>0.72055435</td><td>0.27878475</td><td>0.4417696</td><td>--</td><td>--</td><td>--</td><td>0.8952231308549985</td><td>3.69842286304986</td></tr>\n",
       "<tr><td>131.27870091778294</td><td>19.020709260033875</td><td>4.794118754888754</td><td>0.043951128</td><td>15.603651580360394</td><td>0.045697227</td><td>-41.20474724407915</td><td>0.034721203</td><td>48</td><td>9327.298367502075</td><td>15.762978</td><td>16.970934</td><td>14.671906</td><td>2.2990274</td><td>1.2079563</td><td>1.0910711</td><td>--</td><td>--</td><td>--</td><td>0.20858890885426234</td><td>9.166521538692322</td></tr>\n",
       "<tr><td>131.2731906821881</td><td>19.0180380762361</td><td>2.414505544439155</td><td>0.22249225</td><td>-14.872004427629262</td><td>0.22744688</td><td>-9.300698534650607</td><td>0.17354509</td><td>48</td><td>682.3777938656892</td><td>18.602304</td><td>20.169382</td><td>17.41232</td><td>2.757063</td><td>1.5670776</td><td>1.1899853</td><td>--</td><td>--</td><td>--</td><td>0.4141634722285475</td><td>10.516445493666868</td></tr>\n",
       "<tr><td>...</td><td>...</td><td>...</td><td>...</td><td>...</td><td>...</td><td>...</td><td>...</td><td>...</td><td>...</td><td>...</td><td>...</td><td>...</td><td>...</td><td>...</td><td>...</td><td>...</td><td>...</td><td>...</td><td>...</td><td>...</td></tr>\n",
       "<tr><td>129.84701730860354</td><td>20.841464938980995</td><td>1.00030238847953</td><td>0.7795799</td><td>-1.7487145924241583</td><td>0.6619261</td><td>-3.0153425881209075</td><td>0.48580402</td><td>27</td><td>163.37847280093717</td><td>20.154379</td><td>20.315212</td><td>19.849916</td><td>0.4652958</td><td>0.16083336</td><td>0.30446243</td><td>--</td><td>--</td><td>--</td><td>0.999697702931621</td><td>10.155035419973068</td></tr>\n",
       "<tr><td>129.8579840580824</td><td>20.85735915206191</td><td>1.1001908439921904</td><td>0.036596924</td><td>-10.717967549531958</td><td>0.03787748</td><td>-8.499646895849594</td><td>0.025243955</td><td>26</td><td>14429.895092271698</td><td>15.289209</td><td>15.690584</td><td>14.714768</td><td>0.9758158</td><td>0.40137482</td><td>0.57444096</td><td>--</td><td>--</td><td>--</td><td>0.908933214142526</td><td>5.496549497561826</td></tr>\n",
       "<tr><td>129.89430613665292</td><td>20.845494319294392</td><td>0.4417825968943987</td><td>0.06740759</td><td>0.7467490215435215</td><td>0.06563276</td><td>-4.2516871888432615</td><td>0.04448367</td><td>30</td><td>4609.870011584168</td><td>16.528145</td><td>16.95546</td><td>15.926557</td><td>1.028903</td><td>0.42731476</td><td>0.60158825</td><td>--</td><td>--</td><td>--</td><td>2.2635567970076345</td><td>4.754187855153157</td></tr>\n",
       "<tr><td>129.93034737686972</td><td>20.858403919729916</td><td>1.1403726797611216</td><td>0.19211665</td><td>-6.93492988488018</td><td>0.1851288</td><td>1.5295012418515808</td><td>0.12551618</td><td>30</td><td>934.934518096504</td><td>18.260414</td><td>19.263298</td><td>17.268274</td><td>1.9950237</td><td>1.0028839</td><td>0.9921398</td><td>--</td><td>--</td><td>--</td><td>0.8769063111977341</td><td>8.545648144751404</td></tr>\n",
       "<tr><td>129.9324604404652</td><td>20.869619331223454</td><td>0.5030932960310736</td><td>0.04921994</td><td>9.685297329912853</td><td>0.04896233</td><td>-27.677164720930428</td><td>0.035862017</td><td>28</td><td>9358.86862218537</td><td>15.759309</td><td>16.02855</td><td>15.332615</td><td>0.6959343</td><td>0.26924038</td><td>0.42669392</td><td>--</td><td>--</td><td>--</td><td>1.9877028930598888</td><td>4.26755146587179</td></tr>\n",
       "<tr><td>129.8752973857709</td><td>20.855015458031772</td><td>1.8384664043182364</td><td>0.28743675</td><td>3.7502217741898844</td><td>0.2760224</td><td>-20.917500637503284</td><td>0.1843173</td><td>31</td><td>453.66502630151723</td><td>19.045528</td><td>20.539148</td><td>17.902376</td><td>2.6367722</td><td>1.4936199</td><td>1.1431522</td><td>--</td><td>--</td><td>--</td><td>0.5439316147693397</td><td>10.367806902300803</td></tr>\n",
       "<tr><td>129.8853920615309</td><td>20.8624373498119</td><td>0.8700436020287718</td><td>0.041050747</td><td>-5.6977663729011985</td><td>0.040262688</td><td>-13.978221753754935</td><td>0.027236756</td><td>30</td><td>11601.750827924203</td><td>15.526058</td><td>15.858441</td><td>15.020295</td><td>0.8381462</td><td>0.33238316</td><td>0.50576305</td><td>--</td><td>--</td><td>--</td><td>1.1493676841806493</td><td>5.223763285666289</td></tr>\n",
       "<tr><td>129.86045507047857</td><td>20.862325284544482</td><td>5.313206614146726</td><td>0.17636855</td><td>-35.31983215467018</td><td>0.18033591</td><td>-14.799064069349278</td><td>0.12461321</td><td>27</td><td>978.2209590738411</td><td>18.211275</td><td>19.90107</td><td>16.919949</td><td>2.981121</td><td>1.6897945</td><td>1.2913265</td><td>--</td><td>--</td><td>--</td><td>0.1882102603232935</td><td>11.838058623734103</td></tr>\n",
       "<tr><td>129.87206004818566</td><td>20.867569858656825</td><td>0.5655539181073379</td><td>0.09762267</td><td>-5.278600485191845</td><td>0.095895894</td><td>-1.0222736922386684</td><td>0.06512595</td><td>26</td><td>2359.659803959807</td><td>17.255243</td><td>17.721642</td><td>16.639145</td><td>1.0824966</td><td>0.46639824</td><td>0.6160984</td><td>--</td><td>--</td><td>--</td><td>1.7681780074065503</td><td>6.017613378823963</td></tr>\n",
       "</table></div>"
      ],
      "text/plain": [
       "<Table length=23050>\n",
       "        ra                dec         ...     g_mag_abs     \n",
       "       deg                deg         ...                   \n",
       "     float64            float64       ...      float64      \n",
       "------------------ ------------------ ... ------------------\n",
       "131.22968270095606 18.983827201863143 ...  7.257887316910093\n",
       "131.28445136091062  19.00845193710329 ...   9.28852217735211\n",
       "131.28563865066036 19.010494922567894 ...  4.846506839030049\n",
       "131.25698350902147  18.99538731950092 ...  9.217268009429358\n",
       " 131.2355391791492 18.999266470059794 ...   9.00985661823622\n",
       "131.23663846952257 19.000781690200437 ...  6.361771907770752\n",
       "131.27836980626788  19.01688286266123 ...   3.69842286304986\n",
       "131.27870091778294 19.020709260033875 ...  9.166521538692322\n",
       " 131.2731906821881   19.0180380762361 ... 10.516445493666868\n",
       "               ...                ... ...                ...\n",
       "129.84701730860354 20.841464938980995 ... 10.155035419973068\n",
       " 129.8579840580824  20.85735915206191 ...  5.496549497561826\n",
       "129.89430613665292 20.845494319294392 ...  4.754187855153157\n",
       "129.93034737686972 20.858403919729916 ...  8.545648144751404\n",
       " 129.9324604404652 20.869619331223454 ...   4.26755146587179\n",
       " 129.8752973857709 20.855015458031772 ... 10.367806902300803\n",
       " 129.8853920615309   20.8624373498119 ...  5.223763285666289\n",
       "129.86045507047857 20.862325284544482 ... 11.838058623734103\n",
       "129.87206004818566 20.867569858656825 ...  6.017613378823963"
      ]
     },
     "execution_count": 28,
     "metadata": {},
     "output_type": "execute_result"
    }
   ],
   "source": [
    "data1_adql"
   ]
  },
  {
   "cell_type": "markdown",
   "id": "59dc8f2b-eede-4c18-b644-f0aa2890a02a",
   "metadata": {},
   "source": [
    "Are the table obtained with ADQL the same obtained with astroquery and modified as a table? Let's see if the number of entries and the averaged values match exacty."
   ]
  },
  {
   "cell_type": "code",
   "execution_count": 29,
   "id": "2a778f90-a97f-4548-a8be-d413f87ea2c5",
   "metadata": {},
   "outputs": [
    {
     "name": "stdout",
     "output_type": "stream",
     "text": [
      "23050 23050\n",
      "129.99954593828224 129.99954593828224\n",
      "1.2586897281600946 1.2586897281600946\n",
      "3.644157839486788 3.6441578394867884\n",
      "7.521207604826898 7.521207604826898\n",
      "Yes!\n"
     ]
    }
   ],
   "source": [
    "print(len(data1), len(data1_adql))  # The number of entries\n",
    "print(data1['ra'].mean(),       data1_adql['ra'].mean())           # Same mean R.A.?\n",
    "print(data1['parallax'].mean(), data1_adql['parallax'].mean())     # Same mean parallax?\n",
    "print(data1['distance'].mean(), data1_adql['distance_kpc'].mean()) # Same mean computed distance?\n",
    "print(data1['Mg'].mean(), data1_adql['g_mag_abs'].mean())          # Same mean computed absolute magnitude?\n",
    "print('Yes!')"
   ]
  },
  {
   "cell_type": "code",
   "execution_count": null,
   "id": "f32458bf-3e1b-4cf9-9152-68f121dc8970",
   "metadata": {},
   "outputs": [],
   "source": []
  },
  {
   "cell_type": "code",
   "execution_count": null,
   "id": "ab8c4141-d9a2-4d52-8acc-0b3b1c2df9b8",
   "metadata": {},
   "outputs": [],
   "source": []
  },
  {
   "cell_type": "code",
   "execution_count": 30,
   "id": "ae709dff-3daa-496a-a870-b1a0ae28c747",
   "metadata": {},
   "outputs": [],
   "source": [
    "#external.gaiaedr3_distance\n"
   ]
  },
  {
   "cell_type": "code",
   "execution_count": null,
   "id": "b165ebf7-a01f-41dd-9a3b-f6849badb319",
   "metadata": {},
   "outputs": [],
   "source": []
  }
 ],
 "metadata": {
  "kernelspec": {
   "display_name": "Python 3 (ipykernel)",
   "language": "python",
   "name": "python3"
  },
  "language_info": {
   "codemirror_mode": {
    "name": "ipython",
    "version": 3
   },
   "file_extension": ".py",
   "mimetype": "text/x-python",
   "name": "python",
   "nbconvert_exporter": "python",
   "pygments_lexer": "ipython3",
   "version": "3.10.0"
  }
 },
 "nbformat": 4,
 "nbformat_minor": 5
}
