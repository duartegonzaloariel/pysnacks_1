{
 "cells": [
  {
   "cell_type": "markdown",
   "id": "b8662781-7447-45fd-9f6f-629d2ff51dee",
   "metadata": {},
   "source": [
    "# Set up environment\n",
    "Let's load the basic modules and read the tables from disk"
   ]
  },
  {
   "cell_type": "code",
   "execution_count": null,
   "id": "b17f6cb9-56b4-49d8-b3bb-ee9ff9ba7b36",
   "metadata": {},
   "outputs": [],
   "source": [
    "import numpy as np\n",
    "import astropy.units as u\n",
    "from astropy.table import Table, QTable\n",
    "from astropy.coordinates import SkyCoord\n",
    "import matplotlib.pyplot as plt"
   ]
  },
  {
   "cell_type": "markdown",
   "id": "e97c4674-7c04-437f-aacc-e73232d4c270",
   "metadata": {},
   "source": [
    "We will now load the two tables we generated in the last session. `data1` contains the Gaia query in a rectangle around our region of interest, excluding negative parallaxes. `cluster1` is our selection on the previous table to select sources with parallaxes between 5.0 and 5.7 mas."
   ]
  },
  {
   "cell_type": "markdown",
   "id": "019d176c-2df1-43a1-a1a2-cbfe83250590",
   "metadata": {},
   "source": [
    "⚠️ If you want to use the \"official\" `data1` and `cluster1` tables instead of the ones created by yourself do:\n",
    "- open a terminal\n",
    "- Navigate to the data folder  \n",
    "`cd pysnacks_1/tutorials/data`\n",
    "- Delete the files `data1.ecsv` and `cluster1.ecsv`."
   ]
  },
  {
   "cell_type": "code",
   "execution_count": null,
   "id": "4e670856-1de3-4f29-8639-ccb14ed4d468",
   "metadata": {},
   "outputs": [],
   "source": [
    "import os\n",
    "for my_file in ['data1', 'cluster1']:\n",
    "    if not os.path.isfile(f'../data/{my_file}.ecsv'):\n",
    "        print(f'Using official {my_file} file')\n",
    "        os.system(f'unzip ../data/backup/{my_file}.ecsv.zip')\n",
    "        os.system(f'mv {my_file}.ecsv ../data')\n",
    "    else:\n",
    "        print(f'Doing nothing because ../data/{my_file}.ecsv already exists')"
   ]
  },
  {
   "cell_type": "code",
   "execution_count": null,
   "id": "39c42ec8-0dbb-4606-8ecf-bcbedd2e809b",
   "metadata": {},
   "outputs": [],
   "source": [
    "data1 = Table.read('../data/data1.ecsv')\n",
    "cluster1 = Table.read('../data/cluster1.ecsv')"
   ]
  },
  {
   "cell_type": "markdown",
   "id": "df553fa5-6d97-4b5c-872f-beddbddd43d9",
   "metadata": {},
   "source": [
    "# ADQL searches\n",
    "\n",
    "Astronomical Data Query Language (ADQL) is a language based on the Structured Query Language (SQL) but developed for astronomy to query catalogs and tables following Virtual Observatory standards. Full specifications can be found [here](https://www.ivoa.net/documents/ADQL/20180112/PR-ADQL-2.1-20180112.html).\n",
    "\n",
    "- This [ADQL Cheat Sheet](http://simbad.u-strasbg.fr/simbad/tap/help/adqlHelp.html) is very useful.\n",
    "- Many ready-to-use ADQL examples on Gaia data: https://gaia.ari.uni-heidelberg.de/tap.html"
   ]
  },
  {
   "cell_type": "code",
   "execution_count": null,
   "id": "7ad8a760-509a-4ebb-96ca-7b03007e6a60",
   "metadata": {},
   "outputs": [],
   "source": [
    "from astroquery.gaia import Gaia"
   ]
  },
  {
   "cell_type": "markdown",
   "id": "e3704eca-37d1-4c74-985e-4b0814dcdfed",
   "metadata": {},
   "source": [
    "Gaia provides a large amount of tables. If you want to see all available tables (including many cross-matches with other catalogs like SDSS, WISE, UCAC4, Hipparcos, etc) you can run `Gaia.load_tables(only_names=True)`."
   ]
  },
  {
   "cell_type": "code",
   "execution_count": null,
   "id": "959cd283-00f7-4fd0-a926-6baeb04daeb8",
   "metadata": {},
   "outputs": [],
   "source": [
    "tables = Gaia.load_tables(only_names=True)\n",
    "for table in tables:\n",
    "    print(table.name)"
   ]
  },
  {
   "cell_type": "markdown",
   "id": "a036639c-efb9-4e34-b78a-90297b517ba5",
   "metadata": {},
   "source": [
    "For this tutorial we are going to use table the full Gaia EDR3 catalog:  \n",
    "`gaiaedr3.gaia_source`"
   ]
  },
  {
   "cell_type": "markdown",
   "id": "e6e40288-95e0-460b-bcc2-67ca9112c2a3",
   "metadata": {},
   "source": [
    "## Basic ADQL query\n",
    "\n",
    "There are 3 main stages for a query:\n",
    "1. Write the query as a text string\n",
    "2. Launch the job with the function `Gaia.launch_job()`\n",
    "3. Convert the job into an astropy Table with `job.get_results()`.\n",
    "\n",
    "The query will be written as a python string, which we will send to the Gaia server as a job. The main ingredients to write a query are these statements:\n",
    "- `SELECT`: this statement is used to select data from a database.\n",
    "- `TOP`: to limit the query to a certain number of rows. Be careful not to download too many rows!\n",
    "- `FROM`: to indicate the table we want to query.\n",
    "- `WHERE`: to include a filter to select specific data. `AND` to include additional filters.\n",
    "\n",
    "Although it is not a formal requirement, these statements are usually included in CAPITAL letters, while our values are written in lowercase."
   ]
  },
  {
   "cell_type": "code",
   "execution_count": null,
   "id": "8f2b7b05-8857-4252-8ccb-45eb2d49245e",
   "metadata": {},
   "outputs": [],
   "source": [
    "query1 = \"\"\"\n",
    "SELECT\n",
    "TOP 10\n",
    "    ra, dec, pmra, pmdec, parallax\n",
    "FROM\n",
    "    gaiaedr3.gaia_source\n",
    "\"\"\""
   ]
  },
  {
   "cell_type": "markdown",
   "id": "d35b7d1c-7c8e-4435-a66e-e724d7e5cf24",
   "metadata": {},
   "source": [
    "Note that dividing in lines and adding spaces is just to make it nice. 4-space identation is not relevant. The query could be written as:\n",
    "```python\n",
    "query1 = \"SELECT TOP 10 ra, dec, pmra, pmdec, parallax FROM gaiaedr3.gaia_source\"\n",
    "```"
   ]
  },
  {
   "cell_type": "code",
   "execution_count": null,
   "id": "055e1534-3c1e-40a6-a877-08d8b9f54dcb",
   "metadata": {},
   "outputs": [],
   "source": [
    "job1 = Gaia.launch_job(query1)   # Here is where the data are downloaded!"
   ]
  },
  {
   "cell_type": "code",
   "execution_count": null,
   "id": "f0747c28-951d-457b-ae14-e9ed0fd90436",
   "metadata": {},
   "outputs": [],
   "source": [
    "table1 = job1.get_results()"
   ]
  },
  {
   "cell_type": "code",
   "execution_count": null,
   "id": "6c964d06-e194-4d7e-943a-ebeb374a2c39",
   "metadata": {},
   "outputs": [],
   "source": [
    "table1"
   ]
  },
  {
   "cell_type": "markdown",
   "id": "cc4346bf-90f2-4a9a-bf84-f3380f711e92",
   "metadata": {},
   "source": [
    "Now let's add a filter. This will be filtered in the input catalog and we only retrieve the resulting filtered table, which makes it fast:"
   ]
  },
  {
   "cell_type": "code",
   "execution_count": null,
   "id": "26329415-c70a-4c6d-87c8-647725747d42",
   "metadata": {},
   "outputs": [],
   "source": [
    "query2 = \"\"\"\n",
    "SELECT\n",
    "TOP 10\n",
    "    ra, dec, pmra, pmdec, parallax\n",
    "FROM\n",
    "    gaiaedr3.gaia_source\n",
    "WHERE\n",
    "    parallax > 250\n",
    "\"\"\"\n",
    "job2 = Gaia.launch_job(query2)\n",
    "table2 = job2.get_results()\n",
    "table2"
   ]
  },
  {
   "cell_type": "markdown",
   "id": "6c53f65a-44ac-45e6-8e17-ba72d519c1d1",
   "metadata": {},
   "source": [
    "And adding additional filters is also easy:\n"
   ]
  },
  {
   "cell_type": "code",
   "execution_count": null,
   "id": "ff7438db-a97b-47dc-b0bd-221aba9c73e7",
   "metadata": {},
   "outputs": [],
   "source": [
    "query3 = \"\"\"\n",
    "SELECT\n",
    "TOP 10\n",
    "    ra, dec, pmra, pmdec, parallax, phot_g_mean_mag\n",
    "FROM\n",
    "    gaiaedr3.gaia_source\n",
    "WHERE\n",
    "    parallax > 10\n",
    "    AND dec BETWEEN 55 AND 60\n",
    "    AND pmra > 100\n",
    "\"\"\"\n",
    "job3 = Gaia.launch_job(query3)\n",
    "table3 = job3.get_results()\n",
    "table3"
   ]
  },
  {
   "cell_type": "markdown",
   "id": "d5c86d30-f244-4383-a21c-b76690302cdd",
   "metadata": {},
   "source": [
    "How do we know which columns are available, their units and the description? We can get the table metadata with `Gaia.load_table()`:"
   ]
  },
  {
   "cell_type": "code",
   "execution_count": null,
   "id": "9ca6347e-c102-4f18-b299-02303e5affa0",
   "metadata": {},
   "outputs": [],
   "source": [
    "table_metadata = Gaia.load_table('gaiaedr3.gaia_source')\n",
    "for column in table_metadata.columns:\n",
    "    print(f\"{column.name:31}: {column.unit:16} :  {column.description}\")"
   ]
  },
  {
   "cell_type": "markdown",
   "id": "c9f10023-506c-4a34-9f8b-2f88bb76c105",
   "metadata": {},
   "source": [
    "### ⛏ Exercise 3.1\n",
    "Construct and run a query named `job3_1` using the following information:\n",
    "- Select 10 rows.\n",
    "- Query table `gaiaedr3.gaia_source`.\n",
    "- Select columns: right ascension, declination and phot_g_mean_mag.\n",
    "- Use filters to select stars with declination between 50 and 80 deg and magnitude brighter than 10."
   ]
  },
  {
   "cell_type": "code",
   "execution_count": null,
   "id": "04c19288-e8e5-4ff9-9ad1-f248fcb28ab5",
   "metadata": {},
   "outputs": [],
   "source": [
    "query3_1 = \"\"\"\n",
    "SELECT\n",
    "TOP 10\n",
    "    ra, dec, phot_g_mean_mag\n",
    "FROM\n",
    "    gaiaedr3.gaia_source\n",
    "WHERE\n",
    "    dec BETWEEN 50 AND 80\n",
    "    AND phot_g_mean_mag < 10\n",
    "\"\"\"\n",
    "job3_1 = Gaia.launch_job(query3_1)\n",
    "table3_1 = job3_1.get_results()\n",
    "table3_1"
   ]
  },
  {
   "cell_type": "markdown",
   "id": "b7619f5f-4905-4292-8042-f9a897e846dd",
   "metadata": {},
   "source": [
    "We can rename columns and give a name to the table."
   ]
  },
  {
   "cell_type": "code",
   "execution_count": null,
   "id": "462ea48f-e68f-4752-8f11-f3939f3d549b",
   "metadata": {},
   "outputs": [],
   "source": [
    "query4 = \"\"\"\n",
    "SELECT\n",
    "TOP 10\n",
    "    ra AS right_ascension, dec AS declination, pmra, pmdec, parallax AS plx, phot_g_mean_mag\n",
    "FROM\n",
    "    gaiaedr3.gaia_source AS gaia\n",
    "WHERE\n",
    "    parallax > 10\n",
    "    AND dec > 60\n",
    "    AND pmra > 100\n",
    "\"\"\"\n",
    "job4 = Gaia.launch_job(query4)\n",
    "table4 = job4.get_results()\n",
    "table4"
   ]
  },
  {
   "cell_type": "markdown",
   "id": "b91e2267-a692-4ae7-aad7-f0515d447e23",
   "metadata": {},
   "source": [
    "We can create new columns as combinations of other ones including complex operations.\n"
   ]
  },
  {
   "cell_type": "code",
   "execution_count": null,
   "id": "0f8916cf-acc8-4a84-9a5d-29b98d220a5c",
   "metadata": {},
   "outputs": [],
   "source": [
    "query5 = \"\"\"\n",
    "SELECT\n",
    "TOP 10\n",
    "    ra, dec, pmra, pmdec, pmra_error, pmdec_error,\n",
    "    sqrt(power(pmra_error, 2) + power(pmdec_error, 2)) AS pm_error\n",
    "FROM\n",
    "    gaiaedr3.gaia_source AS gaia\n",
    "WHERE\n",
    "    parallax > 10\n",
    "    AND dec > 60\n",
    "    AND pmra > 100\n",
    "    AND sqrt(power(pmra_error, 2) + power(pmdec_error, 2)) < 0.1\n",
    "\"\"\"\n",
    "job5 = Gaia.launch_job(query5)\n",
    "table5 = job5.get_results()\n",
    "table5"
   ]
  },
  {
   "cell_type": "markdown",
   "id": "97da0c9a-a3a3-4396-aa15-87f1948245ba",
   "metadata": {},
   "source": [
    "Computing the distance in kpc is as easy as creating a new column using 1/parallax[mas]. Note: you cannot call the column \"distance\" because that is a reserved ADQL statement."
   ]
  },
  {
   "cell_type": "code",
   "execution_count": null,
   "id": "de9535fe-0bcf-408d-bf38-2fd99a1e8ec7",
   "metadata": {},
   "outputs": [],
   "source": [
    "query6 = \"\"\"\n",
    "SELECT\n",
    "TOP 10\n",
    "    ra, dec, pmra, pmdec, parallax, 1/parallax AS distance_kpc\n",
    "FROM\n",
    "    gaiaedr3.gaia_source AS gaia\n",
    "WHERE\n",
    "    parallax > 1\n",
    "    AND dec > 60\n",
    "    AND pmra > 100\n",
    "\"\"\"\n",
    "job6 = Gaia.launch_job(query6)\n",
    "table6 = job6.get_results()\n",
    "table6['distance_kpc'].unit = u.kpc   # It is always good to define the units of new columns as soon as they are created.\n",
    "table6"
   ]
  },
  {
   "cell_type": "markdown",
   "id": "45a0e63c-2cb9-4971-8fe8-75baa111bece",
   "metadata": {},
   "source": [
    "For example, as we did in previous session, we can directly compute the absolute magnitude and create a new column:"
   ]
  },
  {
   "cell_type": "code",
   "execution_count": null,
   "id": "3ab11742-ad4f-40a5-84ee-af3bb251529d",
   "metadata": {},
   "outputs": [],
   "source": [
    "query7 = \"\"\"\n",
    "SELECT\n",
    "TOP 10\n",
    "    ra, dec, pmra, pmdec, parallax, phot_g_mean_mag,\n",
    "    gaia.phot_g_mean_mag + 5*log10(gaia.parallax) - 10 AS g_mag_abs\n",
    "FROM\n",
    "    gaiaedr3.gaia_source AS gaia\n",
    "WHERE\n",
    "    parallax > 10\n",
    "    AND dec > 60\n",
    "    AND pmra > 100\n",
    "\"\"\"\n",
    "job7 = Gaia.launch_job(query7)\n",
    "table7 = job7.get_results()\n",
    "table7"
   ]
  },
  {
   "cell_type": "markdown",
   "id": "88cb1e91-aa5d-429e-a4cb-c82d3748706e",
   "metadata": {},
   "source": [
    "## Select by region"
   ]
  },
  {
   "cell_type": "code",
   "execution_count": null,
   "id": "c22b2764-719c-4888-8ab9-4a382f56794f",
   "metadata": {},
   "outputs": [],
   "source": [
    "query8 = \"\"\"\n",
    "SELECT\n",
    "TOP 10\n",
    "    ra, dec, pmra, pmdec, parallax, phot_g_mean_mag\n",
    "FROM\n",
    "    gaiaedr3.gaia_source AS gaia\n",
    "WHERE\n",
    "    CONTAINS(POINT(ra, dec), CIRCLE(15, 60, 0.1)) = 1\n",
    "\"\"\"\n",
    "job8 = Gaia.launch_job(query8)\n",
    "table8 = job8.get_results()\n",
    "table8"
   ]
  },
  {
   "cell_type": "markdown",
   "id": "505a3547-9a96-47c9-8486-94204511238f",
   "metadata": {},
   "source": [
    "## Create a query programatically\n",
    "\n",
    "This is useful when we want to separate the query template from the actual variables we want to use, for example by defining the columns or the table name as independent variables."
   ]
  },
  {
   "cell_type": "code",
   "execution_count": null,
   "id": "584582a7-9361-4412-b781-65d8c2758ff1",
   "metadata": {},
   "outputs": [],
   "source": [
    "my_columns = 'ra, dec, phot_g_mean_mag'\n",
    "my_table = 'gaiaedr3.gaia_source'\n",
    "min_dec = 50\n",
    "max_dec = 80\n",
    "max_mag = 10"
   ]
  },
  {
   "cell_type": "code",
   "execution_count": null,
   "id": "744e97ff-e6fb-4b3a-9421-c1ce56da6490",
   "metadata": {},
   "outputs": [],
   "source": [
    "query9 = f\"\"\"\n",
    "SELECT\n",
    "TOP 10\n",
    "    {my_columns}\n",
    "FROM\n",
    "    {my_table}\n",
    "WHERE\n",
    "    dec BETWEEN {min_dec} AND {max_dec}\n",
    "    AND phot_g_mean_mag < {max_mag}\n",
    "\"\"\"\n",
    "print(query9)"
   ]
  },
  {
   "cell_type": "code",
   "execution_count": null,
   "id": "360700fe-e9c9-4950-8f0f-6c011e7a1d64",
   "metadata": {},
   "outputs": [],
   "source": [
    "job9 = Gaia.launch_job(query9)\n",
    "table9 = job9.get_results()\n",
    "table9"
   ]
  },
  {
   "cell_type": "markdown",
   "id": "11b1b350-1d60-4559-8212-2ee4f37ac8d3",
   "metadata": {},
   "source": [
    "You can verify that `query9` is exactly the same as `query3_1` and the `table9` is the same as `table3_1`."
   ]
  },
  {
   "cell_type": "code",
   "execution_count": null,
   "id": "82f0f012-9b01-42cf-87f6-55bdf5532aa6",
   "metadata": {},
   "outputs": [],
   "source": [
    "print(query9, query3_1)"
   ]
  },
  {
   "cell_type": "code",
   "execution_count": null,
   "id": "7046dd3d-f4c0-43e4-bb7e-a5efb5286a6c",
   "metadata": {},
   "outputs": [],
   "source": [
    "print(table9)\n",
    "print(table3_1)"
   ]
  },
  {
   "cell_type": "markdown",
   "id": "71d7fffe-4203-4d91-a091-db8173f61475",
   "metadata": {},
   "source": [
    "### ⛏ Exercise 3.2\n",
    "Find all the stars around Vega in a radius of 50 arcsec. (Don't use `TOP`).\n",
    "- Use `SkyCoord.from_name()` to get the coordinates of the star Vega and store them in `vega_coord`. You can get the R.A and Dec in degress with `vega_coord.ra.deg` and `vega_coord.dec.deg`, respectively.\n",
    "- Run an ADQL query to find stars within 50 arcsec of that position to obtain columns 'ra, dec, phot_g_mean_mag, distance_kpc'. Create a new column `distance_kpc` by transforming the parallax.\n",
    "- Is Vega included in the resulting table? Read more [I can not find data for a bright star. Why is that?](https://www.cosmos.esa.int/web/gaia/faqs#BrightStar). Also, read about the VEGAMAG system [here](https://gea.esac.esa.int/archive/documentation/GDR2/Data_processing/chap_cu5pho/sec_cu5pho_calibr/ssec_cu5pho_calibr_extern.html#SSS6):\n",
    "> The VEGAMAG system is defined so that Vega’s colours are all zero: this is equivalent to normalizing all the observed fluxes to the flux of Vega."
   ]
  },
  {
   "cell_type": "code",
   "execution_count": null,
   "id": "b6692fec-4f7e-4a90-9ff4-3b6921721dc7",
   "metadata": {},
   "outputs": [],
   "source": [
    "vega_coord = SkyCoord.from_name(\"Vega\")\n",
    "search_radius = 50/60/60 # We need in degrees\n",
    "\n",
    "print(vega_coord)"
   ]
  },
  {
   "cell_type": "code",
   "execution_count": null,
   "id": "b02f465c-2f3a-4a0a-afe7-c95bc77fa928",
   "metadata": {},
   "outputs": [],
   "source": [
    "query3_2 = f\"\"\"\n",
    "SELECT\n",
    "    ra, dec, phot_g_mean_mag, 1/parallax AS distance_kpc\n",
    "FROM\n",
    "    gaiaedr3.gaia_source AS gaia\n",
    "WHERE\n",
    "    CONTAINS(POINT(ra, dec),\n",
    "    CIRCLE({vega_coord.ra.deg}, {vega_coord.dec.deg}, {search_radius})) = 1\n",
    "\"\"\"\n",
    "print(query3_2)"
   ]
  },
  {
   "cell_type": "code",
   "execution_count": null,
   "id": "85a737c0-294f-4bca-b41e-728fbe28dbcd",
   "metadata": {
    "tags": []
   },
   "outputs": [],
   "source": [
    "job3_2 = Gaia.launch_job(query3_2)\n",
    "table3_2 = job3_2.get_results()\n",
    "table3_2"
   ]
  },
  {
   "cell_type": "markdown",
   "id": "5f7a8922-d8a9-400d-8685-2864714ca5e6",
   "metadata": {},
   "source": [
    "### 🌪 Additional fun\n",
    "Repeat the query around Vega but with a radius of 100 arcsec. Select 50 rows. Make a plot of the R.A. and Dec. of the resulting stars."
   ]
  },
  {
   "cell_type": "code",
   "execution_count": null,
   "id": "da24d676-4e03-4833-ba30-094d176b12c1",
   "metadata": {},
   "outputs": [],
   "source": [
    "vega_coord = SkyCoord.from_name(\"Vega\")\n",
    "vega_coord.to_string('hmsdms')\n",
    "search_radius = 100/60/60 # We need in degrees\n",
    "query3_2b = f\"\"\"\n",
    "SELECT\n",
    "TOP 50\n",
    "    ra, dec, phot_g_mean_mag, 1/parallax AS distance_kpc\n",
    "FROM\n",
    "    gaiaedr3.gaia_source AS gaia\n",
    "WHERE\n",
    "    CONTAINS(POINT(ra, dec),\n",
    "    CIRCLE({vega_coord.ra.deg}, {vega_coord.dec.deg}, {search_radius})) = 1\n",
    "\"\"\"\n",
    "job3_2b = Gaia.launch_job(query3_2b)\n",
    "table3_2b = job3_2b.get_results()\n",
    "table3_2b\n",
    "\n",
    "fig, ax = plt.subplots(figsize=(10,8))\n",
    "\n",
    "ax.plot(table3_2b['ra'], table3_2b['dec'], 'o')\n",
    "ax.plot(vega_coord.ra.deg, vega_coord.dec.deg, '+', color='r', ms=50)\n",
    "\n",
    "ax.set_aspect('equal')\n",
    "\n",
    "ax.set_xlabel('R.A. [deg]')\n",
    "ax.set_ylabel('Declination [deg]');"
   ]
  },
  {
   "cell_type": "markdown",
   "id": "67eaee3d-6d9b-47cf-a0a5-af88543570b3",
   "metadata": {},
   "source": [
    "## Query the region of interest around our star cluster\n",
    "Now we will repeat the search we did in sessions 1 and 2: all Gaia stars in a rectangle of 3 deg x 2 deg centred at R.A. 130.025 deg and Dec. 19.98333 deg. Then, we created `data1` selecting only positive parallaxes and we added the distance and absolute magnetiude columns. We will do all steps in a single go with ADQL."
   ]
  },
  {
   "cell_type": "code",
   "execution_count": null,
   "id": "bb17fd23-280d-46ac-b41a-7df1d110dd7b",
   "metadata": {},
   "outputs": [],
   "source": [
    "my_table = 'gaiaedr3.gaia_source'\n",
    "min_ra = 130.025 - 3/2\n",
    "max_ra = 130.025 + 3/2\n",
    "min_dec = 19.98333 - 2/2\n",
    "max_dec = 19.98333 + 2/2\n",
    "min_parallax = 0"
   ]
  },
  {
   "cell_type": "code",
   "execution_count": null,
   "id": "acb706b4-328f-413c-bef2-3c1b40fc8ed0",
   "metadata": {},
   "outputs": [],
   "source": [
    "# We defined gaia_columns as a python list in tutorial 1. Here we need a single string\n",
    "gaia_columns = ['ra','dec','parallax','parallax_error','pmra','pmra_error','pmdec','pmdec_error','astrometric_matched_transits','phot_g_mean_flux','phot_g_mean_mag','phot_bp_mean_mag','phot_rp_mean_mag','bp_rp','bp_g','g_rp','dr2_radial_velocity','dr2_radial_velocity_error','dr2_rv_template_teff']\n",
    "my_columns = ', '.join(gaia_columns)  # This creates a comma-separated string from a list\n",
    "my_columns"
   ]
  },
  {
   "cell_type": "markdown",
   "id": "8093e0c3-5ab4-4df4-a430-57b3dd844653",
   "metadata": {},
   "source": [
    "Apart from `my_columns` we will create two new columns: `distance_kpc` and `g_mag_abs`."
   ]
  },
  {
   "cell_type": "code",
   "execution_count": null,
   "id": "6183d9bb-2d98-476e-8f88-15b2bf4e969d",
   "metadata": {},
   "outputs": [],
   "source": [
    "query_final = f\"\"\"\n",
    "SELECT\n",
    "TOP 35000\n",
    "    {my_columns},\n",
    "    1/parallax AS distance_kpc,\n",
    "    phot_g_mean_mag + 5*log10(parallax) - 10 AS g_mag_abs\n",
    "FROM\n",
    "    {my_table}\n",
    "WHERE\n",
    "    ra BETWEEN {min_ra} AND {max_ra}\n",
    "    AND dec BETWEEN {min_dec} AND {max_dec}\n",
    "    AND parallax > {min_parallax}\n",
    "\"\"\"\n",
    "print(query_final)"
   ]
  },
  {
   "cell_type": "code",
   "execution_count": null,
   "id": "60844395-de4e-461a-9bcb-f275c35283f5",
   "metadata": {},
   "outputs": [],
   "source": [
    "job_final = Gaia.launch_job(query_final)\n",
    "data1_adql = job_final.get_results()"
   ]
  },
  {
   "cell_type": "code",
   "execution_count": null,
   "id": "e35afdf8-9f82-4c73-a6cf-5c5b0232727d",
   "metadata": {},
   "outputs": [],
   "source": [
    "data1_adql"
   ]
  },
  {
   "cell_type": "markdown",
   "id": "59dc8f2b-eede-4c18-b644-f0aa2890a02a",
   "metadata": {},
   "source": [
    "Are the table obtained with ADQL exactly the same as the one obtained with astroquery and modified as a table? Let's see if the number of entries and some average values match exacty."
   ]
  },
  {
   "cell_type": "code",
   "execution_count": null,
   "id": "2a778f90-a97f-4548-a8be-d413f87ea2c5",
   "metadata": {},
   "outputs": [],
   "source": [
    "print(len(data1),               len(data1_adql))                   # The number of entries\n",
    "print(data1['ra'].mean(),       data1_adql['ra'].mean())           # Same mean R.A.?\n",
    "print(data1['parallax'].mean(), data1_adql['parallax'].mean())     # Same mean parallax?\n",
    "print(data1['distance'].mean(), data1_adql['distance_kpc'].mean()) # Same mean computed distance?\n",
    "print(data1['Mg'].mean(),       data1_adql['g_mag_abs'].mean())    # Same mean computed absolute magnitude?\n",
    "print('Yes!')"
   ]
  },
  {
   "cell_type": "markdown",
   "id": "75ea1902-bf50-4891-ba11-16a09c2d19ee",
   "metadata": {},
   "source": [
    "# Advanced plotting with multiple panels\n",
    "\n",
    "For this section we have two main objectives:\n",
    "- Describe how to manage plots with multiple panels.\n",
    "- Write functions to simplify the plot management."
   ]
  },
  {
   "cell_type": "markdown",
   "id": "53f7de39-85e8-4745-b8ad-8a7e718ea610",
   "metadata": {},
   "source": [
    "## Multiple subplots in a single figure\n",
    "\n",
    "You can use  \n",
    "`fig, ax = plt.subplots(ncols=XX, nrows=YY, figsize=(14,6))`  \n",
    "to create XX times YY panels in a single plot. Now `ax` will be an array of size (XX, YY).\n",
    "\n",
    "Here are some example of how `ax` looks like when creating multiple panels:\n",
    "\n",
    "- When you use ncols=2, nrows=1:\n",
    "  - `ax[0]` left panel\n",
    "  - `ax[1]` right panel\n",
    "\n",
    "- When you use ncols=1, nrows=2:\n",
    "  - `ax[0]` top panel\n",
    "  - `ax[1]` bottom panel\n",
    "  \n",
    "- When you use ncols=2, nrows=3:\n",
    "  - `ax[0, 0]` top    left  panel\n",
    "  - `ax[1, 0]` middle left  panel\n",
    "  - `ax[2, 0]` bottom left  panel\n",
    "  - `ax[0, 1]` top    right panel\n",
    "  - `ax[1, 1]` middle right panel\n",
    "  - `ax[2, 1]` bottom right panel\n",
    "\n",
    "In summary, the general nomenclature is [row, column]"
   ]
  },
  {
   "cell_type": "code",
   "execution_count": null,
   "id": "b165ebf7-a01f-41dd-9a3b-f6849badb319",
   "metadata": {},
   "outputs": [],
   "source": [
    "col1 = 'parallax'\n",
    "col2 = 'distance'\n",
    "\n",
    "fig, ax = plt.subplots(ncols=2, figsize=(14,6))# We can select ncols, nrows, or both.\n",
    "\n",
    "ax[0].hist(data1[col1], bins=np.arange(0, 8, 0.05), label=data1[col1].description)   # histogram of column 1\n",
    "ax[1].hist(data1[col2], bins=np.arange(0, 4, 0.02), label=data1[col2].description)   # histogram of column 2\n",
    "\n",
    "ax[0].legend()                                 # Activate the panel legend, which will show the \"label\" we specified\n",
    "ax[1].legend()                                 # Activate the panel legend, which will show the \"label\" we specified\n",
    "\n",
    "description1 = data1[col1].description         # Obtain column 1 description\n",
    "unit1 = data1[col1].unit                       # Obtain column 1 units\n",
    "description2 = data1[col2].description         # Obtain column 2 description\n",
    "unit2 = data1[col2].unit                       # Obtain column 2 units\n",
    "\n",
    "ax[0].set_xlabel(f\"{description1} [{unit1}]\")  # Set the axis label in the form \"Variable description [units]\"\n",
    "ax[1].set_xlabel(f\"{description2} [{unit2}]\")  # Set the axis label in the form \"Variable description [units]\"\n",
    "\n",
    "ax[0].set_ylabel('Number of stars')\n",
    "ax[1].set_ylabel('Number of stars');"
   ]
  },
  {
   "attachments": {
    "067abd68-8a10-4b42-b130-7252cc7e0013.png": {
     "image/png": "[encoded data removed]"
    }
   },
   "cell_type": "markdown",
   "id": "f82d6ea1-2bf9-4b2b-8dd7-5c6b13de2667",
   "metadata": {},
   "source": [
    "### ✨ Exercise 3.3\n",
    "\n",
    "- Prepare a 2x2 figure with histograms for `ra`, `dec`, `parallax`, `distance`. Use `plt.subplots(ncols=2, nrows=2` and select a figsize in accordance to the number of plots.\n",
    "- You can access each axis (panel) with `ax[0,0]`, `ax[0,1]`, `ax[1,1]`, `ax[1,0]`, clockwise.\n",
    "- For labels (which will be shown with legend()) use the column description.\n",
    "- Remember to add labels and a legend for all axes.\n",
    "- Remember to include `xlabel` (automatically) and `ylabel` (manually) for all axes.\n",
    "\n",
    "In summary, obtain a figure similar to:\n",
    "\n",
    "![image.png](attachment:067abd68-8a10-4b42-b130-7252cc7e0013.png)"
   ]
  },
  {
   "cell_type": "code",
   "execution_count": null,
   "id": "d52b546f-c3f4-418e-a147-791fbf14eb3c",
   "metadata": {},
   "outputs": [],
   "source": [
    "col1 = 'ra'\n",
    "col2 = 'dec'\n",
    "col3 = 'parallax'\n",
    "col4 = 'distance'\n",
    "\n",
    "fig, ax = plt.subplots(ncols=2, nrows=2, figsize=(10,10))   # We can select ncols, nrows, or both.\n",
    "\n",
    "ax[0,0].hist(data1[col1], bins=50, label=data1[col1].description)\n",
    "ax[0,1].hist(data1[col2], bins=50, label=data1[col2].description)\n",
    "ax[1,0].hist(data1[col3], bins=np.arange(0, 8, 0.05), label=data1[col3].description)\n",
    "ax[1,1].hist(data1[col4], bins=np.arange(0, 4, 0.02), label=data1[col4].description)\n",
    "\n",
    "\n",
    "ax[0,0].legend()\n",
    "ax[0,1].legend()\n",
    "ax[1,0].legend()\n",
    "ax[1,1].legend()\n",
    "\n",
    "description1 = data1[col1].description\n",
    "unit1 = data1[col1].unit\n",
    "description2 = data1[col2].description\n",
    "unit2 = data1[col2].unit\n",
    "description3 = data1[col3].description\n",
    "unit3 = data1[col3].unit\n",
    "description4 = data1[col4].description\n",
    "unit4 = data1[col4].unit\n",
    "\n",
    "ax[0,0].set_xlabel(f\"{description1} [{unit1}]\")\n",
    "ax[0,1].set_xlabel(f\"{description2} [{unit2}]\")\n",
    "ax[1,0].set_xlabel(f\"{description3} [{unit3}]\")\n",
    "ax[1,1].set_xlabel(f\"{description4} [{unit4}]\")\n",
    "\n",
    "ax[0,0].set_ylabel('Number of stars')\n",
    "ax[0,1].set_ylabel('Number of stars')\n",
    "ax[1,0].set_ylabel('Number of stars')\n",
    "ax[1,1].set_ylabel('Number of stars');"
   ]
  },
  {
   "cell_type": "markdown",
   "id": "d313f0e5-9ee6-485a-bb39-c4a6f746f7bc",
   "metadata": {},
   "source": [
    "### 🌪 Exercise\n",
    "Redo the previous plot show each panel shows both the Total Sample and the Cluster subset."
   ]
  },
  {
   "cell_type": "markdown",
   "id": "1b82e39a-8d5d-465f-897d-7101617e51a2",
   "metadata": {},
   "source": [
    "## Simplify repetitive tasks with loops over axes/columns"
   ]
  },
  {
   "cell_type": "markdown",
   "id": "830e9188-de45-4009-bbce-4c6a18a2b6d8",
   "metadata": {},
   "source": [
    "First, let's see a basic example with the use of `zip`, which iterates over multiple lists at the same time."
   ]
  },
  {
   "cell_type": "code",
   "execution_count": null,
   "id": "0cd1cbae-614b-416a-be96-61d136ac52d9",
   "metadata": {},
   "outputs": [],
   "source": [
    "x = [1,   2,  3]\n",
    "y = [10, 20, 30]\n",
    "\n",
    "for xi, yi in zip(x, y):\n",
    "    print(xi,yi)"
   ]
  },
  {
   "cell_type": "code",
   "execution_count": null,
   "id": "08ecd89c-fdc0-4df5-bc22-2bdadf1f88ef",
   "metadata": {},
   "outputs": [],
   "source": [
    "col1 = 'pmdec'\n",
    "col2 = 'dec'\n",
    "cols = [col1, col2]   # We define a list of columns to plot\n",
    "\n",
    "fig, ax = plt.subplots(ncols=2, figsize=(10,5))   # We can select ncols, nrows, or both.\n",
    "\n",
    "for axi, col in zip(ax, cols):        # zip allows you to iterate over multiple variables\n",
    "    axi.hist(data1[col], bins=80)"
   ]
  },
  {
   "cell_type": "code",
   "execution_count": null,
   "id": "c929bd16-f6a4-477d-af80-2e2fd94fe60c",
   "metadata": {},
   "outputs": [],
   "source": [
    "col1 = 'parallax'\n",
    "col2 = 'distance'\n",
    "cols = [col1, col2]   # We define a list of columns to plot\n",
    "\n",
    "fig, ax = plt.subplots(ncols=2, figsize=(14,6))   # This plot will have two panels in a single horizontal row.\n",
    "\n",
    "for axi, col in zip(ax, cols):\n",
    "    axi.hist(data1[col],    bins=np.arange(0, 7, 0.05), label='Full sample')  # This plots the blue histogram\n",
    "    axi.hist(cluster1[col], bins=np.arange(0, 7, 0.05), label='Cluster')      # This plots the orange histogram\n",
    "    axi.legend()\n",
    "    \n",
    "    description = data1[col].description\n",
    "    unit = data1[col].unit\n",
    "\n",
    "    axi.set_xlabel(f\"{description} [{unit}]\")\n",
    "    axi.set_ylabel('Number of stars')"
   ]
  },
  {
   "cell_type": "markdown",
   "id": "80bc4475-0e39-4628-8a48-4cceaca48139",
   "metadata": {},
   "source": [
    "## Function to make simple plots. The `**kwargs` trick\n",
    "\n",
    "We can simplify the process even more the process by writting a function that does the repetitive syntax by itself. To be able to use different properties for each panel (for example symbol colors, sizes, labels, etc) we will use `**kwargs`, which basically translates into \"any other variable included when calling the function will be passed along\".\n",
    "\n",
    "This function will create a single `scatter` plot of two variables."
   ]
  },
  {
   "cell_type": "code",
   "execution_count": null,
   "id": "c928b44f-17a3-4e4e-8d55-f3c46683a979",
   "metadata": {},
   "outputs": [],
   "source": [
    "def plot_variables(data, col1, col2, ax, **kwargs):\n",
    "    \n",
    "    ax.scatter(data[col1], data[col2], **kwargs)\n",
    "\n",
    "    description1 = data1[col1].description        # Obtain column 1 description\n",
    "    unit1 = data1[col1].unit                      # Obtain column 1 units\n",
    "    description2 = data1[col2].description        # Obtain column 2 description\n",
    "    unit2 = data1[col2].unit                      # Obtain column 2 units\n",
    "\n",
    "    ax.set_xlabel(f\"{description1} [{unit1}]\") # Set the axis label in the form \"Variable description [units]\"\n",
    "    ax.set_ylabel(f\"{description2} [{unit2}]\") # Set the axis label in the form \"Variable description [units]\"\n",
    "\n",
    "    ax.legend()\n",
    "    return"
   ]
  },
  {
   "cell_type": "code",
   "execution_count": null,
   "id": "03d04dbf-e1f4-4aa6-9269-61364bf6132e",
   "metadata": {},
   "outputs": [],
   "source": [
    "col1 = 'phot_g_mean_flux'\n",
    "col2 = 'parallax_error'\n",
    "\n",
    "fig, ax = plt.subplots(figsize=(8,6))   # We can select ncols, nrows, or both.\n",
    "\n",
    "plot_variables(data1,    col1, col2, ax, s=1, c='k',      label='Full sample', alpha=0.2)\n",
    "plot_variables(cluster1, col1, col2, ax, s=2, c='tomato', label='Cluster')\n",
    "\n",
    "ax.loglog();"
   ]
  },
  {
   "cell_type": "markdown",
   "id": "e493f5a7-110a-4fc4-97b5-b12262b60b98",
   "metadata": {},
   "source": [
    "Now will create a figure with two panels, the left one for `parallax_error` vs `phot_g_mean_flux` and the right one for `pmra_error` vs `pmra`."
   ]
  },
  {
   "cell_type": "code",
   "execution_count": null,
   "id": "73e367d3-a9b6-42c3-a067-d69d57dd5456",
   "metadata": {},
   "outputs": [],
   "source": [
    "col1 = 'phot_g_mean_flux'\n",
    "col2 = 'parallax_error'\n",
    "col3 = 'pmra'\n",
    "col4 = 'pmra_error'\n",
    "\n",
    "fig, ax = plt.subplots(ncols=2, figsize=(14,6))   # We can select ncols, nrows, or both.\n",
    "\n",
    "plot_variables(data1,    col1, col2, ax[0], s=1, c='k', alpha=0.2, label='Full sample')\n",
    "plot_variables(cluster1, col1, col2, ax[0], s=2, c='tomato', label='Cluster')\n",
    "\n",
    "plot_variables(data1,    col3, col4, ax[1], s=2, c='k', alpha=0.2, label='Full sample')\n",
    "plot_variables(cluster1, col3, col4, ax[1], s=3, c='tomato', label='Cluster')\n",
    "\n",
    "# Other options specific to the panel need to be specified individually\n",
    "ax[0].loglog()\n",
    "ax[1].set_xlim(-60, 60);"
   ]
  },
  {
   "cell_type": "markdown",
   "id": "9a48ceb1-ac80-4132-a636-1e5b88e0ae27",
   "metadata": {
    "tags": []
   },
   "source": [
    "## Velocity distribution analysis\n",
    "We will try to find some clustering pattern in the velocity space. These are the variables:  \n",
    "\n",
    "Proper motion in right ascension is $\\mu_{\\alpha}\\cos\\delta$  \n",
    "Proper motion in declination is $\\mu_{\\delta}$  \n",
    "Spectroscopic radial velocity in the solar barycentric reference frame is $v_{r}$"
   ]
  },
  {
   "cell_type": "markdown",
   "id": "b5d900fa-b209-423f-8aaa-369e50b295a7",
   "metadata": {},
   "source": [
    "### ✨ Exercise 3.4\n",
    "\n",
    "- Make a plot with a single panel to show the proper motion in declination vs the proper motion in right ascension for the full sample and for the cluster. The full sample table is `data1` and the cluster table is`cluster1`. Use the function `plot_variables()`.\n",
    "- Use different colors for the full sameple and the cluster.\n",
    "- Use `ax.set_aspect('equal')` so both axes represent the same scales.\n",
    "- Repeat the plot to zoom with until you see the relevant part of the plot by setting `ax.set_xlim` and `ax.set_ylim` \n",
    "- Can you approximately guess the mean proper motion of the cluster?"
   ]
  },
  {
   "cell_type": "code",
   "execution_count": null,
   "id": "a4e016c2-a6d3-445c-8453-d123dce3afb6",
   "metadata": {},
   "outputs": [],
   "source": [
    "col1 = 'pmra'\n",
    "col2 = 'pmdec'\n",
    "\n",
    "fig, ax = plt.subplots(figsize=(8,6))   # We can select ncols, nrows, or both.\n",
    "\n",
    "plot_variables(data1,    col1, col2, ax, s=2, c='k', alpha=0.2, label='Full sample')\n",
    "plot_variables(cluster1, col1, col2, ax, s=3, c='tomato', label='Cluster');"
   ]
  },
  {
   "cell_type": "code",
   "execution_count": null,
   "id": "2bfb9af3-a21d-45e7-a855-ce1c9c6b8f3c",
   "metadata": {},
   "outputs": [],
   "source": [
    "col1 = 'pmra'\n",
    "col2 = 'pmdec'\n",
    "\n",
    "fig, ax = plt.subplots(figsize=(8,6))   # We can select ncols, nrows, or both.\n",
    "\n",
    "plot_variables(data1,    col1, col2, ax, s=2, c='k', alpha=0.2, label='Full sample')\n",
    "plot_variables(cluster1, col1, col2, ax, s=5, c='tomato', label='Cluster');\n",
    "\n",
    "ax.set_aspect('equal')\n",
    "ax.set_xlim(-60, 30)\n",
    "ax.set_ylim(-60, 30);"
   ]
  },
  {
   "cell_type": "markdown",
   "id": "ee49daf7-0075-46a7-9c7a-676c0f8c99ce",
   "metadata": {},
   "source": [
    "Great, this is much clearer! The cluster is a moving group, where most of the stars have a very similar 2D velocity, even if they are positionally scattered in a wide region of the sky of several degrees. This indicates that the cluster of stars, probably very young, was formed at a similar time from a single gas cloud, so on average they have the same space velocity as the original cloud.\n",
    "\n",
    "Note that the selection based on distance alone gives a large contamination of stars that don't look like stars from the cluster. A better selection algorithm is needed to avoid those outliers."
   ]
  },
  {
   "cell_type": "markdown",
   "id": "0ae16632-c6a1-43bd-9922-5ea7b9e73511",
   "metadata": {},
   "source": [
    "### 🌪 Exercise\n",
    "\n",
    "Repeat the previous plot and include a cross on the average proper motion of the cluster, and the median proper motion of the cluster. Use values from the `cluster1` table to plot the crosses."
   ]
  },
  {
   "cell_type": "code",
   "execution_count": null,
   "id": "7827ed2e-9954-4e25-80f2-b4518b93fdc1",
   "metadata": {},
   "outputs": [],
   "source": [
    "col1 = 'pmra'\n",
    "col2 = 'pmdec'\n",
    "\n",
    "fig, ax = plt.subplots(figsize=(8,6))   # We can select ncols, nrows, or both.\n",
    "\n",
    "plot_variables(data1, col1, col2, ax, s=2, c='k', alpha=0.2, label='Full sample')\n",
    "plot_variables(cluster1, col1, col2, ax, s=5, c='tomato', label='Cluster');\n",
    "\n",
    "ax.scatter(cluster1['pmra'].mean(), cluster1['pmdec'].mean(),\n",
    "           marker='+', c='b', s = 400, label='mean cluster')\n",
    "ax.scatter(np.median(cluster1['pmra']), np.median(cluster1['pmdec']),\n",
    "           marker='+', c='g', s = 400, label='median cluster')\n",
    "\n",
    "ax.set_aspect('equal')\n",
    "\n",
    "ax.set_xlim(-60, 30)\n",
    "ax.set_ylim(-60, 30)\n",
    "\n",
    "ax.legend();"
   ]
  },
  {
   "cell_type": "markdown",
   "id": "977980a9-2930-40d8-8e37-1e703904b8d6",
   "metadata": {},
   "source": [
    "### 🌪 Exercise\n",
    "\n",
    "Make a three-panel plot to represent all the stars in `data1` and show:\n",
    "- `pmdec` vs `pmra`\n",
    "- `dr2_radial_velocity` vs `pmra`\n",
    "- `dr2_radial_velocity` vs `pmdec`\n",
    "\n",
    "- Draw horizontal and vertical lines at the center of the cluster using `axvline()` and `axhline()`."
   ]
  },
  {
   "cell_type": "code",
   "execution_count": null,
   "id": "61038348-d8f5-4c7d-a916-22d24da57c42",
   "metadata": {},
   "outputs": [],
   "source": [
    "col1 = 'pmra'\n",
    "col2 = 'pmdec'\n",
    "col3 = 'dr2_radial_velocity'\n",
    "\n",
    "fig, ax = plt.subplots(ncols=2, nrows=2, figsize=(12,12))   # We can select ncols, nrows, or both.\n",
    "\n",
    "plot_variables(data1, col1, col2, ax[0,0], s=2, c='k', alpha=0.2, label='Full sample')\n",
    "plot_variables(data1, col1, col3, ax[1,0], s=5, c='k', alpha=0.2, label='Full sample')\n",
    "plot_variables(data1, col3, col2, ax[0,1], s=5, c='k', alpha=0.2, label='Full sample')\n",
    "\n",
    "ax[0,0].set_aspect('equal')\n",
    "ax[0,0].set_xlim(-50, 20)\n",
    "ax[0,0].set_ylim(-40, 30)\n",
    "ax[1,0].set_xlim(-50, 20)\n",
    "ax[0,1].set_ylim(-40, 30)\n",
    "\n",
    "ax[0,0].axvline(np.median(cluster1[col1]), color='k', lw=0.5)\n",
    "ax[0,0].axhline(np.median(cluster1[col2]), color='k', lw=0.5)\n",
    "ax[1,0].axvline(np.median(cluster1[col1]), color='k', lw=0.5)\n",
    "ax[0,1].axhline(np.median(cluster1[col2]), color='k', lw=0.5);"
   ]
  },
  {
   "cell_type": "markdown",
   "id": "02928f9c-c64b-4e73-a5c8-c301af1b79fb",
   "metadata": {},
   "source": [
    "### 🌪 Exercise\n",
    "\n",
    "- Use a `for` loop to make a 3 panel plot showing the histograms for `pmra`, `pmdec` and `radial_velocity`\n",
    "- Include both the full sample and the cluster subset.\n",
    "- Make sure each panel has an adequate `bins` distribution, and that it is the same for the full and cluster samples. Tip: you can create a list with 3 items, each one being a `np.linespace` object.\n",
    "- Tip2: for `radial_velocity` select the `bins` that do not select value 0, for example use `np.linspace(1, 60, 50)`."
   ]
  },
  {
   "cell_type": "code",
   "execution_count": null,
   "id": "a19929c6-12d1-4b94-bace-22bddb7a2c2d",
   "metadata": {},
   "outputs": [],
   "source": [
    "col1 = 'pmra'\n",
    "col2 = 'pmdec'\n",
    "col3 = 'dr2_radial_velocity'\n",
    "\n",
    "cols = [col1, col2, col3]\n",
    "fig, ax = plt.subplots(ncols=3, figsize=(16,6))   # We can select ncols, nrows, or both.\n",
    "\n",
    "bins = [\n",
    "    np.linspace(-40, 40, 100),\n",
    "    np.linspace(-40, 40, 100),\n",
    "    np.linspace(1, 60, 50)\n",
    "]\n",
    "\n",
    "for col, axi, binsi in zip(cols, ax, bins):\n",
    "    axi.hist(data1[col], bins=binsi, label='Full sample')\n",
    "    axi.hist(cluster1[col], bins=binsi, label='Cluster')\n",
    "    axi.legend()\n",
    "            \n",
    "    description = data1[col].description\n",
    "    unit = data1[col].unit\n",
    "\n",
    "    axi.set_xlabel(f\"{description} [{unit}]\")\n",
    "    axi.set_ylabel('Number of stars')"
   ]
  },
  {
   "cell_type": "markdown",
   "id": "07938b28-dab9-424a-8c8a-f2240e028639",
   "metadata": {},
   "source": [
    "## Velocity field\n",
    "Finally, we can plot the velocity field of the stars. Given the large number of stars it is difficult to have a clear picture of the velocity directions and magnitudes of the whole sample. But at least we can see that the great majority of the sample stars have random velocities on all directions while the cluster stars have a predominant 2D direction and sense."
   ]
  },
  {
   "cell_type": "code",
   "execution_count": null,
   "id": "4f062722-fcf8-4a8a-9592-08365a53541a",
   "metadata": {},
   "outputs": [],
   "source": [
    "fig, ax = plt.subplots(ncols=1, figsize=(12,8))\n",
    "\n",
    "ax.quiver(data1['ra'], data1['dec'], data1['pmra'], data1['pmdec'],\n",
    "          alpha=0.2, scale=1200, label='Full sample');\n",
    "\n",
    "ax.quiver(cluster1['ra'], cluster1['dec'], cluster1['pmra'], cluster1['pmdec'],\n",
    "           alpha=1, color='tomato', scale=1200, label='Cluster');\n",
    "ax.set_aspect('equal')\n",
    "\n",
    "ax.set_xlabel('Right Ascension [deg]')\n",
    "ax.set_ylabel('Declination [deg]');\n",
    "\n",
    "ax.legend();"
   ]
  },
  {
   "cell_type": "markdown",
   "id": "fbd147ea-1d07-4c31-8794-f685935905ed",
   "metadata": {},
   "source": [
    "# Analysis of the cluster kinematics in the Galaxy\n"
   ]
  },
  {
   "cell_type": "markdown",
   "id": "2ea4e01f-eb78-4099-a728-15c26513bfee",
   "metadata": {},
   "source": [
    "`SkyCoord` function is much more powerful than just storing positions. In particular we can include also velocities (both in the plane of the sky and radial), or also cartesian coordinates. Let's start by simply adding the proper motions. "
   ]
  },
  {
   "cell_type": "code",
   "execution_count": null,
   "id": "d3f4da5f-5df7-4d7c-8513-5498ed9594c2",
   "metadata": {},
   "outputs": [],
   "source": [
    "# For the full sample\n",
    "data1_coord = SkyCoord(ra  = data1['ra'],\n",
    "                       dec = data1['dec'],\n",
    "                       pm_ra_cosdec = data1['pmra'],\n",
    "                       pm_dec = data1['pmdec'],\n",
    "                       frame = 'icrs')\n",
    "\n",
    "data1_galactic = data1_coord.galactic\n",
    "\n",
    "# For the selected cluster\n",
    "cluster1_coord = SkyCoord(ra  = cluster1['ra'],\n",
    "                          dec = cluster1['dec'],\n",
    "                          pm_ra_cosdec = cluster1['pmra'],\n",
    "                          pm_dec = cluster1['pmdec'],\n",
    "                          frame = 'icrs')\n",
    "cluster1_galactic = cluster1_coord.galactic"
   ]
  },
  {
   "cell_type": "code",
   "execution_count": null,
   "id": "232f583b-ed52-4636-a27a-bb180a6b7f03",
   "metadata": {},
   "outputs": [],
   "source": [
    "cluster1_galactic[0:5]"
   ]
  },
  {
   "cell_type": "markdown",
   "id": "67e00679-8402-4486-8aa7-79570409e356",
   "metadata": {},
   "source": [
    "Now we are going to repeat the three basic plots (position, velocities and quiver plot) but using galactic coordinates."
   ]
  },
  {
   "cell_type": "code",
   "execution_count": null,
   "id": "b1d85476-45a4-4fae-991d-2f5b93206c0d",
   "metadata": {},
   "outputs": [],
   "source": [
    "fig, ax = plt.subplots(figsize=(8,8))\n",
    "\n",
    "ax.plot(data1_galactic.l,\n",
    "        data1_galactic.b,\n",
    "        color='grey', marker='.', ms=0.5, ls='')\n",
    "\n",
    "ax.plot(cluster1_galactic.l,\n",
    "        cluster1_galactic.b,\n",
    "        color='tomato', marker='.', ls='')\n",
    "\n",
    "ax.set_aspect('equal')\n",
    "\n",
    "ax.set_xlabel('l [deg]')\n",
    "ax.set_ylabel('b [deg]');"
   ]
  },
  {
   "cell_type": "code",
   "execution_count": null,
   "id": "376007f4-2ee5-4785-801b-c023c83f9f60",
   "metadata": {},
   "outputs": [],
   "source": [
    "fig, ax = plt.subplots(figsize=(8,8))\n",
    "\n",
    "ax.plot(data1_galactic.pm_l_cosb,\n",
    "        data1_galactic.pm_b,\n",
    "        color='grey', marker='.', ms=0.5, ls='')\n",
    "\n",
    "ax.plot(cluster1_galactic.pm_l_cosb,\n",
    "        cluster1_galactic.pm_b,\n",
    "        color='tomato', marker='.', ls='')\n",
    "\n",
    "ax.set_xlim(-50, 60)\n",
    "ax.set_ylim(-60, 50)\n",
    "ax.set_aspect('equal')\n",
    "\n",
    "ax.set_xlabel('pm l [mas/yr]')\n",
    "ax.set_ylabel('pm b [mas/yr]');"
   ]
  },
  {
   "cell_type": "code",
   "execution_count": null,
   "id": "cd75d710-cf2b-427a-9786-1fb69fe7ddc2",
   "metadata": {},
   "outputs": [],
   "source": [
    "fig, ax = plt.subplots(ncols=1, figsize=(15,10))\n",
    "\n",
    "ax.quiver(data1_galactic.l.value, data1_galactic.b.value,\n",
    "          data1_galactic.pm_l_cosb.value, data1_galactic.pm_b.value,\n",
    "          alpha=0.2, scale=1200, label='Full sample');\n",
    "\n",
    "ax.quiver(cluster1_galactic.l.value, cluster1_galactic.b.value,\n",
    "          cluster1_galactic.pm_l_cosb.value, cluster1_galactic.pm_b.value,\n",
    "           alpha=1, color='tomato', scale=1200, label='Cluster');\n",
    "ax.set_aspect('equal')\n",
    "\n",
    "\n",
    "ax.set_xlabel('Right Ascension [deg]')\n",
    "ax.set_ylabel('Declination [deg]');\n",
    "\n",
    "ax.legend();"
   ]
  },
  {
   "cell_type": "markdown",
   "id": "272edf7c-a413-4536-8e12-b575cc968d67",
   "metadata": {},
   "source": [
    "## Galactocentric coordinates\n",
    "\n",
    "We will now use the full functionality of `SkyCoord` to make 3D transformations. Here we are including the radial velocity, which we now many stars are missing, so we will just focus on average values.\n",
    "\n",
    "The description of the Galactocentric reference frame in astropy can be found [here](https://docs.astropy.org/en/stable/api/astropy.coordinates.Galactocentric.html).\n"
   ]
  },
  {
   "cell_type": "code",
   "execution_count": null,
   "id": "0c64a8e2-8aad-4814-875d-b34f8a6be3bd",
   "metadata": {},
   "outputs": [],
   "source": [
    "from astropy.coordinates import Galactocentric"
   ]
  },
  {
   "cell_type": "markdown",
   "id": "c75859e4-8e55-487a-8e5a-4fbc301ffb86",
   "metadata": {},
   "source": [
    "We compute median values as a representative position and movement of the cluster."
   ]
  },
  {
   "cell_type": "code",
   "execution_count": null,
   "id": "24a34b5b-2cb2-455a-a793-8c50b758a93f",
   "metadata": {},
   "outputs": [],
   "source": [
    "ra_median    = np.median(cluster1['ra'])*cluster1['ra'].unit\n",
    "dec_median   = np.median(cluster1['dec'])*cluster1['dec'].unit\n",
    "pmra_median  = np.median(cluster1['pmra'])*cluster1['pmra'].unit\n",
    "pmdec_median = np.median(cluster1['pmdec'])*cluster1['pmdec'].unit\n",
    "radial_velocity_median = np.median(cluster1['dr2_radial_velocity'].compressed())*cluster1['dr2_radial_velocity'].unit\n",
    "distance_median = np.median(cluster1['parallax'].to(u.pc, u.parallax())) # We could also have used the \"distance\" column directly."
   ]
  },
  {
   "cell_type": "markdown",
   "id": "f0abc0d9-f40a-43db-8f01-d04f3cd5216b",
   "metadata": {},
   "source": [
    "Now, we construct the average full-coordinate object."
   ]
  },
  {
   "cell_type": "code",
   "execution_count": null,
   "id": "35422ffb-dac2-41fa-a3f1-9a6528921742",
   "metadata": {},
   "outputs": [],
   "source": [
    "cluster1_3d = SkyCoord(ra  = ra_median,\n",
    "                       dec = dec_median,\n",
    "                       pm_ra_cosdec    = pmra_median,\n",
    "                       pm_dec          = pmdec_median,\n",
    "                       radial_velocity = radial_velocity_median,\n",
    "                       distance        = distance_median,\n",
    "                       frame = 'icrs')\n",
    "cluster1_3d"
   ]
  },
  {
   "cell_type": "markdown",
   "id": "02a8c238-55ed-45df-907b-19d161166604",
   "metadata": {},
   "source": [
    "Finally, we transform the 3D coordinates to the Galactocentric reference frame."
   ]
  },
  {
   "cell_type": "code",
   "execution_count": null,
   "id": "86caaf94-8445-416c-88a8-bf6db5af495d",
   "metadata": {},
   "outputs": [],
   "source": [
    "cluster1_galactocentric = cluster1_3d.transform_to(Galactocentric)\n",
    "cluster1_galactocentric"
   ]
  },
  {
   "cell_type": "markdown",
   "id": "669e80ac-a325-40f3-9a93-aa63055f7167",
   "metadata": {},
   "source": [
    "Tip: you can set your own values of the Galactic Centre distance and the Sun 3D velocity, see example in [Transforming positions and velocities to and from a Galactocentric frame](https://docs.astropy.org/en/stable/generated/examples/coordinates/plot_galactocentric-frame.html#sphx-glr-generated-examples-coordinates-plot-galactocentric-frame-py)"
   ]
  },
  {
   "cell_type": "markdown",
   "id": "2472ee7f-fe31-4010-84c4-abd72ea3ef42",
   "metadata": {
    "tags": []
   },
   "source": [
    "### ✨ Exercise 3.5 (part 1)\n",
    "- Find the Vizier catalog associated with this publication: [Open cluster kinematics with Gaia DR2](https://www.aanda.org/articles/aa/full_html/2018/11/aa34020-18/aa34020-18.html). (Tip: Search in that page the button \"Tables at CDS\", you will see the catalog code at the top of the page). \n",
    "- Download the first table of the catalog and call it `soubiran18` using the function `Vizier.get_catalogs()`.\n",
    "- Print the first few rows of the table to see what is the name of the columns for Right Ascension and Declination.\n",
    "- Construct the full coordinates of the clusters in the catalog with:\n",
    "```python\n",
    "soubiran18_coord = SkyCoord(ra=soubiran18['RA_ICRS'],\n",
    "                            dec=soubiran18['DE_ICRS'],\n",
    "                            frame='icrs')\n",
    "```"
   ]
  },
  {
   "cell_type": "code",
   "execution_count": null,
   "id": "8a08c901-74ef-4eea-91d2-1ffc28e64319",
   "metadata": {},
   "outputs": [],
   "source": [
    "from astroquery.vizier import Vizier\n",
    "Vizier.ROW_LIMIT = -1"
   ]
  },
  {
   "cell_type": "code",
   "execution_count": null,
   "id": "23284265-9a70-4d04-a532-26468eb370ce",
   "metadata": {},
   "outputs": [],
   "source": [
    "soubiran18 = Vizier.get_catalogs('J/A+A/619/A155')[0]\n",
    "soubiran18[0:3]"
   ]
  },
  {
   "cell_type": "code",
   "execution_count": null,
   "id": "a7bc2a1b-a42b-413d-9d2c-99129dca55cc",
   "metadata": {},
   "outputs": [],
   "source": [
    "soubiran18_coord = SkyCoord(ra=soubiran18['RA_ICRS'],\n",
    "                            dec=soubiran18['DE_ICRS'],\n",
    "                            frame='icrs')\n",
    "soubiran18_coord[0:3]"
   ]
  },
  {
   "cell_type": "markdown",
   "id": "dd54b160-408e-476d-93b1-92f3eb093031",
   "metadata": {
    "tags": []
   },
   "source": [
    "### ✨ Exercise 3.5 (part 2)\n",
    "- Calculate the separation between `cluster1_3d` and the coordinates in Soubiran et al. 2018. Store the separation in degrees in the variable `separations`.\n",
    "- Find which item in the catalog is the closest to the center of `cluster1`. You can find the row index with the function `np.argmin` (If you need, run `np.argmin?` to know more about it).\n",
    "```python\n",
    "idx_min = np.argmin(separations)\n",
    "```\n",
    "- Print item `soubiran18[idx_min]` and explore the table:\n",
    "  - What is the NGC name of our cluster?\n",
    "  - Compare our values to the values in the catalog (VR, X, Y, Z, vZ, etc) with the ones we found in the variable `cluster1_galactocentric`\n",
    "  \n",
    "Tip: for the comparison, print these values:\n",
    "```python\n",
    "print(cluster1_3d.ra.deg)\n",
    "print(cluster1_3d.dec.deg)\n",
    "print(cluster1_3d.distance)\n",
    "print(cluster1_3d.radial_velocity)\n",
    "```\n",
    "and also:\n",
    "```python\n",
    "print(cluster1_galactocentric.x)\n",
    "print(cluster1_galactocentric.y)\n",
    "print(cluster1_galactocentric.z)\n",
    "print(cluster1_galactocentric.v_z)\n",
    "```"
   ]
  },
  {
   "cell_type": "code",
   "execution_count": null,
   "id": "fc8250b9-c6cf-4ef1-8f4d-07a61e0dd1b7",
   "metadata": {},
   "outputs": [],
   "source": [
    "separations = cluster1_3d.separation(soubiran18_coord).deg\n",
    "separations[0:3]"
   ]
  },
  {
   "cell_type": "code",
   "execution_count": null,
   "id": "227da2e2-3ed9-4f07-b16e-f24b9559696c",
   "metadata": {},
   "outputs": [],
   "source": [
    "idx_min = np.argmin(separations)\n",
    "idx_min"
   ]
  },
  {
   "cell_type": "code",
   "execution_count": null,
   "id": "85617a99-2076-4cf9-a8b3-8c3dd1095d6c",
   "metadata": {},
   "outputs": [],
   "source": [
    "soubiran18[idx_min]"
   ]
  },
  {
   "cell_type": "code",
   "execution_count": null,
   "id": "ec475045-aca1-4cad-bb36-593d4ee05dd5",
   "metadata": {},
   "outputs": [],
   "source": [
    "name = soubiran18[idx_min]['ID']\n",
    "print(f\"The name of the cluster is {name}\")"
   ]
  },
  {
   "cell_type": "code",
   "execution_count": null,
   "id": "a4e82ed4-c3da-4781-a75d-c7b84693103b",
   "metadata": {},
   "outputs": [],
   "source": [
    "print(cluster1_3d.ra.deg)\n",
    "print(cluster1_3d.dec.deg)\n",
    "print(cluster1_3d.distance)\n",
    "print(cluster1_3d.radial_velocity)"
   ]
  },
  {
   "cell_type": "code",
   "execution_count": null,
   "id": "c2d40852-b6a0-4f72-ba32-840f30b42a1d",
   "metadata": {},
   "outputs": [],
   "source": [
    "print(cluster1_galactocentric.x)\n",
    "print(cluster1_galactocentric.y)\n",
    "print(cluster1_galactocentric.z)\n",
    "print(cluster1_galactocentric.v_z)"
   ]
  }
 ],
 "metadata": {
  "kernelspec": {
   "display_name": "Python 3 (ipykernel)",
   "language": "python",
   "name": "python3"
  },
  "language_info": {
   "codemirror_mode": {
    "name": "ipython",
    "version": 3
   },
   "file_extension": ".py",
   "mimetype": "text/x-python",
   "name": "python",
   "nbconvert_exporter": "python",
   "pygments_lexer": "ipython3",
   "version": "3.10.0"
  }
 },
 "nbformat": 4,
 "nbformat_minor": 5
}
