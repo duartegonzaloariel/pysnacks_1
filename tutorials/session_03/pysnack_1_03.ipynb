{
 "cells": [
  {
   "cell_type": "markdown",
   "id": "38253e13-3387-4660-bd74-447a4930297b",
   "metadata": {},
   "source": [
    "Gaia HR with ADQL and absolute magnitude  \n",
    "https://vlas.dev/post/gaia-dr2-hrd/\n"
   ]
  }
 ],
 "metadata": {
  "kernelspec": {
   "display_name": "Python 3 (ipykernel)",
   "language": "python",
   "name": "python3"
  },
  "language_info": {
   "codemirror_mode": {
    "name": "ipython",
    "version": 3
   },
   "file_extension": ".py",
   "mimetype": "text/x-python",
   "name": "python",
   "nbconvert_exporter": "python",
   "pygments_lexer": "ipython3",
   "version": "3.10.0"
  }
 },
 "nbformat": 4,
 "nbformat_minor": 5
}
