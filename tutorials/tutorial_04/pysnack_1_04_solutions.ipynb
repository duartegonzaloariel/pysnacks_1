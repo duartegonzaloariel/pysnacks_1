{
 "cells": [
  {
   "cell_type": "markdown",
   "id": "07cc5321-acdc-4ca6-b989-5350fb4496fc",
   "metadata": {},
   "source": [
    "# Set up environment\n",
    "Let's load the basic modules and read the tables from disk."
   ]
  },
  {
   "cell_type": "code",
   "execution_count": 1,
   "id": "28a8115f-9ddd-42a6-a999-8606290c71bb",
   "metadata": {},
   "outputs": [],
   "source": [
    "import numpy as np\n",
    "import astropy.units as u\n",
    "from astropy.table import Table, QTable\n",
    "from astropy.coordinates import SkyCoord\n",
    "import matplotlib.pyplot as plt"
   ]
  },
  {
   "cell_type": "markdown",
   "id": "acd77372-a3e0-44de-81b1-367e93c80171",
   "metadata": {},
   "source": [
    "We will now load the two tables we generated in the last session.\n",
    "- `data1` contains the Gaia query in a rectangle around our region of interest, excluding negative parallaxes.\n",
    "- `cluster1` is our selection on the previous table to filter sources with parallaxes between 5.0 and 5.7 mas."
   ]
  },
  {
   "cell_type": "markdown",
   "id": "0dc42bf5-7e4c-454d-ac2a-cd5bafb7b7f8",
   "metadata": {},
   "source": [
    "⚠️ If you want to use the \"official\" `data1` and `cluster1` tables instead of the ones created by yourself do:\n",
    "- open a terminal\n",
    "- Navigate to the data folder  \n",
    "`cd pysnacks_1/tutorials/data`\n",
    "- Delete the files `data1.ecsv` and `cluster1.ecsv`."
   ]
  },
  {
   "cell_type": "code",
   "execution_count": 2,
   "id": "aed128b8-a24a-486a-a7be-c76e40685899",
   "metadata": {},
   "outputs": [
    {
     "name": "stdout",
     "output_type": "stream",
     "text": [
      "Using official data1 file\n",
      "Archive:  ../data/backup/data1.ecsv.zip\n",
      "  inflating: data1.ecsv              \n",
      "Using official cluster1 file\n",
      "Archive:  ../data/backup/cluster1.ecsv.zip\n",
      "  inflating: cluster1.ecsv           \n"
     ]
    }
   ],
   "source": [
    "import os\n",
    "for my_file in ['data1', 'cluster1']:\n",
    "    if not os.path.isfile(f'../data/{my_file}.ecsv'):\n",
    "        print(f'Using official {my_file} file')\n",
    "        os.system(f'unzip ../data/backup/{my_file}.ecsv.zip')\n",
    "        os.system(f'mv {my_file}.ecsv ../data')\n",
    "    else:\n",
    "        print(f'Doing nothing because ../data/{my_file}.ecsv already exists')"
   ]
  },
  {
   "cell_type": "code",
   "execution_count": 4,
   "id": "8e10cc18-3219-45d5-81ae-c67803f88166",
   "metadata": {},
   "outputs": [],
   "source": [
    "data1 = Table.read('../data/data1.ecsv')\n",
    "cluster1 = Table.read('../data/cluster1.ecsv')"
   ]
  },
  {
   "cell_type": "markdown",
   "id": "cff8ce6d-9f4f-4e22-839b-84367d605a15",
   "metadata": {},
   "source": [
    "# Introduction to sci-kit learn"
   ]
  },
  {
   "cell_type": "code",
   "execution_count": 14,
   "id": "1becfda9-a45a-4655-83d1-dda123774d03",
   "metadata": {},
   "outputs": [],
   "source": [
    "pos = data1[['pmra','pmdec','parallax']].as_array()"
   ]
  },
  {
   "cell_type": "code",
   "execution_count": 5,
   "id": "8c91299e-6ae1-437d-ae65-4e82d1d8065f",
   "metadata": {},
   "outputs": [
    {
     "data": {
      "text/plain": [
       "(23050, 3)"
      ]
     },
     "execution_count": 5,
     "metadata": {},
     "output_type": "execute_result"
    }
   ],
   "source": [
    "pos = np.vstack([data1['pmra'].data,\n",
    "                 data1['pmdec'].data, \n",
    "                 data1['parallax'].data]).T\n",
    "pos\n",
    "np.shape(pos)"
   ]
  },
  {
   "cell_type": "code",
   "execution_count": 6,
   "id": "22f5634a-1146-4da0-a403-3689a11e0a9d",
   "metadata": {},
   "outputs": [
    {
     "data": {
      "text/plain": [
       "array([[-4.15719188e+00,  2.63090226e+00,  5.45961037e-01],\n",
       "       [-2.70217354e+00, -2.76204981e+00,  3.63792843e-01],\n",
       "       [-1.55808812e+00, -5.87873854e+00,  1.11804757e+00],\n",
       "       ...,\n",
       "       [-3.94337444e+00,  4.91104709e-03,  1.06777814e-01],\n",
       "       [-3.25302879e-01, -1.34378324e+00,  4.54743601e-01],\n",
       "       [ 1.58462389e+01, -2.00575847e+01,  1.75925838e+00]])"
      ]
     },
     "execution_count": 6,
     "metadata": {},
     "output_type": "execute_result"
    }
   ],
   "source": [
    "pos"
   ]
  },
  {
   "cell_type": "markdown",
   "id": "a3129e66-34e1-4b79-a2e9-7c5f65c34ed5",
   "metadata": {},
   "source": [
    "## KMeans"
   ]
  },
  {
   "cell_type": "code",
   "execution_count": null,
   "id": "18c67db3-d3c8-4eeb-a55f-0befb4575123",
   "metadata": {},
   "outputs": [],
   "source": [
    "from sklearn.cluster import KMeans\n",
    "kmeans = KMeans(n_clusters=3)\n",
    "kmeans.fit(pos)\n",
    "labels = kmeans.predict(pos)\n"
   ]
  },
  {
   "cell_type": "code",
   "execution_count": null,
   "id": "ca1d40f7-7727-4bff-95d3-0bb041fd2e8b",
   "metadata": {},
   "outputs": [],
   "source": [
    "# Finding the final centroids\n",
    "centroids = kmeans.cluster_centers_\n",
    "centroids"
   ]
  },
  {
   "cell_type": "code",
   "execution_count": null,
   "id": "1307d991-a10e-4e18-9622-fe2b93969447",
   "metadata": {},
   "outputs": [],
   "source": [
    "fig, ax = plt.subplots(ncols=1, figsize=(18,10))\n",
    "ax.scatter(data1['pmra'], data1['pmdec'], c='gray', s=1, alpha=0.5);\n",
    "for l in np.unique(labels):\n",
    "    ax.plot(data1[labels==l]['pmra'], data1[labels==l]['pmdec'], marker='o', ls='', ms=4)\n",
    "\n",
    "ax.set_aspect('equal')\n",
    "\n",
    "ax.set_xlabel('Proper motion in right ascension [mas/yr]')\n",
    "ax.set_ylabel('Proper motion in declination [mas/yr]')\n",
    "\n",
    "ax.set_xlim(-60, 30)\n",
    "ax.set_ylim(-60, 30);\n"
   ]
  },
  {
   "cell_type": "markdown",
   "id": "449f7ff6-1249-4036-ac62-0bd75c0a3ccd",
   "metadata": {},
   "source": [
    "Not really what we are looking for. It is purely forcing the groups to follow linear distance, without taking into consideration the density. We need to find an alternative method."
   ]
  },
  {
   "cell_type": "markdown",
   "id": "16cda553-2f4a-4bd7-b4c9-2d09166dd5b9",
   "metadata": {},
   "source": [
    "## DBSCAN"
   ]
  },
  {
   "cell_type": "code",
   "execution_count": null,
   "id": "b66adf82-e225-496e-b99b-477b225850e4",
   "metadata": {},
   "outputs": [],
   "source": [
    "from astropy.coordinates import Distance\n",
    "from sklearn.neighbors import DistanceMetric\n",
    "from sklearn.cluster import DBSCAN\n",
    "\n",
    "def get_clusters(pos, eps=.005, min_samples=20,sphere=False):   \n",
    "    db = DBSCAN(eps=eps, min_samples=min_samples,metric='euclidean').fit(pos)\n",
    "    core_samples_mask = np.zeros_like(db.labels_, dtype=bool)\n",
    "    core_samples_mask[db.core_sample_indices_] = True\n",
    "    labels = db.labels_\n",
    "\n",
    "    # Number of clusters in labels, ignoring noise if present.\n",
    "    n_clusters = len(set(labels)) - (1 if -1 in labels else 0)\n",
    "    print('Clusters {0}'.format(n_clusters))\n",
    "    return labels,core_samples_mask, n_clusters"
   ]
  },
  {
   "cell_type": "code",
   "execution_count": null,
   "id": "91a67569-e7da-4bcb-98d2-093f4108938a",
   "metadata": {},
   "outputs": [],
   "source": [
    "labels, core_samples_mask, n_clusters = get_clusters(pos, eps=2, min_samples=25, sphere=False)"
   ]
  },
  {
   "cell_type": "code",
   "execution_count": null,
   "id": "985070f8-57ae-4222-895b-6ce89cffa2cb",
   "metadata": {},
   "outputs": [],
   "source": [
    "fig, ax = plt.subplots(ncols=1, figsize=(18,10))\n",
    "ax.scatter(data1['pmra'], data1['pmdec'], c='gray', s=1, alpha=0.5);\n",
    "\n",
    "for l in set(labels):\n",
    "    if l > 0:\n",
    "        ax.plot(data1[labels==l]['pmra'],\n",
    "                data1[labels==l]['pmdec'],\n",
    "                marker='o', ls='', ms=3, label=l)\n",
    "\n",
    "ax.set_aspect('equal')\n",
    "\n",
    "ax.set_xlabel('Proper motion in right ascension [mas/yr]')\n",
    "ax.set_ylabel('Proper motion in declination [mas/yr]')\n",
    "\n",
    "ax.set_xlim(-50, 20)\n",
    "ax.set_ylim(-30, 20);\n",
    "\n",
    "ax.legend()"
   ]
  },
  {
   "cell_type": "markdown",
   "id": "b7be7448-c8a7-4695-8b41-61cd1f9bea8b",
   "metadata": {},
   "source": [
    "TBD"
   ]
  },
  {
   "cell_type": "code",
   "execution_count": null,
   "id": "740ad214-5343-410e-ba38-14a6b9c64dc1",
   "metadata": {},
   "outputs": [],
   "source": [
    "fig, ax = plt.subplots(ncols=2, figsize=(18,6))\n",
    "ax[0].hist(data1['parallax'],    bins=np.arange(0, 8, 0.05), label='Full sample')\n",
    "ax[0].hist(cluster1['parallax'], bins=np.arange(0, 8, 0.05), label='Cluster')\n",
    "\n",
    "ax[1].hist(data1['distance'],    bins=np.arange(0, 2, 0.01), label='Full sample')\n",
    "ax[1].hist(cluster1['distance'], bins=np.arange(0, 2, 0.01), label='Cluster')\n",
    "\n",
    "for l in set(labels):\n",
    "    if l > 0:\n",
    "        ax[0].hist(data1[labels==l]['parallax'], bins=np.arange(0, 8, 0.05), label=f'Cluster {l}')\n",
    "        ax[1].hist(data1[labels==l]['distance'], bins=np.arange(0, 2, 0.01), label=f'Cluster {l}')\n",
    "        \n",
    "ax[0].legend()\n",
    "ax[1].legend()\n",
    "ax[0].set_xlabel('Parallax [mas]')\n",
    "ax[0].set_ylabel('Number of stars');\n",
    "ax[1].set_xlabel('Distance [kpc]')\n",
    "ax[1].set_ylabel('Number of stars');\n",
    "\n",
    "ax[0].legend()\n",
    "ax[1].legend();"
   ]
  },
  {
   "cell_type": "code",
   "execution_count": null,
   "id": "e6aa38b2-0d99-4c20-a4ac-aca1d93ad4bc",
   "metadata": {},
   "outputs": [],
   "source": [
    "fig, ax = plt.subplots(ncols=2, figsize=(18,6))\n",
    "ax[0].hist(data1['pmra'],    bins=np.arange(-40, 40, 1), label='Full sample')\n",
    "ax[0].hist(cluster1['pmra'], bins=np.arange(-40, 40, 1), label='Cluster')\n",
    "\n",
    "ax[1].hist(data1['pmdec'],    bins=np.arange(-40, 40, 1), label='Full sample')\n",
    "ax[1].hist(cluster1['pmdec'], bins=np.arange(-40, 40, 1), label='Cluster')\n",
    "\n",
    "for l in set(labels):\n",
    "    if l > 0:\n",
    "        ax[0].hist(data1[labels==l]['pmra'], bins=np.arange(-40, 40, 1), label='DBSCAN')\n",
    "        ax[1].hist(data1[labels==l]['pmdec'], bins=np.arange(-40, 40, 1), label='DBSCAN')\n",
    "\n",
    "        \n",
    "ax[0].legend()\n",
    "ax[1].legend()\n",
    "\n",
    "ax[0].legend()\n",
    "ax[1].legend();"
   ]
  },
  {
   "cell_type": "code",
   "execution_count": null,
   "id": "97a78380-9d75-42f2-9f89-1f48040b6125",
   "metadata": {},
   "outputs": [],
   "source": [
    "fig, ax = plt.subplots(ncols=2, figsize=(18,6))\n",
    "ax[0].hist(data1['pmra'],    bins=np.arange(-40, 40, 1), label='Full sample')\n",
    "ax[0].hist(cluster1['pmra'], bins=np.arange(-40, 40, 1), label='Cluster')\n",
    "\n",
    "ax[1].hist(data1['pmdec'],    bins=np.arange(-40, 40, 1), label='Full sample')\n",
    "ax[1].hist(cluster1['pmdec'], bins=np.arange(-40, 40, 1), label='Cluster')\n",
    "\n",
    "ax[0].hist(data1[labels!=1]['pmra'],  bins=np.arange(-40, 40, 1), label='DBSCAN')\n",
    "ax[1].hist(data1[labels!=1]['pmdec'], bins=np.arange(-40, 40, 1), label='DBSCAN')\n",
    "\n",
    "def str_label(tab, col):\n",
    "    return f\"{tab[col].description} [{tab[col].quantity.unit}]\"\n",
    "\n",
    "ax[0].set_xlabel(str_label(data1, 'pmra'))\n",
    "ax[1].set_xlabel(str_label(data1, 'pmdec'))\n",
    "\n",
    "\n",
    "ax[0].legend()\n",
    "ax[1].legend()\n",
    "\n",
    "ax[0].legend()\n",
    "ax[1].legend();"
   ]
  },
  {
   "cell_type": "code",
   "execution_count": null,
   "id": "8f3b4bf3-ffc5-487e-83f5-4390e370b953",
   "metadata": {},
   "outputs": [],
   "source": [
    "cluster2 = data1[labels==1]\n",
    "cluster2.write('../data/cluster2.ecsv', format='ascii.ecsv', overwrite=True)"
   ]
  },
  {
   "cell_type": "markdown",
   "id": "2384ad0d-ab3a-4a12-8e6b-a0cd23bf614d",
   "metadata": {},
   "source": [
    "## Photometry"
   ]
  },
  {
   "cell_type": "code",
   "execution_count": null,
   "id": "ed4f6368-31aa-46ad-ac9b-4e6f0eca0ec7",
   "metadata": {},
   "outputs": [],
   "source": [
    "cluster1.columns"
   ]
  },
  {
   "cell_type": "code",
   "execution_count": null,
   "id": "8676fa79-3113-4d85-94c2-34855bd42dfb",
   "metadata": {},
   "outputs": [],
   "source": [
    "fig, ax = plt.subplots(ncols=1, figsize=(14,12))\n",
    "ax.scatter(data1['bp_rp'], data1['Mg'], c='grey', s=1)\n",
    "ax.scatter(cluster2['bp_rp'], cluster2['Mg'], c='k', s=40)\n",
    "l = plt.scatter(cluster2['bp_rp'], cluster2['Mg'], c=cluster2['teff_val'], s=40)\n",
    "\n",
    "#ax.set_xlabel('G-RP colour. 630-1050nm')\n",
    "#ax.set_ylabel('G-band mean magnitude')\n",
    "ax.invert_yaxis()\n",
    "\n",
    "cb = fig.colorbar(l)\n",
    "cb.set_label(\"$T_{eff}$ [K]\")\n",
    "\n",
    "ax.set_xlim(-0.5, 3.6)\n",
    "ax.set_ylim(15, -2.5)"
   ]
  },
  {
   "cell_type": "code",
   "execution_count": null,
   "id": "bf3a7f83-80f8-4356-bc58-adbc42b5be07",
   "metadata": {},
   "outputs": [],
   "source": [
    "np.count_nonzero(cluster2['radius_val'])"
   ]
  },
  {
   "cell_type": "code",
   "execution_count": null,
   "id": "ed027c97-a802-4d89-a8ba-c0db7770817c",
   "metadata": {},
   "outputs": [],
   "source": [
    "fig, ax = plt.subplots(ncols=1, figsize=(14,12))\n",
    "ax.scatter(data1['bp_rp'], data1['Mg'], c='grey', s=1)\n",
    "#ax.scatter(cluster2['bp_rp'], cluster2['Mg'], c='k', s=cluster2['radius_val']*50)\n",
    "#l = plt.scatter(cluster2['bp_rp'], cluster2['Mg'],  color='k', s=50)\n",
    "l = plt.scatter(cluster2['bp_rp'], cluster2['Mg'], c='k', s=40)  # In black if we don't have Teff nor the star radius\n",
    "l = plt.scatter(cluster2['bp_rp'], cluster2['Mg'], c=cluster2['teff_val'], s=40)  # size 40 if we don't have the star radius\n",
    "l = plt.scatter(cluster2['bp_rp'], cluster2['Mg'], c=cluster2['teff_val'], s=cluster2['radius_val']*40) # color and size if we have everything\n",
    "\n",
    "\n",
    "\n",
    "#l = plt.scatter(cluster2['bp_rp'], cluster2['Mg'], c=cluster2['rv_template_teff'], s=cluster2['radius_val']*20)\n",
    "\n",
    "#ax.set_xlabel('G-RP colour. 630-1050nm')\n",
    "#ax.set_ylabel('G-band mean magnitude')\n",
    "ax.invert_yaxis()\n",
    "\n",
    "cb = fig.colorbar(l)\n",
    "cb.set_label(\"$T_{eff}$ [K]\")\n",
    "\n",
    "ax.set_xlim(-0.5, 3.6)\n",
    "ax.set_ylim(15, -2.5)"
   ]
  },
  {
   "cell_type": "code",
   "execution_count": null,
   "id": "494c17be-fa65-4b03-b963-12bd667d2c84",
   "metadata": {},
   "outputs": [],
   "source": [
    "import read_mist_models"
   ]
  },
  {
   "cell_type": "code",
   "execution_count": null,
   "id": "71467d6d-5ca3-4ebf-8a1b-f96f1214fa78",
   "metadata": {},
   "outputs": [],
   "source": [
    "import os\n",
    "filename = '../data/MIST_iso_62321da9c816b.iso.cmd'\n",
    "\n",
    "if not os.path.isfile(filename):\n",
    "    os.system(\"cd ../data && unzip MIST_isocmd.zip\")\n",
    "\n",
    "isocmd = read_mist_models.ISOCMD(filename)"
   ]
  },
  {
   "cell_type": "code",
   "execution_count": null,
   "id": "e6fd9fd7-0c75-42a0-bf25-ac8f592818e4",
   "metadata": {},
   "outputs": [],
   "source": [
    "print('version: ', isocmd.version)\n",
    "print('abundances: ', isocmd.abun)\n",
    "print('rotation: ', isocmd.rot)\n",
    "print('ages: ', [round(x,2) for x in isocmd.ages])\n",
    "print('number of ages: ', isocmd.num_ages)\n",
    "print('available columns: ', isocmd.hdr_list)"
   ]
  },
  {
   "cell_type": "code",
   "execution_count": null,
   "id": "de65fc2a-46fe-4195-91e0-b42700af353c",
   "metadata": {},
   "outputs": [],
   "source": [
    "fig, ax = plt.subplots(ncols=1, figsize=(14,12))\n",
    "ax.scatter(data1['bp_rp'], data1['Mg'], c='grey', s=1)\n",
    "ax.scatter(cluster2['bp_rp'], cluster2['Mg'], c='k', s=40)\n",
    "l = plt.scatter(cluster2['bp_rp'], cluster2['Mg'], c=cluster2['rv_template_teff'], s=40)\n",
    "\n",
    "#ax.set_xlabel('G-RP colour. 630-1050nm')\n",
    "#ax.set_ylabel('G-band mean magnitude')\n",
    "ax.invert_yaxis()\n",
    "\n",
    "cb = fig.colorbar(l)\n",
    "cb.set_label(\"$T_{eff}$ [K]\")\n",
    "\n",
    "ax.set_xlim(-0.5, 3.6)\n",
    "ax.set_ylim(15, -2.5)\n",
    "\n",
    "# We can use phase to select the part of the isochrone for stars in the main sequence and red giant phases.\n",
    "phase_mask = (isocmd.isocmds[0]['phase'] >= 0) & (isocmd.isocmds[0]['phase'] < 3)\n",
    "\n",
    "for age in [8.7, 8.8, 8.9, 9.0, 9.1]:\n",
    "    age_ind = isocmd.age_index(age) #returns the index for the desired age\n",
    "    phase_mask = (isocmd.isocmds[age_ind]['phase'] >= 0) & (isocmd.isocmds[age_ind]['phase'] < 3)\n",
    "    BP = isocmd.isocmds[age_ind]['Gaia_BP_EDR3'][phase_mask]\n",
    "    RP = isocmd.isocmds[age_ind]['Gaia_RP_EDR3'][phase_mask]\n",
    "    ax.plot(BP-RP, RP, label=age) \n",
    "\n",
    "ax.set_xlabel('Gaia_BP_EDR3 - Gaia_RP_EDR3')\n",
    "ax.set_ylabel('Gaia_RP_EDR3')\n",
    "\n",
    "ax.legend()"
   ]
  },
  {
   "cell_type": "code",
   "execution_count": null,
   "id": "d45ce193-668b-451b-a671-5bbb4092dd2b",
   "metadata": {},
   "outputs": [],
   "source": [
    "df = cluster2.to_pandas()\n",
    "print('Average values for the cluter:')\n",
    "print('Number of members  : {0}'.format(len(cluster2)))\n",
    "print('Right Ascension    : {0:7.3f} {1}'.format(cluster2['ra'].mean(), cluster2['ra'].quantity.unit))\n",
    "print('Declination        : {0:7.3f} {1}'.format(cluster2['dec'].mean(), cluster2['ra'].quantity.unit))\n",
    "print('Proper motion R.A. : {0:7.2f} {1}'.format(cluster2['pmra'].mean(), cluster2['pmra'].quantity.unit))\n",
    "print('Proper motion Dec. : {0:7.2f} {1}'.format(cluster2['pmdec'].mean(), cluster2['pmdec'].quantity.unit))\n",
    "print('Distance           : {0:7.3f} {1}'.format(cluster2['distance'].mean(), cluster2['distance'].quantity.unit))"
   ]
  },
  {
   "cell_type": "markdown",
   "id": "8f98eba4-931f-4fbb-a99e-89976ea8d635",
   "metadata": {},
   "source": [
    "### ⛏ Exercise\n",
    "Compare those values with the ones in Vizier table: J/A+A/633/A99/table1 Two options:  \n",
    "(a) Download the Vizier table with `astroquery` as explained the first day  \n",
    "(b) Simply visit https://vizier.cds.unistra.fr/viz-bin/VizieR-5?-ref=VIZ6232587c2323a1&-out.add=.&-source=J/A%2bA/633/A99/table1&recno=834\n",
    "\n",
    "What is our discrepancy in the distance of the cluster with respect to that publication?"
   ]
  },
  {
   "cell_type": "markdown",
   "id": "eb5c2d9b-1d77-44a4-9a32-147090f0776d",
   "metadata": {},
   "source": [
    "### 🌪 Exercise\n",
    "Try to improve the proper motion of the cluster by computing the weighted average of the `pmra` and `pmdec` columns. You can do it by converting the column to a numpy array with the `.data` attribute, and then applying `np.average`. Check the documentation."
   ]
  },
  {
   "cell_type": "markdown",
   "id": "e2bf9e2c-78e2-4692-ae60-e90f92a68609",
   "metadata": {},
   "source": [
    "### 🌪 Exercise\n",
    "The [Simbad page for NGC 2632 / M44](https://simbad.u-strasbg.fr/simbad/sim-basic?Ident=m44) indicates that:\n",
    "\n",
    "> Angular size (arcmin): \t118.2 118.2 0 (Opt) D [2020A&A...633A..99C ](https://simbad.cds.unistra.fr/simbad/sim-ref?bibcode=2020A%26A...633A..99C)\n",
    "\n",
    "Compute the physical size of `cluster2`"
   ]
  },
  {
   "cell_type": "code",
   "execution_count": null,
   "id": "5c1683f9-b4ee-4ba1-ad55-ae2653af003e",
   "metadata": {},
   "outputs": [],
   "source": []
  }
 ],
 "metadata": {
  "kernelspec": {
   "display_name": "Python 3 (ipykernel)",
   "language": "python",
   "name": "python3"
  },
  "language_info": {
   "codemirror_mode": {
    "name": "ipython",
    "version": 3
   },
   "file_extension": ".py",
   "mimetype": "text/x-python",
   "name": "python",
   "nbconvert_exporter": "python",
   "pygments_lexer": "ipython3",
   "version": "3.10.0"
  }
 },
 "nbformat": 4,
 "nbformat_minor": 5
}
