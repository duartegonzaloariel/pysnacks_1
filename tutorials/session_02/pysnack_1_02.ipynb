{
 "cells": [
  {
   "cell_type": "markdown",
   "id": "f457bf7e-8a96-45e6-8860-f1ee4e1f51cf",
   "metadata": {},
   "source": [
    "# Astropy tables: columns and units"
   ]
  },
  {
   "cell_type": "code",
   "execution_count": null,
   "id": "c033c055-0caf-4dca-b6cc-0db6a8aaa55b",
   "metadata": {},
   "outputs": [],
   "source": [
    "import numpy as np\n",
    "import astropy.units as u\n",
    "from astropy.table import Table, QTable\n",
    "from astropy.coordinates import SkyCoord, Angle\n",
    "import matplotlib.pyplot as plt"
   ]
  },
  {
   "cell_type": "markdown",
   "id": "2d67dd53-f9bc-4801-a763-569899cd7a23",
   "metadata": {},
   "source": [
    "⚠️ `Tables` with units have limited functionality. For full unit management, it is recommended to use `QTable`."
   ]
  },
  {
   "cell_type": "code",
   "execution_count": null,
   "id": "e7418079-1cc1-4470-b213-a9328e29fb66",
   "metadata": {},
   "outputs": [],
   "source": [
    "a = np.array([1, 4, 5], dtype=np.int32)\n",
    "b = [2.0, 5.0, 8.5] * u.cm\n",
    "c = ['x', 'y', 'z']\n",
    "d = [10, 20, 30] * u.m / u.s\n",
    "\n",
    "t = QTable([a, b, c, d],\n",
    "           names=('id', 'length', 'label', 'velocity'),\n",
    "           meta={'name': 'first table'})"
   ]
  },
  {
   "cell_type": "code",
   "execution_count": null,
   "id": "66a820f4-81ac-4f18-9d5f-0b2da5e5356a",
   "metadata": {},
   "outputs": [],
   "source": [
    "t"
   ]
  },
  {
   "cell_type": "code",
   "execution_count": null,
   "id": "e78cb028-b6bf-4e5d-b938-ff44c3614052",
   "metadata": {},
   "outputs": [],
   "source": [
    "t['velocity']"
   ]
  },
  {
   "cell_type": "code",
   "execution_count": null,
   "id": "c4a96ae0-d993-4162-a24d-4a95e90c1795",
   "metadata": {},
   "outputs": [],
   "source": [
    "t['velocity'][1]"
   ]
  },
  {
   "cell_type": "code",
   "execution_count": null,
   "id": "c3ab3a62-f0d3-4814-8784-82b5be1fd5a7",
   "metadata": {},
   "outputs": [],
   "source": [
    "t['velocity'][0:2]"
   ]
  },
  {
   "cell_type": "code",
   "execution_count": null,
   "id": "31ad325c-1335-4512-8dcc-c9f6ba876737",
   "metadata": {},
   "outputs": [],
   "source": [
    "t[2]"
   ]
  },
  {
   "cell_type": "code",
   "execution_count": null,
   "id": "bcf42d69-e324-4390-a46a-81a4aed45a43",
   "metadata": {},
   "outputs": [],
   "source": [
    "t['velocity'].unit"
   ]
  },
  {
   "cell_type": "markdown",
   "id": "cc873430-7c78-4fe1-be43-97488f027f62",
   "metadata": {},
   "source": [
    "## Obtaining information and statistics"
   ]
  },
  {
   "cell_type": "code",
   "execution_count": null,
   "id": "2947e70c-3597-4acb-a8f3-3b91cc1fde7b",
   "metadata": {},
   "outputs": [],
   "source": [
    "t.info"
   ]
  },
  {
   "cell_type": "code",
   "execution_count": null,
   "id": "e763e986-f54d-4550-ac54-5519d0b86b7b",
   "metadata": {},
   "outputs": [],
   "source": [
    "t.info('stats')"
   ]
  },
  {
   "cell_type": "code",
   "execution_count": null,
   "id": "cd8efa28-ae00-47d8-bce8-7f03b960cc36",
   "metadata": {},
   "outputs": [],
   "source": [
    "stats = t.info('stats', out=None)\n",
    "stats"
   ]
  },
  {
   "cell_type": "code",
   "execution_count": null,
   "id": "8e1670a4-2da3-46da-bee9-90ad3709b417",
   "metadata": {},
   "outputs": [],
   "source": [
    "stats[3]['mean']"
   ]
  },
  {
   "cell_type": "markdown",
   "id": "cf909f3c-ecf1-4919-bf9d-1efc15c5799d",
   "metadata": {},
   "source": [
    "## Time and coordinates"
   ]
  },
  {
   "cell_type": "code",
   "execution_count": null,
   "id": "fa7d76b1-cdd9-4e30-b887-379e68ab6d4e",
   "metadata": {},
   "outputs": [],
   "source": [
    "from astropy.time import Time\n",
    "from astropy.coordinates import SkyCoord\n",
    "\n",
    "Time.FORMATS"
   ]
  },
  {
   "cell_type": "code",
   "execution_count": null,
   "id": "032d79c0-04d6-412a-8092-13677f75feb5",
   "metadata": {},
   "outputs": [],
   "source": [
    "mjd = Time([56200.25, 56400.33, 57500.66], format='mjd', scale='utc')\n",
    "date = mjd.to_datetime()\n",
    "sc = SkyCoord([10, 20, 30], [-45, +40, +55], unit='deg')\n",
    "tab = QTable([mjd, date,  sc, sc.to_string('hmsdms')], names=['MJD', 'Date', 'skycoord', 'coord'])\n",
    "tab"
   ]
  },
  {
   "cell_type": "code",
   "execution_count": null,
   "id": "76082703-9af5-43af-8864-a1415971ba53",
   "metadata": {},
   "outputs": [],
   "source": [
    "tab['coord']"
   ]
  },
  {
   "cell_type": "markdown",
   "id": "37b5a798-c761-47a8-b2d0-2c462eed4368",
   "metadata": {},
   "source": [
    "## Managing table columns"
   ]
  },
  {
   "cell_type": "code",
   "execution_count": null,
   "id": "ba41de9b-bdd3-4c2e-9a6b-a6dfeda7ced7",
   "metadata": {},
   "outputs": [],
   "source": [
    "tab.columns"
   ]
  },
  {
   "cell_type": "code",
   "execution_count": null,
   "id": "745c4787-1e78-4e60-ba2c-bbd7d5bc7344",
   "metadata": {},
   "outputs": [],
   "source": [
    "tab.colnames"
   ]
  },
  {
   "cell_type": "markdown",
   "id": "cba53194-b9ba-4855-a8f9-521cec9ce670",
   "metadata": {},
   "source": [
    "Substitute column"
   ]
  },
  {
   "cell_type": "code",
   "execution_count": null,
   "id": "cba3215b-f2ba-45fc-9f33-2578025fe0e4",
   "metadata": {},
   "outputs": [],
   "source": [
    "tab['MJD'] = [50000, 60000, 70000]\n",
    "tab"
   ]
  },
  {
   "cell_type": "markdown",
   "id": "d3b2ef1a-0283-4b45-b489-47cfacdc4ec6",
   "metadata": {},
   "source": [
    "Create new column"
   ]
  },
  {
   "cell_type": "code",
   "execution_count": null,
   "id": "fdc6c42b-76b4-4a75-8415-166b835cb7f9",
   "metadata": {},
   "outputs": [],
   "source": [
    "tab['x'] = [1,2,3]\n",
    "tab['y'] = [10,20,30]\n",
    "tab"
   ]
  },
  {
   "cell_type": "code",
   "execution_count": null,
   "id": "4c6bf48d-4ea5-4fcc-aae5-553b7207c728",
   "metadata": {},
   "outputs": [],
   "source": [
    "tab['z'] = tab['x']*2 + tab['y']\n",
    "tab"
   ]
  },
  {
   "cell_type": "markdown",
   "id": "13149e3d-ed17-4a3c-86ab-05da011c0d40",
   "metadata": {},
   "source": [
    "Selection of relevant columns"
   ]
  },
  {
   "cell_type": "code",
   "execution_count": null,
   "id": "143966c5-77e6-4935-aef7-c01e8e682ee8",
   "metadata": {},
   "outputs": [],
   "source": [
    "tab['x']"
   ]
  },
  {
   "cell_type": "code",
   "execution_count": null,
   "id": "3b55ea00-048a-435a-97e2-cce761d637bf",
   "metadata": {},
   "outputs": [],
   "source": [
    "type(tab['x'])"
   ]
  },
  {
   "cell_type": "code",
   "execution_count": null,
   "id": "b664b4b4-450d-4367-b3dc-37945dc2633e",
   "metadata": {},
   "outputs": [],
   "source": [
    "tab['x'].data"
   ]
  },
  {
   "cell_type": "code",
   "execution_count": null,
   "id": "08c4f345-994e-447e-91eb-cc2c21c0e985",
   "metadata": {},
   "outputs": [],
   "source": [
    "tab['x'].mean()\n"
   ]
  },
  {
   "cell_type": "code",
   "execution_count": null,
   "id": "f8913d30-924b-46d2-b01e-545552dc2a7e",
   "metadata": {},
   "outputs": [],
   "source": [
    "tab[['MJD', 'x', 'z']]\n"
   ]
  },
  {
   "cell_type": "code",
   "execution_count": null,
   "id": "991d0b1d-7cb2-43d5-b60b-79b1ac4873d9",
   "metadata": {},
   "outputs": [],
   "source": [
    "my_columns = ['x', 'y', 'z']\n",
    "tab[my_columns]"
   ]
  },
  {
   "cell_type": "markdown",
   "id": "c05c2c5a-dc0c-4429-8be0-5719f73ba99c",
   "metadata": {},
   "source": [
    "## Load our problem data from last session"
   ]
  },
  {
   "cell_type": "code",
   "execution_count": null,
   "id": "48a7d104-7ff3-4ba7-a06d-abec79ced3dc",
   "metadata": {},
   "outputs": [],
   "source": [
    "data0 = Table.read('../data/data0.ecsv')"
   ]
  },
  {
   "cell_type": "markdown",
   "id": "2437b1ee-7bb2-40c4-b2c0-e6030c964f1a",
   "metadata": {
    "tags": []
   },
   "source": [
    "### ⛏ Exercise\n",
    "- Print the first 5 rows of the table with `data0[0:5]`.\n",
    "- Obtain a list of columns of the table `data0`.\n",
    "- Create a new table `my_table` containing only the columns Right Ascension, Declination, and the two proper motions, and the associated errors for all of them. You should obtain a table with 8 columns.\n",
    "- Obtain the description (column name, format, units and description) using .info() method.\n",
    "- Print the mean R.A. in degress and the median Declination in degrees.\n",
    "- Print the standard deviation (`np.std`) of the R.A. in arcseconds and of the Declination in arcmin.\n",
    "- Compute the minimum and maximum proper motion in right ascension in units of mas/yr\n",
    "- Compute the minimum and maximum proper motion in declination in units of arcmin/day\n",
    "- Create a new column `pos_error` in `my_table` with the total uncertainty in the position that accounts for the quadratic sum (`np.sqrt(()**2 + ()**2)`) of the uncertainty of the R.A. and Declination components. Express in units of deg.\n",
    "- Create a new column `pm_error` in `my_table` with the total uncertainty in the position that accounts for the quadratic sum (`np.sqrt(()**2 + ()**2)`) of the uncertainty of the proper motion components in units of arcmin per minute.\n"
   ]
  },
  {
   "cell_type": "code",
   "execution_count": null,
   "id": "abb548b5-85a5-4e4a-a8a5-8f8fb4c0947a",
   "metadata": {},
   "outputs": [],
   "source": [
    "data0[0:5]"
   ]
  },
  {
   "cell_type": "code",
   "execution_count": null,
   "id": "cb519dca-cacb-4a33-b24c-a6c053dda002",
   "metadata": {},
   "outputs": [],
   "source": [
    "data0.columns"
   ]
  },
  {
   "cell_type": "code",
   "execution_count": null,
   "id": "0b4fddc0-c5db-45e4-ae1a-6b96c163eb5f",
   "metadata": {},
   "outputs": [],
   "source": [
    "my_columns = ['ra', 'ra_error', 'dec', 'dec_error', 'pmra', 'pmdec', 'pmra_error', 'pmdec_error']\n",
    "my_table = data0[my_columns]\n",
    "my_table"
   ]
  },
  {
   "cell_type": "code",
   "execution_count": null,
   "id": "fa566431-433d-4144-a6c0-712c51d6d111",
   "metadata": {},
   "outputs": [],
   "source": [
    "#type(QTable(my_table))\n",
    "#my_table = QTable(my_table)"
   ]
  },
  {
   "cell_type": "code",
   "execution_count": null,
   "id": "507462f1-774b-4017-bc0b-81b0c253eff5",
   "metadata": {},
   "outputs": [],
   "source": [
    "my_table.info()"
   ]
  },
  {
   "cell_type": "code",
   "execution_count": null,
   "id": "833b99b8-72bc-4656-afa2-e62c76607f6c",
   "metadata": {},
   "outputs": [],
   "source": [
    "my_table['ra'].mean(), my_table['dec'].mean()"
   ]
  },
  {
   "cell_type": "code",
   "execution_count": null,
   "id": "033664d8-03b4-40b8-bb11-8347ef7c188f",
   "metadata": {},
   "outputs": [],
   "source": [
    "np.std(my_table['ra'].to(u.arcsec)), np.std(my_table['dec'].to(u.arcmin))"
   ]
  },
  {
   "cell_type": "code",
   "execution_count": null,
   "id": "1c331b9f-da3a-4481-a3ff-2da943de5bd2",
   "metadata": {},
   "outputs": [],
   "source": [
    "np.min(my_table['pmra']), np.max(my_table['pmra'])"
   ]
  },
  {
   "cell_type": "code",
   "execution_count": null,
   "id": "4e4445dc-37c2-400e-ae9f-07a5df8fb144",
   "metadata": {},
   "outputs": [],
   "source": [
    "np.min(my_table['pmdec'].to(u.arcmin/u.day)), np.max(my_table['pmdec'].to(u.arcmin/u.day))"
   ]
  },
  {
   "cell_type": "code",
   "execution_count": null,
   "id": "81382a82-c672-4dc7-86e0-e6b27910263a",
   "metadata": {},
   "outputs": [],
   "source": [
    "my_table['pos_error'] = np.sqrt(my_table['ra_error']**2 + my_table['dec_error']**2).to('deg')\n",
    "my_table[0:3]"
   ]
  },
  {
   "cell_type": "code",
   "execution_count": null,
   "id": "b1c23d20-4a9a-4a88-8434-f092d8c702a8",
   "metadata": {},
   "outputs": [],
   "source": [
    "pos_error = np.sqrt(my_table['pmra_error']**2 + my_table['pmdec_error']**2)\n",
    "my_table['pos_error'] = pos_error.to(u.arcmin/u.min)\n",
    "my_table[0:3]"
   ]
  },
  {
   "cell_type": "markdown",
   "id": "5365d42f-2e3a-4d0a-86da-dcb7c5c08ea9",
   "metadata": {},
   "source": [
    "### ⛏ Exercise\n",
    "Compute absolute magnitude"
   ]
  },
  {
   "cell_type": "code",
   "execution_count": null,
   "id": "9764ae84-1216-4fa6-b776-7b37e172d2fd",
   "metadata": {},
   "outputs": [],
   "source": [
    "data0['Mg'] = data0['phot_g_mean_mag']+5*np.log10(data0['parallax'])-10\n",
    "data0[0:3]"
   ]
  },
  {
   "cell_type": "markdown",
   "id": "037cd8a8-8d27-4c00-a047-9e488095674f",
   "metadata": {},
   "source": [
    "# Exploratory analysis"
   ]
  },
  {
   "cell_type": "code",
   "execution_count": null,
   "id": "83a1f16e-af22-45e2-a2c6-78a9d1b0e8e7",
   "metadata": {},
   "outputs": [],
   "source": [
    "import matplotlib.pyplot as plt\n",
    "from astropy.visualization import quantity_support"
   ]
  },
  {
   "cell_type": "code",
   "execution_count": null,
   "id": "21d593cf-1825-4282-bdc5-378a295f2561",
   "metadata": {},
   "outputs": [],
   "source": [
    "plt.plot(data0['ra'], data0['dec'], '.', color='k', alpha = 0.1, ms=1)"
   ]
  },
  {
   "cell_type": "code",
   "execution_count": null,
   "id": "20d2254b-36b7-4a2c-94ed-588c79cdbe75",
   "metadata": {},
   "outputs": [],
   "source": [
    "fig, ax = plt.subplots(ncols=1, figsize=(15,10))\n",
    "ax.scatter(data0['ra'], data0['dec'], s=data0['phot_g_mean_flux']/1e5);\n",
    "ax.set_aspect('equal')\n",
    "\n",
    "# Here we invert the direction of the right ascension axis\n",
    "ax.invert_xaxis()\n",
    "\n",
    "ax.set_xlabel('Right Ascension [deg]')\n",
    "ax.set_ylabel('Declination [deg]');"
   ]
  },
  {
   "cell_type": "code",
   "execution_count": null,
   "id": "6337cb49-4d9f-4fb2-b265-94f2bddf4f96",
   "metadata": {},
   "outputs": [],
   "source": [
    "plt.plot(data0['pmra'], data0['pmdec'], marker='.', ls='', color='k');"
   ]
  },
  {
   "cell_type": "code",
   "execution_count": null,
   "id": "6da66cca-ffb4-43c3-a538-2b4056e4562a",
   "metadata": {},
   "outputs": [],
   "source": [
    "fig, ax = plt.subplots(ncols=1, figsize=(12,8))\n",
    "ax.plot(data0['phot_g_mean_flux'], data0['parallax_error'], '.k', ms=1, alpha=0.5)\n",
    "ax.loglog();"
   ]
  },
  {
   "cell_type": "markdown",
   "id": "19096358-5567-40e5-957e-376dc540f717",
   "metadata": {},
   "source": [
    "Never forget to add labels to identify what you are plotting!"
   ]
  },
  {
   "cell_type": "code",
   "execution_count": null,
   "id": "ab4709ad-d023-4f55-a3d6-646e5bc2d310",
   "metadata": {},
   "outputs": [],
   "source": [
    "fig, ax = plt.subplots(ncols=1, figsize=(12,8))\n",
    "ax.plot(data0['phot_g_mean_flux'], data0['parallax_error'], '.k', ms=1, alpha=0.5)\n",
    "ax.loglog()\n",
    "\n",
    "ax.set_xlabel('G-band mean flux [e/s]')\n",
    "ax.set_ylabel('Parallax error [mas]');"
   ]
  },
  {
   "cell_type": "code",
   "execution_count": null,
   "id": "e3e9223a-989f-4e65-b944-679ee906f681",
   "metadata": {},
   "outputs": [],
   "source": [
    "def str_label(tab, col):\n",
    "    return f\"{tab[col].description} [{tab[col].quantity.unit}]\""
   ]
  },
  {
   "cell_type": "code",
   "execution_count": null,
   "id": "6a7fddbd-0ed6-4e86-87ee-378bad700c56",
   "metadata": {},
   "outputs": [],
   "source": [
    "fig, ax = plt.subplots(ncols=1, figsize=(12,8))\n",
    "col1 = 'phot_g_mean_flux'\n",
    "col2 = 'parallax_error'\n",
    "\n",
    "ax.plot(data0[col1], data0[col2], '.k', ms=1, alpha=0.5)\n",
    "\n",
    "ax.loglog()\n",
    "\n",
    "ax.set_xlabel(str_label(data0, col1))\n",
    "ax.set_ylabel(str_label(data0, col2));"
   ]
  },
  {
   "cell_type": "code",
   "execution_count": null,
   "id": "cab68857-f0c9-4cf3-85b9-d1ed0938d5aa",
   "metadata": {},
   "outputs": [],
   "source": [
    "def plot_variables(data, col1, col2, loglog=True, **kwargs):\n",
    "    fig, ax = plt.subplots(ncols=1, figsize=(12,8))\n",
    "\n",
    "    ax.plot(data[col1], data[col2], **kwargs)\n",
    "    if loglog:\n",
    "        ax.loglog()\n",
    "    ax.set_xlabel(str_label(data0, col1))\n",
    "    ax.set_ylabel(str_label(data0, col2));\n",
    "\n",
    "    return fig, ax"
   ]
  },
  {
   "cell_type": "code",
   "execution_count": null,
   "id": "fc9ccb95-12eb-4976-8d15-cab56756fd6e",
   "metadata": {},
   "outputs": [],
   "source": [
    "fig, ax = plot_variables(data0, col1='pmra', col2='pmra_error', marker='.', color='k', ms=2, alpha=0.5, ls='')"
   ]
  },
  {
   "cell_type": "code",
   "execution_count": null,
   "id": "144b2ecd-c6b1-49ae-bf8d-9fbeca17ec66",
   "metadata": {},
   "outputs": [],
   "source": [
    "fig, ax = plot_variables(data0, col1='phot_g_mean_mag', col2='parallax', marker='.', color='k', ms=2, alpha=0.5, ls='')"
   ]
  },
  {
   "cell_type": "markdown",
   "id": "9bbf5dc5-8c76-40a3-ae75-da214e05aa5b",
   "metadata": {},
   "source": [
    "### 🌪 Exercise\n",
    "Define a fucntion similar to `plot_variables` that can be used to plot 3 columns against each other in three different subplots."
   ]
  },
  {
   "cell_type": "markdown",
   "id": "13c0ee43-15ff-4da8-bb5e-9ba3196dc526",
   "metadata": {},
   "source": [
    "## Coordinate plots in sky projections"
   ]
  },
  {
   "cell_type": "code",
   "execution_count": null,
   "id": "c515cc85-56fa-4bd4-b902-69870022ead7",
   "metadata": {},
   "outputs": [],
   "source": [
    "fig = plt.figure(figsize=(8,6))\n",
    "ax = fig.add_subplot(111, projection=\"mollweide\")\n",
    "ax.scatter(data0['ra'].to(u.radian), data0['dec'].to(u.radian), marker='.', color='r')\n",
    "ax.set_xticklabels(['14h','16h','18h','20h','22h','0h','2h','4h','6h','8h','10h'])\n",
    "ax.grid(True)"
   ]
  },
  {
   "cell_type": "markdown",
   "id": "ddecd90c-d547-4f9b-bcc9-d95485dae11e",
   "metadata": {},
   "source": [
    "Let's overplot the galactic plane"
   ]
  },
  {
   "cell_type": "code",
   "execution_count": null,
   "id": "e18be48f-ff9a-40fc-8e90-18750f0474b0",
   "metadata": {},
   "outputs": [],
   "source": [
    "galactic_plane = SkyCoord(l=np.arange(-180, 180), b=np.zeros(360), frame='galactic', unit=u.deg)\n",
    "galactic_plane_eq = galactic_plane.transform_to('icrs')\n",
    "gal_ra  = galactic_plane_eq.ra.wrap_at('180d').radian\n",
    "gal_dec = galactic_plane_eq.dec.wrap_at('180d').radian\n",
    "\n",
    "fig = plt.figure(figsize=(8,6))\n",
    "ax = fig.add_subplot(111, projection=\"mollweide\")\n",
    "ax.scatter(data0['ra'].to(u.radian), data0['dec'].to(u.radian), marker='.', color='r')\n",
    "plt.plot(gal_ra, gal_dec, 'k.')\n",
    "ax.set_xticklabels(['14h','16h','18h','20h','22h','0h','2h','4h','6h','8h','10h'])\n",
    "ax.grid(True)"
   ]
  },
  {
   "cell_type": "markdown",
   "id": "13f035a6-2cef-4bd7-b100-85afd0622c31",
   "metadata": {},
   "source": [
    "### 🌪 Exercise\n",
    "Make the previous plot but in Galactic coordinates"
   ]
  },
  {
   "cell_type": "markdown",
   "id": "0e57b1ee-9289-4e18-9751-43ef54c506af",
   "metadata": {},
   "source": [
    "### 🌪 Exercise\n",
    "Prepare a plot `pmra` vs `pmdec` including errorbars using the matplotlib function `plt.errorbars`. The key point is to remove NaNs from the table. Spoiler alert: there is no easy way to do this in astropy `Table`, apparently, since [this PR](https://github.com/astropy/astropy/issues/7446) was never finished."
   ]
  },
  {
   "cell_type": "code",
   "execution_count": null,
   "id": "85c35cb4-5f20-461d-a0f8-f9321c89a996",
   "metadata": {},
   "outputs": [],
   "source": [
    "# Astropy doesn't seem to have an easy way to remove rows with NaNs https://github.com/astropy/astropy/issues/7446\n",
    "# I will use a bad trick of converting to pandas. Note we lose units information!\n",
    "pm = data0[['pmra','pmdec','pmra_error', 'pmdec_error']]\n",
    "pm = Table.from_pandas(pm.to_pandas().dropna())\n",
    "\n",
    "plt.errorbar(pm['pmra'], pm['pmdec'],\n",
    "             yerr=pm['pmra_error'],\n",
    "             xerr=pm['pmdec_error'],\n",
    "             marker='.', ls='', color='k', alpha=0.4)\n",
    "plt.xlim(-50, 50)\n",
    "plt.ylim(-50, 50)"
   ]
  },
  {
   "cell_type": "markdown",
   "id": "f162a71a-5082-4163-bc6b-c2dbf14c63f6",
   "metadata": {},
   "source": [
    "## Histogram distributions"
   ]
  },
  {
   "cell_type": "code",
   "execution_count": null,
   "id": "8efeab83-c801-4b2d-a077-1106d7044a41",
   "metadata": {},
   "outputs": [],
   "source": [
    "fig, ax = plt.subplots(ncols=1, figsize=(15,10))\n",
    "ax.hist(data0['parallax'], bins=np.arange(-5, 15, 0.5))\n",
    "\n",
    "ax.set_xlabel('Parallax [mas]')\n",
    "ax.set_ylabel('Number of stars');"
   ]
  },
  {
   "cell_type": "markdown",
   "id": "2e9672db-ef87-4dcf-acbd-ca78b068d9b3",
   "metadata": {
    "tags": []
   },
   "source": [
    "### ⛏ Exercise\n",
    "Modify the line `ax.set_xlabel('Parallax [mas]')` to automatically find the units of the column being plotted."
   ]
  },
  {
   "cell_type": "code",
   "execution_count": null,
   "id": "5323f4a8-5368-451a-ae5b-f8382c981261",
   "metadata": {},
   "outputs": [],
   "source": [
    "fig, ax = plt.subplots(ncols=1, figsize=(15,10))\n",
    "\n",
    "ax.hist(data0['parallax'], bins=np.arange(-5, 15, 0.5))\n",
    "\n",
    "description = data0['parallax'].info(out=None)['description']\n",
    "unit = data0['parallax'].info(out=None)['unit']\n",
    "ax.set_xlabel(f\"{description} [{unit}]\")\n",
    "ax.set_ylabel('Number of stars');"
   ]
  },
  {
   "cell_type": "markdown",
   "id": "d6a367e4-6915-4147-a4a2-9885f8389f60",
   "metadata": {},
   "source": [
    "First of all we see that there are negative parallaxes, which don't have physical meaning, but are a consequence of errors in the parallax determination. We can create a second `QTable` that ignores any negative parallax\n"
   ]
  },
  {
   "cell_type": "code",
   "execution_count": null,
   "id": "ed5192e9-202d-413d-9fd2-3a3f1f951002",
   "metadata": {},
   "outputs": [],
   "source": [
    "positive_parallaxes = data0['parallax'] > 0\n",
    "data1 = data0[positive_parallaxes]\n",
    "print(len(data0))\n",
    "print(len(data1))"
   ]
  },
  {
   "cell_type": "code",
   "execution_count": null,
   "id": "467524d9-ae6c-4439-8c7b-e5e83ab5c363",
   "metadata": {},
   "outputs": [],
   "source": [
    "fig, ax = plt.subplots(ncols=1, figsize=(15,10))\n",
    "ax.hist(data0['parallax'], bins=np.arange(-5, 15, 0.5), color='grey')\n",
    "ax.hist(data1['parallax'], bins=np.arange(-5, 15, 0.5))\n",
    "    \n",
    "description = data0['parallax'].info(out=None)['description']\n",
    "unit = data0['parallax'].info(out=None)['unit']\n",
    "ax.set_xlabel(f\"{description} [{unit}]\")\n",
    "ax.set_ylabel('Number of stars');"
   ]
  },
  {
   "cell_type": "markdown",
   "id": "85b70d76-17a7-4d12-9b8b-1730f9dbb45f",
   "metadata": {},
   "source": [
    "Let's work with distances in kpc, that are more familiar to us. We will use an astropy unit transformation as before. However, an angle (mas) cannot be converted to distance (kpc) without knowing how the transformation should occur. We need to parse which equivalency to use to make the transormation.\n",
    "\n",
    "There is a lot of information in [Equivalencies](https://docs.astropy.org/en/stable/units/equivalencies.html), for example to convert spectral units (nm to Hz) or conversions from wavelength/frequency/energy including doppler effect."
   ]
  },
  {
   "cell_type": "code",
   "execution_count": null,
   "id": "1ce85b2f-ffa7-4be2-b081-23eccd92a8cd",
   "metadata": {},
   "outputs": [],
   "source": [
    "data1['distance'] = data1['parallax'].to(u.kpc, equivalencies=u.parallax())\n",
    "data1['distance'].description = 'Distance from Earth'\n",
    "data1[0:3]"
   ]
  },
  {
   "cell_type": "markdown",
   "id": "72760658-f60e-4159-a87f-e6971cb88439",
   "metadata": {
    "tags": []
   },
   "source": [
    "### ⛏ Exercise\n",
    "Compute yourself the distance in kpc and check that the transformation has worked. Start by using the numpy array without units `np.array(data1['parallax'])` and transform it with the parallax formula $d [{\\rm kpc}]= \\frac{1}{p[{\\rm mas}]}$, where $p$ is the parallax."
   ]
  },
  {
   "cell_type": "code",
   "execution_count": null,
   "id": "a4e3bd1a-de8b-4307-9589-864281c2fb5b",
   "metadata": {},
   "outputs": [],
   "source": [
    "# We compute the ditance as 1/parallax. When the parallax is in mas, the distance will be in kpc.\n",
    "p = np.array(data1['parallax']) # Let's get rid of the units because we want to do the conversion manually\n",
    "d = 1./p\n",
    "d_kpc = u.Quantity(d, unit='kpc') # Now we set the correct units back\n",
    "print(f\"Astropy distances: {data1['distance'].data}\")\n",
    "print(f\"My distances: {d_kpc}\")\n",
    "\n",
    "# We compute how different are the astropy parallax from equivalence and our manually computed distances:\n",
    "residual = data1['distance'] - d_kpc\n",
    "print(f\"Mean residual {np.nanmean(residual)}\")"
   ]
  },
  {
   "cell_type": "code",
   "execution_count": null,
   "id": "818d6930-c9c4-4bc2-a0e9-39f930dd0aef",
   "metadata": {},
   "outputs": [],
   "source": [
    "fig, ax = plt.subplots(ncols=1, figsize=(15,10))\n",
    "with quantity_support():\n",
    "    ax.hist(data1['parallax'], bins=np.arange(-0.5, 15, 0.5))\n",
    "\n",
    "ax.set_xlabel(str_label(data0, 'parallax'))\n",
    "ax.set_ylabel('Number of stars');"
   ]
  },
  {
   "cell_type": "markdown",
   "id": "6975d212-e0c8-4d5f-8ced-e79c28921a43",
   "metadata": {},
   "source": [
    "Now we are going to use a finer bin resolution and plot two panels to visualize the parallax and the distance at the same time."
   ]
  },
  {
   "cell_type": "code",
   "execution_count": null,
   "id": "10edca2f-baf6-485c-9b07-c8768519b41a",
   "metadata": {},
   "outputs": [],
   "source": [
    "fig, ax = plt.subplots(ncols=2, figsize=(18,6))\n",
    "with quantity_support():\n",
    "    ax[0].hist(data1['parallax'], bins=np.arange(0, 8, 0.05), label='Parallax distribution')\n",
    "    ax[1].hist(data1['distance'], bins=np.arange(0, 8, 0.05), label='Distance distribution') # Try 0.01 kpc steps\n",
    "\n",
    "ax[0].legend()\n",
    "ax[1].legend()\n",
    "ax[0].set_xlabel('Parallax [mas]')\n",
    "ax[0].set_ylabel('Number of stars');\n",
    "ax[1].set_xlabel('Distance [kpc]')\n",
    "ax[1].set_ylabel('Number of stars');"
   ]
  },
  {
   "cell_type": "markdown",
   "id": "92988ea6-b65b-4d81-9c78-03fe490b2d22",
   "metadata": {},
   "source": [
    "We see a very interesting accummulation of stars at a parallax of approximately 5.2 mas. We can create a filter to select the start in that particular range. We will overplot the distribution of the whole sample and the one of the selected group."
   ]
  },
  {
   "cell_type": "code",
   "execution_count": null,
   "id": "f38752c5-e985-4653-a6d7-1b881eb9136b",
   "metadata": {},
   "outputs": [],
   "source": [
    "manual_filter1 = (data1['parallax'] > 5.0*u.mas) & (data1['parallax'] < 5.7*u.mas)\n",
    "cluster1 = data1[manual_filter1]\n",
    "cluster1"
   ]
  },
  {
   "cell_type": "markdown",
   "id": "01fda95a-08f2-4476-9067-4e6b698fc5f0",
   "metadata": {},
   "source": [
    "Theres is an alternative way to deal with this problem, and it is to create a new column that can be True if the star is part of the cluster of False if not"
   ]
  },
  {
   "cell_type": "code",
   "execution_count": null,
   "id": "22db2e05-2b2c-4caa-9073-c0d81fdf02c7",
   "metadata": {},
   "outputs": [],
   "source": [
    "data1['cluster'] = manual_filter1\n",
    "data1[0:3]"
   ]
  },
  {
   "cell_type": "markdown",
   "id": "a4779061-41b6-470e-aeb8-8632ca471455",
   "metadata": {},
   "source": [
    "The cluster is simply selecting the rows matching the filter = selecting the true values"
   ]
  },
  {
   "cell_type": "code",
   "execution_count": null,
   "id": "a3aa5a80-d6eb-4db9-930d-dc736b0829ad",
   "metadata": {},
   "outputs": [],
   "source": [
    "data1[manual_filter1]"
   ]
  },
  {
   "cell_type": "code",
   "execution_count": null,
   "id": "cf7709c8-1b00-43c5-b924-4002639b429a",
   "metadata": {},
   "outputs": [],
   "source": []
  },
  {
   "cell_type": "code",
   "execution_count": null,
   "id": "b757ba24-5685-494f-addb-11aca5d900ac",
   "metadata": {},
   "outputs": [],
   "source": [
    "fig, ax = plt.subplots(ncols=2, figsize=(18,6))\n",
    "with quantity_support():\n",
    "    ax[0].hist(data1['parallax'],    bins=np.arange(0, 8, 0.05), label='Full sample')\n",
    "    ax[0].hist(cluster1['parallax'], bins=np.arange(0, 8, 0.05), label='Cluster')\n",
    "\n",
    "    ax[1].hist(data1['distance'],    bins=np.arange(0, 2, 0.01), label='Full sample')\n",
    "    ax[1].hist(cluster1['distance'], bins=np.arange(0, 2, 0.01), label='Cluster')\n",
    "\n",
    "ax[0].legend()\n",
    "ax[1].legend()\n",
    "ax[0].set_xlabel('Parallax [mas]')\n",
    "ax[0].set_ylabel('Number of stars');\n",
    "ax[1].set_xlabel('Distance [kpc]')\n",
    "ax[1].set_ylabel('Number of stars');\n",
    "\n",
    "ax[0].legend()\n",
    "ax[1].legend();"
   ]
  },
  {
   "cell_type": "code",
   "execution_count": null,
   "id": "9b66da17-f39a-4ff5-90f7-b0108b545865",
   "metadata": {},
   "outputs": [],
   "source": [
    "fig, ax = plot_variables(data1, col1='phot_g_mean_mag', col2='parallax', marker='.', color='k', ms=2, alpha=0.5, ls='')"
   ]
  },
  {
   "cell_type": "code",
   "execution_count": null,
   "id": "390bc8ab-9137-4934-b3e1-74dc38e71c6e",
   "metadata": {},
   "outputs": [],
   "source": [
    "fig, ax = plt.subplots(ncols=1, figsize=(12,8))\n",
    "col1 = 'phot_g_mean_flux'\n",
    "col2 = 'parallax_error'\n",
    "\n",
    "ax.plot(data1['phot_g_mean_mag'], data1['parallax'],'.k', ms=1, alpha=0.5)\n",
    "ax.plot(cluster1['phot_g_mean_mag'], cluster1['parallax'], marker='o', color='r', ms=2, ls='')\n",
    "\n",
    "ax.loglog()\n",
    "\n",
    "ax.set_xlabel(str_label(data0, col1))\n",
    "ax.set_ylabel(str_label(data0, col2));"
   ]
  },
  {
   "cell_type": "markdown",
   "id": "2a112076-ab9b-45cf-a7b6-ce803f590931",
   "metadata": {},
   "source": [
    "We see that the cluster is dominated by bright stars (lower magnitude), and form a sharp cluster in parallax/distance, as we already know."
   ]
  },
  {
   "cell_type": "markdown",
   "id": "4146dda8-bc36-4904-9072-a360618baf2b",
   "metadata": {},
   "source": [
    "## Spatial distribution of the cluster\n",
    "We plot the distribution of start in the sky. First, all the stars in the sample are plotted in grey. The stars of the cluster and plotted in color, with the colorscale representing the distance from the Earth in pc."
   ]
  },
  {
   "cell_type": "code",
   "execution_count": null,
   "id": "00337c75-459b-4623-91fc-bded0dff7f7a",
   "metadata": {},
   "outputs": [],
   "source": [
    "fig, ax = plt.subplots(ncols=1, figsize=(15,10))\n",
    "ax.set_aspect('equal')\n",
    "\n",
    "ax.scatter(data1['ra'], data1['dec'], c='gray', s=1, alpha=0.5);\n",
    "l = ax.scatter(cluster1['ra'], cluster1['dec'], c=cluster1['distance']*1000., s=20);\n",
    "\n",
    "ax.set_xlabel('Right Ascension [deg]')\n",
    "ax.set_ylabel('Declination [deg]');\n",
    "\n",
    "# Here we invert the direction of the right ascension axis\n",
    "ax.invert_xaxis()\n",
    "\n",
    "# Show the color bar\n",
    "cb = fig.colorbar(l);\n",
    "cb.set_label('Distance [kpc]')"
   ]
  },
  {
   "cell_type": "code",
   "execution_count": null,
   "id": "a909de92-3eb8-4cea-ba4e-ff56bdc3532f",
   "metadata": {},
   "outputs": [],
   "source": [
    "fig, ax = plt.subplots(ncols=1, figsize=(15,10))\n",
    "ax.scatter(data0['ra'], data0['dec'], s=data0['phot_g_mean_flux']/1e5);\n",
    "ax.scatter(cluster1['ra'], cluster1['dec'], s=cluster1['phot_g_mean_flux']/1e5);\n",
    "\n",
    "ax.set_aspect('equal')\n",
    "\n",
    "# Here we invert the direction of the right ascension axis\n",
    "ax.invert_xaxis()\n",
    "\n",
    "ax.set_xlabel('Right Ascension [deg]')\n",
    "ax.set_ylabel('Declination [deg]');"
   ]
  },
  {
   "cell_type": "markdown",
   "id": "d0d600b9-433c-4c26-9e81-931ad28c306d",
   "metadata": {},
   "source": [
    "There is no apparent pattern of the selected stars, although there seems to be an overdensity at the center, specially in Right Ascension."
   ]
  },
  {
   "cell_type": "code",
   "execution_count": null,
   "id": "59043871-0382-40a8-948d-4ef598f17a81",
   "metadata": {},
   "outputs": [],
   "source": [
    "fig, ax = plt.subplots(ncols=2, figsize=(18,6))\n",
    "\n",
    "ra_range = [np.min(data1['ra']), np.max(data1['ra'])]\n",
    "de_range = [np.min(data1['dec']), np.max(data1['dec'])]\n",
    "                   \n",
    "                                       \n",
    "ax[0].hist(data1['ra'],    bins=np.arange(ra_range[0], ra_range[1], 0.04), label='Full sample')\n",
    "ax[0].hist(cluster1['ra'], bins=np.arange(ra_range[0], ra_range[1], 0.12), label='Cluster')\n",
    "\n",
    "ax[1].hist(data1['dec'],    bins=np.arange(de_range[0], de_range[1], 0.02), label='Full sample')\n",
    "ax[1].hist(cluster1['dec'], bins=np.arange(de_range[0], de_range[1], 0.08), label='Cluster')\n",
    "\n",
    "ax[0].set_xlabel('Right Ascension [deg]')\n",
    "ax[0].set_ylabel('Number of stars');\n",
    "ax[1].set_xlabel('Declination [deg]')\n",
    "ax[1].set_ylabel('Number of stars');\n",
    "\n",
    "ax[0].legend()\n",
    "ax[1].legend();"
   ]
  },
  {
   "cell_type": "markdown",
   "id": "1d9a1dfc-873f-42da-827b-e55ce979851b",
   "metadata": {},
   "source": [
    "Nothing obvious or much interesting. The overdensity in the centre for R.A. is clear, but in Dec it is not clear, there may be a slope."
   ]
  },
  {
   "cell_type": "code",
   "execution_count": null,
   "id": "79bbda8e-0500-46fa-be59-78f6a2378e9e",
   "metadata": {},
   "outputs": [],
   "source": [
    "data1.write('../data/data1.ecsv', format='ascii.ecsv', overwrite=True)\n",
    "cluster1.write('../data/cluster1.ecsv', format='ascii.ecsv', overwrite=True)"
   ]
  },
  {
   "cell_type": "markdown",
   "id": "a049c938-d4f9-42d2-b2f1-f8128c02eaa8",
   "metadata": {},
   "source": [
    "# Pandas tables"
   ]
  },
  {
   "cell_type": "code",
   "execution_count": null,
   "id": "ff9c75e2-9593-452d-9278-25bef472cae2",
   "metadata": {},
   "outputs": [],
   "source": [
    "import pandas as pd"
   ]
  },
  {
   "cell_type": "code",
   "execution_count": null,
   "id": "bca74229-609e-4402-9720-2c03eaa4f1de",
   "metadata": {},
   "outputs": [],
   "source": [
    "df1 = data1.to_pandas()\n",
    "df1"
   ]
  },
  {
   "cell_type": "code",
   "execution_count": null,
   "id": "36574f79-34dd-4224-87a5-71b4b63bf20a",
   "metadata": {},
   "outputs": [],
   "source": [
    "df1.head()"
   ]
  },
  {
   "cell_type": "markdown",
   "id": "1011ca30-0eed-4e27-8fdf-11464cc78f1e",
   "metadata": {},
   "source": [
    "The first thing we see is that we have lost the unit information. That is an important problem if we don't track the column operations properly."
   ]
  },
  {
   "cell_type": "code",
   "execution_count": null,
   "id": "9badb4e2-eedf-465f-a8e8-440480b2adf7",
   "metadata": {},
   "outputs": [],
   "source": [
    "df1.info()"
   ]
  },
  {
   "cell_type": "code",
   "execution_count": null,
   "id": "a7e46bed-915f-4ea0-ad9a-1bcdb428697d",
   "metadata": {},
   "outputs": [],
   "source": [
    "df1.columns"
   ]
  },
  {
   "cell_type": "code",
   "execution_count": null,
   "id": "af5f9bf7-fbbf-4956-8146-f5545ae6eebe",
   "metadata": {},
   "outputs": [],
   "source": [
    "df1['ra']\n",
    "df1[['ra','dec']]"
   ]
  },
  {
   "cell_type": "code",
   "execution_count": null,
   "id": "b072b3c7-89b1-45ff-b108-f8382f1f66bb",
   "metadata": {},
   "outputs": [],
   "source": [
    "df1['pmra'].values"
   ]
  },
  {
   "cell_type": "markdown",
   "id": "dd710832-12c4-4fe0-a86a-49109451daac",
   "metadata": {},
   "source": [
    "Slicing"
   ]
  },
  {
   "cell_type": "code",
   "execution_count": null,
   "id": "9408b5b7-9c23-4890-bd40-3234bdb82006",
   "metadata": {},
   "outputs": [],
   "source": [
    "df1.loc[6]"
   ]
  },
  {
   "cell_type": "code",
   "execution_count": null,
   "id": "5d7f2680-4ba5-459d-8131-4bb8dcee5caa",
   "metadata": {},
   "outputs": [],
   "source": [
    "df1['pmra'].iloc[6]"
   ]
  },
  {
   "cell_type": "code",
   "execution_count": null,
   "id": "eaeee12e-e1d4-444b-bc8c-e5f985e4f36d",
   "metadata": {},
   "outputs": [],
   "source": [
    "df1.iloc[5:8]"
   ]
  },
  {
   "cell_type": "code",
   "execution_count": null,
   "id": "0bba936b-517c-4385-880f-2b2b102d45d1",
   "metadata": {},
   "outputs": [],
   "source": [
    "df1[['pmra','pmdec']].iloc[6]"
   ]
  },
  {
   "cell_type": "code",
   "execution_count": null,
   "id": "8cb69958-67f2-4903-b09f-4c3073753ffb",
   "metadata": {},
   "outputs": [],
   "source": [
    "df1[['pmra','pmdec']].iloc[6:10]"
   ]
  },
  {
   "cell_type": "markdown",
   "id": "078cf5db-6de6-4f94-a02c-cab182d24c25",
   "metadata": {},
   "source": [
    "We can easily do operations to columns. First by aggregating values according to some functions"
   ]
  },
  {
   "cell_type": "code",
   "execution_count": null,
   "id": "614c9b28-84bd-402d-b31f-ebbf4566f676",
   "metadata": {},
   "outputs": [],
   "source": [
    "df1.aggregate(['sum', 'min'])"
   ]
  },
  {
   "cell_type": "code",
   "execution_count": null,
   "id": "237b1b35-f4bb-4006-95a4-68e0a35ccf27",
   "metadata": {},
   "outputs": [],
   "source": [
    "df1.aggregate({'ra' : ['mean', 'min', 'max', 'std'],\n",
    "               'dec' : ['mean', 'min', 'max', 'std'],\n",
    "               'parallax': 'std'})"
   ]
  },
  {
   "cell_type": "code",
   "execution_count": null,
   "id": "a7db3367-608b-45d4-9ce3-85a1cb170fdc",
   "metadata": {},
   "outputs": [],
   "source": [
    "df1.describe()"
   ]
  },
  {
   "cell_type": "code",
   "execution_count": null,
   "id": "b4c22af8-8cab-41fd-81c1-9fd2a5a4685b",
   "metadata": {},
   "outputs": [],
   "source": [
    "def my_func(row):\n",
    "    return np.sqrt(row['pmra']**2 + row['pmdec']**2)\n",
    "\n",
    "df1.apply(lambda row: my_func(row), axis=1)"
   ]
  },
  {
   "cell_type": "markdown",
   "id": "4ab2321e-36ef-4f38-bff9-4ac23b3dc2f6",
   "metadata": {},
   "source": [
    "Other cases\n",
    "- pivot tables\n",
    "- very powerful groupby\n",
    "- Complex conditions involving multiple columns"
   ]
  },
  {
   "cell_type": "markdown",
   "id": "785c5a2f-5885-411f-bcb7-ab495250ba33",
   "metadata": {},
   "source": [
    "NaN values"
   ]
  },
  {
   "cell_type": "code",
   "execution_count": null,
   "id": "e2f2271e-4536-454e-ae4c-55d0c726a569",
   "metadata": {},
   "outputs": [],
   "source": [
    "df1['radial_velocity'].isna().sum()"
   ]
  },
  {
   "cell_type": "code",
   "execution_count": null,
   "id": "fbf840b6-6077-4725-8774-bd96b89a6497",
   "metadata": {},
   "outputs": [],
   "source": [
    "df_rv = df1['radial_velocity'].dropna()\n",
    "df_rv"
   ]
  },
  {
   "cell_type": "markdown",
   "id": "6fa06072-af81-48ec-80e3-772937bf04ab",
   "metadata": {},
   "source": [
    "Groupby"
   ]
  },
  {
   "cell_type": "code",
   "execution_count": null,
   "id": "a086b206-9853-497d-9c1f-23c84d83dbf0",
   "metadata": {},
   "outputs": [],
   "source": [
    "df1['matched_observations'].describe()"
   ]
  },
  {
   "cell_type": "code",
   "execution_count": null,
   "id": "3c041796-40ef-41f7-a31a-90c4a83df585",
   "metadata": {},
   "outputs": [],
   "source": []
  },
  {
   "cell_type": "code",
   "execution_count": null,
   "id": "656ee7f4-5bc4-4418-b281-f7e43e9a47c4",
   "metadata": {},
   "outputs": [],
   "source": [
    "df1.groupby('matched_observations').aggregate(['mean','min'])[['parallax_error','ra_error', 'dec_error']].plot()"
   ]
  },
  {
   "cell_type": "markdown",
   "id": "fbe60212-f0f3-42ef-99e1-1712125e808f",
   "metadata": {},
   "source": [
    "Working with datetime series"
   ]
  },
  {
   "cell_type": "code",
   "execution_count": null,
   "id": "0bc3b397-1e8d-460a-9444-a5a57dff3df8",
   "metadata": {},
   "outputs": [],
   "source": [
    "N = 100\n",
    "times = pd.date_range(\"2021-06-9\", periods=N, freq='D')\n",
    "\n",
    "ts = pd.DataFrame({'v1': np.random.normal(0.5,1,N),\n",
    "                   'v2': np.random.normal(0.5,1,N)},\n",
    "                   index=times)\n",
    "ts"
   ]
  },
  {
   "cell_type": "code",
   "execution_count": null,
   "id": "a7214e58-e767-41b8-b62c-50bbb5cf2fa4",
   "metadata": {},
   "outputs": [],
   "source": [
    "ts.plot()"
   ]
  },
  {
   "cell_type": "markdown",
   "id": "04fee6f3-47eb-48d8-b494-7efd3a89087a",
   "metadata": {},
   "source": [
    "Other plots"
   ]
  },
  {
   "cell_type": "code",
   "execution_count": null,
   "id": "68a9d3d1-77b5-412e-983c-de9b6684ecd6",
   "metadata": {},
   "outputs": [],
   "source": [
    "df1.plot.scatter(x='phot_g_mean_flux', y='parallax_error', marker='.', alpha=0.1)\n",
    "plt.loglog()"
   ]
  },
  {
   "cell_type": "code",
   "execution_count": null,
   "id": "41bb6643-a16e-448b-a051-2eda1cf83d1f",
   "metadata": {},
   "outputs": [],
   "source": [
    "df1.plot.scatter(x='phot_g_mean_flux', y='parallax_error',  marker='.', s=0.5, alpha=0.1)\n",
    "plt.loglog()"
   ]
  },
  {
   "cell_type": "code",
   "execution_count": null,
   "id": "fb9d043b-7c51-433b-b56b-a28835001b2f",
   "metadata": {},
   "outputs": [],
   "source": [
    "ax.plot(data0['phot_g_mean_flux'], data0['parallax_error'], '.k', ms=1, alpha=0.5)\n"
   ]
  },
  {
   "cell_type": "code",
   "execution_count": null,
   "id": "c2066dbd-ef7f-4091-8e97-9da9c26af0ea",
   "metadata": {},
   "outputs": [],
   "source": [
    "df1[['pmra','pmdec']].plot.hist(bins=np.arange(-80, 60, 3), alpha=0.5)\n"
   ]
  },
  {
   "cell_type": "code",
   "execution_count": null,
   "id": "e04a7018-d0e8-44c1-85ea-5007d950d59a",
   "metadata": {},
   "outputs": [],
   "source": [
    "df1[['phot_g_mean_mag','phot_bp_mean_mag','phot_rp_mean_mag']].plot.box()"
   ]
  },
  {
   "cell_type": "code",
   "execution_count": null,
   "id": "cabb6833-70e3-49e6-a3f5-2bbe585e56ae",
   "metadata": {},
   "outputs": [],
   "source": []
  }
 ],
 "metadata": {
  "kernelspec": {
   "display_name": "Python 3 (ipykernel)",
   "language": "python",
   "name": "python3"
  },
  "language_info": {
   "codemirror_mode": {
    "name": "ipython",
    "version": 3
   },
   "file_extension": ".py",
   "mimetype": "text/x-python",
   "name": "python",
   "nbconvert_exporter": "python",
   "pygments_lexer": "ipython3",
   "version": "3.10.0"
  }
 },
 "nbformat": 4,
 "nbformat_minor": 5
}
